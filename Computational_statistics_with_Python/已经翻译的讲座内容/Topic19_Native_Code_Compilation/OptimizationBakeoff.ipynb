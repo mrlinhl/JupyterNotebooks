{
 "cells": [
  {
   "cell_type": "markdown",
   "metadata": {},
   "source": [
    "接入编译语言（Interfacing with compiled languages）\n",
    "----\n",
    "\n",
    "\n",
    "Python 是一门高级解释型语言，极大地降低了构建原型的时间，适合快速开发统计学程序。不过，相应而来的代价，就是纯粹的 Python 程序运行速度可能会相当缓慢，尤其是和 C/C++  或者 Fortran 这些编译语言可能会更慢很多。因此，大多数的数值和统计学程序都通常会包含接入编译语言代码的接口，例如 numpy 就是用 C 语言 写的，当前更新的就是即时编译（just-in-time compiled） 到原生机器码（native machine code），例如 numba，pymc3等。\n",
    "幸运的是，使用这些模块来编译到原生机器码然后从 Python 里面调用，相对来说还比较简单，这也是 Python 目前成为科学和统计计算领域流行语言的一个重要原因。\n",
    "\n",
    "我们接下来用到的例子是计算所有点之间的成对的欧几里得距离（pairwsise Euclidean distance），来展示一下原生代码交互的不同方法。\n",
    "\n",
    "本文基于下面的内容修改扩展而来：<http://nbviewer.ipython.org/url/jakevdp.github.io/downloads/notebooks/NumbaCython.ipynb>"
   ]
  },
  {
   "cell_type": "code",
   "execution_count": 1,
   "metadata": {},
   "outputs": [
    {
     "name": "stdout",
     "output_type": "stream",
     "text": [
      "Collecting dsltools\n",
      "  Downloading dsltools-0.2.6.tar.gz\n",
      "Building wheels for collected packages: dsltools\n",
      "  Running setup.py bdist_wheel for dsltools ... \u001b[?25ldone\n",
      "\u001b[?25h  Stored in directory: /Users/cycleuser/Library/Caches/pip/wheels/19/66/5f/6cf21482f1db094f26152e8266fd0757fc3819da3008a8b716\n",
      "Successfully built dsltools\n",
      "Installing collected packages: dsltools\n",
      "Successfully installed dsltools-0.2.6\n",
      "Collecting parakeet\n",
      "  Downloading parakeet-0.23.2.tar.gz (248kB)\n",
      "\u001b[K    100% |████████████████████████████████| 256kB 1.3MB/s ta 0:00:01\n",
      "\u001b[?25h    Complete output from command python setup.py egg_info:\n",
      "    Traceback (most recent call last):\n",
      "      File \"<string>\", line 1, in <module>\n",
      "      File \"/private/var/folders/z2/mz5ny37n3dv8lbzqk7w3gg_40000gn/T/pip-build-ygkj2zi3/parakeet/setup.py\", line 16\n",
      "        print \"Conversion of long_description from markdown to reStructuredText failed, skipping...\"\n",
      "                                                                                                   ^\n",
      "    SyntaxError: Missing parentheses in call to 'print'\n",
      "    \n",
      "    ----------------------------------------\n",
      "\u001b[31mCommand \"python setup.py egg_info\" failed with error code 1 in /private/var/folders/z2/mz5ny37n3dv8lbzqk7w3gg_40000gn/T/pip-build-ygkj2zi3/parakeet/\u001b[0m\n"
     ]
    }
   ],
   "source": [
    "! pip install dsltools \n",
    "! pip install parakeet\n",
    "# 译者注：这个 parakeet 的 setup.py 里面用的还是 Python2的语法，在 Python3 下无法安装"
   ]
  },
  {
   "cell_type": "code",
   "execution_count": 2,
   "metadata": {},
   "outputs": [
    {
     "ename": "ImportError",
     "evalue": "No module named 'parakeet'",
     "output_type": "error",
     "traceback": [
      "\u001b[0;31m---------------------------------------------------------------------------\u001b[0m",
      "\u001b[0;31mImportError\u001b[0m                               Traceback (most recent call last)",
      "\u001b[0;32m<ipython-input-2-fc8ee83474b0>\u001b[0m in \u001b[0;36m<module>\u001b[0;34m()\u001b[0m\n\u001b[1;32m      4\u001b[0m \u001b[0;32mfrom\u001b[0m \u001b[0mnumba\u001b[0m \u001b[0;32mimport\u001b[0m \u001b[0mjit\u001b[0m\u001b[0;34m\u001b[0m\u001b[0m\n\u001b[1;32m      5\u001b[0m \u001b[0;32mimport\u001b[0m \u001b[0mnumexpr\u001b[0m \u001b[0;32mas\u001b[0m \u001b[0mne\u001b[0m\u001b[0;34m\u001b[0m\u001b[0m\n\u001b[0;32m----> 6\u001b[0;31m \u001b[0;32mimport\u001b[0m \u001b[0mparakeet\u001b[0m\u001b[0;34m\u001b[0m\u001b[0m\n\u001b[0m\u001b[1;32m      7\u001b[0m \u001b[0mget_ipython\u001b[0m\u001b[0;34m(\u001b[0m\u001b[0;34m)\u001b[0m\u001b[0;34m.\u001b[0m\u001b[0mrun_line_magic\u001b[0m\u001b[0;34m(\u001b[0m\u001b[0;34m'precision'\u001b[0m\u001b[0;34m,\u001b[0m \u001b[0;34m'2'\u001b[0m\u001b[0;34m)\u001b[0m\u001b[0;34m\u001b[0m\u001b[0m\n",
      "\u001b[0;31mImportError\u001b[0m: No module named 'parakeet'"
     ]
    }
   ],
   "source": [
    "%matplotlib inline\n",
    "import numpy as np\n",
    "import matplotlib.pyplot as plt\n",
    "from numba import jit\n",
    "import numexpr as ne\n",
    "import parakeet\n",
    "%precision 2"
   ]
  },
  {
   "cell_type": "markdown",
   "metadata": {},
   "source": [
    "### 创建一些测试数据，Make up some test data for use later"
   ]
  },
  {
   "cell_type": "code",
   "execution_count": null,
   "metadata": {},
   "outputs": [],
   "source": [
    "A = np.array([[0.0,0.0],[3.0,4.0]])\n",
    "n = 1000\n",
    "p = 3\n",
    "xs = np.random.random((n, p))"
   ]
  },
  {
   "cell_type": "markdown",
   "metadata": {},
   "source": [
    "### \"纯粹\" Python 版本\n",
    "\n",
    "这个版本里面只是有一小部分使用了 numpy 数组来收集计算结果，这个稍微不太纯，其他都是纯 Python 了。"
   ]
  },
  {
   "cell_type": "code",
   "execution_count": null,
   "metadata": {},
   "outputs": [],
   "source": [
    "def pdist_python(xs):\n",
    "    n, p = xs.shape\n",
    "    D = np.empty((n, n), np.float)\n",
    "    for i in range(n):\n",
    "        for j in range(n):\n",
    "            s = 0.0\n",
    "            for k in range(p):\n",
    "                tmp = xs[i,k] - xs[j,k]\n",
    "                s += tmp * tmp\n",
    "            D[i, j] = s**0.5\n",
    "    return D"
   ]
  },
  {
   "cell_type": "code",
   "execution_count": null,
   "metadata": {},
   "outputs": [],
   "source": [
    "print pdist_python(A)\n",
    "%timeit -n 1 pdist_python(xs)"
   ]
  },
  {
   "cell_type": "markdown",
   "metadata": {},
   "source": [
    "### Numpy 版本\n",
    "\n",
    "\n",
    "这个版本利用了 NumPy 的高级特性 broadcasting。为了理解下面的代码，我们必须先要理解一下 NumPy 的 broadcasting 规则。下面内容来自于：\n",
    "\n",
    "<http://docs.scipy.org/doc/numpy/reference/arrays.indexing.html#numpy.newaxis>\n",
    "\n",
    "When operating on two arrays, NumPy compares their shapes element-wise. It starts with the trailing dimensions, and works its way forward. Two dimensions are compatible when\n",
    "\n",
    "对两个数组进行运算操作的时候， NumPy 会逐个对比二者元素的形状。从尾部维度（trailing dimensions）开始，一直往前对比。如果两个维度满足下面的关系，这二者就是兼容的（compatible）：\n",
    "\n",
    "* 二者相等（equal）, 或者 or\n",
    "* 其中的一个是 1\n",
    "\n",
    "数组不必一定要有相同的维度数。其中的任意一个的维度数是1，就使用两者当中维度更大的那个了。换个表达方法就是，维度小的那个会被扩展到适应另外的更大的那个维度上去。\n"
   ]
  },
  {
   "cell_type": "markdown",
   "metadata": {},
   "source": [
    "#### 标量之间的距离，Distance between scalars"
   ]
  },
  {
   "cell_type": "code",
   "execution_count": null,
   "metadata": {},
   "outputs": [],
   "source": [
    "x = np.arange(10)\n",
    "x"
   ]
  },
  {
   "cell_type": "code",
   "execution_count": null,
   "metadata": {},
   "outputs": [],
   "source": [
    "# 如果我们使用 np.newaxis 插入一个额外的维度到 x 中i\n",
    "# 就得到了一个(10, 1) 矩阵\n",
    "x[:, np.newaxis].shape"
   ]
  },
  {
   "cell_type": "code",
   "execution_count": null,
   "metadata": {},
   "outputs": [],
   "source": [
    "# 如果我们使用 np.newaxis 插入一个额外的维度到 x 中i\n",
    "# 就得到了一个(10, 1) 矩阵\n",
    "x[:, np.newaxis].shape"
   ]
  },
  {
   "cell_type": "markdown",
   "metadata": {},
   "source": [
    "对比形状（shape）：\n",
    "\n",
    "```\n",
    "x[:, None] = 10 x 1\n",
    "x          =     10\n",
    "```\n",
    "\n",
    "当我们对这两个数组进行剪发（subtract）的时候，广播规则（broadcasting rules）首先会把末尾维度匹配为 10，所以 x[:, None] 就被扩展成了一个(10,10)矩阵，然后匹配接下来的轴，这样 x 就业扩展成了 (10,10) 矩阵。\n",
    "\n"
   ]
  },
  {
   "cell_type": "code",
   "execution_count": null,
   "metadata": {},
   "outputs": [],
   "source": [
    "# 这样就得到了成对距离矩阵（pairwise distance matrix）\n",
    "x[:, None] - x"
   ]
  },
  {
   "cell_type": "markdown",
   "metadata": {},
   "source": [
    "#### 向量之间距离，Distance between vectors"
   ]
  },
  {
   "cell_type": "code",
   "execution_count": null,
   "metadata": {},
   "outputs": [],
   "source": [
    "# 加入我们有一系列的二维向量\n",
    "# 在下面的例子中，有五个这样的二维向量\n",
    "# 我们还要计算这些向量之间的欧氏距离（Euclidean distance）\n",
    "\n",
    "x = np.arange(10).reshape(5,2)\n",
    "print x.shape\n",
    "print x"
   ]
  },
  {
   "cell_type": "code",
   "execution_count": null,
   "metadata": {},
   "outputs": [],
   "source": [
    "x[:, None, :].shape"
   ]
  },
  {
   "cell_type": "markdown",
   "metadata": {},
   "source": [
    "对比形状\n",
    "\n",
    "```\n",
    "x[:, None, :] = 5 x 1 x 2\n",
    "x          =        5 x 2\n",
    "```\n",
    "\n",
    "From the rules of broadcasting, we expect the result of subtraction to be a 5 x 5 x 2 array. To calculate Euclidean distance, we need to find the square root of the sum of squares for the 5 x 5 collection of 2-vectors.\n",
    "\n",
    "\n",
    "根据广播规则（broadcasting rules）我们希望相减的结果是一个 5 x 5 x 2 数组（array）。要计算欧氏距离，就要找到 5 x 5 的二维向量的平方和的平方根。"
   ]
  },
  {
   "cell_type": "code",
   "execution_count": null,
   "metadata": {},
   "outputs": [],
   "source": [
    "delta = x[:, None, :] - x\n",
    "pdist = np.sqrt((delta**2).sum(-1))\n",
    "pdist"
   ]
  },
  {
   "cell_type": "markdown",
   "metadata": {},
   "source": [
    "#### 最后在这一步用一个单行函数，（Finally, we come to the anti-climax - a one-liner function!）"
   ]
  },
  {
   "cell_type": "code",
   "execution_count": null,
   "metadata": {},
   "outputs": [],
   "source": [
    "def pdist_numpy(xs):\n",
    "    return np.sqrt(((xs[:,None,:] - xs)**2).sum(-1))"
   ]
  },
  {
   "cell_type": "code",
   "execution_count": null,
   "metadata": {},
   "outputs": [],
   "source": [
    "print pdist_numpy(A)\n",
    "%timeit pdist_numpy(xs)"
   ]
  },
  {
   "cell_type": "markdown",
   "metadata": {},
   "source": [
    "### Numexpr 版本\n"
   ]
  },
  {
   "cell_type": "code",
   "execution_count": null,
   "metadata": {},
   "outputs": [],
   "source": [
    "def pdist_numexpr(xs):\n",
    "    a = xs[:, np.newaxis, :]\n",
    "    return np.sqrt(ne.evaluate('sum((a-xs)**2, axis=2)'))"
   ]
  },
  {
   "cell_type": "code",
   "execution_count": null,
   "metadata": {},
   "outputs": [],
   "source": [
    "print pdist_numexpr(A)\n",
    "%timeit pdist_numexpr(xs)"
   ]
  },
  {
   "cell_type": "markdown",
   "metadata": {},
   "source": [
    "### Numba 版本"
   ]
  },
  {
   "cell_type": "code",
   "execution_count": null,
   "metadata": {},
   "outputs": [],
   "source": [
    "pdist_numba = jit(pdist_python)"
   ]
  },
  {
   "cell_type": "code",
   "execution_count": null,
   "metadata": {},
   "outputs": [],
   "source": [
    "print pdist_numba(A)\n",
    "%timeit pdist_numba(xs)"
   ]
  },
  {
   "cell_type": "markdown",
   "metadata": {},
   "source": [
    "### NumbaPro 版本"
   ]
  },
  {
   "cell_type": "code",
   "execution_count": null,
   "metadata": {},
   "outputs": [],
   "source": [
    "import numbapro\n",
    "pdist_numbapro = numbapro.jit(pdist_python)"
   ]
  },
  {
   "cell_type": "code",
   "execution_count": null,
   "metadata": {},
   "outputs": [],
   "source": [
    "pdist_numbapro(A)\n",
    "%timeit pdist_numbapro(xs)"
   ]
  },
  {
   "cell_type": "markdown",
   "metadata": {},
   "source": [
    "### Parakeet 版本\n"
   ]
  },
  {
   "cell_type": "code",
   "execution_count": null,
   "metadata": {},
   "outputs": [],
   "source": [
    "pdist_parakeet = parakeet.jit(pdist_python)"
   ]
  },
  {
   "cell_type": "code",
   "execution_count": null,
   "metadata": {},
   "outputs": [],
   "source": [
    "print pdist_parakeet(A)\n",
    "%timeit pdist_parakeet(xs)"
   ]
  },
  {
   "cell_type": "markdown",
   "metadata": {},
   "source": [
    "### Cython 版本\n",
    "\n",
    "为了更好控制从 Python 到 C 的转换，大多数  Python 科学计算开发者会使用 Cython 这个包。本质上来说，这是一种增加了类型注释的 Python 语言。Cython 的代码会被编译到原生代码。Cython 相比其他的方法来说，有以下优势：\n",
    "\n",
    "* 一个 Python 程序也就是可用的（valid）Cython 程序，所以可以递进（incrementally）优化（optimization）；\n",
    "* 对优化的程度可以有精细的控制；\n",
    "* 简单易用，处理关于 C 编译器和共享链接库的各种细节；\n",
    "* IPyhton notebook（译者注：现在叫 JuPyter Notebook）内置了Cythonmagic 扩展；\n",
    "* 利用nogil 装饰器（decorator）可以运行并行代码（run parallel code）；\n",
    "* 充分优化的代码运行速度通常可以跟 C 语言一样快。"
   ]
  },
  {
   "cell_type": "code",
   "execution_count": null,
   "metadata": {},
   "outputs": [],
   "source": [
    "%load_ext cythonmagic"
   ]
  },
  {
   "cell_type": "code",
   "execution_count": null,
   "metadata": {},
   "outputs": [],
   "source": [
    "%%cython\n",
    "\n",
    "import numpy as np\n",
    "cimport cython\n",
    "from libc.math cimport sqrt\n",
    "\n",
    "@cython.boundscheck(False)\n",
    "@cython.wraparound(False)\n",
    "def pdist_cython(double[:, ::1] xs):\n",
    "    cdef int n = xs.shape[0]\n",
    "    cdef int p = xs.shape[1]\n",
    "    cdef double tmp, d\n",
    "    cdef double[:, ::1] D = np.empty((n, n), dtype=np.float)\n",
    "    for i in range(n):\n",
    "        for j in range(n):\n",
    "            d = 0.0\n",
    "            for k in range(p):\n",
    "                tmp = xs[i, k] - xs[j, k]\n",
    "                d += tmp * tmp\n",
    "            D[i, j] = sqrt(d)\n",
    "    return np.asarray(D)"
   ]
  },
  {
   "cell_type": "code",
   "execution_count": null,
   "metadata": {},
   "outputs": [],
   "source": [
    "print pdist_cython(A)\n",
    "%timeit pdist_cython(xs)"
   ]
  },
  {
   "cell_type": "markdown",
   "metadata": {},
   "source": [
    "### C 版本\n",
    "\n",
    "有很多方法来在 Python 中打包 C 语言代码，例如[Swig](http://www.swig.org/) 或者 [Boost Python with numpy](https://github.com/ndarray/Boost.NumPy)。\n",
    "\n",
    "不过，标准库（standard library）使用的是[ctypes](https://docs.python.org/2/library/ctypes.html)，一种外部函数库，可以用来将 C 语言的函数打包，在纯 Python 中进行调用。相比其他方法，这样需要额外的一些工作。如下所示。"
   ]
  },
  {
   "cell_type": "code",
   "execution_count": null,
   "metadata": {},
   "outputs": [],
   "source": [
    "%%file pdist_c.c\n",
    "#include <math.h>\n",
    "\n",
    "void pdist_c(int n, int p, double xs[n*p], double D[n*n]) {\n",
    "    for (int i=0; i<n; i++) {\n",
    "        for (int j=0; j<n; j++) {\n",
    "            double s = 0.0;\n",
    "            for (int k=0; k<p; k++) {\n",
    "                double tmp = xs[i*p+k] - xs[j*p+k];\n",
    "                s += tmp*tmp;\n",
    "            }\n",
    "            D[i*n+j] = sqrt(s);\n",
    "        }\n",
    "    }\n",
    "}"
   ]
  },
  {
   "cell_type": "code",
   "execution_count": null,
   "metadata": {},
   "outputs": [],
   "source": [
    "# Compile to a shared library\n",
    "# Mac\n",
    "! gcc -O3 -bundle -undefined dynamic_lookup pdist_c.c -o pdist_c.so\n",
    "# Linux: \n",
    "# ! gcc -O3 -fPIC -shared -std=c99 -lm pdist_c.c -o pdist_c.so"
   ]
  },
  {
   "cell_type": "code",
   "execution_count": null,
   "metadata": {},
   "outputs": [],
   "source": [
    "from ctypes import CDLL, c_int, c_void_p\n",
    "\n",
    "def pdist_c(xs):\n",
    "    \n",
    "    # Use ctypes to load the library\n",
    "    lib = CDLL('./pdist_c.so')\n",
    "\n",
    "    # We need to give the argument adn return types explicitly\n",
    "    lib.pdist_c.argtypes = [c_int, c_int, np.ctypeslib.ndpointer(dtype = np.float), np.ctypeslib.ndpointer(dtype = np.float)]\n",
    "    lib.pdist_c.restype  = c_void_p\n",
    "    \n",
    "    n, p = xs.shape\n",
    "    D = np.empty((n, n), np.float)\n",
    "    \n",
    "    lib.pdist_c(n, p, xs, D)\n",
    "    return D"
   ]
  },
  {
   "cell_type": "code",
   "execution_count": null,
   "metadata": {},
   "outputs": [],
   "source": [
    "print pdist_c(A)\n",
    "%timeit pdist_c(xs)"
   ]
  },
  {
   "cell_type": "markdown",
   "metadata": {},
   "source": [
    "### C++ 版本\n",
    "\n",
    "C++ 的实现基本跟使用 C语言是一样的。只要增加一下额外的 C 语句，然后用合适的 C++ 编译器就可以了。"
   ]
  },
  {
   "cell_type": "code",
   "execution_count": null,
   "metadata": {},
   "outputs": [],
   "source": [
    "%%file pdist_cpp.cpp\n",
    "#include <cmath>\n",
    "\n",
    "extern \"C\" \n",
    "\n",
    "// Variable length arrays are OK for C99 but not legal in C++\n",
    "// void pdist_cpp(int n, int p, double xs[n*p], double D[n*n]) {\n",
    "void pdist_cpp(int n, int p, double *xs, double *D) {\n",
    "    for (int i=0; i<n; i++) {\n",
    "        for (int j=0; j<n; j++) {\n",
    "            double s = 0.0;\n",
    "            for (int k=0; k<p; k++) {\n",
    "                double tmp = xs[i*p+k] - xs[j*p+k];\n",
    "                s += tmp*tmp;\n",
    "            }\n",
    "            D[i*n+j] = sqrt(s);\n",
    "        }\n",
    "    }\n",
    "}"
   ]
  },
  {
   "cell_type": "code",
   "execution_count": null,
   "metadata": {},
   "outputs": [],
   "source": [
    "# Compile to a shared library\n",
    "! g++ -O3 -bundle -undefined dynamic_lookup pdist_cpp.cpp -o pdist_cpp.so\n",
    "# Linux: \n",
    "# ! g++ -O3 -fPIC -shared pdist_cpp.cpp -o pdist_cpp.so"
   ]
  },
  {
   "cell_type": "code",
   "execution_count": null,
   "metadata": {},
   "outputs": [],
   "source": [
    "from ctypes import CDLL, c_int, c_void_p\n",
    "\n",
    "def pdist_cpp(xs):\n",
    "\n",
    "    # Use ctypes to load the library\n",
    "    lib = CDLL('./pdist_cpp.so')\n",
    "\n",
    "    # We need to give the argument adn return types explicitly\n",
    "    lib.pdist_cpp.argtypes = [c_int, c_int, np.ctypeslib.ndpointer(dtype = np.float), np.ctypeslib.ndpointer(dtype = np.float)]\n",
    "    lib.pdist_cpp.restype  = c_void_p\n",
    "\n",
    "    n, p = xs.shape\n",
    "    D = np.empty((n, n), np.float)\n",
    "    \n",
    "    lib.pdist_cpp(n, p, xs, D)\n",
    "    return D"
   ]
  },
  {
   "cell_type": "code",
   "execution_count": null,
   "metadata": {},
   "outputs": [],
   "source": [
    "print pdist_cpp(A)\n",
    "%timeit pdist_cpp(xs)"
   ]
  },
  {
   "cell_type": "markdown",
   "metadata": {},
   "source": [
    "### Fortran 版本"
   ]
  },
  {
   "cell_type": "code",
   "execution_count": null,
   "metadata": {},
   "outputs": [],
   "source": [
    "%%file pdist_fortran.f90\n",
    "\n",
    "subroutine pdist_fortran (n, p, A, D)\n",
    "\n",
    "    integer, intent(in) :: n\n",
    "    integer, intent(in) :: p\n",
    "    real(8), intent(in), dimension(n,p) :: A\n",
    "    real(8), intent(inout), dimension(n,n) :: D\n",
    "            \n",
    "    integer :: i, j, k\n",
    "    real(8) :: s, tmp\n",
    "    ! note order of indices is different from C\n",
    "    do j = 1, n\n",
    "        do i = 1, n\n",
    "            s = 0.0\n",
    "            do k = 1, p\n",
    "                tmp = A(i, k) - A(j, k)\n",
    "                s = s + tmp*tmp\n",
    "            end do\n",
    "            D(i, j) = sqrt(s)\n",
    "        end do\n",
    "    end do\n",
    "end subroutine"
   ]
  },
  {
   "cell_type": "code",
   "execution_count": null,
   "metadata": {},
   "outputs": [],
   "source": [
    "! f2py -c -m flib pdist_fortran.f90 > /dev/null"
   ]
  },
  {
   "cell_type": "code",
   "execution_count": null,
   "metadata": {},
   "outputs": [],
   "source": [
    "import flib\n",
    "print flib.pdist_fortran.__doc__"
   ]
  },
  {
   "cell_type": "code",
   "execution_count": null,
   "metadata": {},
   "outputs": [],
   "source": [
    "def pdist_fortran(xs):\n",
    "    import flib\n",
    "    n, p = xs.shape\n",
    "    xs = np.array(xs, order='F')\n",
    "    D = np.empty((n,n), np.float, order='F')\n",
    "    flib.pdist_fortran(xs, D)\n",
    "    return D"
   ]
  },
  {
   "cell_type": "code",
   "execution_count": null,
   "metadata": {},
   "outputs": [],
   "source": [
    "print pdist_fortran(A)\n",
    "%timeit pdist_fortran(xs)"
   ]
  },
  {
   "cell_type": "code",
   "execution_count": null,
   "metadata": {},
   "outputs": [],
   "source": [
    "# Final bake-off \n",
    "\n",
    "w = 10\n",
    "print 'Python'.ljust(w), \n",
    "%timeit pdist_python(xs)\n",
    "print 'Numpy'.ljust(w), \n",
    "%timeit pdist_numpy(xs)\n",
    "print 'Numexpr'.ljust(w), \n",
    "%timeit pdist_numexpr(xs)\n",
    "print 'Numba'.ljust(w), \n",
    "%timeit pdist_numba(xs)\n",
    "print 'Parakeet'.ljust(w), \n",
    "%timeit pdist_parakeet(xs)\n",
    "print 'Cython'.ljust(w),\n",
    "%timeit pdist_cython(xs)\n",
    "print 'C'.ljust(w),\n",
    "%timeit pdist_c(xs)\n",
    "print 'C++'.ljust(w),\n",
    "%timeit pdist_cpp(xs)\n",
    "print 'Fortran'.ljust(w),\n",
    "%timeit pdist_fortran(xs)\n",
    "\n",
    "from scipy.spatial.distance import pdist as pdist_scipy\n",
    "print 'Scipy'.ljust(w),\n",
    "%timeit pdist_scipy(xs)"
   ]
  },
  {
   "cell_type": "markdown",
   "metadata": {},
   "source": [
    "**最终优化（Final optimization）**: Scipy 只计算 i < j < n  这个范围的，因为成对的距离矩阵是对称的，所以只需要一般的时间就能完成。你试着自己修改一下咱们的 pdist_X 函数，也尽量利用一下这个对称性呢？"
   ]
  },
  {
   "cell_type": "markdown",
   "metadata": {},
   "source": [
    "## 总结\n",
    "\n",
    "* 使用 C, C++ 或者 Fortran 的性能表现基本一致\n",
    "* 对于 JIT 解决方案:\n",
    "    * Cython 是最快的，但是需要额外的精力花费在类型声明（type annotations）上；\n",
    "    * numba 也差不多快，而且最简单好用，只考虑 jit 函数的话；\n",
    "    * numexpr 稍微慢一点，而且最适合小规模的 numpy 表达式，不过也很方便使用。\n",
    "* 纯粹 numpy 解决方案的性能也还不错，而且最简洁，在上文中只要一行就搞定\n",
    "* 纯粹 python 方法性能太差，速度太慢，但是很有用，是去实现转换到原生代码或者进行 JIT 编译的模板\n",
    "* 要注意到，最快速度解决方案相比纯 Python 方案快了几乎有 一千倍，n = 1000，p=3。\n",
    "\n",
    "### 优化 Python 代码的建议\n",
    "\n",
    "* 是否有一种已经存在的快速实现的方案呢？如果有，就不妨考虑使用；\n",
    "* 可以先从 numpy/python 来构建原型，如果够快了，就可以了；\n",
    "* 再看看如果通过 numpy 来进行向量化（vectoriazaiton）会不会更好；\n",
    "* 接下来就要用到原生代码了（native code）:\n",
    "    * 大多数 Python 开发者估计会用 Cython，Cython 也可以用来打包或者使用  C 或 C++ 的代码；\n",
    "    * 使用 Numba 进行的即时编译（JIT compilation）发展迅速，可能不远的将来就会成为 Cython 的竞争对手；\n",
    "    * 如果一个函数是\"最小化的（minimal）\"，通常就可以考虑使用 numrxpr 因为通常都不太费事就能搞定；\n",
    "    * 如果你很熟悉 C/C++/Fortran 这些语言，当然也可以使用，这些都可以在 Python 中调用。\n",
    "* 如果做近似估计（appropriate），可以考虑并行化（parallelization），后面会更细致讲这部分内容；\n",
    "* 当你优化代码的时候，一定要记住：\n",
    "    * 检查运算结果是否正确！\n",
    "    * 多跑分评测（Profile often），因为通常很难在全局上估计一次优化的效果。\n",
    "    * 时间宝贵，够快了就可以了，不要沉湎；\n",
    "    * 如果弄一台更高配的机器就能搞定，那可能最好你就应该这么做了。"
   ]
  },
  {
   "cell_type": "code",
   "execution_count": null,
   "metadata": {},
   "outputs": [],
   "source": [
    "%load_ext version_information\n",
    "\n",
    "%version_information numpy, scipy, numexpr, numba, numbapro, parakeet, cython, f2py,"
   ]
  },
  {
   "cell_type": "code",
   "execution_count": null,
   "metadata": {},
   "outputs": [],
   "source": []
  }
 ],
 "metadata": {
  "kernelspec": {
   "display_name": "Python 3",
   "language": "python",
   "name": "python3"
  },
  "language_info": {
   "codemirror_mode": {
    "name": "ipython",
    "version": 3
   },
   "file_extension": ".py",
   "mimetype": "text/x-python",
   "name": "python",
   "nbconvert_exporter": "python",
   "pygments_lexer": "ipython3",
   "version": "3.5.4"
  }
 },
 "nbformat": 4,
 "nbformat_minor": 1
}
