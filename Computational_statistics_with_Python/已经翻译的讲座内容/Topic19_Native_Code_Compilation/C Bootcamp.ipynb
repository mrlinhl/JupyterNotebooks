{
 "cells": [
  {
   "cell_type": "markdown",
   "metadata": {},
   "source": [
    "为何使用 C?\n",
    "====\n",
    "\n",
    "1. 速度快规模小\n",
    "2. 使用某些语言中没有的链接库X\n",
    "3. C 程序具备一定的跨平台可移植性\n",
    "4. C 语言写出来了 Linux 和 OSX 操作系统，还实现了其他编程语言，比如 R 和 Python"
   ]
  },
  {
   "cell_type": "markdown",
   "metadata": {},
   "source": [
    "对 C 语言的简介\n",
    "----"
   ]
  },
  {
   "cell_type": "code",
   "execution_count": 87,
   "metadata": {},
   "outputs": [
    {
     "name": "stdout",
     "output_type": "stream",
     "text": [
      "Overwriting utils.c\n"
     ]
    }
   ],
   "source": [
    "%%file utils.c\n",
    "#include \"utils.h\"\n",
    "\n",
    "// Function definitions\n",
    "void print_blank() {\n",
    "    printf(\"\\n\");\n",
    "}\n",
    "\n",
    "double array2d_sum(double **m, int r, int c) {\n",
    "    double s= 0.0;\n",
    "    for (int i=0; i<r; i++) {\n",
    "        for (int j=0; j<c; j++) {\n",
    "            s += m[i][j];\n",
    "        }\n",
    "    }\n",
    "    return s;\n",
    "}"
   ]
  },
  {
   "cell_type": "code",
   "execution_count": 88,
   "metadata": {},
   "outputs": [
    {
     "name": "stdout",
     "output_type": "stream",
     "text": [
      "Overwriting utils.h\n"
     ]
    }
   ],
   "source": [
    "%%file utils.h\n",
    "#include <stdio.h>\n",
    "\n",
    "// typedef and struct\n",
    "typedef struct point {\n",
    "    double x;\n",
    "    double y;\n",
    "    double z;\n",
    "} point;\n",
    "\n",
    "// Function declarations\n",
    "void print_blank();\n",
    "double array2d_sum(double **m, int r, int c);"
   ]
  },
  {
   "cell_type": "code",
   "execution_count": 89,
   "metadata": {},
   "outputs": [
    {
     "name": "stdout",
     "output_type": "stream",
     "text": [
      "Overwriting tutorial.c\n"
     ]
    }
   ],
   "source": [
    "%%file tutorial.c\n",
    "#include <stdlib.h>\n",
    "#include <stdio.h>\n",
    "#include <math.h>\n",
    "#include \"utils.h\"\n",
    "\n",
    "int main(int argc, char *argv[])\n",
    "{\n",
    "    /*\n",
    "    Silly program to demonstrate some C languaage syntax \n",
    "    */\n",
    "\n",
    "    int i = 3;\n",
    "    double pi = 3.14;\n",
    "    char c = 'a'; // single quotes\n",
    "    char s[] = \"Hello, world\"; // double quotes\n",
    "\n",
    "    printf(\"%s, pi=%.2f, num=%d, char=%c\\n\", s, pi, i, c);\n",
    "\n",
    "    print_blank();\n",
    "    \n",
    "    // Initializing a struct\n",
    "    point p = {.z = 2.0, .x = 3.0};\n",
    "    printf(\"Point is (%.4f, %.4f, %.4f)\\n\", p.x, p.y, p.z);\n",
    "\n",
    "    print_blank();\n",
    "\n",
    "    // Get some numbers from command line arguments\n",
    "    int n1 = atoi(argv[1]);\n",
    "    int n2 = atoi(argv[2]);     \n",
    "\n",
    "    // Using arrays with automatic memory\n",
    "    int v1[n1];\n",
    "    for (int i=0; i<n1; i++) {\n",
    "        v1[i] = i*i;\n",
    "    }\n",
    "\n",
    "    // Using the ternary ?: operator to print either \", \" or \"\\n\"\n",
    "    for (int i=0; i<n1; i++) {\n",
    "        printf(\"%d%s\", v1[i], i < (n1-1) ? \", \" : \"\\n\");\n",
    "    }\n",
    "\n",
    "    print_blank();\n",
    "\n",
    "    // Using arrays with manual (or dynamic) memory\n",
    "    double *v2 = malloc(n1 * sizeof(int));\n",
    "    for (int i=0; i<n1; i++) {\n",
    "        v2[i] = sin(i*i);\n",
    "    }\n",
    "\n",
    "    for (int i=0; i<n1; i++) {\n",
    "        printf(\"%.4f%s\", v2[i], i < (n1-1) ? \", \" : \"\\n\");\n",
    "    }\n",
    "\n",
    "    print_blank();\n",
    "    \n",
    "    // Using 2D arrays with automatic memory\n",
    "    double m1[n1][n2];\n",
    "    for (int i=0; i<n1; i++) {\n",
    "        for (int j=0; j<n2; j++) {\n",
    "            m1[i][j] = i*n2 + j;\n",
    "        }\n",
    "    }\n",
    "\n",
    "    for (int i=0; i<n1; i++) {\n",
    "        for (int j=0; j<n2; j++) {\n",
    "            printf(\"%8.4f%s\", m1[i][j], j < (n2-1) ? \", \" : \"\\n\");\n",
    "        }\n",
    "    }\n",
    "\n",
    "    print_blank();\n",
    "\n",
    "    // Using 2D arrays with manual memory\n",
    "    double **m2 = malloc(n1 * sizeof(double));\n",
    "    for (int i=0; i<n1; i++) {\n",
    "        m2[i] = calloc(n2, sizeof(double));\n",
    "    }\n",
    "\n",
    "    for (int i=0; i<n1; i++) {\n",
    "        for (int j=0; j<n2; j++) {\n",
    "            m2[i][j] = sqrt(i*n2 + j);\n",
    "        }\n",
    "    }\n",
    "\n",
    "    for (int i=0; i<n1; i++) {\n",
    "        for (int j=0; j<n2; j++) {\n",
    "            printf(\"%8.4f%s\", m2[i][j], j < (n2-1) ? \", \" : \"\\n\");\n",
    "        }\n",
    "    }\n",
    "\n",
    "    print_blank();\n",
    "\n",
    "    printf(\"The sum of entries in m2 is %.4f\\n\", array2d_sum(m2, n1, n2));\n",
    "\n",
    "    // free memory after usage\n",
    "    free(v2); \n",
    "    for (int i=0; i<n1; i++) {\n",
    "        free(m2[i]);\n",
    "    }\n",
    "    free(m2);\n",
    "}"
   ]
  },
  {
   "cell_type": "code",
   "execution_count": 90,
   "metadata": {},
   "outputs": [],
   "source": [
    "! clang tutorial.c utils.c -o bin/tutorial"
   ]
  },
  {
   "cell_type": "code",
   "execution_count": 91,
   "metadata": {},
   "outputs": [
    {
     "name": "stdout",
     "output_type": "stream",
     "text": [
      "Hello, world, pi=3.14, num=3, char=a\r\n",
      "\r\n",
      "Point is (3.0000, 0.0000, 2.0000)\r\n",
      "\r\n",
      "0, 1, 4, 9\r\n",
      "\r\n",
      "0.0000, 0.8415, -0.7568, 0.4121\r\n",
      "\r\n",
      "  0.0000,   1.0000,   2.0000,   3.0000,   4.0000,   5.0000\r\n",
      "  6.0000,   7.0000,   8.0000,   9.0000,  10.0000,  11.0000\r\n",
      " 12.0000,  13.0000,  14.0000,  15.0000,  16.0000,  17.0000\r\n",
      " 18.0000,  19.0000,  20.0000,  21.0000,  22.0000,  23.0000\r\n",
      "\r\n",
      "  0.0000,   1.0000,   1.4142,   1.7321,   2.0000,   2.2361\r\n",
      "  2.4495,   2.6458,   2.8284,   3.0000,   3.1623,   3.3166\r\n",
      "  3.4641,   3.6056,   3.7417,   3.8730,   4.0000,   4.1231\r\n",
      "  4.2426,   4.3589,   4.4721,   4.5826,   4.6904,   4.7958\r\n",
      "\r\n",
      "The sum of entries in m2 is 75.7348\r\n"
     ]
    }
   ],
   "source": [
    "! bin/tutorial 4 6"
   ]
  },
  {
   "cell_type": "markdown",
   "metadata": {},
   "source": [
    "### C 语言程序结构"
   ]
  },
  {
   "cell_type": "code",
   "execution_count": 92,
   "metadata": {},
   "outputs": [
    {
     "name": "stdout",
     "output_type": "stream",
     "text": [
      "Overwriting main1.c\n"
     ]
    }
   ],
   "source": [
    "%%file main1.c\n",
    "// simplest possible C program\n",
    "int main() {}"
   ]
  },
  {
   "cell_type": "markdown",
   "metadata": {},
   "source": [
    "### 编译（Compilation）\n",
    "\n",
    "C 语言代码需要经过预处理（*preprocessor*）、编译（*compiler*）、链接（*linker*）这样几个步骤来生成一个可执行程序（executable program）：\n",
    "\n",
    "* **预处理 Preprocessor**: 这一步主要是复制 `#include` 中包含的头文件等内容。在标准库里面的用尖括号 <stdio.h> ，在你自定义位置的就用双引号 \"my_header.h\"。\n",
    "* **编译 Compiler**: 这部是把 C 语言代码转换成目标代码（object code）。\n",
    "* **链接 Linker**: 解译不同文件的符号，包括共享的链接库，创建一个单独的可执行文件。\n",
    "\n",
    "通常预处理和编译在一个步骤中完成，而链接是另一个步骤中进行。"
   ]
  },
  {
   "cell_type": "code",
   "execution_count": 93,
   "metadata": {},
   "outputs": [
    {
     "name": "stdout",
     "output_type": "stream",
     "text": [
      "clang: error: no such file or directory: 'main.c'\r\n",
      "clang: error: no input files\r\n"
     ]
    }
   ],
   "source": [
    "! clang -Wall main.c -o bin/main"
   ]
  },
  {
   "cell_type": "code",
   "execution_count": 109,
   "metadata": {},
   "outputs": [],
   "source": [
    "%%bash\n",
    "\n",
    "# Again, but separating compilation and linking steps\n",
    "\n",
    "# Preprocess and compile\n",
    "clang -Wall -c main1.c -o bin/main1.o\n",
    "\n",
    "# Link\n",
    "clang -Wall bin/main1.o -o bin/main1"
   ]
  },
  {
   "cell_type": "markdown",
   "metadata": {},
   "source": [
    "### 命令行参数（Command line arguments）"
   ]
  },
  {
   "cell_type": "code",
   "execution_count": 95,
   "metadata": {},
   "outputs": [
    {
     "name": "stdout",
     "output_type": "stream",
     "text": [
      "Overwriting main2.c\n"
     ]
    }
   ],
   "source": [
    "%%file main2.c\n",
    "#include <stdio.h>\n",
    "\n",
    "int main(int argc, char* argv[])\n",
    "{\n",
    "    printf(\"Number of arguments = %d\\n\", argc);\n",
    "    for (int i=0; i<argc; i++) {\n",
    "        printf(\"%s %s\", argv[i], i < (argc-1)? \", \" : \"\\n\");\n",
    "    }\n",
    "}"
   ]
  },
  {
   "cell_type": "code",
   "execution_count": 96,
   "metadata": {},
   "outputs": [
    {
     "name": "stdout",
     "output_type": "stream",
     "text": [
      "Number of arguments = 6\n",
      "bin/main2 , Hello , this , is , number , 4 \n"
     ]
    }
   ],
   "source": [
    "%%bash\n",
    "clang -Wall main2.c -o bin/main2\n",
    "bin/main2 Hello this is number 4"
   ]
  },
  {
   "cell_type": "markdown",
   "metadata": {},
   "source": [
    "### C语言中的类型（Types in C）\n",
    "\n",
    "C 语言里面基础的类型很简单，对于数值来说，有 int，float，double 这几种为主。一般情况下，在简单的 C 语言代码里面尽量别用浮点数 float，除非你是用 CUDA，否则会可能遇到精度损失的情况。C 语言里面的字符串类型 string 特别不好用，我建议你所有字符串操作还是在 Python 里面进行。\n",
    "\n",
    "C 语言里面的结构体 Struct 和 Python 里面的类有一点相似。\n",
    "\n",
    "\n",
    "```c\n",
    "struct point {\n",
    "    double x;\n",
    "    double y;\n",
    "    double z;\n",
    "};\n",
    "\n",
    "struct point p1 = {.x = 1, .y = 2, .z = 3};\n",
    "struct point p2 = {1, 2, 3};\n",
    "struct point p3;\n",
    "p3.x = 1;\n",
    "p3.y = 2;\n",
    "p3.z = 3;\n",
    "```\n",
    "\n",
    "可以使用 `typedef` 来定义你自己的类型，如下所示：\n",
    "\n",
    "```c\n",
    "#include <stdio.h>\n",
    "struct point {\n",
    "    double x;\n",
    "    double y;\n",
    "    double z;\n",
    "};\n",
    "\n",
    "typedef struct point point;\n",
    "\n",
    "int main() {\n",
    "    point p = {1, 2, 3};\n",
    "    printf(\"%.2f, %.2f, %.2f\", p.x, p.y, p.z);\n",
    "};\n",
    "```\n",
    "\n",
    "\n"
   ]
  },
  {
   "cell_type": "markdown",
   "metadata": {},
   "source": [
    "### 运算符（Operators）\n",
    "C 语言里面的大多数运算符都和 Python 里面一样，除了自增自减运算符之外。如下所示：\n",
    "\n",
    "```c\n",
    "int c = 10;\n",
    "c++; // 等价于 c = c + 1, i.e., c 现在就已经是 11\n",
    "c--; // 等价于 c = c - 1, i.e.. c 又变成了 10 了\n",
    "```\n",
    "\n",
    "实际上存在两种形式的双加号运算符，一种是放到变量后面的 `c++` ，一种是放到前面的 `++c`。这两种都是对变量进行加一的操作，不过还有区别，后置的 `c++` 作为一个表达式，先返回原来未被加一的值，然后再进行加一运算，而前置的 `++c` 则是先加一，然后再返回值。\n",
    "\n",
    "\n",
    "\n",
    "\n",
    "\n"
   ]
  },
  {
   "cell_type": "code",
   "execution_count": 97,
   "metadata": {},
   "outputs": [
    {
     "name": "stdout",
     "output_type": "stream",
     "text": [
      "Overwriting increment.c\n"
     ]
    }
   ],
   "source": [
    "%%file increment.c\n",
    "#include <stdio.h>\n",
    "#include <stdlib.h>\n",
    "\n",
    "int main()\n",
    "{\n",
    "    int x = 3, y;\n",
    "    y = x++; // x is incremented and y takes the value of x before incrementation\n",
    "    printf(\"x = %d, y = %d\\n\", x, y); \n",
    "    y = ++x; // x is incremented and y takes the value of x after incrementation\n",
    "    printf(\"x = %d, y = %d\\n\", x, y); \n",
    "}"
   ]
  },
  {
   "cell_type": "code",
   "execution_count": 98,
   "metadata": {},
   "outputs": [
    {
     "name": "stdout",
     "output_type": "stream",
     "text": [
      "x = 4, y = 3\n",
      "x = 5, y = 5\n"
     ]
    }
   ],
   "source": [
    "%%bash\n",
    "\n",
    "clang -Wall increment.c -o bin/increment\n",
    "bin/increment"
   ]
  },
  {
   "cell_type": "markdown",
   "metadata": {},
   "source": [
    "#### 三元运算符，Ternary operator\n",
    "\n",
    "三元运算符 `expr = condition ? expr1 : expr2`  是在一行内实现了一个简单的 if-else 的语句。直接用英语来读都很好理解，就是如果条件为真，就用 expr1 来复制给 expr，否则就用 expr2。 在样例代码里面用到过这个表达式，用来在列表中每个元素之间打印一个逗号，而如果到了结尾就不用逗号而是打印换行符'\\n'。\n",
    "\n",
    "\n",
    "注意：这个和 Python 里面的三元运算符的结构很相似 `expr = expr1 if condition else epxr2`。"
   ]
  },
  {
   "cell_type": "markdown",
   "metadata": {},
   "source": [
    "### 流程控制，Control of program flow\n",
    "\n",
    "C语言里面的程序流的控制也和 Python 或者 R 里面差不多。下面就是一个例子，看着代码就应该能理解了。\n"
   ]
  },
  {
   "cell_type": "code",
   "execution_count": null,
   "metadata": {},
   "outputs": [],
   "source": [
    "// Interpretation of grades by Asian parent\n",
    "if (grade == 'A') {\n",
    "    printf(\"Acceptable\\n\");\n",
    "} else if (grade == 'B') {\n",
    "    printf(\"Bad\\n\");\n",
    "} else if (grade == 'C') {\n",
    "    printf(\"Catastrophe\\n\");\n",
    "} else if (grade == 'D') {\n",
    "    printf(\"Disowned\\n\");\n",
    "} else {\n",
    "    printf(\"Missing child report filed with local police\\n\")\n",
    "}"
   ]
  },
  {
   "cell_type": "code",
   "execution_count": null,
   "metadata": {},
   "outputs": [],
   "source": [
    "// Looping variants\n",
    "\n",
    "// the for loop in C consists of the keyword if followed\n",
    "// (initializing statement; loop condition statement; loop update statement)\n",
    "// followed by the body of the loop in curly braces\n",
    "int arr[3] = {1, 2, 3};\n",
    "for (int i=0; i<sizeof(arr)/sizeof(arr[0]); i++) {\n",
    "    printf(\"%d\\n\", i);\n",
    "}\n",
    "\n",
    "int i = 3;\n",
    "while (i > 0) {\n",
    "    i--;\n",
    "}\n",
    "\n",
    "int i = 3;\n",
    "do {\n",
    "    i==;\n",
    "} while (i > 0);"
   ]
  },
  {
   "cell_type": "markdown",
   "metadata": {},
   "source": [
    "#### 自动化数组，Automatic arrays\n",
    "\n",
    "如果你在初始化的时候就确定了数组的规模，就可以使用固定规模的数组来读取数组元素，C 语言会自动帮你管理内存。\n",
    "\n",
    "```c\n",
    "int len = 3;\n",
    "\n",
    "// Giving an explicit size\n",
    "double xs[len];\n",
    "for (int i=0; i<len; i++) {\n",
    "    xs[i] = 0.0;\n",
    "}\n",
    "\n",
    "// C can infer size if initializer is given\n",
    "double ys[] = {1, 2, 3};\n",
    "```\n",
    "\n",
    "### 指针，Pointers\n",
    "\n",
    "如果你不能事先确定数组规模，那就要自己用指针来管理内存了。简单来说，C 语言里面的内存可以自动分配、静态分配 或者动态分配。自动分配的内存中，变量是由计算机管理的，如果越界（out of scope），就消失了。静态分配内存的变量可以一直存在。动态分配的内存存储在堆栈（stack）中，你可以设置其生命周期。\n",
    "\n",
    "\n",
    "简单介绍关键词，Mini-glossary:\n",
    "* **作用域scope**：变量可见的内存位置就叫作用域；在 C 语言中变量基本上是存在于 block （块作用域）之中的 - 一对大括号之内的变量（在某些情况下也包含大括号之前的变量，例如函数的参数，或者 for 循环中的计数器等），或者哪些在整个文件中都可见的变量。\n",
    "\n",
    "* **堆栈stack**：计算机内存还分为栈（小，stack）和堆（大，heap）。 自动变量放在栈上; 动态变量被放在堆中。 因此，如果你有一个非常大的数组，可能你也需要使用动态内存分配，即使你在初始化时知道它的大小。\n",
    "\n",
    "在目前主流操作系统里，变量在内存中的地址普遍是用一个 64bit 的整数来表示的。\n",
    "指针基本上就可以看作是一个包含了某块内存的地址的整数。`malloc` 这种函数所返回的值也是如此。在 C 语言里面，指针用一个星号 '*' 表示。不过这个 '*' 符号有时候可能会让人犯糊涂，因为具体的表述形式还要看你使用它的位置是在声明中还是其他位置。\n",
    "在声明中：\n",
    "\n",
    "```c\n",
    "int *p = malloc(sizeof(int)); // p 是一个指向一个 整数 的指针 pointer to an integer\n",
    "*p = 5; // *p 是一个整数 integer\n",
    "```\n",
    "\n",
    "要得到某个确定的地址的值，可以使用 `&`地址运算符。这个经常用于让函数能够改变传递来的参数的值之类的情况中，例如下面这个 address.c 中所示。\n",
    "\n",
    "\n",
    "\n"
   ]
  },
  {
   "cell_type": "code",
   "execution_count": 61,
   "metadata": {},
   "outputs": [
    {
     "name": "stdout",
     "output_type": "stream",
     "text": [
      "Overwriting pointers.c\n"
     ]
    }
   ],
   "source": [
    "%%file pointers.c\n",
    "#include <stdio.h>\n",
    "\n",
    "int main()\n",
    "{\n",
    "    int i = 2;\n",
    "    int j = 3;\n",
    "    int *p;\n",
    "    int *q;\n",
    "    *p = i;\n",
    "    q = &j;\n",
    "    printf(\"p  = %p\\n\", p);\n",
    "    printf(\"*p = %d\\n\", *p);\n",
    "    printf(\"&p = %p\\n\", &p);\n",
    "    printf(\"q  = %p\\n\", q);\n",
    "    printf(\"*q = %d\\n\", *q);\n",
    "    printf(\"&q = %p\\n\", &q);\n",
    "}"
   ]
  },
  {
   "cell_type": "code",
   "execution_count": 62,
   "metadata": {},
   "outputs": [
    {
     "name": "stdout",
     "output_type": "stream",
     "text": [
      "p  = 0x7fff5620aab0\n",
      "*p = 2\n",
      "&p = 0x7fff5620aa90\n",
      "q  = 0x7fff5620aa98\n",
      "*q = 3\n",
      "&q = 0x7fff5620aa88\n"
     ]
    }
   ],
   "source": [
    "%%bash\n",
    "\n",
    "clang -Wall -Wno-uninitialized pointers.c -o bin/pointers\n",
    "bin/pointers"
   ]
  },
  {
   "cell_type": "code",
   "execution_count": 99,
   "metadata": {},
   "outputs": [
    {
     "name": "stdout",
     "output_type": "stream",
     "text": [
      "Overwriting address.c\n"
     ]
    }
   ],
   "source": [
    "%%file address.c\n",
    "#include <stdio.h>\n",
    "\n",
    "void change_arg(int *p) {\n",
    "    *p *= 2;\n",
    "}\n",
    "int main()\n",
    "{\n",
    "    int x = 5;\n",
    "    change_arg(&x);\n",
    "    printf(\"%d\\n\", x);\n",
    "}"
   ]
  },
  {
   "cell_type": "code",
   "execution_count": 100,
   "metadata": {},
   "outputs": [
    {
     "name": "stdout",
     "output_type": "stream",
     "text": [
      "10\n"
     ]
    }
   ],
   "source": [
    "%%bash\n",
    "\n",
    "clang -Wall address.c -o bin/address\n",
    "bin/address"
   ]
  },
  {
   "cell_type": "markdown",
   "metadata": {},
   "source": [
    "### 指针（续），Pointers (continued)\n",
    "\n",
    "如果要存储整个一系列的多个整数值，可以简单地通过分配更多内存来实现：\n",
    "\n",
    "```c\n",
    "int *ps = malloc(5 * sizeof(int)); // p is a pointer to an integer\n",
    "for (int i=0; i<5; i++) {\n",
    "    ps[i] = i;\n",
    "}\n",
    "```\n",
    "\n",
    "上面这段代码执行效果是，计算机会在堆（heap）中找到足够的空间来连续存储五个连续的整数。由于 C 的数组都是同一类型的，\n",
    "所以我们就可以进行指针运算（pointer arithmetic），也就是说，`ps`这个指针的位置等同于 `&ps[0]`，而`ps + 2` 就等价于 `&ps[2]`。下面这个例子有助于理解这一点。\n",
    "\n"
   ]
  },
  {
   "cell_type": "code",
   "execution_count": 101,
   "metadata": {},
   "outputs": [
    {
     "name": "stdout",
     "output_type": "stream",
     "text": [
      "Overwriting pointers.c\n"
     ]
    }
   ],
   "source": [
    "%%file pointers.c\n",
    "#include <stdio.h>\n",
    "#include <stdlib.h>\n",
    "\n",
    "int main()\n",
    "{\n",
    "    int *ps = malloc(5 * sizeof(int));\n",
    "    for (int i =0; i < 5; i++) {\n",
    "        ps[i] = i + 10;\n",
    "    }\n",
    "\n",
    "    printf(\"%d, %d\\n\", *ps, ps[0]); // remmeber that *ptr is just a regular variable outside of a declaration, in this case, an int\n",
    "    printf(\"%d, %d\\n\", *(ps+2), ps[2]); \n",
    "    printf(\"%d, %d\\n\", *(ps+4), *(&ps[4])); // * and & are inverses\n",
    "}"
   ]
  },
  {
   "cell_type": "code",
   "execution_count": 102,
   "metadata": {},
   "outputs": [
    {
     "name": "stdout",
     "output_type": "stream",
     "text": [
      "10, 10\n",
      "12, 12\n",
      "14, 14\n"
     ]
    }
   ],
   "source": [
    "%%bash\n",
    "\n",
    "clang -Wall pointers.c -o bin/pointers\n",
    "bin/pointers"
   ]
  },
  {
   "cell_type": "markdown",
   "metadata": {},
   "source": [
    "### 指针和数组，Pointers and arrays\n",
    "\n",
    "一个数组的名字实际上就是一个指向这个数组第一个元素的指针。因此，我们可以将数组名字当作一个指针来逆向引用。我们也可以对数组名字来进行指针运算，这就导致了下面这种看上去很怪异的表达式合乎语法了：\n",
    "\n",
    "```c\n",
    "arr[i] = *(arr + i) = i[arr]\n",
    "```"
   ]
  },
  {
   "cell_type": "code",
   "execution_count": 71,
   "metadata": {},
   "outputs": [
    {
     "name": "stdout",
     "output_type": "stream",
     "text": [
      "Overwriting array_pointer.c\n"
     ]
    }
   ],
   "source": [
    "%%file array_pointer.c\n",
    "#include <stdio.h>\n",
    "\n",
    "int main()\n",
    "{\n",
    "    int arr[] = {1, 2, 3};\n",
    "    printf(\"%d\\t%d\\t%d\\t%d\\t%d\\t%d\\n\", *arr, arr[0], 0[arr], *(arr + 2), arr[2], 2[arr]);\n",
    "}"
   ]
  },
  {
   "cell_type": "code",
   "execution_count": 72,
   "metadata": {},
   "outputs": [
    {
     "name": "stdout",
     "output_type": "stream",
     "text": [
      "1\t1\t1\t3\t3\t3\n"
     ]
    }
   ],
   "source": [
    "%%bash\n",
    "\n",
    "clang -Wall array_pointer.c -o bin/array_pointer\n",
    "bin/array_pointer"
   ]
  },
  {
   "cell_type": "markdown",
   "metadata": {},
   "source": [
    "### 指针（续），Pointers (continued)\n",
    "\n",
    "**不同的空（nothing）**: \n",
    "有一种特别的空指针，用关键词 NULL 表示，不指向人和便利。这个 NULL 通常用于指针的比较当中，因为 NULL 指针的一个特点是和任何其他指针相比较都是不相等的，包括和另外一个 NULL 作比较，两者也是不相等。在实践中，这个 NULL 通常被用作一个列表的结尾的标记变量。\n",
    "与之相对比的，另外一个 void 指针(void \\*) 指向的则是未声明类型的内存位置。这个 void 指针往往用于 C语言的通用运算符（generic operations）中，例如 `malloc` 就返回一个 void 指针。还有更让新手一头雾水的，就是关键词 NUL 还可以指代 `'\\0'` 这个字符，在 C 语言里面表示一个字符串的结尾。所以一定要注意 NUL 和 NULL 是全然不同的两码事。\n",
    "\n",
    "\n",
    "\n",
    "**解译指针语法（Deciphering pointer idioms）**: \n",
    "在 C 语言里面常见到的一种表达式是 `*q++ = *p++` ，其中的 p 和 q 都是指针。用人类语言来解释起来这个语句表达的过程是这样的：\n",
    "\n",
    "* \\*q = \\*p (将由p指向的变量复制到q指向的变量中，copy the variable pointed to by p into the variable pointed to by q)\n",
    "* 自增（increment） q\n",
    "* 自增（increment） p"
   ]
  },
  {
   "cell_type": "code",
   "execution_count": 103,
   "metadata": {},
   "outputs": [
    {
     "name": "stdout",
     "output_type": "stream",
     "text": [
      "Overwriting pointers2.c\n"
     ]
    }
   ],
   "source": [
    "%%file pointers2.c\n",
    "#include <stdio.h>\n",
    "#include <stdlib.h>\n",
    "\n",
    "int main()\n",
    "{\n",
    "    // example 1\n",
    "    typedef char* string;\n",
    "    char *s[] = {\"mary \", \"had \", \"a \", \"little \", \"lamb\", NULL};\n",
    "    for (char **sp = s; *sp != NULL; sp++) {\n",
    "        printf(\"%s\", *sp);\n",
    "    }\n",
    "    printf(\"\\n\");\n",
    "\n",
    "    // example 2\n",
    "    char *src = \"abcde\";\n",
    "    char *dest = malloc(5); // char is always 1 byte by C99 definition\n",
    "    \n",
    "    char *p = src + 4;\n",
    "    char *q = dest;\n",
    "    while ((*q++ = *p--)); // put the string in src into dest in reverse order\n",
    "\n",
    "    for (int i = 0; i < 5; i++) {\n",
    "        printf(\"i = %d, src[i] = %c, dest[i] = %c\\n\", i, src[i], dest[i]);\n",
    "    }\n",
    "}"
   ]
  },
  {
   "cell_type": "code",
   "execution_count": 104,
   "metadata": {},
   "outputs": [
    {
     "name": "stdout",
     "output_type": "stream",
     "text": [
      "mary had a little lamb\n",
      "i = 0, src[i] = a, dest[i] = e\n",
      "i = 1, src[i] = b, dest[i] = d\n",
      "i = 2, src[i] = c, dest[i] = c\n",
      "i = 3, src[i] = d, dest[i] = b\n",
      "i = 4, src[i] = e, dest[i] = a\n"
     ]
    }
   ],
   "source": [
    "%%bash\n",
    "\n",
    "clang -Wall pointers2.c -o bin/pointers2\n",
    "bin/pointers2"
   ]
  },
  {
   "cell_type": "markdown",
   "metadata": {},
   "source": [
    "### 函数，Functions"
   ]
  },
  {
   "cell_type": "code",
   "execution_count": 105,
   "metadata": {},
   "outputs": [
    {
     "name": "stdout",
     "output_type": "stream",
     "text": [
      "Overwriting square.c\n"
     ]
    }
   ],
   "source": [
    "%%file square.c\n",
    "#include <stdio.h>\n",
    "\n",
    "double square(double x)\n",
    "{\n",
    "    return x * x;\n",
    "}\n",
    "\n",
    "int main()\n",
    "{\n",
    "    double a = 3;\n",
    "    printf(\"%f\\n\", square(a));\n",
    "}"
   ]
  },
  {
   "cell_type": "code",
   "execution_count": 106,
   "metadata": {},
   "outputs": [
    {
     "name": "stdout",
     "output_type": "stream",
     "text": [
      "9.000000\n"
     ]
    }
   ],
   "source": [
    "%%bash\n",
    "\n",
    "clang -Wall square.c -o bin/square\n",
    "bin/square"
   ]
  },
  {
   "cell_type": "markdown",
   "metadata": {},
   "source": [
    "### 函数指针，Function pointers\n",
    "\n",
    "如何创建一个完整的函数指针呢？最开始还是先进行函数声明，例如这里的 func 就是一个函数，接收一对整数，返回值是一个整数：\n",
    "\n",
    "```\n",
    "int func(int, int);\n",
    "```\n",
    "\n",
    "\n",
    "要把这个函数变为函数指针，只需要作如下修改，括号括上，再加个小星星`*`在里面：\n",
    "\n",
    "```\n",
    "int (*func)(int, int);\n",
    "```\n",
    "\n",
    "这样`func`就是指向一个函数的指针，这个函数接收一对整数，返回一个整数。最后，使用 typedef，我们就可以把 `func` 用作一个新的类型了。\n",
    "\n",
    "```\n",
    "typedef int (*func)(int, int);\n",
    "```\n",
    "\n",
    "这样我们就可以创建一个函数指针的数组，高阶函数等等，接下来就是一个例子了。"
   ]
  },
  {
   "cell_type": "code",
   "execution_count": 183,
   "metadata": {},
   "outputs": [
    {
     "name": "stdout",
     "output_type": "stream",
     "text": [
      "Overwriting square2.c\n"
     ]
    }
   ],
   "source": [
    "%%file square2.c\n",
    "#include <stdio.h>\n",
    "#include <math.h>\n",
    "\n",
    "// 创建一个函数指针类型，接收一个双精度浮点数 double，返回的也是一个双精度浮点数 double\n",
    "typedef double (*func)(double x);\n",
    "\n",
    "// 一个高阶函数接收这样的一个函数指针做参数\n",
    "double apply(func f, double x)\n",
    "{\n",
    "    return f(x);\n",
    "}\n",
    "\n",
    "double square(double x)\n",
    "{\n",
    "    return x * x;\n",
    "}\n",
    "\n",
    "double cube(double x)\n",
    "{\n",
    "    return pow(x, 3);\n",
    "}\n",
    "\n",
    "int main()\n",
    "{\n",
    "    double a = 3;\n",
    "    func fs[] = {square, cube, NULL};\n",
    "\n",
    "    for (func *f=fs; *f; f++) {\n",
    "        printf(\"%.1f\\n\", apply(*f, a));\n",
    "    }   \n",
    "}"
   ]
  },
  {
   "cell_type": "code",
   "execution_count": 184,
   "metadata": {},
   "outputs": [
    {
     "name": "stdout",
     "output_type": "stream",
     "text": [
      "9.0\n",
      "27.0\n"
     ]
    }
   ],
   "source": [
    "%%bash\n",
    "\n",
    "clang -Wall -lm square2.c -o bin/square2\n",
    "bin/square2"
   ]
  },
  {
   "cell_type": "markdown",
   "metadata": {},
   "source": [
    "### 使用 make 来编译 C 语言程序\n",
    "\n",
    "估计你也已经见识过了，C语言程序的编译过程可能会超级麻烦，各种各样不同的编译器啊、连接器啊、还有设置参数啊、添加链接库啊等等。所以呢，大多数的 C 语言程序都是使用`make`构建工具来编译的，这个估计你也很熟悉了。\n",
    "下面是简单的一个通用的 makefile 样例，你可以在此基础上进行定制来编译生成你自己的程序，参考 Ben Kelmens 缩写的 《21世纪 C语言》(21st Century C)(O'Reilly 公司出版)。\n",
    "\n",
    "\n",
    "* **TARGET**: 一般是设置为可执行文件的名字；\n",
    "* **OBJECTS**: 各种中间对象文件（intemediate object files），通常是对应每个 C 文件都有一个 o 文件，例如 file.c 就要对应有一个 file.o；\n",
    "* **CFLAGS**: 编译器参数，例如 -Wall (显示所有warnings), -g (添加 debug 信息), -O3 (使用 level 3 优化)；也可能用于添加一些非标准库的头文件所在位置，例如 -I/opt/include；\n",
    "* **LDFLAGS**: 连接器参数，例如 -lm (连接 libmath 库)；也可能用于只是非标准库文件所在位置，例如 -L/opt/lib；\n",
    "* **CC**: 编译器，例如 gcc ，或 clang， 或者 icc。\n",
    "\n",
    "除了上面的这些，经常还有其他的一些傻瓜化参数（dummy flags）\n",
    "* **all**: 构建所有目标 (例如你可能可选生成 html 还是 pdf，选用 all 就会一律生成了)；\n",
    "* **clean**: 已出 makefile 生成的所有中间文件和最终产物，就是清理了。"
   ]
  },
  {
   "cell_type": "code",
   "execution_count": 152,
   "metadata": {},
   "outputs": [
    {
     "name": "stdout",
     "output_type": "stream",
     "text": [
      "Overwriting makefile\n"
     ]
    }
   ],
   "source": [
    "%%file makefile\n",
    "TARGET = \n",
    "OBJECTS = \n",
    "CFLAGS = -g -Wall -O3 \n",
    "LDLIBS = \n",
    "CC = c99 \n",
    "\n",
    "all: TARGET\n",
    "    \n",
    "clean:\n",
    "\t rm $(TARGET) $(OBJECTS)\n",
    "\n",
    "$(TARGET): $(OBJECTS)"
   ]
  },
  {
   "cell_type": "markdown",
   "metadata": {},
   "source": [
    "将上面的各个空白填写好，要适应你自己的程序，就可以了。\n",
    "下面接下来的是一个简单样本，其中的主文件是 `test_main.c`，使用了一个 `stuff.c` 中的函数，这个函数还声明使用了`stuff.h`，并且还依赖于libm C语言数学库。"
   ]
  },
  {
   "cell_type": "code",
   "execution_count": 132,
   "metadata": {},
   "outputs": [
    {
     "name": "stdout",
     "output_type": "stream",
     "text": [
      "Writing stuff.h\n"
     ]
    }
   ],
   "source": [
    "%%file stuff.h\n",
    "#include <stdio.h>\n",
    "#include <math.h>\n",
    "\n",
    "void do_stuff();"
   ]
  },
  {
   "cell_type": "code",
   "execution_count": 140,
   "metadata": {},
   "outputs": [
    {
     "name": "stdout",
     "output_type": "stream",
     "text": [
      "Overwriting stuff.c\n"
     ]
    }
   ],
   "source": [
    "%%file stuff.c\n",
    "#include \"stuff.h\"\n",
    "\n",
    "void do_stuff() {\n",
    "    printf(\"The square root of 2 is %.2f\\n\", sqrt(2));\n",
    "}"
   ]
  },
  {
   "cell_type": "code",
   "execution_count": 141,
   "metadata": {},
   "outputs": [
    {
     "name": "stdout",
     "output_type": "stream",
     "text": [
      "Overwriting test_make.c\n"
     ]
    }
   ],
   "source": [
    "%%file test_make.c\n",
    "#include \"stuff.h\"\n",
    "\n",
    "int main()\n",
    "{\n",
    "    do_stuff();\n",
    "}"
   ]
  },
  {
   "cell_type": "code",
   "execution_count": 153,
   "metadata": {},
   "outputs": [
    {
     "name": "stdout",
     "output_type": "stream",
     "text": [
      "Overwriting makefile\n"
     ]
    }
   ],
   "source": [
    "%%file makefile\n",
    "TARGET = test_make\n",
    "OBJECTS = stuff.o\n",
    "CFLAGS = -g -Wall -O3 \n",
    "LDLIBS = -lm\n",
    "CC = clang\n",
    "\n",
    "all: $(TARGET)\n",
    "    \n",
    "clean:\n",
    "\t rm $(TARGET) $(OBJECTS)\n",
    "\n",
    "$(TARGET): $(OBJECTS)"
   ]
  },
  {
   "cell_type": "code",
   "execution_count": 154,
   "metadata": {},
   "outputs": [
    {
     "name": "stdout",
     "output_type": "stream",
     "text": [
      "make: Nothing to be done for `all'.\r\n"
     ]
    }
   ],
   "source": [
    "! make"
   ]
  },
  {
   "cell_type": "code",
   "execution_count": 155,
   "metadata": {},
   "outputs": [
    {
     "name": "stdout",
     "output_type": "stream",
     "text": [
      "The square root of 2 is 1.41\r\n"
     ]
    }
   ],
   "source": [
    "! ./test_make"
   ]
  },
  {
   "cell_type": "code",
   "execution_count": 156,
   "metadata": {},
   "outputs": [
    {
     "name": "stdout",
     "output_type": "stream",
     "text": [
      "make: Nothing to be done for `all'.\r\n"
     ]
    }
   ],
   "source": [
    "# Make is clever enough to recompile only what has been changed since the last time it was called\n",
    "! make"
   ]
  },
  {
   "cell_type": "code",
   "execution_count": 157,
   "metadata": {},
   "outputs": [
    {
     "name": "stdout",
     "output_type": "stream",
     "text": [
      "rm test_make stuff.o\r\n"
     ]
    }
   ],
   "source": [
    "! make clean"
   ]
  },
  {
   "cell_type": "code",
   "execution_count": 151,
   "metadata": {},
   "outputs": [
    {
     "name": "stdout",
     "output_type": "stream",
     "text": [
      "clang -g -Wall -O3    -c -o stuff.o stuff.c\n",
      "clang -g -Wall -O3     test_make.c stuff.o  -lm -o test_make\n"
     ]
    }
   ],
   "source": [
    "! make"
   ]
  },
  {
   "cell_type": "markdown",
   "metadata": {},
   "source": [
    "### 调试程序（理解编译器的警告和错误信息，使用 gdb）\n",
    "\n",
    "试着将下面这个充满 bug 的程序修改正确。"
   ]
  },
  {
   "cell_type": "code",
   "execution_count": 185,
   "metadata": {},
   "outputs": [
    {
     "name": "stdout",
     "output_type": "stream",
     "text": [
      "Overwriting buggy.c\n"
     ]
    }
   ],
   "source": [
    "%%file buggy.c\n",
    "\n",
    "# Create a function pointer type that takes a double and returns a double\n",
    "double *func(double x);\n",
    "\n",
    "# A higher order function that takes just such a function pointer\n",
    "double apply(func f, double x)\n",
    "{\n",
    "    return f(x);\n",
    "}\n",
    "\n",
    "double square(double x)\n",
    "{\n",
    "    return x * x;\n",
    "}\n",
    "\n",
    "double cube(double x)\n",
    "{\n",
    "    return pow(3, x);\n",
    "}\n",
    "\n",
    "double mystery(double x)\n",
    "{\n",
    "    double y = 10;\n",
    "    if (x < 10)\n",
    "        x = square(x);\n",
    "    else\n",
    "        x += y;\n",
    "        x = cube(x);\n",
    "    return x;\n",
    "}\n",
    "\n",
    "int main()\n",
    "{\n",
    "    double a = 3;\n",
    "    func fs[] = {square, cube, mystery, NULL}\n",
    "\n",
    "    for (func *f=fs, f != NULL, f++) {\n",
    "        printf(\"%d\\n\", apply(f, a));\n",
    "    }   \n",
    "}"
   ]
  },
  {
   "cell_type": "code",
   "execution_count": 186,
   "metadata": {},
   "outputs": [
    {
     "name": "stdout",
     "output_type": "stream",
     "text": [
      "\u001b[1mbuggy.c:2:3: \u001b[0m\u001b[0;1;31merror: \u001b[0m\u001b[1minvalid preprocessing directive\u001b[0m\r\n",
      "# Create a function pointer type that takes a double and returns a double\r\n",
      "\u001b[0;1;32m  ^\r\n",
      "\u001b[0m\u001b[1mbuggy.c:5:3: \u001b[0m\u001b[0;1;31merror: \u001b[0m\u001b[1minvalid preprocessing directive\u001b[0m\r\n",
      "# A higher order function that takes just such a function pointer\r\n",
      "\u001b[0;1;32m  ^\r\n",
      "\u001b[0m\u001b[1mbuggy.c:6:14: \u001b[0m\u001b[0;1;31merror: \u001b[0m\u001b[1munknown type name 'func'\u001b[0m\r\n",
      "double apply(func f, double x)\r\n",
      "\u001b[0;1;32m             ^\r\n",
      "\u001b[0m\u001b[1mbuggy.c:18:12: \u001b[0m\u001b[0;1;35mwarning: \u001b[0m\u001b[1mimplicitly declaring library function 'pow' with type\r\n",
      "      'double (double, double)'\u001b[0m\r\n",
      "    return pow(3, x);\r\n",
      "\u001b[0;1;32m           ^\r\n",
      "\u001b[0m\u001b[1mbuggy.c:18:12: \u001b[0m\u001b[0;1;30mnote: \u001b[0mplease include the header <math.h> or explicitly provide a\r\n",
      "      declaration for 'pow'\u001b[0m\r\n",
      "\u001b[1mbuggy.c:35:9: \u001b[0m\u001b[0;1;31merror: \u001b[0m\u001b[1mexpected ';' after expression\u001b[0m\r\n",
      "    func fs[] = {square, cube, mystery, NULL}\r\n",
      "\u001b[0;1;32m        ^\r\n",
      "\u001b[0m\u001b[0;32m        ;\r\n",
      "\u001b[0m\u001b[1mbuggy.c:35:10: \u001b[0m\u001b[0;1;31merror: \u001b[0m\u001b[1muse of undeclared identifier 'fs'\u001b[0m\r\n",
      "    func fs[] = {square, cube, mystery, NULL}\r\n",
      "\u001b[0;1;32m         ^\r\n",
      "\u001b[0m\u001b[1mbuggy.c:35:13: \u001b[0m\u001b[0;1;31merror: \u001b[0m\u001b[1mexpected expression\u001b[0m\r\n",
      "    func fs[] = {square, cube, mystery, NULL}\r\n",
      "\u001b[0;1;32m            ^\r\n",
      "\u001b[0m\u001b[1mbuggy.c:35:17: \u001b[0m\u001b[0;1;31merror: \u001b[0m\u001b[1mexpected expression\u001b[0m\r\n",
      "    func fs[] = {square, cube, mystery, NULL}\r\n",
      "\u001b[0;1;32m                ^\r\n",
      "\u001b[0m\u001b[1mbuggy.c:35:5: \u001b[0m\u001b[0;1;35mwarning: \u001b[0m\u001b[1mexpression result unused [-Wunused-value]\u001b[0m\r\n",
      "    func fs[] = {square, cube, mystery, NULL}\r\n",
      "\u001b[0;1;32m    ^~~~\r\n",
      "\u001b[0m2 warnings and 7 errors generated.\r\n"
     ]
    }
   ],
   "source": [
    "! clang -g -Wall buggy.c -o buggy"
   ]
  },
  {
   "cell_type": "markdown",
   "metadata": {},
   "source": [
    "### 为什么不用 C语言？\n",
    "\n",
    "其他编程语言都有年度一次的混淆代码竞赛（Obfuscated Code Contest <http://www.ioccc.org/>）。\n",
    "下面的一些特性让 C 语言 很适合写出不可读的代码：\n",
    "\n",
    "* 松散的标识符命名规则 (例如 _o, _0, _O, O 这些都是可用的命名)。\n",
    "* 字符 char 是字节 bytes，而指针 pointer 是整数 integers。\n",
    "* 指针运算符（pointer arithmetic）意味着 `array[index]` 等价于 `*(array+index)` 也等价于 `index[array]`!\n",
    "* 松散的格式化规则，对空格 whitespace 甚至没有任何规则。\n",
    "* 使用逗号运算符可以将多个表达式与？：运算符组合在一起。\n",
    "* 递归的函数调用（Recursive function calls），例如，在 C语言里面，main 函数调用 main 函数是合乎语法的。\n",
    "\n",
    "下面是 2013年 IOCCC 的一个获胜作品 [entry](http://www.ioccc.org/2013/dlowe/hint.html) ，这个代码的效果是显示 Tufte 提出的 sparklines，统计学家看了估计会觉得贴心吧。\n",
    "\n",
    "```c\n",
    "main(a,b)char**b;{int c=1,d=c,e=a-d;for(;e;e--)_(e)<_(c)?c=e:_(e)>_(d)?d=e:7;\n",
    "while(++e<a)printf(\"\\xe2\\x96%c\",129+(**b=8*(_(e)-_(c))/(_(d)-_(c))));}\n",
    "```"
   ]
  },
  {
   "cell_type": "code",
   "execution_count": 83,
   "metadata": {},
   "outputs": [
    {
     "name": "stdout",
     "output_type": "stream",
     "text": [
      "Overwriting sparkl.c\n"
     ]
    }
   ],
   "source": [
    "%%file sparkl.c\n",
    "main(a,b)char**b;{int c=1,d=c,e=a-d;for(;e;e--)_(e)<_(c)?c=e:_(e)>_(d)?d=e:7;\n",
    "while(++e<a)printf(\"\\xe2\\x96%c\",129+(**b=8*(_(e)-_(c))/(_(d)-_(c))));}"
   ]
  },
  {
   "cell_type": "code",
   "execution_count": 84,
   "metadata": {},
   "outputs": [],
   "source": [
    "! gcc -Wno-implicit-int -include stdio.h -include stdlib.h -D'_(x)=strtof(b[x],0)' sparkl.c -o bin/sparkl"
   ]
  },
  {
   "cell_type": "code",
   "execution_count": 85,
   "metadata": {},
   "outputs": [
    {
     "name": "stdout",
     "output_type": "stream",
     "text": [
      "0 76 98 51 -31 -92 -88 -21 60 99 68 -10 -82 -96 -41 41 96 82 10 -68 -99 -60 21 88 92 31 -51 -98 -76 0\n"
     ]
    }
   ],
   "source": [
    "import numpy as np\n",
    "np.set_printoptions(linewidth=np.infty)\n",
    "print ' '.join(map(str, (100*np.sin(np.linspace(0, 8*np.pi, 30))).astype('int')))"
   ]
  },
  {
   "cell_type": "code",
   "execution_count": 86,
   "metadata": {},
   "outputs": [
    {
     "name": "stdout",
     "output_type": "stream",
     "text": [
      "▅██▇▃▁▁▄▇▉▇▄▁▁▃▆██▅▂▁▂▅██▆▂▁▁▅"
     ]
    }
   ],
   "source": [
    "%%bash\n",
    "\n",
    "bin/sparkl 0 76 98 51 -31 -92 -88 -21 60 99 68 -10 -82 -96 -41 41 96 82 10 -68 -99 -60 21 88 92 31 -51 -98 -76 0"
   ]
  },
  {
   "cell_type": "markdown",
   "metadata": {},
   "source": [
    "如果你真是闲得没事干就像去了解那些写 C语言程序应该避免的事项，我推荐你试试下面这个教程：\n",
    "<http://www.dreamincode.net/forums/topic/38102-obfuscated-code-a-simple-introduction/>\n",
    "\n"
   ]
  },
  {
   "cell_type": "code",
   "execution_count": null,
   "metadata": {},
   "outputs": [],
   "source": []
  }
 ],
 "metadata": {
  "kernelspec": {
   "display_name": "Python 3",
   "language": "python",
   "name": "python3"
  },
  "language_info": {
   "codemirror_mode": {
    "name": "ipython",
    "version": 3
   },
   "file_extension": ".py",
   "mimetype": "text/x-python",
   "name": "python",
   "nbconvert_exporter": "python",
   "pygments_lexer": "ipython3",
   "version": "3.5.4"
  }
 },
 "nbformat": 4,
 "nbformat_minor": 1
}
