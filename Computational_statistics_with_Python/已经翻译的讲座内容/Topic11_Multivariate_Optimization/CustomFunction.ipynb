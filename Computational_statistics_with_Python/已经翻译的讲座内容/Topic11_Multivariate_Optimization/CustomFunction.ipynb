{
 "cells": [
  {
   "cell_type": "code",
   "execution_count": 1,
   "metadata": {},
   "outputs": [],
   "source": [
    "import os\n",
    "import sys\n",
    "import glob\n",
    "import matplotlib.pyplot as plt\n",
    "import numpy as np\n",
    "import pandas as pd\n",
    "%matplotlib inline\n",
    "%precision 4\n",
    "plt.style.use('ggplot')\n",
    "import scipy.optimize as opt"
   ]
  },
  {
   "cell_type": "code",
   "execution_count": 22,
   "metadata": {},
   "outputs": [],
   "source": [
    "import scipy.linalg as la"
   ]
  },
  {
   "cell_type": "code",
   "execution_count": 23,
   "metadata": {},
   "outputs": [],
   "source": [
    "def f(x):\n",
    "    return (x[0]-2)**2 + (x[1]-3)**2"
   ]
  },
  {
   "cell_type": "code",
   "execution_count": 24,
   "metadata": {},
   "outputs": [],
   "source": [
    "def grad(x):\n",
    "    return np.array([2*x[0]-4, 2*x[1]-6])"
   ]
  },
  {
   "cell_type": "code",
   "execution_count": 25,
   "metadata": {},
   "outputs": [
    {
     "data": {
      "text/plain": [
       "array([-4, -6])"
      ]
     },
     "execution_count": 25,
     "metadata": {},
     "output_type": "execute_result"
    }
   ],
   "source": [
    "grad([0,0])"
   ]
  },
  {
   "cell_type": "code",
   "execution_count": 26,
   "metadata": {},
   "outputs": [
    {
     "data": {
      "text/plain": [
       "   status: 0\n",
       "  success: True\n",
       "     njev: 4\n",
       "     nfev: 16\n",
       " hess_inv: array([[ 0.8462, -0.2308],\n",
       "       [-0.2308,  0.6538]])\n",
       "      fun: 1.2385736137494604e-16\n",
       "        x: array([ 2.,  3.])\n",
       "  message: 'Optimization terminated successfully.'\n",
       "      jac: array([ -3.4406e-09,   2.2912e-09])"
      ]
     },
     "execution_count": 26,
     "metadata": {},
     "output_type": "execute_result"
    }
   ],
   "source": [
    "x = np.array([0,0])\n",
    "opt.minimize(f, x)"
   ]
  },
  {
   "cell_type": "code",
   "execution_count": 45,
   "metadata": {},
   "outputs": [],
   "source": [
    "def custmin(fun, x0, args=(), maxfev=None, alpha=0.1,\n",
    "        maxiter=100, tol=1e-6, callback=None, **options):\n",
    "    bestx = x0\n",
    "    besty = fun(x0)\n",
    "    funcalls = 1\n",
    "    niter = 0\n",
    "    improved = True\n",
    "    stop = False\n",
    "\n",
    "    while improved and not stop and niter < maxiter:\n",
    "        niter += 1\n",
    "        step = alpha * grad(bestx)\n",
    "        if la.norm(step) < tol:\n",
    "            improved = False\n",
    "        bestx = bestx - step\n",
    "\n",
    "        besty = fun(bestx)\n",
    "        funcalls += 1\n",
    "\n",
    "        if callback is not None:\n",
    "            callback(bestx)\n",
    "        if maxfev is not None and funcalls >= maxfev:\n",
    "            stop = True\n",
    "            break\n",
    "\n",
    "    return opt.OptimizeResult(fun=besty, x=bestx, nit=niter,\n",
    "                              nfev=funcalls, success=(niter > 1))"
   ]
  },
  {
   "cell_type": "code",
   "execution_count": 46,
   "metadata": {},
   "outputs": [
    {
     "data": {
      "text/plain": [
       "     fun: 1.2505519547673462e-11\n",
       "    nfev: 63\n",
       " success: True\n",
       "     nit: 62\n",
       "       x: array([ 2.,  3.])"
      ]
     },
     "execution_count": 46,
     "metadata": {},
     "output_type": "execute_result"
    }
   ],
   "source": [
    "opt.minimize(f, x, method=custmin)"
   ]
  },
  {
   "cell_type": "code",
   "execution_count": 39,
   "metadata": {},
   "outputs": [
    {
     "data": {
      "text/plain": [
       "   status: 0\n",
       "  success: True\n",
       "     njev: 4\n",
       "     nfev: 4\n",
       " hess_inv: array([[ 0.8462, -0.2308],\n",
       "       [-0.2308,  0.6538]])\n",
       "      fun: 0.0\n",
       "        x: array([ 2.,  3.])\n",
       "  message: 'Optimization terminated successfully.'\n",
       "      jac: array([ 0.,  0.])"
      ]
     },
     "execution_count": 39,
     "metadata": {},
     "output_type": "execute_result"
    }
   ],
   "source": [
    "opt.minimize(f, x, jac=grad)"
   ]
  },
  {
   "cell_type": "code",
   "execution_count": null,
   "metadata": {},
   "outputs": [],
   "source": []
  }
 ],
 "metadata": {
  "kernelspec": {
   "display_name": "Python 2",
   "language": "python",
   "name": "python2"
  },
  "language_info": {
   "codemirror_mode": {
    "name": "ipython",
    "version": 2
   },
   "file_extension": ".py",
   "mimetype": "text/x-python",
   "name": "python",
   "nbconvert_exporter": "python",
   "pygments_lexer": "ipython2",
   "version": "2.7.13"
  }
 },
 "nbformat": 4,
 "nbformat_minor": 1
}
