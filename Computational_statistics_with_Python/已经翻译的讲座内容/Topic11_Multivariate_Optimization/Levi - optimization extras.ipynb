{
 "cells": [
  {
   "cell_type": "markdown",
   "metadata": {},
   "source": [
    "列维函数（Levi function）\n",
    "----\n",
    "\n",
    "$$\n",
    "f(x,y)=sin2(3πx)+(x−1)2(1+sin2(3πy))+(y−1)2(1+sin2(2πy)\n",
    "$$"
   ]
  },
  {
   "cell_type": "code",
   "execution_count": null,
   "metadata": {},
   "outputs": [],
   "source": [
    "def levi(x): \n",
    "    return ((np.sin(3np.pix[0]))2 + \n",
    "            (x[0]-1)2 (1+(np.sin(3np.pix[1]))2) + \n",
    "            (x[1]-1)2 (1+(np.sin(2np.pix[1]))**2))\n",
    "\n",
    "x = np.linspace(-5, 5, 100) \n",
    "y = np.linspace(-5, 5, 100) \n",
    "X, Y = np.meshgrid(x, y) \n",
    "Z = levi(np.vstack([X.ravel(), Y.ravel()])).reshape((100,100)) \n",
    "plt.imshow(np.log1p(Z), extent=[-5,5,-5,5]) \n",
    "plt.colorbar()\n"
   ]
  },
  {
   "cell_type": "code",
   "execution_count": null,
   "metadata": {},
   "outputs": [],
   "source": [
    "x0 = [1, -1] \n",
    "ps = [x0] \n",
    "opt.minimize(levi, x0, method='BFGS', callback=reporter)\n",
    "ps = np.array(ps) \n",
    "plt.figure(figsize=(12,4)) \n",
    "plt.subplot(121) \n",
    "plt.imshow(np.log1p(Z), extent=[-5,5,-5,5]) \n",
    "plt.plot(ps[:, 0], ps[:, 1], '-o') \n",
    "plt.subplot(122) \n",
    "plt.plot(range(len(ps)), levi(ps.T));"
   ]
  }
 ],
 "metadata": {
  "kernelspec": {
   "display_name": "Python 2",
   "language": "python",
   "name": "python2"
  },
  "language_info": {
   "codemirror_mode": {
    "name": "ipython",
    "version": 2
   },
   "file_extension": ".py",
   "mimetype": "text/x-python",
   "name": "python",
   "nbconvert_exporter": "python",
   "pygments_lexer": "ipython2",
   "version": "2.7.13"
  }
 },
 "nbformat": 4,
 "nbformat_minor": 1
}
