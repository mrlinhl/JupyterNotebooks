{
 "cells": [
  {
   "cell_type": "code",
   "execution_count": 1,
   "metadata": {},
   "outputs": [],
   "source": [
    "%matplotlib inline\n",
    "import matplotlib.pyplot as plt\n",
    "import numpy as np\n",
    "%precision 4\n",
    "import os, sys, glob\n",
    "import scipy.linalg as la\n",
    "import scipy.linalg.blas as blas\n",
    "import scipy.linalg.lapack as lapack"
   ]
  },
  {
   "cell_type": "markdown",
   "metadata": {},
   "source": [
    "## 特别提醒\n",
    "\n",
    "BLAS 和 LAPACK 的各种方法都各自在`scipy.linalg.blas` 和 `scipy.linalg.lapack` 这两个模块内。通常情况下，一般很少在写 Python 代码的时候直接用这两个，除非是对性能有特殊要求，此外在`scipy.linalg`中有对这些低层次方法的封装，用起来也更安全更简便。但如果你要用 C、Fortran 或者 CUDA 来进行开发，那就可能经常要直接使用这些线性代数方法了，Python 的模块提供了一些很友好的接口，可以借此来熟悉一下这些方法。\n"
   ]
  },
  {
   "cell_type": "markdown",
   "metadata": {},
   "source": [
    "## 基础线性代数子方法（基础方法）（Basic Linear Algebra Subroutines (low level routines)）\n",
    "\n",
    "BLAS 里的方法命名简短（terse），但有一个标准格式：\n",
    "\n",
    "第一个字母表示的是精度（precision） - 比如 D 表示的就是双精度浮点数， C 表示的就是单精度浮点数复数。剩下的字符就是助记符，用来提示子方法的用途：例如，axpy 就是 a\\*x + y，而 gemm 就是广义矩阵乘法（generalized matrix multiplication）。具体内容可以参考<http://web.stanford.edu/class/me200c/tutorial_77/18.1_blas.html>来查看一份子方法列表。\n",
    "\n",
    "所有可用方法列表都在 `scipy.linalg.blas` 里面列出，更多内容可以参考文档 <http://docs.scipy.org/doc/scipy/reference/linalg.blas.html>"
   ]
  },
  {
   "cell_type": "markdown",
   "metadata": {},
   "source": [
    "### Level 1 (向量运算，vector operations)"
   ]
  },
  {
   "cell_type": "code",
   "execution_count": 2,
   "metadata": {},
   "outputs": [],
   "source": [
    "x = np.random.randn(10)\n",
    "y = np.arange(10)\n",
    "a = 5"
   ]
  },
  {
   "cell_type": "code",
   "execution_count": 3,
   "metadata": {},
   "outputs": [
    {
     "data": {
      "text/plain": [
       "array([-3.9555, -6.9694, -2.2203, 10.9923,  6.4069,  3.4339, -1.695 ,\n",
       "        3.2537, 14.5677, 14.0148])"
      ]
     },
     "execution_count": 3,
     "metadata": {},
     "output_type": "execute_result"
    }
   ],
   "source": [
    "# 计算 a*x + y\n",
    "blas.daxpy(x, y, a=a)"
   ]
  },
  {
   "cell_type": "code",
   "execution_count": 4,
   "metadata": {},
   "outputs": [
    {
     "data": {
      "text/plain": [
       "array([-3.9555, -6.9694, -2.2203, 10.9923,  6.4069,  3.4339, -1.695 ,\n",
       "        3.2537, 14.5677, 14.0148])"
      ]
     },
     "execution_count": 4,
     "metadata": {},
     "output_type": "execute_result"
    }
   ],
   "source": [
    "a*x + y"
   ]
  },
  {
   "cell_type": "code",
   "execution_count": 5,
   "metadata": {},
   "outputs": [
    {
     "name": "stdout",
     "output_type": "stream",
     "text": [
      "1.09 µs ± 10.4 ns per loop (mean ± std. dev. of 7 runs, 1000000 loops each)\n",
      "2.71 µs ± 11.4 ns per loop (mean ± std. dev. of 7 runs, 100000 loops each)\n"
     ]
    }
   ],
   "source": [
    "%timeit blas.daxpy(x, y, a=a)\n",
    "%timeit a*x + y"
   ]
  },
  {
   "cell_type": "code",
   "execution_count": 6,
   "metadata": {},
   "outputs": [
    {
     "data": {
      "text/plain": [
       "3.5249"
      ]
     },
     "execution_count": 6,
     "metadata": {},
     "output_type": "execute_result"
    }
   ],
   "source": [
    "# 计算一个向量的 L2 范数（L2 norm）\n",
    "blas.dnrm2(x)"
   ]
  },
  {
   "cell_type": "code",
   "execution_count": 7,
   "metadata": {},
   "outputs": [
    {
     "data": {
      "text/plain": [
       "3.5249"
      ]
     },
     "execution_count": 7,
     "metadata": {},
     "output_type": "execute_result"
    }
   ],
   "source": [
    "la.norm(x)"
   ]
  },
  {
   "cell_type": "code",
   "execution_count": 8,
   "metadata": {},
   "outputs": [
    {
     "data": {
      "text/plain": [
       "3.5249"
      ]
     },
     "execution_count": 8,
     "metadata": {},
     "output_type": "execute_result"
    }
   ],
   "source": [
    "np.sqrt(np.sum(x**2.0))"
   ]
  },
  {
   "cell_type": "code",
   "execution_count": 9,
   "metadata": {},
   "outputs": [
    {
     "name": "stdout",
     "output_type": "stream",
     "text": [
      "226 ns ± 6.95 ns per loop (mean ± std. dev. of 7 runs, 1000000 loops each)\n",
      "13 µs ± 668 ns per loop (mean ± std. dev. of 7 runs, 100000 loops each)\n",
      "8.22 µs ± 733 ns per loop (mean ± std. dev. of 7 runs, 100000 loops each)\n"
     ]
    }
   ],
   "source": [
    "%timeit blas.dnrm2(x)\n",
    "%timeit la.norm(x)\n",
    "%timeit np.sqrt(np.sum(x**2.0))"
   ]
  },
  {
   "cell_type": "markdown",
   "metadata": {},
   "source": [
    "### Level 2 (矩阵-向量运算，matrix-vector operations)"
   ]
  },
  {
   "cell_type": "code",
   "execution_count": 10,
   "metadata": {},
   "outputs": [
    {
     "data": {
      "text/plain": [
       "array([139.0341,  90.0531, 122.1036,  89.0923, 124.4135, 134.2981,\n",
       "        90.8588,  60.8382,  77.6296,  80.98  ])"
      ]
     },
     "execution_count": 10,
     "metadata": {},
     "output_type": "execute_result"
    }
   ],
   "source": [
    "alpha = 4.5\n",
    "A = np.array(np.random.random((10,10)), order='F')\n",
    "x = np.arange(10)\n",
    "\n",
    "blas.dgemv(alpha, A, x)"
   ]
  },
  {
   "cell_type": "code",
   "execution_count": 11,
   "metadata": {},
   "outputs": [
    {
     "data": {
      "text/plain": [
       "array([139.0341,  90.0531, 122.1036,  89.0923, 124.4135, 134.2981,\n",
       "        90.8588,  60.8382,  77.6296,  80.98  ])"
      ]
     },
     "execution_count": 11,
     "metadata": {},
     "output_type": "execute_result"
    }
   ],
   "source": [
    "alpha*np.dot(A, x)"
   ]
  },
  {
   "cell_type": "code",
   "execution_count": 12,
   "metadata": {},
   "outputs": [
    {
     "name": "stdout",
     "output_type": "stream",
     "text": [
      "1.1 µs ± 2.18 ns per loop (mean ± std. dev. of 7 runs, 1000000 loops each)\n",
      "3.38 µs ± 21.5 ns per loop (mean ± std. dev. of 7 runs, 100000 loops each)\n"
     ]
    }
   ],
   "source": [
    "%timeit blas.dgemv(alpha, A, x)\n",
    "%timeit alpha*np.dot(A, x)"
   ]
  },
  {
   "cell_type": "markdown",
   "metadata": {},
   "source": [
    "### Level 3 (矩阵-矩阵运算，matrix-matrix operations)"
   ]
  },
  {
   "cell_type": "code",
   "execution_count": 22,
   "metadata": {
    "collapsed": true
   },
   "outputs": [],
   "source": [
    "alpha = 4.5\n",
    "A = np.array(np.random.random((10,10)), order='F')\n",
    "B = np.array(np.random.random((10,10)), order='F')"
   ]
  },
  {
   "cell_type": "code",
   "execution_count": 23,
   "metadata": {},
   "outputs": [
    {
     "data": {
      "text/plain": [
       "array([[ 10.0071,   5.5994,  10.6722,  10.1818,   6.8569,   4.2423,\n",
       "          7.222 ,   7.1324,   9.1195,  11.0741],\n",
       "       [ 18.9872,  12.9696,  18.7636,  13.0136,  13.493 ,   6.1952,\n",
       "         10.8192,  11.5351,  13.6816,  18.3832],\n",
       "       [ 18.009 ,  12.6172,  17.8935,  12.5518,  12.2465,   7.8041,\n",
       "         11.2491,   8.6173,  11.609 ,  17.6362],\n",
       "       [ 13.5082,   7.0443,  11.3788,   9.974 ,   8.0157,   5.4126,\n",
       "          8.7252,   8.8902,  10.138 ,  12.5954],\n",
       "       [ 13.8247,   9.0688,  14.543 ,  11.6694,   9.4144,   5.6807,\n",
       "          9.7722,   9.443 ,  10.9853,  15.2538],\n",
       "       [ 13.8562,  11.9601,  13.3123,  11.7678,   9.1058,   8.0995,\n",
       "          8.8613,  11.9655,  13.8767,  15.3657],\n",
       "       [ 15.7258,  11.6832,  14.5085,  11.1698,  10.5742,   7.6311,\n",
       "          9.7384,   6.2711,  10.2244,  14.349 ],\n",
       "       [  9.0453,   7.515 ,   7.6851,   9.2072,   6.036 ,   4.8551,\n",
       "          5.6475,   7.4739,  10.1664,   8.6669],\n",
       "       [ 19.035 ,  11.754 ,  17.0319,  14.4103,  10.8171,   8.4039,\n",
       "         12.3496,  11.069 ,  13.188 ,  15.6755],\n",
       "       [ 14.6138,  11.5766,  12.7563,  13.5197,   9.8956,   6.7646,\n",
       "          8.8172,  10.4491,  14.5853,  13.942 ]])"
      ]
     },
     "execution_count": 23,
     "metadata": {},
     "output_type": "execute_result"
    }
   ],
   "source": [
    "# 使用 BLAS 的广义矩阵乘法（Generalized matrix multiplication using BLAS）\n",
    "blas.dgemm(alpha, A, B)"
   ]
  },
  {
   "cell_type": "code",
   "execution_count": 24,
   "metadata": {},
   "outputs": [
    {
     "data": {
      "text/plain": [
       "array([[ 10.0071,   5.5994,  10.6722,  10.1818,   6.8569,   4.2423,\n",
       "          7.222 ,   7.1324,   9.1195,  11.0741],\n",
       "       [ 18.9872,  12.9696,  18.7636,  13.0136,  13.493 ,   6.1952,\n",
       "         10.8192,  11.5351,  13.6816,  18.3832],\n",
       "       [ 18.009 ,  12.6172,  17.8935,  12.5518,  12.2465,   7.8041,\n",
       "         11.2491,   8.6173,  11.609 ,  17.6362],\n",
       "       [ 13.5082,   7.0443,  11.3788,   9.974 ,   8.0157,   5.4126,\n",
       "          8.7252,   8.8902,  10.138 ,  12.5954],\n",
       "       [ 13.8247,   9.0688,  14.543 ,  11.6694,   9.4144,   5.6807,\n",
       "          9.7722,   9.443 ,  10.9853,  15.2538],\n",
       "       [ 13.8562,  11.9601,  13.3123,  11.7678,   9.1058,   8.0995,\n",
       "          8.8613,  11.9655,  13.8767,  15.3657],\n",
       "       [ 15.7258,  11.6832,  14.5085,  11.1698,  10.5742,   7.6311,\n",
       "          9.7384,   6.2711,  10.2244,  14.349 ],\n",
       "       [  9.0453,   7.515 ,   7.6851,   9.2072,   6.036 ,   4.8551,\n",
       "          5.6475,   7.4739,  10.1664,   8.6669],\n",
       "       [ 19.035 ,  11.754 ,  17.0319,  14.4103,  10.8171,   8.4039,\n",
       "         12.3496,  11.069 ,  13.188 ,  15.6755],\n",
       "       [ 14.6138,  11.5766,  12.7563,  13.5197,   9.8956,   6.7646,\n",
       "          8.8172,  10.4491,  14.5853,  13.942 ]])"
      ]
     },
     "execution_count": 24,
     "metadata": {},
     "output_type": "execute_result"
    }
   ],
   "source": [
    "# 使用 numpy 的等效操作（Equivalent operation）\n",
    "alpha * np.dot(A, B)"
   ]
  },
  {
   "cell_type": "code",
   "execution_count": 25,
   "metadata": {},
   "outputs": [
    {
     "name": "stdout",
     "output_type": "stream",
     "text": [
      "100000 loops, best of 3: 4.5 µs per loop\n",
      "100000 loops, best of 3: 10.5 µs per loop\n"
     ]
    }
   ],
   "source": [
    "%timeit blas.dgemm(alpha, A, B)\n",
    "%timeit alpha * np.dot(A, B)"
   ]
  },
  {
   "cell_type": "markdown",
   "metadata": {},
   "source": [
    "## LAPACK\n",
    "\n",
    "LAPACK 提供的方法要比 BLAS 更高级，可以用于求解线性方程组（simultaneous linear equations），求线性方程组的最小二乘解（least-squares solutions of linear systems of equations），特征值问题（eigenvalue problems），奇异值问题（singular value problems）以及各种矩阵因式分解（matrix factorizations）。 LAPACK 中的大部分方法都利用了 BLAS 中提供的低级方法 。所以 LAPACK 里面的命名规则（naming convention）也都跟 BLAS 相似。LAPACK 的用户指南就是它的官方文档了，可以在下面这个链接里面找到：<http://www.netlib.org/lapack/lug/>.\n",
    "\n",
    "The list of routines avaiable in `scipy.linalg.lapack` are listed at <http://docs.scipy.org/doc/scipy/reference/linalg.lapack.html>"
   ]
  },
  {
   "cell_type": "markdown",
   "metadata": {},
   "source": [
    "### 解决最小二乘估计问题（least squares estimation problem）"
   ]
  },
  {
   "cell_type": "code",
   "execution_count": 26,
   "metadata": {
    "collapsed": true
   },
   "outputs": [],
   "source": [
    "A = np.array([[-0.09,  0.14, -0.46,  0.68,  1.29], \n",
    "              [-1.56,  0.20,  0.29,  1.09,  0.51], \n",
    "              [-1.48, -0.43,  0.89, -0.71, -0.96], \n",
    "              [-1.09,  0.84,  0.77,  2.11, -1.27],\n",
    "              [0.08,   0.55, -1.13,  0.14,  1.74],\n",
    "              [-1.59, -0.72,  1.06,  1.24,  0.34]])\n",
    "b = np.array([ 7.4, 4.2, -8.3, 1.8,  8.6,   2.1]) #.reshape(-1,1)"
   ]
  },
  {
   "cell_type": "code",
   "execution_count": 27,
   "metadata": {
    "collapsed": true
   },
   "outputs": [],
   "source": [
    "# 设置 cond 来反映输入数据的相对精度（relative accuracy of the input data ）\n",
    "v, x, s, rank, work, info = lapack.dgelss(A, b, cond=0.01) "
   ]
  },
  {
   "cell_type": "code",
   "execution_count": 28,
   "metadata": {},
   "outputs": [
    {
     "data": {
      "text/plain": [
       "array([ 0.6344,  0.9699, -1.4403,  3.3678,  3.3992, -0.0035])"
      ]
     },
     "execution_count": 28,
     "metadata": {},
     "output_type": "execute_result"
    }
   ],
   "source": [
    "x # 最小二乘法解（least squeares solution）"
   ]
  },
  {
   "cell_type": "code",
   "execution_count": 29,
   "metadata": {},
   "outputs": [
    {
     "data": {
      "text/plain": [
       "array([  3.9997e+00,   2.9962e+00,   2.0001e+00,   9.9883e-01,   2.4992e-03])"
      ]
     },
     "execution_count": 29,
     "metadata": {},
     "output_type": "execute_result"
    }
   ],
   "source": [
    "s # 矩阵 A 的奇异值（Singular values of A）"
   ]
  },
  {
   "cell_type": "code",
   "execution_count": 30,
   "metadata": {},
   "outputs": [
    {
     "data": {
      "text/plain": [
       "4"
      ]
     },
     "execution_count": 30,
     "metadata": {},
     "output_type": "execute_result"
    }
   ],
   "source": [
    "rank # 矩阵 A 的估计秩（Estimated rank of A）"
   ]
  },
  {
   "cell_type": "markdown",
   "metadata": {},
   "source": [
    "### 使用更方便的 `lstsq` 封装（Using convenient `lstsq` wrapper）"
   ]
  },
  {
   "cell_type": "code",
   "execution_count": 31,
   "metadata": {
    "collapsed": true
   },
   "outputs": [],
   "source": [
    "x, res, rank, s = la.lstsq(A, b, cond=0.01)"
   ]
  },
  {
   "cell_type": "code",
   "execution_count": 32,
   "metadata": {},
   "outputs": [
    {
     "data": {
      "text/plain": [
       "array([ 0.6344,  0.9699, -1.4403,  3.3678,  3.3992])"
      ]
     },
     "execution_count": 32,
     "metadata": {},
     "output_type": "execute_result"
    }
   ],
   "source": [
    "x"
   ]
  },
  {
   "cell_type": "code",
   "execution_count": 33,
   "metadata": {},
   "outputs": [
    {
     "data": {
      "text/plain": [
       "array([  3.9997e+00,   2.9962e+00,   2.0001e+00,   9.9883e-01,   2.4992e-03])"
      ]
     },
     "execution_count": 33,
     "metadata": {},
     "output_type": "execute_result"
    }
   ],
   "source": [
    "s"
   ]
  },
  {
   "cell_type": "code",
   "execution_count": 34,
   "metadata": {},
   "outputs": [
    {
     "data": {
      "text/plain": [
       "4"
      ]
     },
     "execution_count": 34,
     "metadata": {},
     "output_type": "execute_result"
    }
   ],
   "source": [
    "rank"
   ]
  },
  {
   "cell_type": "code",
   "execution_count": 35,
   "metadata": {},
   "outputs": [
    {
     "name": "stdout",
     "output_type": "stream",
     "text": [
      "10000 loops, best of 3: 24.7 µs per loop\n",
      "10000 loops, best of 3: 122 µs per loop\n"
     ]
    }
   ],
   "source": [
    "%timeit lapack.dgelss(A, b, cond=0.01) \n",
    "%timeit la.lstsq(A, b, cond=0.01)"
   ]
  },
  {
   "cell_type": "markdown",
   "metadata": {},
   "source": [
    "### Cholesky 矩阵分解（decomposition）"
   ]
  },
  {
   "cell_type": "code",
   "execution_count": 36,
   "metadata": {
    "collapsed": true
   },
   "outputs": [],
   "source": [
    "x = np.random.multivariate_normal(np.zeros(5), np.eye(5), 100).T\n",
    "s = np.cov(x)"
   ]
  },
  {
   "cell_type": "code",
   "execution_count": 37,
   "metadata": {
    "collapsed": true
   },
   "outputs": [],
   "source": [
    "c, info = lapack.dpotrf(s)"
   ]
  },
  {
   "cell_type": "code",
   "execution_count": 38,
   "metadata": {},
   "outputs": [
    {
     "data": {
      "text/plain": [
       "array([[ 1.0173, -0.1342,  0.3306, -0.0822, -0.0075],\n",
       "       [ 0.    ,  0.9128, -0.0327,  0.0869,  0.1051],\n",
       "       [ 0.    ,  0.    ,  1.0893, -0.0078,  0.0871],\n",
       "       [ 0.    ,  0.    ,  0.    ,  1.039 , -0.0178],\n",
       "       [ 0.    ,  0.    ,  0.    ,  0.    ,  1.0475]])"
      ]
     },
     "execution_count": 38,
     "metadata": {},
     "output_type": "execute_result"
    }
   ],
   "source": [
    "c"
   ]
  },
  {
   "cell_type": "markdown",
   "metadata": {},
   "source": [
    "### 使用更方便的 `cholesky`封装（Using convenient `cholesky` wrapper）"
   ]
  },
  {
   "cell_type": "code",
   "execution_count": 39,
   "metadata": {},
   "outputs": [
    {
     "data": {
      "text/plain": [
       "array([[ 1.0173, -0.1342,  0.3306, -0.0822, -0.0075],\n",
       "       [ 0.    ,  0.9128, -0.0327,  0.0869,  0.1051],\n",
       "       [ 0.    ,  0.    ,  1.0893, -0.0078,  0.0871],\n",
       "       [ 0.    ,  0.    ,  0.    ,  1.039 , -0.0178],\n",
       "       [ 0.    ,  0.    ,  0.    ,  0.    ,  1.0475]])"
      ]
     },
     "execution_count": 39,
     "metadata": {},
     "output_type": "execute_result"
    }
   ],
   "source": [
    "la.cholesky(s)"
   ]
  },
  {
   "cell_type": "code",
   "execution_count": 40,
   "metadata": {},
   "outputs": [
    {
     "name": "stdout",
     "output_type": "stream",
     "text": [
      "100000 loops, best of 3: 3.03 µs per loop\n",
      "10000 loops, best of 3: 43.3 µs per loop\n"
     ]
    }
   ],
   "source": [
    "%timeit lapack.dpotrf(s)\n",
    "%timeit la.cholesky(s)"
   ]
  },
  {
   "cell_type": "code",
   "execution_count": 40,
   "metadata": {
    "collapsed": true
   },
   "outputs": [],
   "source": []
  }
 ],
 "metadata": {
  "kernelspec": {
   "display_name": "Python 3",
   "language": "python",
   "name": "python3"
  },
  "language_info": {
   "codemirror_mode": {
    "name": "ipython",
    "version": 3
   },
   "file_extension": ".py",
   "mimetype": "text/x-python",
   "name": "python",
   "nbconvert_exporter": "python",
   "pygments_lexer": "ipython3",
   "version": "3.6.4"
  },
  "toc": {
   "colors": {
    "hover_highlight": "#DAA520",
    "navigate_num": "#000000",
    "navigate_text": "#333333",
    "running_highlight": "#FF0000",
    "selected_highlight": "#FFD700",
    "sidebar_border": "#EEEEEE",
    "wrapper_background": "#FFFFFF"
   },
   "moveMenuLeft": true,
   "nav_menu": {
    "height": "248px",
    "width": "252px"
   },
   "navigate_menu": true,
   "number_sections": true,
   "sideBar": true,
   "threshold": 4,
   "toc_cell": false,
   "toc_section_display": "block",
   "toc_window_display": false,
   "widenNotebook": false
  }
 },
 "nbformat": 4,
 "nbformat_minor": 1
}
