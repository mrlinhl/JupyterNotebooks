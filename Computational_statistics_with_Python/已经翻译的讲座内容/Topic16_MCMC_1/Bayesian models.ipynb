{
 "cells": [
  {
   "cell_type": "markdown",
   "metadata": {},
   "source": [
    "使用 PyMC3\n",
    "----\n",
    "\n",
    "如果要用 PyMC2, 可以用如下方式安装：\n",
    "```\n",
    "conda install -c pymc pymc\n",
    "```\n",
    "\n",
    "如果要用 PyMC3, 可以用如下方式安装：\n",
    "```\n",
    "pip install git+https://github.com/pymc-devs/pymc\n",
    "```\n",
    "\n",
    "译者注：实际上也完全可以通过 `pip install pymc` 和 `pip install pymc3` 这两种方法来安装 PyMC2 和 PyMC3，我在 macOS High Sierra 上的 Python 3.5.4 和 3.6.3 上面都试过了直接用 pip 来安装，全部成功了。\n",
    "\n",
    "\n",
    "关于这两个模块的更进一步的详细说明可以参考下面的链接：\n",
    "\n",
    "* [使用 PyMC2 进行贝叶斯数据分析（Bayesian data analysis）](http://nbviewer.ipython.org/github/isofer/Bayesian-data-analysis-with-PyMC2/blob/master/PyData2013%20boston.ipynb)\n",
    "* [使用 PyMC3 进行贝叶斯数据分析（Bayesian data analysis）](http://nbviewer.ipython.org/github/twiecki/pymc3_talk/blob/master/bayesian_pymc3.ipynb)\n",
    "\n",
    "* [黑客（Hackers）的贝叶斯方法（Bayesian-Methods）](http://camdavidsonpilon.github.io/Probabilistic-Programming-and-Bayesian-Methods-for-Hackers/)"
   ]
  },
  {
   "cell_type": "code",
   "execution_count": 3,
   "metadata": {},
   "outputs": [],
   "source": [
    "%matplotlib inline\n",
    "import matplotlib.pyplot as plt\n",
    "import numpy as np"
   ]
  },
  {
   "cell_type": "code",
   "execution_count": 4,
   "metadata": {},
   "outputs": [
    {
     "name": "stderr",
     "output_type": "stream",
     "text": [
      "/Users/cycleuser/.pyenv/versions/3.5.4/lib/python3.5/site-packages/statsmodels/compat/pandas.py:56: FutureWarning: The pandas.core.datetools module is deprecated and will be removed in a future version. Please use the pandas.tseries module instead.\n",
      "  from pandas.core import datetools\n",
      "WARNING (theano.configdefaults): install mkl with `conda install mkl-service`: No module named 'mkl'\n"
     ]
    }
   ],
   "source": [
    "from matplotlib import animation\n",
    "import pandas as pd\n",
    "import statsmodels.api as sm\n",
    "import pymc3 as pm\n",
    "\n",
    "import warnings\n",
    "warnings.filterwarnings(\"ignore\")\n",
    "\n",
    "# define invlogit function\n",
    "def invlogit(x):\n",
    "    return pm.exp(x) / (1 + pm.exp(x))"
   ]
  },
  {
   "cell_type": "markdown",
   "metadata": {},
   "source": [
    "### 估计正态分布的均值，Estimating mean of normal distribution\n",
    "\n",
    "\n",
    "先从一个非常简单的例子开始，给定一个集合，设集合中的元素取样自一个 $\\sigma = 1$ 的正态分布中，使用 MCMC 来估计未知参数 $\\mu$。\n",
    "\n",
    "$$\n",
    "X \\sim \\mathcal{N}(\\mu, 1)\n",
    "$$"
   ]
  },
  {
   "cell_type": "code",
   "execution_count": 5,
   "metadata": {},
   "outputs": [
    {
     "name": "stderr",
     "output_type": "stream",
     "text": [
      "logp = -5,152.5, ||grad|| = 1,001.9: 100%|██████████| 5/5 [00:00<00:00, 1893.93it/s]\n",
      "100%|██████████| 1500/1500 [00:00<00:00, 2382.14it/s]\n"
     ]
    }
   ],
   "source": [
    "# generate observed data\n",
    "N = 100\n",
    "_mu = np.array([10])\n",
    "y = np.random.normal(_mu, 1, N)\n",
    "\n",
    "niter = 1000\n",
    "with pm.Model() as model:\n",
    "    # define priors\n",
    "    mu = pm.Flat('mu', shape=_mu.shape)\n",
    "    \n",
    "    # define likelihood\n",
    "    y_obs = pm.Normal('Y_obs', mu=mu, sd=1, observed=y)\n",
    "    \n",
    "    # inference\n",
    "    start = pm.find_MAP()\n",
    "    step = pm.NUTS()\n",
    "    trace = pm.sample(niter, step, start, random_seed=123, progressbar=True)"
   ]
  },
  {
   "cell_type": "code",
   "execution_count": 6,
   "metadata": {},
   "outputs": [
    {
     "ename": "TypeError",
     "evalue": "slice indices must be integers or None or have an __index__ method",
     "output_type": "error",
     "traceback": [
      "\u001b[0;31m---------------------------------------------------------------------------\u001b[0m",
      "\u001b[0;31mTypeError\u001b[0m                                 Traceback (most recent call last)",
      "\u001b[0;32m<ipython-input-6-82b45cbcdd05>\u001b[0m in \u001b[0;36m<module>\u001b[0;34m()\u001b[0m\n\u001b[0;32m----> 1\u001b[0;31m \u001b[0mplt\u001b[0m\u001b[0;34m.\u001b[0m\u001b[0mhist\u001b[0m\u001b[0;34m(\u001b[0m\u001b[0mtrace\u001b[0m\u001b[0;34m[\u001b[0m\u001b[0;34m'mu'\u001b[0m\u001b[0;34m]\u001b[0m\u001b[0;34m[\u001b[0m\u001b[0;34m-\u001b[0m\u001b[0mniter\u001b[0m\u001b[0;34m/\u001b[0m\u001b[0;36m2\u001b[0m\u001b[0;34m:\u001b[0m\u001b[0;34m,\u001b[0m\u001b[0;36m0\u001b[0m\u001b[0;34m]\u001b[0m\u001b[0;34m,\u001b[0m \u001b[0;36m25\u001b[0m\u001b[0;34m,\u001b[0m \u001b[0mhisttype\u001b[0m\u001b[0;34m=\u001b[0m\u001b[0;34m'step'\u001b[0m\u001b[0;34m)\u001b[0m\u001b[0;34m;\u001b[0m\u001b[0;34m\u001b[0m\u001b[0m\n\u001b[0m",
      "\u001b[0;31mTypeError\u001b[0m: slice indices must be integers or None or have an __index__ method"
     ]
    }
   ],
   "source": [
    "plt.hist(trace['mu'][-niter/2:,0], 25, histtype='step');"
   ]
  },
  {
   "cell_type": "markdown",
   "metadata": {},
   "source": [
    "### 估计正态分布的均值和标准差，Estimating mean and standard deviation of normal distribution\n",
    "\n",
    "接下来这个例子更进一步，我们这回连分布的参数 $\\sigma$ 都不知道了。\n",
    "\n",
    "$$\n",
    "X \\sim \\mathcal{N}(\\mu, \\sigma^2)\n",
    "$$"
   ]
  },
  {
   "cell_type": "code",
   "execution_count": null,
   "metadata": {},
   "outputs": [],
   "source": [
    "# generate observed data\n",
    "N = 100\n",
    "_mu = np.array([10])\n",
    "_sigma = np.array([2])\n",
    "y = np.random.normal(_mu, _sigma, N)\n",
    "\n",
    "with pm.Model() as model:\n",
    "    # define priors\n",
    "    mu = pm.Uniform('mu', lower=0, upper=100, shape=_mu.shape)\n",
    "    sigma = pm.Uniform('sigma', lower=0, upper=10, shape=_sigma.shape)\n",
    "    \n",
    "    # define likelihood\n",
    "    y_obs = pm.Normal('Y_obs', mu=mu, sd=sigma, observed=y)\n",
    "    \n",
    "    # inference\n",
    "    start = pm.find_MAP()\n",
    "    step = pm.NUTS()\n",
    "    trace = pm.sample(niter, step, start, random_seed=123, progressbar=True)"
   ]
  },
  {
   "cell_type": "code",
   "execution_count": null,
   "metadata": {},
   "outputs": [],
   "source": [
    "plt.subplot(1,2,1); \n",
    "plt.hist(trace['mu'][-niter/2:,0], 25, histtype='step');\n",
    "plt.subplot(1,2,2); \n",
    "plt.hist(trace['sigma'][-niter/2:,0], 25, histtype='step');"
   ]
  },
  {
   "cell_type": "markdown",
   "metadata": {},
   "source": [
    "### 估计一个线性回归模型的参数，Estimating parameter of a linear regreession model\n",
    "\n",
    "\n",
    "\n",
    "接下来演示的是使用一个简单的通用线性模型来估计回归参数。其中，设：\n",
    "\n",
    "$$\n",
    "y \\sim ax + b\n",
    "$$\n",
    "\n",
    "以及：\n",
    "\n",
    "$$\n",
    "logti(y) \\sim ax + b\n",
    "$$"
   ]
  },
  {
   "cell_type": "markdown",
   "metadata": {},
   "source": [
    "#### 线性模型（Linear model）\n",
    "\n",
    "接下来我们可以将线性模型  $$y = ax + b + \\epsilon$$ 表示成从下面这个概率分布中进行的一个抽样：\n",
    "\n",
    "$$\n",
    "y \\sim \\mathcal{N}(ax + b, \\sigma^2)\n",
    "$$\n",
    "\n",
    "或者使用更熟悉的统计矩阵来表述：\n",
    "$$\n",
    "y \\sim \\mathcal{N}(X\\beta, \\sigma^2)\n",
    "$$\n",
    "\n",
    "\n",
    "这时候就可以用 pymc3 来估计参数 $a$, $b$ 和 $\\sigma$ 了。"
   ]
  },
  {
   "cell_type": "code",
   "execution_count": null,
   "metadata": {},
   "outputs": [],
   "source": [
    "import os\n",
    "os.environ['DYLD_FALLBACK_LIBRARY_PATH']='/Users/cliburn/anaconda/lib'"
   ]
  },
  {
   "cell_type": "code",
   "execution_count": null,
   "metadata": {},
   "outputs": [],
   "source": [
    "# observed data\n",
    "n = 11\n",
    "a = 6\n",
    "b = 2\n",
    "x = np.linspace(0, 1, n)\n",
    "y = a*x + b + np.random.randn(n)\n",
    "data = pd.DataFrame(np.array([x, y]).T, columns=['x', 'y'])\n",
    "\n",
    "with pm.Model() as model:\n",
    "    # define likelihood\n",
    "    pm.glm.glm('y ~ x', data, \n",
    "               priors={'Intercept': pm.Uniform.dist(-20, 20), 'x': pm.Uniform.dist(-20, 20)})\n",
    "    \n",
    "    # inference\n",
    "    step = pm.NUTS()\n",
    "    trace = pm.sample(niter, step, random_seed=123, progressbar=True)"
   ]
  },
  {
   "cell_type": "code",
   "execution_count": null,
   "metadata": {},
   "outputs": [],
   "source": [
    "pm.summary(trace)"
   ]
  },
  {
   "cell_type": "code",
   "execution_count": null,
   "metadata": {},
   "outputs": [],
   "source": [
    "pm.traceplot(trace);"
   ]
  },
  {
   "cell_type": "code",
   "execution_count": null,
   "metadata": {},
   "outputs": [],
   "source": [
    "plt.scatter(x, y)\n",
    "pm.glm.plot_posterior_predictive(trace, samples=50, eval=x)"
   ]
  },
  {
   "cell_type": "markdown",
   "metadata": {},
   "source": [
    "#### 逻辑回归模型，Logistic model"
   ]
  },
  {
   "cell_type": "code",
   "execution_count": null,
   "metadata": {},
   "outputs": [],
   "source": [
    "# observed data\n",
    "df = pd.read_csv('https://raw.githubusercontent.com/pymc-devs/pymc/master/pymc/examples/data/HtWt.csv')\n",
    "df.head(10)"
   ]
  },
  {
   "cell_type": "code",
   "execution_count": null,
   "metadata": {},
   "outputs": [],
   "source": [
    "niter = 1000\n",
    "with pm.Model() as model:\n",
    "    # define likelihood\n",
    "    family = pm.glm.families.Binomial()\n",
    "    pm.glm.glm('male ~ height + weight', df, family=family) \n",
    "    \n",
    "    # inference\n",
    "    step = pm.NUTS() \n",
    "    trace = pm.sample(niter, step, random_seed=123, progressbar=True)"
   ]
  },
  {
   "cell_type": "code",
   "execution_count": null,
   "metadata": {},
   "outputs": [],
   "source": [
    "df_trace = pm.trace_to_dataframe(trace)\n",
    "pd.scatter_matrix(df_trace[-1000:], diagonal='kde');"
   ]
  },
  {
   "cell_type": "code",
   "execution_count": null,
   "metadata": {},
   "outputs": [],
   "source": [
    "pm.summary(trace);"
   ]
  },
  {
   "cell_type": "code",
   "execution_count": null,
   "metadata": {},
   "outputs": [],
   "source": [
    "import seaborn as sn\n",
    "sn.kdeplot(trace['height'], trace['weight'])\n",
    "matplotlib.rcdefaults()\n",
    "matplotlib.rcParams.update({'font.size': 10, 'figure.figsize': (6.0, 4.0), \n",
    "                            'figure.facecolor': 'white', 'savefig.dpi': 72, \n",
    "                            'figure.subplot.bottom': 0.125, \n",
    "                            'figure.edgecolor': 'white'})"
   ]
  },
  {
   "cell_type": "markdown",
   "metadata": {},
   "source": [
    "We can use the logistic regression results to classify subjects as male or female based on their height and weight, using 0.5 as a cutoff, as shown in the plot below. \n",
    "\n",
    "\n",
    "接下来我们可以使用逻辑回归的结果，跟根据身高体重来将对象分类，判断是男还是女，使用 0.5 作为临界值（cutoff），如下图表所示：\n",
    "\n",
    "\n",
    "Green = true positive male,\n",
    "yellow = true positive female, \n",
    "red halo = misclassification. \n",
    "Blue line shows the 0.5 cutoff.\n",
    "\n",
    "\n"
   ]
  },
  {
   "cell_type": "code",
   "execution_count": null,
   "metadata": {},
   "outputs": [],
   "source": [
    "# find posterior mean from last 50% of samples\n",
    "intercept, height, weight = df_trace[:-niter/2].mean(0)\n",
    "\n",
    "def predict(w, h, height=height, weight=weight):\n",
    "    \"\"\"Predict gender given weight (w) and height (h) values.\"\"\"\n",
    "    v = intercept + height*h + weight*w\n",
    "    return np.exp(v)/(1+np.exp(v))\n",
    "\n",
    "# calculate predictions on grid\n",
    "xmin, xmax = df_trace.weight.min(), df_trace.weight.max()\n",
    "ymin, ymax = df_trace.height.min(), df_trace.height.max()\n",
    "xs = np.linspace(df.weight.min(), df.weight.max(), 100)\n",
    "ys = np.linspace(df.height.min(), df.height.max(), 100)\n",
    "X, Y = np.meshgrid(xs, ys)\n",
    "Z = predict(X, Y)\n",
    "\n",
    "plt.figure(figsize=(6,6))\n",
    "\n",
    "# plot 0.5 contour line - classify as male if above this line\n",
    "plt.contour(X, Y, Z, levels=[0.5])\n",
    "\n",
    "# classify all subjects\n",
    "colors = ['lime' if i else 'yellow' for i in df.male]\n",
    "ps = predict(df.weight, df.height)\n",
    "errs = ((ps < 0.5) & df.male) |((ps >= 0.5) & (1-df.male))\n",
    "plt.scatter(df.weight[errs], df.height[errs], facecolors='red', s=150)\n",
    "plt.scatter(df.weight, df.height, facecolors=colors, edgecolors='k', s=50, alpha=1);\n",
    "plt.xlabel('Weight', fontsize=16)\n",
    "plt.ylabel('Height', fontsize=16)\n",
    "plt.title('Gender classification by weight and height', fontsize=16)\n",
    "plt.tight_layout()"
   ]
  },
  {
   "cell_type": "markdown",
   "metadata": {},
   "source": [
    "### 估计一个简单继承模型的参数，Estimating parameters of a simple hierarchical model\n",
    "\n",
    "Gelman's book has an example where the dose of a drug may be affected to the number of rat deaths in an experiment.\n",
    "\n",
    "Gelman的书中有一个例子，说的是用药剂量可能会受到实验中大鼠死亡数量的影响。\n",
    "\n",
    "| 剂量 Dose (log g/ml) | # 实验大鼠数目 | # 死亡大鼠数目 |\n",
    "|-----------------|--------|----------|\n",
    "| -0.896          | 5      | 0        |\n",
    "| -0.296          | 5      | 1        |\n",
    "| -0.053          | 5      | 3        |\n",
    "| 0.727           | 5      | 5        |\n",
    "\n",
    "We will model the number of deaths as a random sample from a binomial distribution, where $n$ is the number of rats and $p$ the probabbility of a rat dying. We are given $n = 5$, but we believve that $p$ may be related to the drug dose $x$. As $x$ increases the number of rats dying seems to increase, and since $p$ is a probabiliyt, we use the following model:\n",
    "\n",
    "\n",
    "我们建立一个模型，把死亡数目当做一个服从二项分布（binomial distribution）的随机样本，其中 $n$ 表示实验中大鼠的数目，而 $p$ 表示单个大鼠死亡的概率。假如给定了 $n = 5$，设想我们认为死亡概率 $p$ 与用药剂量 $x$ 有关。 随着 $x$ 增长，大鼠的死亡数目也在增长，由于 $p$ 是一个概率值，所以就建立起来了下面这样的数学模型：\n",
    "\n",
    "\n",
    "$$\n",
    "y \\sim \\text{Bin}(n, p) \\\\\n",
    "\\text{logit}(p) = \\alpha + \\beta x \\\\\n",
    "\\alpha \\sim \\mathcal{N}(0, 5) \\\\\n",
    "\\beta \\sim \\mathcal{U}(-\\infty, \\infty)\n",
    "$$\n",
    "\n",
    "\n",
    "其中，我们将 $\\alpha$ 和 $\\beta$ 设置为某个模糊的先验值（vague priors），这两个是逻辑回归模型（logistic model）的参数（parameters）。\n",
    "\n"
   ]
  },
  {
   "cell_type": "code",
   "execution_count": null,
   "metadata": {},
   "outputs": [],
   "source": [
    "# observed data\n",
    "n = 5 * np.ones(4)\n",
    "x = np.array([-0.896, -0.296, -0.053, 0.727])\n",
    "y = np.array([0, 1, 3, 5])\n",
    "\n",
    "with pm.Model() as model:\n",
    "    # define priors\n",
    "    alpha = pm.Normal('alpha', mu=0, sd=5)\n",
    "    beta = pm.Flat('beta')\n",
    "    \n",
    "    # define likelihood\n",
    "    p = invlogit(alpha + beta*x)\n",
    "    y_obs = pm.Binomial('y_obs', n=n, p=p, observed=y)\n",
    "    \n",
    "    # inference\n",
    "    start = pm.find_MAP()\n",
    "    step = pm.NUTS()\n",
    "    trace = pm.sample(niter, step, start, random_seed=123, progressbar=True)"
   ]
  },
  {
   "cell_type": "code",
   "execution_count": null,
   "metadata": {},
   "outputs": [],
   "source": [
    "plt.subplot(2,2,1); \n",
    "plt.hist(trace['alpha'][-niter/2:], 25, histtype='step');\n",
    "plt.subplot(2,2,2); \n",
    "plt.hist(trace['beta'][-niter/2:], 25, histtype='step');\n",
    "c = plt.cm.get_cmap(\"jet\", niter)\n",
    "cvals = c(np.arange(niter))\n",
    "plt.subplot(2,2,3); \n",
    "plt.plot(trace['alpha'][::10])\n",
    "plt.subplot(2,2,4); \n",
    "plt.plot(trace['beta'][::10]);"
   ]
  },
  {
   "cell_type": "markdown",
   "metadata": {},
   "source": [
    "### 动画演示，Animation example\n",
    "\n",
    "参考 [Animating MCMC with PyMC3 and Matplotlib](https://github.com/twiecki/WhileMyMCMCGentlySamples/blob/master/content/downloads/notebooks/sample_animation.ipynb)\n"
   ]
  },
  {
   "cell_type": "code",
   "execution_count": null,
   "metadata": {},
   "outputs": [],
   "source": [
    "from JSAnimation import IPython_display"
   ]
  },
  {
   "cell_type": "code",
   "execution_count": null,
   "metadata": {},
   "outputs": [],
   "source": [
    "# Generate some data\n",
    "np.random.seed(124)\n",
    "size = 50\n",
    "true_intercept = 1\n",
    "true_slope = 2\n",
    "\n",
    "x = np.linspace(0, 1, size)\n",
    "y = true_intercept + x*true_slope + np.random.normal(scale=.5, size=size)\n",
    "\n",
    "data = dict(x=x, y=y)"
   ]
  },
  {
   "cell_type": "code",
   "execution_count": null,
   "metadata": {},
   "outputs": [],
   "source": [
    "# Quickly hacked plotting code\n",
    "samples = 600\n",
    "fig = plt.figure(figsize=(6, 6))\n",
    "i_width = (true_intercept-.7, true_intercept+.7)\n",
    "s_width = (true_slope-.7, true_slope+.7)\n",
    "samples_width = (0, samples)\n",
    "ax1 = fig.add_subplot(221, xlim=i_width, ylim=samples_width)\n",
    "ax2 = fig.add_subplot(224, xlim=samples_width, ylim=s_width)\n",
    "ax3 = fig.add_subplot(223, xlim=i_width, ylim=s_width,\n",
    "                      xlabel='intercept',\n",
    "                      ylabel='slope')\n",
    "fig.subplots_adjust(wspace=0.0, hspace=0.0)\n",
    "line1, = ax1.plot([], [], lw=1)\n",
    "line2, = ax2.plot([], [], lw=1)\n",
    "line3, = ax3.plot([], [], 'o', lw=2, alpha=.1)\n",
    "line4, = ax3.plot([], [], lw=1, alpha=.3)\n",
    "line5, = ax3.plot([], [], 'k', lw=1)\n",
    "line6, = ax3.plot([], [], 'k', lw=1)\n",
    "ax1.set_xticklabels([])\n",
    "ax2.set_yticklabels([])\n",
    "#path = plt.scatter([], [])\n",
    "lines = [line1, line2, line3, line4, line5, line6]\n",
    "\n",
    "def init():\n",
    "    for line in lines:\n",
    "        line.set_data([], [])\n",
    "    return lines\n",
    "\n",
    "def animate(i):\n",
    "    with model:\n",
    "        if i == samples * .75:\n",
    "            for j in range(500): iter_sample.next() \n",
    "        trace = iter_sample.next()\n",
    "    line1.set_data(trace['Intercept'][::-1], range(len(trace['Intercept'])))\n",
    "    line2.set_data(range(len(trace['x'])), trace['x'][::-1])\n",
    "    line3.set_data(trace['Intercept'], trace['x'])\n",
    "    line4.set_data(trace['Intercept'], trace['x'])\n",
    "    intercept = trace['Intercept'][-1]\n",
    "    x = trace['x'][-1]\n",
    "    line5.set_data([intercept, intercept], [x, s_width[1]])\n",
    "    line6.set_data([intercept, i_width[1]], [x, x])\n",
    "    return lines"
   ]
  },
  {
   "cell_type": "code",
   "execution_count": null,
   "metadata": {},
   "outputs": [],
   "source": [
    "with pm.Model() as model:\n",
    "    pm.glm.glm('y ~ x', data)\n",
    "    step = pm.Metropolis()\n",
    "    iter_sample = pm.iter_sample(samples+1000, step)\n",
    "\n",
    "animation.FuncAnimation(fig, animate, init_func=init,\n",
    "                        frames=samples, interval=5, blit=True)"
   ]
  },
  {
   "cell_type": "markdown",
   "metadata": {},
   "source": [
    "使用 PyStan\n",
    "----\n",
    "安装方法：\n",
    "\n",
    "```\n",
    " pip install pystan\n",
    "```"
   ]
  },
  {
   "cell_type": "code",
   "execution_count": null,
   "metadata": {},
   "outputs": [],
   "source": []
  },
  {
   "cell_type": "markdown",
   "metadata": {},
   "source": [
    "使用 Emcee\n",
    "----\n",
    "安装方法\n",
    "```\n",
    " pip install emcee\n",
    "```"
   ]
  },
  {
   "cell_type": "code",
   "execution_count": null,
   "metadata": {},
   "outputs": [],
   "source": [
    "%load_ext version_information\n",
    "\n",
    "%version_information pymc"
   ]
  },
  {
   "cell_type": "code",
   "execution_count": null,
   "metadata": {},
   "outputs": [],
   "source": []
  }
 ],
 "metadata": {
  "kernelspec": {
   "display_name": "Python 3",
   "language": "python",
   "name": "python3"
  },
  "language_info": {
   "codemirror_mode": {
    "name": "ipython",
    "version": 3
   },
   "file_extension": ".py",
   "mimetype": "text/x-python",
   "name": "python",
   "nbconvert_exporter": "python",
   "pygments_lexer": "ipython3",
   "version": "3.5.4"
  }
 },
 "nbformat": 4,
 "nbformat_minor": 1
}
