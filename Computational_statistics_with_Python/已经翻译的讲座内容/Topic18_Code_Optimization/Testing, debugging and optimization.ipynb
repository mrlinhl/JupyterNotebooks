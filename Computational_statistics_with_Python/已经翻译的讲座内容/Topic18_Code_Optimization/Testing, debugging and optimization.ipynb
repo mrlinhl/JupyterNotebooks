{
 "cells": [
  {
   "cell_type": "markdown",
   "metadata": {},
   "source": [
    "测试，调试，优化（Testing, debugging and optimization）\n",
    "===="
   ]
  },
  {
   "cell_type": "code",
   "execution_count": null,
   "metadata": {},
   "outputs": [],
   "source": [
    "%matplotlib inline\n",
    "import numpy as np\n",
    "import matplotlib.pyplot as plt"
   ]
  },
  {
   "cell_type": "markdown",
   "metadata": {},
   "source": [
    "防御性编程（Defensive programming）\n",
    "----\n",
    "\n",
    "几乎在每一个编程问题中，都有下列的一系列小目标:\n",
    "\n",
    "1. 能够运行（Make it run）\n",
    "2. 功能正确（Make it right）\n",
    "3. 运行快速（Make it fast）\n",
    "\n",
    "测试、调试、优化，就是针对上面这些目标而采取的一系列策略和战术。"
   ]
  },
  {
   "cell_type": "markdown",
   "metadata": {},
   "source": [
    "测试（Testing）\n",
    "----\n",
    "\n",
    "大多数理性的人都会认同，测试你的代码能够给出正确运行结果是好事情。不过如果你的代码没有针对“可测试性（testability）”来进行设计，那你就会发现不知道从何下手进行测试。一般来说，可测试的代码包含一系列类或函数，这些类或者函数都需要时妥善定义的孤立角色，要保证对应输入之后给出的输出结果是可预测的。当然，如果函数里面用到随机变量了，可预测输出的定义就不太好实现了；以后再讲这种复杂情况。\n",
    "给定某些定义完善的函数，我们可以用*单位测试（unit tests）*来确保其行为可被预测。要写这种可测试的函数，一种可用的策略是采取“*自上而下的top-down*”的程序设计来确定可测试的函数，然后利用*测试驱动开发（test-driven developemnt）*的方式来同时进行函数的编写和测试。\n",
    "\n",
    "除了能让你晚上安心睡觉不纠结之外，对代码库进行一系列测试还是记录文档的好方法，可以帮你记录下写完的那些函数都要如何调用。而且很有意思的是，花时间来写测试代码，能够帮你在后续调试的时候节省很多时间，而且随着你的代码规模越来越大，在测试上投入更多时间会越来越划算。另外，测试驱动开发的这种模式还有一个好处，就是设立了一系列的小目标，提供了对程序运行的反馈。还有一个好处就是可测试的代码通常都更加易于阅读，因为函数往往都很小，并且都有明确的用途。\n",
    "\n",
    "说到了可读性，那就建议你阅读一下 [PEP 8](https://www.python.org/dev/peps/pep-0008/)。尤其是雷和函数，应该一直有字符串文档`doc-string` 来解释他们的角色用途，输入输出等等。要记得，一个好的库可能只需要写一次，但可能会被阅读很多次。别太纠结于注释，建议你在类和函数字符串文档之外再使用注释。建议多使用有意义的变量名和函数名，这样往往能让代码本身就有文档的效果。例如，不要使用 f(),g() 这样的函数，给这些函数取名字的时候要包含有符合其用途的意义在里面，例如div(),grad(),curl()等等。多想想常识，f(), g()和 h() 这些函数名字更适合用于那些一次性的任意函数的命名上面。\n",
    "\n"
   ]
  },
  {
   "cell_type": "markdown",
   "metadata": {},
   "source": [
    "### 自上而下（Top-down design）\n",
    "\n",
    "构建一系列可测试的函数，在实践中可以采取自上而下的设计，使用最初由 Kent Beck 所描述的“魔法函数（magic functions）”。这种做法也是遵循了*分治法（divide-and-conquer）*的策略，后文我们会多次遇到分治法。现在假设你要写一个函数来解决一个小问题，如果你能够使用一个很神奇的链接库，其中的库函数可以解决任意的问题，但就是不能解决你要面对的这个问题，你能够用一系列的小函数集合组成一个新函数来完成这个任务么？然后就针对更小的魔法函数重复进行这样的过程，直到你得到了足够简单的代码能够实现为止。这时候就切换到测试驱动开发模式，来编写这个非常小的函数。\n",
    "\n",
    "\n",
    "一定要注意的是，在进行编码开发之前，先要深思熟虑，总是很有用处的。例如，你可能第一想法是使用一个神经网络来解决一个分类问题。在你花费时间来着手创建爱你一个神经网络之前，先想想是不是有可能有其他方法也能解决问题，会不会还更好，比如使用图或者网络算法等等。另外要注意的就是，不要重新发明轮子，如果有一些现成的程序，经过了测试，可读性也不错，而且还在维护状态，就应该直接用。当然也别走极端到全部都去网上搜索然后复制粘贴一大堆代码，而你自己可能还不一定很理解，质量也不好说，这样解决问题的思路可是不太靠谱的，强烈不建议你真么做，因为长久考虑，这种做法绝对给你带来灾难。\n",
    "\n",
    "\n",
    "\n",
    "\n",
    "\n"
   ]
  },
  {
   "cell_type": "markdown",
   "metadata": {},
   "source": [
    "### Test-driven development"
   ]
  },
  {
   "cell_type": "code",
   "execution_count": null,
   "metadata": {},
   "outputs": [],
   "source": []
  },
  {
   "cell_type": "markdown",
   "metadata": {},
   "source": [
    "Debugging\n",
    "----"
   ]
  },
  {
   "cell_type": "code",
   "execution_count": null,
   "metadata": {},
   "outputs": [],
   "source": []
  },
  {
   "cell_type": "markdown",
   "metadata": {},
   "source": [
    "Optimization\n",
    "----"
   ]
  },
  {
   "cell_type": "code",
   "execution_count": 12,
   "metadata": {},
   "outputs": [],
   "source": [
    "timeit?"
   ]
  },
  {
   "cell_type": "code",
   "execution_count": null,
   "metadata": {},
   "outputs": [],
   "source": []
  }
 ],
 "metadata": {
  "kernelspec": {
   "display_name": "Python 3",
   "language": "python",
   "name": "python3"
  },
  "language_info": {
   "codemirror_mode": {
    "name": "ipython",
    "version": 3
   },
   "file_extension": ".py",
   "mimetype": "text/x-python",
   "name": "python",
   "nbconvert_exporter": "python",
   "pygments_lexer": "ipython3",
   "version": "3.5.4"
  }
 },
 "nbformat": 4,
 "nbformat_minor": 1
}
