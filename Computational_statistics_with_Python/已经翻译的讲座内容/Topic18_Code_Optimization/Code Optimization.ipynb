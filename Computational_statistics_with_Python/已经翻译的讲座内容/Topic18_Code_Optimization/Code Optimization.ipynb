{
 "cells": [
  {
   "cell_type": "markdown",
   "metadata": {},
   "source": [
    "# python的代码优化"
   ]
  },
  {
   "cell_type": "code",
   "execution_count": 2,
   "metadata": {
    "collapsed": false
   },
   "outputs": [],
   "source": [
    "%matplotlib inline\n",
    "import matplotlib.pyplot as plt\n",
    "import numpy as np"
   ]
  },
  {
   "cell_type": "markdown",
   "metadata": {},
   "source": [
    "## 基础篇"
   ]
  },
  {
   "cell_type": "markdown",
   "metadata": {},
   "source": [
    "记住\"不成熟的代码优化是万恶之源\" - Don Knuth\n",
    "\n",
    "安装配置工具:\n",
    "```bash\n",
    "pip install --pre line-profiler\n",
    "pip install psutil\n",
    "pip install memory_profiler\n",
    "```\n",
    "\n",
    "参考文献:\n",
    "\n",
    "1. <http://scipy-lectures.github.com/advanced/optimizing/index.html>\n",
    "2. <http://pynash.org/2013/03/06/timing-and-profiling.html>"
   ]
  },
  {
   "cell_type": "markdown",
   "metadata": {},
   "source": [
    "给代码计时\n",
    "----"
   ]
  },
  {
   "cell_type": "code",
   "execution_count": 2,
   "metadata": {
    "collapsed": false
   },
   "outputs": [
    {
     "data": {
      "text/plain": [
       "1.0054981708526611"
      ]
     },
     "execution_count": 2,
     "metadata": {},
     "output_type": "execute_result"
    }
   ],
   "source": [
    "import time\n",
    "import timeit\n",
    "\n",
    "def f(nsec=1.0):\n",
    "    \"\"\"让函数睡眠nsec秒.\"\"\"\n",
    "    time.sleep(nsec) \n",
    "    \n",
    "start = timeit.default_timer()\n",
    "f()\n",
    "elapsed = timeit.default_timer() - start\n",
    "elapsed"
   ]
  },
  {
   "cell_type": "code",
   "execution_count": 3,
   "metadata": {
    "collapsed": false
   },
   "outputs": [],
   "source": [
    "# 现在我们为了方便，我们用装饰器来实现此功能\n",
    "\n",
    "def process_time(f, *args, **kwargs):\n",
    "    def func(*args, **kwargs):\n",
    "        import timeit\n",
    "        start = timeit.default_timer()\n",
    "        f(*args, **kwargs)\n",
    "        print timeit.default_timer() - start\n",
    "    return func"
   ]
  },
  {
   "cell_type": "code",
   "execution_count": 4,
   "metadata": {
    "collapsed": false
   },
   "outputs": [],
   "source": [
    "@process_time\n",
    "def f1(nsec):\n",
    "    \"\"\"让函数睡眠nsec秒.\"\"\"\n",
    "    time.sleep(nsec)"
   ]
  },
  {
   "cell_type": "code",
   "execution_count": 5,
   "metadata": {
    "collapsed": false
   },
   "outputs": [
    {
     "name": "stdout",
     "output_type": "stream",
     "text": [
      "3.00531601906\n"
     ]
    }
   ],
   "source": [
    "f1(3.0)"
   ]
  },
  {
   "cell_type": "code",
   "execution_count": 6,
   "metadata": {
    "collapsed": false
   },
   "outputs": [],
   "source": [
    "# 在ipython notebook里, 我们可以使用内置函数timeit"
   ]
  },
  {
   "cell_type": "code",
   "execution_count": 7,
   "metadata": {
    "collapsed": false
   },
   "outputs": [
    {
     "name": "stdout",
     "output_type": "stream",
     "text": [
      "1 loop, best of 3: 1 s per loop\n"
     ]
    }
   ],
   "source": [
    "%timeit f()"
   ]
  },
  {
   "cell_type": "markdown",
   "metadata": {},
   "source": [
    "### 给脚本里的每一个函数计时"
   ]
  },
  {
   "cell_type": "code",
   "execution_count": 8,
   "metadata": {
    "collapsed": false
   },
   "outputs": [
    {
     "name": "stdout",
     "output_type": "stream",
     "text": [
      " "
     ]
    }
   ],
   "source": [
    "def f2():\n",
    "    time.sleep(2)\n",
    "\n",
    "def f3():\n",
    "    time.sleep(3)\n",
    "\n",
    "def f5():\n",
    "    f2()\n",
    "    f3()\n",
    "    \n",
    "%prun f5()"
   ]
  },
  {
   "cell_type": "markdown",
   "metadata": {},
   "source": [
    "### 检测内存使用情况"
   ]
  },
  {
   "cell_type": "code",
   "execution_count": 9,
   "metadata": {
    "collapsed": false
   },
   "outputs": [],
   "source": [
    "%load_ext memory_profiler"
   ]
  },
  {
   "cell_type": "code",
   "execution_count": 10,
   "metadata": {
    "collapsed": false
   },
   "outputs": [
    {
     "name": "stdout",
     "output_type": "stream",
     "text": [
      "Writing foo.py\n"
     ]
    }
   ],
   "source": [
    "%%file foo.py\n",
    "\n",
    "def foo(n):\n",
    "    phrase = 'repeat me'\n",
    "    pmul = phrase * n\n",
    "    pjoi = ''.join([phrase for x in xrange(n)])\n",
    "    pinc = ''\n",
    "    for x in xrange(n):\n",
    "        pinc += phrase\n",
    "    del pmul, pjoi, pinc"
   ]
  },
  {
   "cell_type": "code",
   "execution_count": 11,
   "metadata": {
    "collapsed": false
   },
   "outputs": [
    {
     "name": "stdout",
     "output_type": "stream",
     "text": [
      "('',)\n"
     ]
    }
   ],
   "source": [
    "# mprun 需要代码在文件里\n",
    "# 在ipython的交互界面里并不工作\n",
    "\n",
    "from foo import foo\n",
    "\n",
    "%mprun -f foo foo(100000)"
   ]
  },
  {
   "cell_type": "code",
   "execution_count": 12,
   "metadata": {
    "collapsed": false
   },
   "outputs": [
    {
     "name": "stdout",
     "output_type": "stream",
     "text": [
      "peak memory: 141.58 MiB, increment: 58.23 MiB\n"
     ]
    }
   ],
   "source": [
    "# 但是, memit 可以用作用于交互函数\n",
    "# 不像mprun，可以给出逐渐的内存使用分析\n",
    "# memit给出总共的内存使用情况\n",
    "\n",
    "def gobble(n):\n",
    "    x = [i*i for i in range(n)]\n",
    "    \n",
    "%memit -r 3 gobble(1000000)"
   ]
  },
  {
   "cell_type": "markdown",
   "metadata": {},
   "source": [
    "## 尝试可能的优化顺序"
   ]
  },
  {
   "cell_type": "markdown",
   "metadata": {},
   "source": [
    "- 合理的数据结构（Appropriate data structures）\n",
    "- 合理的算法（Appropriate algorithms）\n",
    "- 缓存化，记忆化和动态规划（Caching, memoization and dynamic programming）\n",
    "- 使用python的语言风格（Python-specific idioms）\n",
    "- 向量化（Vectorization）\n",
    "- 使用本机代码 (JIT, Cython, wrappers)\n",
    "- 简单并行化 (IPython parallel, multiprocessing)\n",
    "- 使用MPI\n",
    "- 大规模并行编程(Massively parallel programming)\n",
    "- 使用Map-reduce\n",
    "- 使用云计算资源(cloud computing resoruces)"
   ]
  },
  {
   "cell_type": "markdown",
   "metadata": {},
   "source": [
    "## 合理的数据结构"
   ]
  },
  {
   "cell_type": "code",
   "execution_count": 14,
   "metadata": {
    "collapsed": false
   },
   "outputs": [
    {
     "name": "stdout",
     "output_type": "stream",
     "text": [
      "1000 loops, best of 3: 852 µs per loop\n",
      "100000 loops, best of 3: 17.7 µs per loop\n"
     ]
    }
   ],
   "source": [
    "\"\"\"查找xs和ys中的独特共有元素. 展示set数据结构的使用.\"\"\"\n",
    "\n",
    "def common1(xs, ys):\n",
    "    \"\"\"使用lists.\"\"\"\n",
    "    zs = set([])\n",
    "    for x in xs:\n",
    "        for y in ys:\n",
    "            if x==y:\n",
    "                zs.add(x)\n",
    "    return zs\n",
    "\n",
    "def common2(xs, ys):\n",
    "    \"\"\"使用sets.\"\"\"\n",
    "    return set(xs) & set(ys)\n",
    "\n",
    "def main():\n",
    "    n = 5000\n",
    "    xs = npr.randint(1, 100, n)\n",
    "    ys = npr.randint(50, 150, n)\n",
    "    \n",
    "    z1 = common1(xs, ys)\n",
    "    z2 = common2(xs, ys)\n",
    "    \n",
    "    assert(z1 == z2)\n",
    "\n",
    "xs = np.random.randint(0, 1000, 100)\n",
    "ys = np.random.randint(0, 1000, 100)\n",
    "%timeit common1(xs, ys)\n",
    "%timeit common2(xs, ys)"
   ]
  },
  {
   "cell_type": "code",
   "execution_count": 15,
   "metadata": {
    "collapsed": false
   },
   "outputs": [
    {
     "name": "stdout",
     "output_type": "stream",
     "text": [
      "1 loop, best of 3: 2.19 s per loop\n",
      "1000 loops, best of 3: 817 µs per loop\n"
     ]
    }
   ],
   "source": [
    "\"\"\"从字典的关键字中查找值. 展现在字典查找中的细微错误.\"\"\"\n",
    "\n",
    "adict = dict(zip(np.arange(100000), np.random.randint(0,10,10000)))\n",
    "\n",
    "def search1(adict, targets):\n",
    "    \"\"\"使用一个list.\"\"\"\n",
    "    return [adict[t] for t in targets if t in adict.keys()]\n",
    "\n",
    "def search2(adict, targets):\n",
    "    \"\"\"使用一个dict.\"\"\"\n",
    "    return [adict[t] for t in targets if t in adict]\n",
    "\n",
    "targets = np.random.randint(0, 1000000, 10000)\n",
    "%timeit search1(adict, targets)\n",
    "%timeit search2(adict, targets)"
   ]
  },
  {
   "cell_type": "code",
   "execution_count": 7,
   "metadata": {
    "collapsed": false
   },
   "outputs": [
    {
     "name": "stdout",
     "output_type": "stream",
     "text": [
      "1 loop, best of 3: 194 ms per loop\n",
      "100 loops, best of 3: 2.75 ms per loop\n"
     ]
    }
   ],
   "source": [
    "\"\"\"在每次插入一项的列表中找到最小值. 展示优先队列数据结构的使用.\"\"\"\n",
    "\n",
    "from heapq import heappushpop, heapify\n",
    "\n",
    "def f1(alist, entries):\n",
    "    \"\"\"Using repeated sorts.\"\"\"\n",
    "    zs = []\n",
    "    for entry in entries:\n",
    "        alist.append(entry)\n",
    "        alist.sort(reverse=True)\n",
    "        zs.append(alist.pop())\n",
    "    return zs\n",
    "\n",
    "def f2(alist, entries):\n",
    "    \"\"\"Using a priority queue.\"\"\"\n",
    "    heapify(alist)\n",
    "    zs = []\n",
    "    for entry in entries:\n",
    "        zs.append(heappushpop(alist, entry))\n",
    "    return zs\n",
    "\n",
    "alist = list(np.random.randint(1000, 100000, 1000))\n",
    "blist = alist[:]\n",
    "entries = np.random.randint(1, 10000, 10000)\n",
    "    \n",
    "%timeit f1(alist, entries)\n",
    "%timeit f2(blist, entries)    "
   ]
  },
  {
   "cell_type": "markdown",
   "metadata": {},
   "source": [
    "## 合理的算法"
   ]
  },
  {
   "cell_type": "code",
   "execution_count": 8,
   "metadata": {
    "collapsed": false
   },
   "outputs": [
    {
     "name": "stdout",
     "output_type": "stream",
     "text": [
      "1 loop, best of 3: 209 ms per loop\n",
      "100 loops, best of 3: 2.02 ms per loop\n"
     ]
    }
   ],
   "source": [
    "\"\"\"用穷举搜索和动态规划解决子集和问题.\"\"\"\n",
    "\n",
    "import itertools\n",
    "\n",
    "def knapsack1(size, values):\n",
    "    \"\"\"使用穷举搜索.\"\"\"\n",
    "    n = len(values)\n",
    "    if size > np.sum(values):\n",
    "        return False\n",
    "    for i in range(1, n):\n",
    "        for group in itertools.combinations(values, i):\n",
    "            if size == np.sum(group):\n",
    "                return True\n",
    "    return False\n",
    "            \n",
    "def knapsack2(size, values):\n",
    "    \"\"\"使用动态规划. 注意复杂度的权衡.\"\"\"\n",
    "    n = len(values)\n",
    "    s = np.sum(values)\n",
    "    if size > np.sum(values):\n",
    "        return False\n",
    "    solns = {}\n",
    "    table = np.zeros((n, s+1), dtype='bool')\n",
    "    table[0][values[0]] = True\n",
    "    for i in xrange(1, n):\n",
    "        for j in xrange(0, s):\n",
    "            table[i][j] = values[i] == j or table[i-1][j] or table[i-1][j-values[i]]\n",
    "    return table[-1][size]\n",
    "    \n",
    "s = 149\n",
    "values = np.array([12, 15, 8, 13, 11, 19, 12, 13, 14, 15, 7, 1, 12, 8, 9])\n",
    "%timeit knapsack1(s, values)\n",
    "%timeit knapsack2(s, values)"
   ]
  },
  {
   "cell_type": "markdown",
   "metadata": {},
   "source": [
    "## 使用python的语言风格"
   ]
  },
  {
   "cell_type": "code",
   "execution_count": 9,
   "metadata": {
    "collapsed": false
   },
   "outputs": [
    {
     "name": "stdout",
     "output_type": "stream",
     "text": [
      "1 loop, best of 3: 146 ms per loop\n",
      "100 loops, best of 3: 12.9 ms per loop\n"
     ]
    }
   ],
   "source": [
    "\"\"\"字符串的拼接\"\"\"\n",
    "\n",
    "def concat1(alist):\n",
    "    \"\"\"使用字符串加法.\"\"\"\n",
    "    s = alist[0]\n",
    "    for item in alist[1:]:\n",
    "        s += \" \" + item\n",
    "    return s\n",
    "    \n",
    "def concat2(alist):\n",
    "    \"\"\"使用join函数.\"\"\"\n",
    "    return \" \".join(alist)\n",
    "\n",
    "alist = ['abcde'] * 1000000\n",
    "%timeit concat1(alist)\n",
    "%timeit concat2(alist)    "
   ]
  },
  {
   "cell_type": "code",
   "execution_count": 18,
   "metadata": {
    "collapsed": false
   },
   "outputs": [
    {
     "name": "stdout",
     "output_type": "stream",
     "text": [
      "1 loops, best of 3: 396 ms per loop\n",
      "1 loops, best of 3: 292 ms per loop\n",
      "10 loops, best of 3: 192 ms per loop\n",
      "10 loops, best of 3: 153 ms per loop\n",
      "10 loops, best of 3: 80.5 ms per loop\n"
     ]
    }
   ],
   "source": [
    "\"\"\"避免使用循环.\"\"\"\n",
    "\n",
    "import math\n",
    "\n",
    "def loop1(n):\n",
    "    \"\"\"使用循环调用方程.\"\"\"\n",
    "    z = []\n",
    "    for i in xrange(n):\n",
    "        z.append(math.sin(i))\n",
    "    return z\n",
    "\n",
    "def loop2(n):\n",
    "    \"\"\"使用自带库的方程.\"\"\"\n",
    "    z = []\n",
    "    sin = math.sin\n",
    "    for i in xrange(n):\n",
    "        z.append(sin(i))\n",
    "    return z\n",
    "\n",
    "def loop3(n):\n",
    "    \"\"\"使用列表调用.\"\"\"\n",
    "    sin = math.sin\n",
    "    return [sin(i) for i in xrange(n)]\n",
    "\n",
    "def loop4(n):\n",
    "    \"\"\"使用map方法.\"\"\"\n",
    "    sin = math.sin\n",
    "    return map(sin, xrange(n))\n",
    "\n",
    "def loop5(n):\n",
    "    \"\"\"使用numpy.\"\"\"\n",
    "    return np.sin(np.arange(n)).tolist()\n",
    "\n",
    "n = 1000000\n",
    "%timeit loop1(n)\n",
    "%timeit loop2(n)\n",
    "%timeit loop3(n)\n",
    "%timeit loop4(n)\n",
    "%timeit loop5(n)"
   ]
  },
  {
   "cell_type": "code",
   "execution_count": 19,
   "metadata": {
    "collapsed": false
   },
   "outputs": [
    {
     "name": "stdout",
     "output_type": "stream",
     "text": [
      "1 loops, best of 3: 1.68 s per loop\n",
      "1 loops, best of 3: 334 ms per loop\n",
      "1 loops, best of 3: 6.12 s per loop\n",
      "10 loops, best of 3: 212 ms per loop\n",
      "1 loops, best of 3: 160 ms per loop\n"
     ]
    }
   ],
   "source": [
    "\"\"\"I/O读写限制（I/O bounded）.\"\"\"\n",
    "\n",
    "def io1(xs):\n",
    "    \"\"\"使用循环来写入.\"\"\"\n",
    "    with open('foo1.txt', 'w') as f:\n",
    "        for x in xs:\n",
    "            f.write('%d\\t' % x)\n",
    "    \n",
    "def io2(xs):\n",
    "    \"\"\"写入前使用Join函数.\"\"\"\n",
    "    with open('foo2.txt', 'w') as f:\n",
    "        f.write('\\t'.join(map(str, xs)))\n",
    "        \n",
    "def io3(xs):\n",
    "    \"\"\"Numpy savetxt令人惊讶的超级慢.\"\"\"\n",
    "    np.savetxt('foo3.txt', xs, delimiter='\\t')\n",
    "        \n",
    "def io4(xs):\n",
    "    \"\"\"Numpy save好点，如果我们使用二进制形式的话.\"\"\"\n",
    "    np.save('foo4.npy', xs)\n",
    "   \n",
    "def io5(xs):\n",
    "    \"\"\"使用HDF5.\"\"\"\n",
    "    import h5py\n",
    "    with h5py.File(\"mytestfile.h5\", \"w\") as f:\n",
    "        ds = f.create_dataset(\"xs\", (len(xs),), dtype='i')\n",
    "        ds[:] = xs\n",
    "    \n",
    "n = 1000*1000\n",
    "xs = range(n)\n",
    "%timeit io1(xs)\n",
    "%timeit io2(xs)\n",
    "%timeit io3(xs)\n",
    "%timeit io4(xs)\n",
    "%timeit io5(xs)"
   ]
  },
  {
   "cell_type": "code",
   "execution_count": 20,
   "metadata": {
    "collapsed": false
   },
   "outputs": [
    {
     "name": "stdout",
     "output_type": "stream",
     "text": [
      "55\n",
      "55\n",
      "55\n",
      "55\n",
      "3 loops, best of 3: 372 ms per loop\n",
      "10 loops, best of 3: 286 ns per loop\n",
      "10 loops, best of 3: 191 ns per loop\n",
      "10 loops, best of 3: 2.69 µs per loop\n"
     ]
    }
   ],
   "source": [
    "\"\"\"使用缓存区，用空间换时间.\"\"\"\n",
    "\n",
    "def fib(n):\n",
    "    if n <= 2:\n",
    "        return 1\n",
    "    else:\n",
    "        return fib(n-1) + fib(n-2)\n",
    "\n",
    "def memoize1(f):\n",
    "    store = {}\n",
    "    def func(n):\n",
    "        if n not in store:\n",
    "            store[n] = f(n)\n",
    "        return store[n]\n",
    "    return func\n",
    "\n",
    "   \n",
    "# From http://code.activestate.com/recipes/578231-probably-the-fastest-memoization-decorator-in-the-/\n",
    "\n",
    "def memoize2(f):\n",
    "  class memodict(dict):\n",
    "      __slots__ = ()\n",
    "      def __missing__(self, key):\n",
    "          self[key] = ret = f(key)\n",
    "          return ret\n",
    "  return memodict().__getitem__\n",
    "    \n",
    "# 使用LRU缓存算法来避免过度的内存占用\n",
    "from pylru import lrudecorator\n",
    "\n",
    "lrufib = lrudecorator(100)(fib)\n",
    "\n",
    "@memoize1\n",
    "def cfib(n):\n",
    "    return fib(n)\n",
    "\n",
    "@memoize2\n",
    "def mfib(n):\n",
    "    return fib(n)\n",
    "\n",
    "print fib(10)\n",
    "print cfib(10)\n",
    "print mfib(10)\n",
    "print lrufib(10)\n",
    "\n",
    "%timeit -n 3 fib(30)\n",
    "%timeit -n 10 cfib(30)\n",
    "%timeit -n 10 mfib(30)\n",
    "%timeit -n 10 lrufib(30)"
   ]
  },
  {
   "cell_type": "code",
   "execution_count": 21,
   "metadata": {
    "collapsed": false
   },
   "outputs": [
    {
     "name": "stdout",
     "output_type": "stream",
     "text": [
      "10 loops, best of 3: 310 µs per loop\n"
     ]
    },
    {
     "data": {
      "text/plain": [
       "55"
      ]
     },
     "execution_count": 21,
     "metadata": {},
     "output_type": "execute_result"
    }
   ],
   "source": [
    "# 我们可以完全的不用递归\n",
    "# 这是最有效率的方法\n",
    "# 特别是对比较大的n\n",
    "\n",
    "def ifib(n):\n",
    "    t = [0, 1]\n",
    "    for i in xrange(n):\n",
    "        t.append(t[-1] + t[-2])\n",
    "    return t[-2]\n",
    "\n",
    "%timeit -n 10 ifib(1000)\n",
    "ifib(10)"
   ]
  },
  {
   "cell_type": "code",
   "execution_count": 22,
   "metadata": {
    "collapsed": false
   },
   "outputs": [
    {
     "name": "stdout",
     "output_type": "stream",
     "text": [
      "10 loops, best of 3: 308 µs per loop\n",
      "10 loops, best of 3: 1.6 µs per loop\n"
     ]
    },
    {
     "data": {
      "text/plain": [
       "55"
      ]
     },
     "execution_count": 22,
     "metadata": {},
     "output_type": "execute_result"
    }
   ],
   "source": [
    "# 当然, 最快的办法还是使用闭形式\n",
    "\n",
    "def binetfib(n):\n",
    "    sqrt5 = 5**0.5\n",
    "    Phi = 0.5*(1+sqrt5)\n",
    "    _phi = 0.5*(1-sqrt5)\n",
    "    return int((Phi**n  - _phi**n)/sqrt5 + 0.5) # round to correct floating point errors\n",
    "\n",
    "%timeit -n 10 ifib(1000)\n",
    "%timeit -n 10 binetfib(1000)\n",
    "binetfib(10)"
   ]
  },
  {
   "cell_type": "markdown",
   "metadata": {},
   "source": [
    "## 使用Numpy and Scipy"
   ]
  },
  {
   "cell_type": "code",
   "execution_count": 23,
   "metadata": {
    "collapsed": false
   },
   "outputs": [
    {
     "name": "stdout",
     "output_type": "stream",
     "text": [
      "100 loops, best of 3: 4.9 ms per loop\n",
      "100 loops, best of 3: 2.6 ms per loop\n"
     ]
    }
   ],
   "source": [
    "\"\"\"当地操作比拷贝更快速.\"\"\"\n",
    "\n",
    "a = np.arange(1e6)\n",
    "    \n",
    "%timeit global a; a = a * 0\n",
    "%timeit global a; a *= 0"
   ]
  },
  {
   "cell_type": "code",
   "execution_count": 7,
   "metadata": {
    "collapsed": false
   },
   "outputs": [
    {
     "name": "stderr",
     "output_type": "stream",
     "text": [
      "/anaconda/lib/python2.7/site-packages/ipykernel/__main__.py:9: VisibleDeprecationWarning: using a non-integer number instead of an integer will result in an error in the future\n"
     ]
    },
    {
     "name": "stdout",
     "output_type": "stream",
     "text": [
      "The slowest run took 9.37 times longer than the fastest. This could mean that an intermediate result is being cached.\n",
      "1 loop, best of 3: 48.5 ms per loop\n",
      "10 loops, best of 3: 73.4 ms per loop\n"
     ]
    }
   ],
   "source": [
    "\"\"\"使用小步进最大化缓存.\"\"\"\n",
    "\n",
    "def f1(xs):\n",
    "    return xs.sum(axis=1)\n",
    "\n",
    "def f2(xs):\n",
    "    return xs.sum(axis=0)\n",
    "\n",
    "xs = np.zeros((1e4, 1e4), order='C') #翻译者注释：order:C代表与C语言类似，行优先；F代表与Fortran类似，列优先\n",
    "%timeit global xs; f1(xs)\n",
    "%timeit global xs; f2(xs)"
   ]
  },
  {
   "cell_type": "code",
   "execution_count": 25,
   "metadata": {
    "collapsed": false
   },
   "outputs": [
    {
     "name": "stdout",
     "output_type": "stream",
     "text": [
      "1 loops, best of 3: 2.11 s per loop\n",
      "100 loops, best of 3: 12 ms per loop\n"
     ]
    }
   ],
   "source": [
    "\"\"\"使用Numpy indexing来避免循环.\"\"\"\n",
    "\n",
    "def idx1(xs):\n",
    "    \"\"\"使用循环.\"\"\"\n",
    "    s = 0\n",
    "    for x in xs:\n",
    "        if (x > 10) and (x < 20):\n",
    "            s += x\n",
    "    return s\n",
    "\n",
    "def idx2(xs):\n",
    "    \"\"\"使用索引.\"\"\"\n",
    "    return np.sum(xs[(xs > 10) & (xs < 20)])\n",
    "\n",
    "n = 1000000\n",
    "xs = np.random.randint(0, 100, n)\n",
    "%timeit idx1(xs)\n",
    "%timeit idx2(xs)"
   ]
  },
  {
   "cell_type": "code",
   "execution_count": 26,
   "metadata": {
    "collapsed": false
   },
   "outputs": [
    {
     "name": "stdout",
     "output_type": "stream",
     "text": [
      "100 loops, best of 3: 9.32 ms per loop\n",
      "10000 loops, best of 3: 118 µs per loop\n"
     ]
    }
   ],
   "source": [
    "\"\"\"更多的检索小技巧 - 使用模版操作来计算九个相邻元素的平均值，不使用任何边界条件\"\"\"\n",
    "\n",
    "def average1(xs):\n",
    "    \"\"\"使用循环.\"\"\"\n",
    "    ys = xs.copy()\n",
    "    rows, cols = xs.shape\n",
    "    for i in range(rows):\n",
    "        for j in range(cols):\n",
    "            s = 0\n",
    "            for u in range(i-1, i+2):\n",
    "                if u < 0 or u >= rows:\n",
    "                    continue\n",
    "                for v in range(j-1, j+2):\n",
    "                    if v < 0 or v >= cols:\n",
    "                        continue\n",
    "                    s += xs[u, v]\n",
    "            ys[i, j] = s/9.0\n",
    "    return ys\n",
    "\n",
    "def average2(xs):\n",
    "    \"\"\"使用偏移的数列来避免边界检查.\"\"\"\n",
    "    rows, cols = xs.shape\n",
    "    xs1 = np.zeros((rows+2, cols+2))\n",
    "    xs1[1:-1, 1:-1] = xs[:]\n",
    "    ys = (xs1[:-2, :-2]  + xs1[1:-1, :-2]  + xs1[2:, :-2] +\n",
    "          xs1[:-2, 1:-1] + xs1[1:-1, 1:-1] + xs1[2:, 1:-1] +\n",
    "          xs1[:-2, 2:]   + xs1[1:-1, 2:]   + xs1[2:, 2:])/9.0\n",
    "    return ys\n",
    "\n",
    "n = 25\n",
    "xs = np.random.uniform(0,10,(n, n))\n",
    "%timeit average1(xs)\n",
    "%timeit average2(xs)"
   ]
  },
  {
   "cell_type": "code",
   "execution_count": 27,
   "metadata": {
    "collapsed": false
   },
   "outputs": [
    {
     "name": "stdout",
     "output_type": "stream",
     "text": [
      "[1 2 3 4]\n",
      "==============================\n",
      "[1 1 2 2 3 3 4 4]\n",
      "==============================\n",
      "[1 2 2 3 3 3 4 4 4 4]\n",
      "\n",
      "\n",
      "[[1 2 3 4]\n",
      " [5 6 7 8]]\n",
      "==============================\n",
      "[1 1 2 2 3 3 4 4 5 5 6 6 7 7 8 8]\n",
      "==============================\n",
      "[[1 1 2 2 3 3 4 4]\n",
      " [5 5 6 6 7 7 8 8]]\n",
      "==============================\n",
      "[[1 2 3 4]\n",
      " [1 2 3 4]\n",
      " [5 6 7 8]\n",
      " [5 6 7 8]]\n",
      "==============================\n",
      "[[1 2 2 3 3 3 4 4 4 4]\n",
      " [5 6 6 7 7 7 8 8 8 8]]\n",
      "==============================\n",
      "[[1 2 3 4]\n",
      " [5 6 7 8]\n",
      " [5 6 7 8]]\n",
      "\n",
      "\n",
      "[[1 2]\n",
      " [3 4]]\n",
      "==============================\n",
      "[[1 2 1 2]\n",
      " [3 4 3 4]]\n",
      "==============================\n",
      "[[1 2 1 2 1 2]\n",
      " [3 4 3 4 3 4]\n",
      " [1 2 1 2 1 2]\n",
      " [3 4 3 4 3 4]]\n"
     ]
    }
   ],
   "source": [
    "\"\"\"使用Repeat和tile函数.\"\"\"\n",
    "\n",
    "def main():\n",
    "    x = np.arange(1,5)\n",
    "    print x\n",
    "    print '='*30\n",
    "    print x.repeat(2)\n",
    "    print '='*30\n",
    "    print x.repeat([1,2,3,4])\n",
    "    print\n",
    "    print\n",
    "\n",
    "    y = np.arange(1,9).reshape(2,4)\n",
    "    print y\n",
    "    print '='*30\n",
    "    print y.repeat(2)\n",
    "    print '='*30\n",
    "    print y.repeat(2, axis=1)\n",
    "    print '='*30\n",
    "    print y.repeat(2, axis=0)\n",
    "    print '='*30\n",
    "    print y.repeat([1,2,3,4], axis=1)\n",
    "    print '='*30\n",
    "    print y.repeat([1,2], axis=0)\n",
    "    print \n",
    "    print\n",
    "\n",
    "    z = np.arange(1, 5).reshape(2,2)\n",
    "    print z\n",
    "    print '='*30\n",
    "    # make 1 row and 2 cols of the block z\n",
    "    # broadcasting rules prepend1 to missing dimensions\n",
    "    # so tile(z, 2) is equivalnet to tile(z, (1,2))\n",
    "    print np.tile(z, 2)\n",
    "    print '='*30\n",
    "    # make 2 rows and 3 cols of the block z\n",
    "    print np.tile(z, (2,3))\n",
    "    \n",
    "main()"
   ]
  },
  {
   "cell_type": "code",
   "execution_count": 28,
   "metadata": {
    "collapsed": false
   },
   "outputs": [
    {
     "name": "stdout",
     "output_type": "stream",
     "text": [
      "[ 8  3  6 23  8 14 15 18 26 23]\n",
      "[25 13  8 17 18  3 24  9 21 15]\n",
      "[21 10 22 10 28 28 21  4 14 23]\n"
     ]
    }
   ],
   "source": [
    "\"\"\"使用Random choice函数.\"\"\"\n",
    "\n",
    "def main():\n",
    "    x = np.arange(1, 30)\n",
    "    k = 10\n",
    "\n",
    "    # 带放回的抽取十项 \n",
    "    print np.random.choice(x, 10)\n",
    "\n",
    "    # 不带放回的抽取十项\n",
    "    print np.random.choice(x, 10, replace=False)\n",
    "\n",
    "    # 使用加权抽取，更容易抽到大数\n",
    "    wts = np.arange(1, len(x)+1, dtype='float')\n",
    "    wts /= np.sum(wts)\n",
    "    print np.random.choice(x, 10, p=wts)\n",
    "    \n",
    "main()"
   ]
  },
  {
   "cell_type": "code",
   "execution_count": 29,
   "metadata": {
    "collapsed": false
   },
   "outputs": [
    {
     "name": "stdout",
     "output_type": "stream",
     "text": [
      "[[  0.           5.19615242  10.39230485  15.58845727]\n",
      " [  5.19615242   0.           5.19615242  10.39230485]\n",
      " [ 10.39230485   5.19615242   0.           5.19615242]\n",
      " [ 15.58845727  10.39230485   5.19615242   0.        ]]\n",
      "==============================\n",
      "[[ 243.  108.   27.    0.]\n",
      " [ 108.   27.    0.   27.]\n",
      " [  27.    0.   27.  108.]\n",
      " [   0.   27.  108.  243.]]\n"
     ]
    }
   ],
   "source": [
    "\"\"\"距离计算.\"\"\"\n",
    "\n",
    "from scipy.spatial.distance import pdist, cdist, squareform\n",
    "\n",
    "def main():\n",
    "    # find all pairwise distance between a set of points\n",
    "    xs = np.arange(1, 13).reshape(4, 3)\n",
    "    print squareform(pdist(xs), 'sqeuclidean')\n",
    "    print '=' * 30\n",
    "\n",
    "    # find all pairwise distances between 2 sets of points\n",
    "    print cdist(xs, xs[::-1], 'sqeuclidean')\n",
    "    \n",
    "main()"
   ]
  },
  {
   "cell_type": "code",
   "execution_count": 30,
   "metadata": {
    "collapsed": false
   },
   "outputs": [
    {
     "name": "stdout",
     "output_type": "stream",
     "text": [
      "[110 174 110]\n",
      "==============================\n",
      "[[[65 72]\n",
      "  [81 81]]\n",
      "\n",
      " [[26 67]\n",
      "  [20 71]]\n",
      "\n",
      " [[57 36]\n",
      "  [48 63]]\n",
      "\n",
      " [[48 64]\n",
      "  [38 36]]\n",
      "\n",
      " [[63 45]\n",
      "  [28 88]]]\n"
     ]
    }
   ],
   "source": [
    "\"\"\"向量和矩阵的配对内积.\"\"\"\n",
    "\n",
    "# 找到向量的配对内积\n",
    "from numpy.core.umath_tests import inner1d\n",
    "\n",
    "def main():\n",
    "    xs = np.arange(1,13).reshape(3,4)\n",
    "    print inner1d(xs, xs[::-1])\n",
    "\n",
    "    print '='*30\n",
    "\n",
    "    # 找到矩阵的配对内积\n",
    "    from numpy.core.umath_tests import matrix_multiply\n",
    "\n",
    "    xs = np.random.randint(0, 10, (5, 2, 2))\n",
    "    ys = np.random.randint(0, 10, (5, 2, 2))\n",
    "    print matrix_multiply(xs, ys)\n",
    "    \n",
    "main()"
   ]
  },
  {
   "cell_type": "code",
   "execution_count": 31,
   "metadata": {
    "collapsed": false
   },
   "outputs": [
    {
     "name": "stdout",
     "output_type": "stream",
     "text": [
      "[[  0.   1.   2.   3.   4.   5.]\n",
      " [  6.   7.   8.   9.  10.  11.]\n",
      " [ 12.  13.  14.  15.  16.  17.]\n",
      " [ 18.  19.  20.  21.  22.  23.]\n",
      " [ 24.  25.  26.  27.  28.  29.]\n",
      " [ 30.  31.  32.  33.  34.  35.]]\n",
      "==============================\n",
      "[[  0.   1.   2.   3.   4.   5.]\n",
      " [  6.   7.   8.   9.  10.  11.]\n",
      " [ 12.  13.  14.  15.  16.  17.]]\n",
      "==============================\n",
      "[[ 18.  19.  20.  21.  22.  23.]\n",
      " [ 24.  25.  26.  27.  28.  29.]\n",
      " [ 30.  31.  32.  33.  34.  35.]]\n"
     ]
    }
   ],
   "source": [
    "\"\"\"使用存储器映射来从文件中分块读取数据.\"\"\"\n",
    "\n",
    "from tempfile import mktemp\n",
    "\n",
    "def main():\n",
    "    s = 6\n",
    "    x = np.arange(s*s, dtype='float').reshape(s, s)\n",
    "    f = mktemp()\n",
    "    x.tofile(f)\n",
    "\n",
    "    y1 = np.memmap(f, dtype='float', offset=0, shape=(s/2, s))\n",
    "    y2 = np.memmap(f, dtype='float', offset=s/2*x[0].nbytes, shape=(s/2, s))\n",
    "\n",
    "    print x\n",
    "    print '='*30\n",
    "    print y1\n",
    "    print '='*30\n",
    "    print y2\n",
    "    \n",
    "main()"
   ]
  },
  {
   "cell_type": "code",
   "execution_count": 32,
   "metadata": {
    "collapsed": false
   },
   "outputs": [
    {
     "name": "stdout",
     "output_type": "stream",
     "text": [
      "1 loops, best of 3: 433 ms per loop\n",
      "1 loops, best of 3: 216 ms per loop\n"
     ]
    }
   ],
   "source": [
    "\"\"\"向量化一个方程.\"\"\"\n",
    "\n",
    "def tlog(x):\n",
    "    if x < 1:\n",
    "        return 0\n",
    "    else:\n",
    "        return np.log(x)\n",
    "    \n",
    "vtlog = np.vectorize(tlog, otypes='d')\n",
    "\n",
    "def func1(xs):\n",
    "    return np.array(map(tlog, xs))\n",
    "\n",
    "def func2(xs):\n",
    "    return vtlog(xs)\n",
    "\n",
    "n = 100000\n",
    "xs = np.random.uniform(-10, 10, n)\n",
    "%timeit func1(xs)\n",
    "%timeit func2(xs)"
   ]
  },
  {
   "cell_type": "code",
   "execution_count": 33,
   "metadata": {
    "collapsed": false
   },
   "outputs": [
    {
     "name": "stdout",
     "output_type": "stream",
     "text": [
      "10 loops, best of 3: 63.8 ms per loop\n",
      "100 loops, best of 3: 7.8 ms per loop\n",
      "1 loops, best of 3: 65.7 ms per loop\n"
     ]
    }
   ],
   "source": [
    "\"\"\"使用numexpr. numexpr能够提供自动的并行化处理和更智能的JIT(just in time)编译到C语言.\"\"\"\n",
    "\n",
    "import numexpr as ne\n",
    "\n",
    "a = np.random.rand(1e6)\n",
    "\n",
    "%timeit global a; np.sin(a)**2 + np.cos(a)**2\n",
    "%timeit global a; ne.evaluate(\"sin(a)**2 + cos(a)**2\")\n",
    "\n",
    "import numba\n",
    "@numba.autojit\n",
    "def f(a):\n",
    "    return np.sin(a)**2 + np.cos(a)**2\n",
    "\n",
    "%timeit f(a)"
   ]
  },
  {
   "cell_type": "markdown",
   "metadata": {},
   "source": [
    "## 并行化"
   ]
  },
  {
   "cell_type": "code",
   "execution_count": 34,
   "metadata": {
    "collapsed": false
   },
   "outputs": [
    {
     "name": "stdout",
     "output_type": "stream",
     "text": [
      "1 loops, best of 3: 2 s per loop\n",
      "1 loops, best of 3: 1.03 s per loop\n"
     ]
    }
   ],
   "source": [
    "\"\"\"基本多线程应用的例子\"\"\"\n",
    "\n",
    "def slow_calc(*args):\n",
    "    import time\n",
    "    time.sleep(1)\n",
    "    return args\n",
    "\n",
    "def serial(njobs):\n",
    "    results = []\n",
    "    for i in range(njobs):\n",
    "        results.append(slow_calc([i]))\n",
    "    return results\n",
    "       \n",
    "def parallel(njobs):\n",
    "    from multiprocessing import Pool\n",
    "    p = Pool()\n",
    "    \n",
    "    argss = [[i] for i in range(njobs)]\n",
    "    p.map(slow_calc, argss)\n",
    "    \n",
    "njobs = 2\n",
    "%timeit serial(njobs)\n",
    "%timeit parallel(njobs)"
   ]
  },
  {
   "cell_type": "code",
   "execution_count": 14,
   "metadata": {
    "collapsed": false
   },
   "outputs": [
    {
     "name": "stdout",
     "output_type": "stream",
     "text": [
      "[(0, 0), (1, 1), (2, 2), (3, 3), (4, 4)]\n",
      "[(0, 0), (1, 1), (2, 2), (3, 3), (4, 4)]\n",
      "[(0, 0), (1, 1), (2, 2), (3, 3), (4, 4)]\n",
      "[(0, 0), (1, 1), (2, 2), (3, 3), (4, 4)]\n"
     ]
    }
   ],
   "source": [
    "\"\"\"比较同步版和异步的apply和map函数. Python里也有一个threading模块, 但是对于数值计算, \n",
    "mutliprocessing模块更佳直截了当.\"\"\"\n",
    "\n",
    "def calc(args):\n",
    "    i, j = args\n",
    "    return i, j\n",
    "\n",
    "def calc2(i, j):\n",
    "    return i, j\n",
    "\n",
    "def main():\n",
    "    n = 5\n",
    "    \n",
    "    from multiprocessing import Pool\n",
    "    argss = [(i, i) for i in range(n)]\n",
    "    p = Pool()\n",
    "\n",
    "    \"\"\"使用同步的map函数.\"\"\"\n",
    "    results1 = p.map(calc, argss)\n",
    "    # blocks until all workers complete their tasks\n",
    "    print results1\n",
    "    \n",
    "    \"\"\"使用异步的map函数.\"\"\"\n",
    "    results2 = p.map_async(calc, argss)\n",
    "    # Do other stuff here\n",
    "    print results2.get()\n",
    "    \n",
    "    \"\"\" 使用同步的apply函数.\"\"\"\n",
    "    results3 = []\n",
    "    for i in range(n):\n",
    "        args = (i, i)\n",
    "        results3.append(p.apply(calc2, args))\n",
    "    # blocks until all workers complete their tasks\n",
    "    print results3\n",
    "    \n",
    "    \"\"\" 使用异步的apply函数.\"\"\"\n",
    "    results4 = []\n",
    "    for i in range(n):\n",
    "        args = (i, i)\n",
    "        results4.append(p.apply_async(calc2, args))\n",
    "    # Do other stuff here\n",
    "    print [worker.get() for worker in results4]\n",
    "    \n",
    "main()"
   ]
  },
  {
   "cell_type": "code",
   "execution_count": 36,
   "metadata": {
    "collapsed": false
   },
   "outputs": [],
   "source": [
    "\"\"\"multiprocessing.Pool的内存溢出问题.\n",
    "默认设置下，每个任务完成后并不会释放内存，只有等所有任务都完成后才会释放内存.\n",
    "这个设置能通过调整参数maxtasksperchild来改变.\n",
    "\"\"\"\n",
    "\n",
    "from multiprocessing import Pool\n",
    "\n",
    "# each thread is destroyed and recreated after every task\n",
    "# use only 4 threadss.\n",
    "p = Pool(4, maxtasksperchild=1)"
   ]
  },
  {
   "cell_type": "code",
   "execution_count": 37,
   "metadata": {
    "collapsed": false
   },
   "outputs": [],
   "source": [
    "\"\"\"IPython里的交互式并行化. \n",
    "\n",
    "Python支持交互式的并行处理. 细节请看\n",
    "\n",
    "http://ipython.org/ipython-doc/dev/parallel/parallel_intro.html#parallel-overview and \n",
    "http://minrk.github.com/scipy-tutorial-2011/\n",
    "\n",
    ".\"\"\"\n",
    "\n",
    "pass"
   ]
  },
  {
   "cell_type": "markdown",
   "metadata": {},
   "source": [
    "## Cython"
   ]
  },
  {
   "cell_type": "code",
   "execution_count": 38,
   "metadata": {
    "collapsed": false
   },
   "outputs": [],
   "source": [
    "\"\"\"接下来一系列例子展示Cython是如何更加快速的运行代码的.\"\"\"\n",
    "import operator\n",
    "\n",
    "def adder1(xs):\n",
    "    \"\"\"展示性Python代码.\"\"\"\n",
    "    sqrt = np.sqrt\n",
    "    add = operator.add\n",
    "    s = reduce(add, map(sqrt, xs), 0)\n",
    "    return s"
   ]
  },
  {
   "cell_type": "code",
   "execution_count": 15,
   "metadata": {
    "collapsed": false
   },
   "outputs": [
    {
     "name": "stderr",
     "output_type": "stream",
     "text": [
      "//anaconda/lib/python2.7/site-packages/IPython/extensions/cythonmagic.py:21: UserWarning: The Cython magic has been moved to the Cython package\n",
      "  warnings.warn(\"\"\"The Cython magic has been moved to the Cython package\"\"\")\n"
     ]
    }
   ],
   "source": [
    "%load_ext cythonmagic"
   ]
  },
  {
   "cell_type": "code",
   "execution_count": 40,
   "metadata": {
    "collapsed": false
   },
   "outputs": [],
   "source": [
    "%%cython\n",
    "cimport numpy as np\n",
    "cimport cython\n",
    "\n",
    "# 从C的库载入方程\n",
    "cdef extern from \"math.h\":\n",
    "    double sqrt(double)\n",
    "\n",
    "# 这是一个慢的例子 - 下个例子将告诉你如何让它变得更快\n",
    "cdef double cadder1(xs):\n",
    "    cdef double s = 0\n",
    "    cdef int i\n",
    "    cdef int n = len(xs)\n",
    "    for i in range(n):\n",
    "        s += sqrt(xs[i])\n",
    "    return s\n",
    "\n",
    "def adder2(xs not None):\n",
    "    return cadder1(xs)\n",
    "\n",
    "# [1] 使用numpy array的数据类型，使他变得更快\n",
    "cdef double cadder2(np.ndarray[np.double_t, ndim=1] xs):\n",
    "    cdef double s = 0\n",
    "    cdef unsigned int i # [2] 关闭负索引的检查\n",
    "    cdef int n = len(xs)\n",
    "    for i in range(n):\n",
    "        s += sqrt(xs[i])\n",
    "    return s\n",
    "\n",
    "# [3] 关闭装饰器的边界检查\n",
    "@cython.boundscheck(False)\n",
    "def adder3(xs not None):\n",
    "    return cadder2(xs)"
   ]
  },
  {
   "cell_type": "code",
   "execution_count": 41,
   "metadata": {
    "collapsed": false
   },
   "outputs": [
    {
     "name": "stdout",
     "output_type": "stream",
     "text": [
      "'adder1' 3.200 sec\n",
      "'adder2' 0.143 sec\n",
      "'adder3' 0.007 sec\n",
      "'adder4' 0.010 sec\n"
     ]
    }
   ],
   "source": [
    "def main():\n",
    "    import time\n",
    "    \n",
    "    n = 1e6\n",
    "    xs = np.random.rand(n)\n",
    "    \n",
    "    start = time.time()\n",
    "    z1 = adder1(xs)\n",
    "    print \"'adder1' %.03f sec\" % (time.time() - start)\n",
    "    \n",
    "    start = time.time()\n",
    "    z2 = adder2(xs)\n",
    "    print \"'adder2' %.03f sec\" % (time.time() - start)\n",
    "        \n",
    "    start = time.time()\n",
    "    z3 = adder3(xs)\n",
    "    print \"'adder3' %.03f sec\" % (time.time() - start)\n",
    "            \n",
    "    # 使用numpy作为比较\n",
    "    start = time.time()\n",
    "    z4 = np.sqrt(xs).sum()\n",
    "    print \"'adder4' %.03f sec\" % (time.time() - start)\n",
    "    \n",
    "    assert(z1 == z2 == z3 == z4)\n",
    "\n",
    "main()"
   ]
  },
  {
   "cell_type": "markdown",
   "metadata": {},
   "source": [
    "## 参考文献"
   ]
  },
  {
   "cell_type": "code",
   "execution_count": 42,
   "metadata": {
    "collapsed": false
   },
   "outputs": [
    {
     "data": {
      "application/json": {
       "Software versions": [
        {
         "module": "Python",
         "version": "2.7.7 |Anaconda 2.0.0 (x86_64)| (default, Jun  2 2014, 12:48:16) [GCC 4.0.1 (Apple Inc. build 5493)]"
        },
        {
         "module": "IPython",
         "version": "2.1.0"
        },
        {
         "module": "OS",
         "version": "posix [darwin]"
        },
        {
         "module": "numpy",
         "version": "1.8.1"
        },
        {
         "module": "numexpr",
         "version": "2.3.1"
        },
        {
         "module": "numba",
         "version": "0.13.1"
        }
       ]
      },
      "text/html": [
       "<table><tr><th>Software</th><th>Version</th></tr><tr><td>Python</td><td>2.7.7 |Anaconda 2.0.0 (x86_64)| (default, Jun  2 2014, 12:48:16) [GCC 4.0.1 (Apple Inc. build 5493)]</td></tr><tr><td>IPython</td><td>2.1.0</td></tr><tr><td>OS</td><td>posix [darwin]</td></tr><tr><td>numpy</td><td>1.8.1</td></tr><tr><td>numexpr</td><td>2.3.1</td></tr><tr><td>numba</td><td>0.13.1</td></tr><tr><td colspan='2'>Mon Jun 09 10:32:33 2014 EDT</td></tr></table>"
      ],
      "text/latex": [
       "\\begin{tabular}{|l|l|}\\hline\n",
       "{\\bf Software} & {\\bf Version} \\\\ \\hline\\hline\n",
       "Python & 2.7.7 |Anaconda 2.0.0 (x86\\letterunderscore{}64)| (default, Jun  2 2014, 12:48:16) [GCC 4.0.1 (Apple Inc. build 5493)] \\\\ \\hline\n",
       "IPython & 2.1.0 \\\\ \\hline\n",
       "OS & posix [darwin] \\\\ \\hline\n",
       "numpy & 1.8.1 \\\\ \\hline\n",
       "numexpr & 2.3.1 \\\\ \\hline\n",
       "numba & 0.13.1 \\\\ \\hline\n",
       "\\hline \\multicolumn{2}{|l|}{Mon Jun 09 10:32:33 2014 EDT} \\\\ \\hline\n",
       "\\end{tabular}\n"
      ],
      "text/plain": [
       "Software versions\n",
       "Python 2.7.7 |Anaconda 2.0.0 (x86_64)| (default, Jun  2 2014, 12:48:16) [GCC 4.0.1 (Apple Inc. build 5493)]\n",
       "IPython 2.1.0\n",
       "OS posix [darwin]\n",
       "numpy 1.8.1\n",
       "numexpr 2.3.1\n",
       "numba 0.13.1\n",
       "<tr><td colspan='2'>Mon Jun 09 10:32:33 2014 EDT</td></tr>"
      ]
     },
     "execution_count": 42,
     "metadata": {},
     "output_type": "execute_result"
    }
   ],
   "source": [
    "%load_ext version_information\n",
    "\n",
    "%version_information numpy, numexpr, numba"
   ]
  },
  {
   "cell_type": "code",
   "execution_count": 42,
   "metadata": {
    "collapsed": false
   },
   "outputs": [],
   "source": []
  }
 ],
 "metadata": {
  "kernelspec": {
   "display_name": "Python 2",
   "language": "python",
   "name": "python2"
  },
  "language_info": {
   "codemirror_mode": {
    "name": "ipython",
    "version": 2
   },
   "file_extension": ".py",
   "mimetype": "text/x-python",
   "name": "python",
   "nbconvert_exporter": "python",
   "pygments_lexer": "ipython2",
   "version": "2.7.13"
  }
 },
 "nbformat": 4,
 "nbformat_minor": 0
}
