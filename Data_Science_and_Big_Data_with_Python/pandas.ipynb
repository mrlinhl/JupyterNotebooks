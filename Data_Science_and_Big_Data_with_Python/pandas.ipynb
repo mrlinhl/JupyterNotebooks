








<!DOCTYPE html>
<html lang="en">

<head>
  <meta charset="utf-8">
  <title>Jupyter Notebook Viewer</title>
  <meta name="viewport" content="width=device-width, initial-scale=1.0">
  <meta name="description" content="">
  <meta name="author" content="">
  
  <meta name="robots" content="noindex,nofollow">
  

  <!--NEW RELIC Start Perf Measurement-->
  
  <!--NREND-->

  <!-- Le styles -->
  <script src="/cdn-cgi/apps/head/MuIIl4I_IVFkxldaVu1mdWee9as.js"></script><link href="/static/build/styles.css?v=af7ff69ae1abb8954a21dbb2241d4e24" rel="stylesheet">

  <!-- Le HTML5 shim, for IE6-8 support of HTML5 elements -->
  <!--[if lt IE 9]>
    <script src="http://html5shim.googlecode.com/svn/trunk/html5.js"></script>
  <![endif]-->

  <!-- Le fav and touch icons -->
  <link rel="shortcut icon" href="/static/ico/ipynb_icon_16x16.png">
  <link rel="apple-touch-icon-precomposed" sizes="144x144"
        href="/static/ico/apple-touch-icon-144-precomposed.png?v=5a3c9ede93e2a8b8ea9e3f8f3da1a905">
  <link rel="apple-touch-icon-precomposed" sizes="114x114"
        href="/static/ico/apple-touch-icon-114-precomposed.png?v=45d86fc8f24dc00638035e1dd7a6d898">
  <link rel="apple-touch-icon-precomposed" sizes="72x72"
        href="/static/ico/apple-touch-icon-72-precomposed.png?v=540b5eb0f3cfd25f1439d1c9bd30e15f">
  <link rel="apple-touch-icon-precomposed"
        href="/static/ico/apple-touch-icon-57-precomposed.png?v=225f0590e187e1458625654f10a28f56">
  
  

  

  
  <meta name="twitter:card" content="summary">
  <meta name="twitter:title" content="Notebook on nbviewer">
  <meta name="twitter:description" content="Check out this Jupyter notebook!">

  
  <meta name="twitter:domain" content="nbviewer.ipython.org">
  <meta name="twitter:image:src" content="http://ipython.org/ipython-doc/dev/_images/ipynb_icon_128x128.png">

  
    <link href="/static/build/notebook.css?v=70404d2166a8ab8949e8e1cdff07b91f" rel="stylesheet">
  

  

  
    <script src="https://cdnjs.cloudflare.com/ajax/libs/mathjax/2.7.1/MathJax.js?config=TeX-AMS_HTML" type="text/javascript">
    </script>
    <script type="text/javascript">
      init_mathjax = function() {
        if (window.MathJax) {
          // MathJax loaded
          MathJax.Hub.Config({
            TeX: {
              equationNumbers: {
                autoNumber: "AMS",
                useLabelIds: true
              }
            },
            tex2jax: {
              inlineMath: [ ['$','$'], ["\\(","\\)"] ],
              displayMath: [ ['$$','$$'], ["\\[","\\]"] ],
              processEscapes: true,
              processEnvironments: true
            },
            displayAlign: 'center',
            "HTML-CSS": {
              styles: {'.MathJax_Display': {"margin": 0}},
              linebreaks: { automatic: true }
            }
          });
          MathJax.Hub.Queue(["Typeset", MathJax.Hub]);
        }
      }
      init_mathjax();
    </script>
  

  
    <script>
      (function() {
        function addWidgetsRenderer() {
          var mimeElement = document.querySelector('script[type="application/vnd.jupyter.widget-view+json"]');
          var scriptElement = document.createElement('script');
          var widgetRendererSrc = 'https://unpkg.com/@jupyter-widgets/html-manager@*/dist/embed-amd.js';
          var widgetState;

          try {
            widgetState = mimeElement && JSON.parse(mimeElement.innerHTML);

            if (widgetState && (widgetState.version_major < 2 || !widgetState.version_major)) {
              widgetRendererSrc = 'https://unpkg.com/jupyter-js-widgets@*/dist/embed.js';
            }
          } catch(e) {}

          scriptElement.src = widgetRendererSrc;
          document.body.appendChild(scriptElement);
        }

        document.addEventListener('DOMContentLoaded', addWidgetsRenderer);
      }());
    </script>
  

</head>

<body class="nbviewer">

  <!-- These are loaded at the top of the body so they are available to
       notebook cells when they are loaded below. -->
  <script src="/static/components/jquery/dist/jquery.min.js?v=a09e13ee94d51c524b7e2a728c7d4039"></script>
  <script src="/static/components/requirejs/require.js?v=6da8be361b9ee26c5e721e76c6d4afce"></script>
  <script src="/static/components/moment/min/moment.min.js?v=89f87298ad94aa1e6b92f42eb66da043"></script>
<!-- Navbar
================================================== -->
  <nav id="menubar" class="navbar navbar-default navbar-fixed-top" data-spy="affix">
    <div class="container">
      <div class="navbar-header">
        <button type="button" class="navbar-toggle collapsed" data-toggle="collapse" data-target=".navbar-collapse">
          <span class="sr-only">Toggle navigation</span>
          <i class="fa fa-bars"></i>
        </button>
        <a class="navbar-brand" href="/">
          <img src="/static/img/nav_logo.svg?v=479cefe8d932fb14a67b93911b97d70f" width="159"/>
        </a>
      </div>

      <div class="collapse navbar-collapse">
        <ul class="nav navbar-nav navbar-right">
          <li>
            <a class="active" href="http://jupyter.org">JUPYTER</a>
          </li>
          <li>
    <a href="/faq" title="FAQ" >
      
        <span>FAQ</span>
      
    </a>
  </li>

          
  
    
  
    
      
        <li>
    <a href="/format/slides/github/phelps-sg/python-bigdata/blob/master/src/main/ipynb/pandas.ipynb" title="View as Slides" >
      <span class="fa fa-gift fa-2x menu-icon"></span>
      <span class="menu-text">View as Slides</span>
    </a>
  </li>
      
    
  
    
      
        <li>
    <a href="/format/script/github/phelps-sg/python-bigdata/blob/master/src/main/ipynb/pandas.ipynb" title="View as Code" >
      <span class="fa fa-code fa-2x menu-icon"></span>
      <span class="menu-text">View as Code</span>
    </a>
  </li>
      
    
  

  
    <li>
    <a href="#" title="Python 2 Kernel" >
      <span class="fa fa-server fa-2x menu-icon"></span>
      <span class="menu-text">Python 2 Kernel</span>
    </a>
  </li>
  

  
    <li>
    <a href="https://github.com/phelps-sg/python-bigdata/blob/master/src/main/ipynb/pandas.ipynb" title="View on GitHub" >
      <span class="fa fa-github fa-2x menu-icon"></span>
      <span class="menu-text">View on GitHub</span>
    </a>
  </li>
  

  <li>
    <a href="https://raw.githubusercontent.com/phelps-sg/python-bigdata/master/src/main/ipynb/pandas.ipynb" title="Download Notebook" download>
      <span class="fa fa-download fa-2x menu-icon"></span>
      <span class="menu-text">Download Notebook</span>
    </a>
  </li>

        </ul>
      </div><!-- /.navbar-collapse -->
      
      
    </div>
  </nav>

  <div class="container container-main">
    
  
  <ol class="breadcrumb">
    
      <li>
        <a href="/github/phelps-sg/python-bigdata/tree/master">python-bigdata</a>
      </li>
    
      <li>
        <a href="/github/phelps-sg/python-bigdata/tree/master/src">src</a>
      </li>
    
      <li>
        <a href="/github/phelps-sg/python-bigdata/tree/master/src/main">main</a>
      </li>
    
      <li>
        <a href="/github/phelps-sg/python-bigdata/tree/master/src/main/ipynb">ipynb</a>
      </li>
    
  </ol>
  
  <div id="notebook">
    <div id="notebook-container">
      
<div class="cell border-box-sizing text_cell rendered"><div class="prompt input_prompt">
</div>
<div class="inner_cell">
<div class="text_cell_render border-box-sizing rendered_html">
<h1 id="Analysing-structured-data-with-Pandas">Analysing structured data with Pandas<a class="anchor-link" href="#Analysing-structured-data-with-Pandas">&#182;</a></h1><p><a href="http://sphelps.net">Steve Phelps</a></p>

</div>
</div>
</div>
<div class="cell border-box-sizing text_cell rendered"><div class="prompt input_prompt">
</div>
<div class="inner_cell">
<div class="text_cell_render border-box-sizing rendered_html">
<h1 id="Reading">Reading<a class="anchor-link" href="#Reading">&#182;</a></h1><p>See Chapter 5 of McKinney, W. (2012). Python for Data Analysis. O’Reilly.</p>
<p>Also, see the <a href="http://pandas.pydata.org/pandas-docs/stable/tutorials.html">online cookbook</a>.</p>

</div>
</div>
</div>
<div class="cell border-box-sizing text_cell rendered"><div class="prompt input_prompt">
</div>
<div class="inner_cell">
<div class="text_cell_render border-box-sizing rendered_html">
<h1 id="Data-frames">Data frames<a class="anchor-link" href="#Data-frames">&#182;</a></h1><ul>
<li><p>The <code>pandas</code> module provides a powerful data-structure called a data frame.</p>
</li>
<li><p>It is similar, but not identical to:</p>
<ul>
<li>a table in a relational database,</li>
<li>an Excel spreadsheet,</li>
<li>a dataframe in R.</li>
</ul>
</li>
</ul>

</div>
</div>
</div>
<div class="cell border-box-sizing text_cell rendered"><div class="prompt input_prompt">
</div>
<div class="inner_cell">
<div class="text_cell_render border-box-sizing rendered_html">
<ul>
<li>They can be used to represent:<ul>
<li><a href="https://en.wikipedia.org/wiki/Panel_data">Panel data</a></li>
<li><a href="https://en.wikipedia.org/wiki/Time_series">Time series</a> data</li>
<li><a href="https://en.wikipedia.org/wiki/Relational_model">Relational data</a></li>
</ul>
</li>
</ul>

</div>
</div>
</div>
<div class="cell border-box-sizing text_cell rendered"><div class="prompt input_prompt">
</div>
<div class="inner_cell">
<div class="text_cell_render border-box-sizing rendered_html">
<ul>
<li><p>Data frames can be read and written to/from:</p>
<ul>
<li>database queries, database tables</li>
<li>CSV files</li>
<li>json files</li>
</ul>
</li>
<li><p>Beware that data frames are memory resident;</p>
<ul>
<li>If you read a large amount of data your PC might crash</li>
<li>With big data, typically you would read a subset or summary of the data via e.g. a select statement.</li>
</ul>
</li>
</ul>

</div>
</div>
</div>
<div class="cell border-box-sizing text_cell rendered"><div class="prompt input_prompt">
</div>
<div class="inner_cell">
<div class="text_cell_render border-box-sizing rendered_html">
<h1 id="Importing-pandas">Importing pandas<a class="anchor-link" href="#Importing-pandas">&#182;</a></h1><ul>
<li>The pandas module is usually imported with the alias <code>pd</code>.</li>
</ul>

</div>
</div>
</div>
<div class="cell border-box-sizing code_cell rendered">
<div class="input">
<div class="prompt input_prompt">In&nbsp;[7]:</div>
<div class="inner_cell">
    <div class="input_area">
<div class=" highlight hl-ipython2"><pre><span></span><span class="kn">import</span> <span class="nn">pandas</span> <span class="kn">as</span> <span class="nn">pd</span>
</pre></div>

</div>
</div>
</div>

</div>
<div class="cell border-box-sizing text_cell rendered"><div class="prompt input_prompt">
</div>
<div class="inner_cell">
<div class="text_cell_render border-box-sizing rendered_html">
<h1 id="Pandas-is-object-oriented">Pandas is object-oriented<a class="anchor-link" href="#Pandas-is-object-oriented">&#182;</a></h1><ul>
<li><p>Pandas is object-oriented.</p>
</li>
<li><p>We create data frames by constructing instances of different classes.</p>
</li>
<li><p>The two most important classes are:</p>
<ul>
<li><code>DataFrame</code></li>
<li><code>Series</code></li>
</ul>
</li>
<li><p>Pandas follows the Java convention of starting the name of classes with an upper-case letter, whereas instances are all lower-case.</p>
</li>
</ul>

</div>
</div>
</div>
<div class="cell border-box-sizing text_cell rendered"><div class="prompt input_prompt">
</div>
<div class="inner_cell">
<div class="text_cell_render border-box-sizing rendered_html">
<h1 id="Primitive-data-types">Primitive data types<a class="anchor-link" href="#Primitive-data-types">&#182;</a></h1><ul>
<li><p>Both of these objects are collections of primitive values.</p>
</li>
<li><p>They are <em>ordered</em> and <em>mutable</em> collections.</p>
</li>
<li><p>Pandas uses the <a href="http://docs.scipy.org/doc/numpy/user/basics.types.html">numpy scalar types</a>.</p>
</li>
</ul>

</div>
</div>
</div>
<div class="cell border-box-sizing text_cell rendered"><div class="prompt input_prompt">
</div>
<div class="inner_cell">
<div class="text_cell_render border-box-sizing rendered_html">
<h1 id="Series">Series<a class="anchor-link" href="#Series">&#182;</a></h1><ul>
<li><p>A Series contains a one-dimensional array of data, <em>and</em> an associated sequence of labels called the <em>index</em>.</p>
</li>
<li><p>The index can contain numeric, string, or date/time values.</p>
</li>
<li><p>When the index is a time value, the series is a <a href="https://en.wikipedia.org/wiki/Time_series">time series</a>.</p>
</li>
<li><p>The index must be the same length as the data.</p>
</li>
<li><p>If no index is supplied it is automatically generated as <code>range(len(data))</code>.</p>
</li>
</ul>

</div>
</div>
</div>
<div class="cell border-box-sizing text_cell rendered"><div class="prompt input_prompt">
</div>
<div class="inner_cell">
<div class="text_cell_render border-box-sizing rendered_html">
<h1 id="Creating-a-series-from-an-array">Creating a series from an array<a class="anchor-link" href="#Creating-a-series-from-an-array">&#182;</a></h1>
</div>
</div>
</div>
<div class="cell border-box-sizing code_cell rendered">
<div class="input">
<div class="prompt input_prompt">In&nbsp;[8]:</div>
<div class="inner_cell">
    <div class="input_area">
<div class=" highlight hl-ipython2"><pre><span></span><span class="kn">import</span> <span class="nn">numpy</span> <span class="kn">as</span> <span class="nn">np</span>
<span class="n">data</span> <span class="o">=</span> <span class="n">np</span><span class="o">.</span><span class="n">random</span><span class="o">.</span><span class="n">randn</span><span class="p">(</span><span class="mi">5</span><span class="p">)</span>
<span class="n">data</span>
</pre></div>

</div>
</div>
</div>

<div class="output_wrapper">
<div class="output">


<div class="output_area">

<div class="prompt output_prompt">Out[8]:</div>




<div class="output_text output_subarea output_execute_result">
<pre>array([ 0.79366153,  1.47627668,  0.82103404,  0.01629086, -0.72983598])</pre>
</div>

</div>

</div>
</div>

</div>
<div class="cell border-box-sizing code_cell rendered">
<div class="input">
<div class="prompt input_prompt">In&nbsp;[9]:</div>
<div class="inner_cell">
    <div class="input_area">
<div class=" highlight hl-ipython2"><pre><span></span><span class="n">my_series</span> <span class="o">=</span> <span class="n">pd</span><span class="o">.</span><span class="n">Series</span><span class="p">(</span><span class="n">data</span><span class="p">,</span> <span class="n">index</span><span class="o">=</span><span class="p">[</span><span class="s1">&#39;a&#39;</span><span class="p">,</span> <span class="s1">&#39;b&#39;</span><span class="p">,</span> <span class="s1">&#39;c&#39;</span><span class="p">,</span> <span class="s1">&#39;d&#39;</span><span class="p">,</span> <span class="s1">&#39;e&#39;</span><span class="p">])</span>
<span class="n">my_series</span>
</pre></div>

</div>
</div>
</div>

<div class="output_wrapper">
<div class="output">


<div class="output_area">

<div class="prompt output_prompt">Out[9]:</div>




<div class="output_text output_subarea output_execute_result">
<pre>a    0.793662
b    1.476277
c    0.821034
d    0.016291
e   -0.729836
dtype: float64</pre>
</div>

</div>

</div>
</div>

</div>
<div class="cell border-box-sizing text_cell rendered"><div class="prompt input_prompt">
</div>
<div class="inner_cell">
<div class="text_cell_render border-box-sizing rendered_html">
<h1 id="Plotting-a-series">Plotting a series<a class="anchor-link" href="#Plotting-a-series">&#182;</a></h1><ul>
<li><p>We can plot a series by invoking the <code>plot()</code> method on an instance of a <code>Series</code> object.</p>
</li>
<li><p>The x-axis will autimatically be labelled with the series index.</p>
</li>
</ul>

</div>
</div>
</div>
<div class="cell border-box-sizing code_cell rendered">
<div class="input">
<div class="prompt input_prompt">In&nbsp;[10]:</div>
<div class="inner_cell">
    <div class="input_area">
<div class=" highlight hl-ipython2"><pre><span></span><span class="o">%</span><span class="k">matplotlib</span> inline
<span class="n">my_series</span><span class="o">.</span><span class="n">plot</span><span class="p">()</span>
</pre></div>

</div>
</div>
</div>

<div class="output_wrapper">
<div class="output">


<div class="output_area">

<div class="prompt output_prompt">Out[10]:</div>




<div class="output_text output_subarea output_execute_result">
<pre>&lt;matplotlib.axes._subplots.AxesSubplot at 0x7f8ed15ff990&gt;</pre>
</div>

</div>

<div class="output_area">

<div class="prompt"></div>




<div class="output_png output_subarea ">
<img src="data:image/png;base64,iVBORw0KGgoAAAANSUhEUgAAAXoAAAEACAYAAAC9Gb03AAAABHNCSVQICAgIfAhkiAAAAAlwSFlz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==
"
>
</div>

</div>

</div>
</div>

</div>
<div class="cell border-box-sizing text_cell rendered"><div class="prompt input_prompt">
</div>
<div class="inner_cell">
<div class="text_cell_render border-box-sizing rendered_html">
<h1 id="Creating-a-series-with-automatic-index">Creating a series with automatic index<a class="anchor-link" href="#Creating-a-series-with-automatic-index">&#182;</a></h1><ul>
<li>In the following example the index is creating automatically:</li>
</ul>

</div>
</div>
</div>
<div class="cell border-box-sizing code_cell rendered">
<div class="input">
<div class="prompt input_prompt">In&nbsp;[11]:</div>
<div class="inner_cell">
    <div class="input_area">
<div class=" highlight hl-ipython2"><pre><span></span><span class="n">pd</span><span class="o">.</span><span class="n">Series</span><span class="p">(</span><span class="n">data</span><span class="p">)</span>
</pre></div>

</div>
</div>
</div>

<div class="output_wrapper">
<div class="output">


<div class="output_area">

<div class="prompt output_prompt">Out[11]:</div>




<div class="output_text output_subarea output_execute_result">
<pre>0    0.793662
1    1.476277
2    0.821034
3    0.016291
4   -0.729836
dtype: float64</pre>
</div>

</div>

</div>
</div>

</div>
<div class="cell border-box-sizing text_cell rendered"><div class="prompt input_prompt">
</div>
<div class="inner_cell">
<div class="text_cell_render border-box-sizing rendered_html">
<h1 id="Creating-a-Series-from-a-dict">Creating a Series from a <code>dict</code><a class="anchor-link" href="#Creating-a-Series-from-a-dict">&#182;</a></h1>
</div>
</div>
</div>
<div class="cell border-box-sizing code_cell rendered">
<div class="input">
<div class="prompt input_prompt">In&nbsp;[12]:</div>
<div class="inner_cell">
    <div class="input_area">
<div class=" highlight hl-ipython2"><pre><span></span><span class="n">d</span> <span class="o">=</span> <span class="p">{</span><span class="s1">&#39;a&#39;</span> <span class="p">:</span> <span class="mf">0.</span><span class="p">,</span> <span class="s1">&#39;b&#39;</span> <span class="p">:</span> <span class="mf">1.</span><span class="p">,</span> <span class="s1">&#39;c&#39;</span> <span class="p">:</span> <span class="mf">2.</span><span class="p">}</span>
<span class="n">my_series</span> <span class="o">=</span> <span class="n">pd</span><span class="o">.</span><span class="n">Series</span><span class="p">(</span><span class="n">d</span><span class="p">)</span>
<span class="n">my_series</span>
</pre></div>

</div>
</div>
</div>

<div class="output_wrapper">
<div class="output">


<div class="output_area">

<div class="prompt output_prompt">Out[12]:</div>




<div class="output_text output_subarea output_execute_result">
<pre>a    0
b    1
c    2
dtype: float64</pre>
</div>

</div>

</div>
</div>

</div>
<div class="cell border-box-sizing text_cell rendered"><div class="prompt input_prompt">
</div>
<div class="inner_cell">
<div class="text_cell_render border-box-sizing rendered_html">
<h1 id="Indexing-a-series-with-[]">Indexing a series with <code>[]</code><a class="anchor-link" href="#Indexing-a-series-with-[]">&#182;</a></h1><ul>
<li><p>Series can be accessed using the same syntax as arrays and dicts.</p>
</li>
<li><p>We use the labels in the index to access each element.</p>
</li>
</ul>

</div>
</div>
</div>
<div class="cell border-box-sizing code_cell rendered">
<div class="input">
<div class="prompt input_prompt">In&nbsp;[13]:</div>
<div class="inner_cell">
    <div class="input_area">
<div class=" highlight hl-ipython2"><pre><span></span><span class="n">my_series</span><span class="p">[</span><span class="s1">&#39;b&#39;</span><span class="p">]</span>
</pre></div>

</div>
</div>
</div>

<div class="output_wrapper">
<div class="output">


<div class="output_area">

<div class="prompt output_prompt">Out[13]:</div>




<div class="output_text output_subarea output_execute_result">
<pre>1.0</pre>
</div>

</div>

</div>
</div>

</div>
<div class="cell border-box-sizing text_cell rendered"><div class="prompt input_prompt">
</div>
<div class="inner_cell">
<div class="text_cell_render border-box-sizing rendered_html">
<ul>
<li>We can also use the label like an attribute:</li>
</ul>

</div>
</div>
</div>
<div class="cell border-box-sizing code_cell rendered">
<div class="input">
<div class="prompt input_prompt">In&nbsp;[14]:</div>
<div class="inner_cell">
    <div class="input_area">
<div class=" highlight hl-ipython2"><pre><span></span><span class="n">my_series</span><span class="o">.</span><span class="n">b</span>
</pre></div>

</div>
</div>
</div>

<div class="output_wrapper">
<div class="output">


<div class="output_area">

<div class="prompt output_prompt">Out[14]:</div>




<div class="output_text output_subarea output_execute_result">
<pre>1.0</pre>
</div>

</div>

</div>
</div>

</div>
<div class="cell border-box-sizing text_cell rendered"><div class="prompt input_prompt">
</div>
<div class="inner_cell">
<div class="text_cell_render border-box-sizing rendered_html">
<ul>
<li>We can specify a range of labels to obtain a slice:</li>
</ul>

</div>
</div>
</div>
<div class="cell border-box-sizing code_cell rendered">
<div class="input">
<div class="prompt input_prompt">In&nbsp;[15]:</div>
<div class="inner_cell">
    <div class="input_area">
<div class=" highlight hl-ipython2"><pre><span></span><span class="n">my_series</span><span class="p">[[</span><span class="s1">&#39;b&#39;</span><span class="p">,</span> <span class="s1">&#39;c&#39;</span><span class="p">]]</span>
</pre></div>

</div>
</div>
</div>

<div class="output_wrapper">
<div class="output">


<div class="output_area">

<div class="prompt output_prompt">Out[15]:</div>




<div class="output_text output_subarea output_execute_result">
<pre>b    1
c    2
dtype: float64</pre>
</div>

</div>

</div>
</div>

</div>
<div class="cell border-box-sizing text_cell rendered"><div class="prompt input_prompt">
</div>
<div class="inner_cell">
<div class="text_cell_render border-box-sizing rendered_html">
<h1 id="Arithmetic-and-vectorised-functions">Arithmetic and vectorised functions<a class="anchor-link" href="#Arithmetic-and-vectorised-functions">&#182;</a></h1><ul>
<li><code>numpy</code> vectorization works for series objects too.</li>
</ul>

</div>
</div>
</div>
<div class="cell border-box-sizing code_cell rendered">
<div class="input">
<div class="prompt input_prompt">In&nbsp;[16]:</div>
<div class="inner_cell">
    <div class="input_area">
<div class=" highlight hl-ipython2"><pre><span></span><span class="n">d</span> <span class="o">=</span> <span class="p">{</span><span class="s1">&#39;a&#39;</span> <span class="p">:</span> <span class="mf">0.</span><span class="p">,</span> <span class="s1">&#39;b&#39;</span> <span class="p">:</span> <span class="mf">1.</span><span class="p">,</span> <span class="s1">&#39;c&#39;</span> <span class="p">:</span> <span class="mf">2.</span><span class="p">}</span>
<span class="n">squared_values</span> <span class="o">=</span> <span class="n">pd</span><span class="o">.</span><span class="n">Series</span><span class="p">(</span><span class="n">d</span><span class="p">)</span> <span class="o">**</span> <span class="mi">2</span>
<span class="n">squared_values</span>
</pre></div>

</div>
</div>
</div>

<div class="output_wrapper">
<div class="output">


<div class="output_area">

<div class="prompt output_prompt">Out[16]:</div>




<div class="output_text output_subarea output_execute_result">
<pre>a    0
b    1
c    4
dtype: float64</pre>
</div>

</div>

</div>
</div>

</div>
<div class="cell border-box-sizing code_cell rendered">
<div class="input">
<div class="prompt input_prompt">In&nbsp;[17]:</div>
<div class="inner_cell">
    <div class="input_area">
<div class=" highlight hl-ipython2"><pre><span></span><span class="n">x</span> <span class="o">=</span> <span class="n">pd</span><span class="o">.</span><span class="n">Series</span><span class="p">({</span><span class="s1">&#39;a&#39;</span> <span class="p">:</span> <span class="mf">0.</span><span class="p">,</span> <span class="s1">&#39;b&#39;</span> <span class="p">:</span> <span class="mf">1.</span><span class="p">,</span> <span class="s1">&#39;c&#39;</span> <span class="p">:</span> <span class="mf">2.</span><span class="p">})</span>
<span class="n">y</span> <span class="o">=</span> <span class="n">pd</span><span class="o">.</span><span class="n">Series</span><span class="p">({</span><span class="s1">&#39;a&#39;</span> <span class="p">:</span> <span class="mf">3.</span><span class="p">,</span> <span class="s1">&#39;b&#39;</span> <span class="p">:</span> <span class="mf">4.</span><span class="p">,</span> <span class="s1">&#39;c&#39;</span> <span class="p">:</span> <span class="mf">5.</span><span class="p">})</span>
<span class="n">x</span> <span class="o">+</span> <span class="n">y</span>
</pre></div>

</div>
</div>
</div>

<div class="output_wrapper">
<div class="output">


<div class="output_area">

<div class="prompt output_prompt">Out[17]:</div>




<div class="output_text output_subarea output_execute_result">
<pre>a    3
b    5
c    7
dtype: float64</pre>
</div>

</div>

</div>
</div>

</div>
<div class="cell border-box-sizing text_cell rendered"><div class="prompt input_prompt">
</div>
<div class="inner_cell">
<div class="text_cell_render border-box-sizing rendered_html">
<h1 id="Time-series">Time series<a class="anchor-link" href="#Time-series">&#182;</a></h1>
</div>
</div>
</div>
<div class="cell border-box-sizing code_cell rendered">
<div class="input">
<div class="prompt input_prompt">In&nbsp;[18]:</div>
<div class="inner_cell">
    <div class="input_area">
<div class=" highlight hl-ipython2"><pre><span></span><span class="n">dates</span> <span class="o">=</span> <span class="n">pd</span><span class="o">.</span><span class="n">date_range</span><span class="p">(</span><span class="s1">&#39;1/1/2000&#39;</span><span class="p">,</span> <span class="n">periods</span><span class="o">=</span><span class="mi">5</span><span class="p">)</span>
<span class="n">dates</span>
</pre></div>

</div>
</div>
</div>

<div class="output_wrapper">
<div class="output">


<div class="output_area">

<div class="prompt output_prompt">Out[18]:</div>




<div class="output_text output_subarea output_execute_result">
<pre>&lt;class &#39;pandas.tseries.index.DatetimeIndex&#39;&gt;
[2000-01-01, ..., 2000-01-05]
Length: 5, Freq: D, Timezone: None</pre>
</div>

</div>

</div>
</div>

</div>
<div class="cell border-box-sizing code_cell rendered">
<div class="input">
<div class="prompt input_prompt">In&nbsp;[19]:</div>
<div class="inner_cell">
    <div class="input_area">
<div class=" highlight hl-ipython2"><pre><span></span><span class="n">time_series</span> <span class="o">=</span> <span class="n">pd</span><span class="o">.</span><span class="n">Series</span><span class="p">(</span><span class="n">data</span><span class="p">,</span> <span class="n">index</span><span class="o">=</span><span class="n">dates</span><span class="p">)</span>
<span class="n">time_series</span>
</pre></div>

</div>
</div>
</div>

<div class="output_wrapper">
<div class="output">


<div class="output_area">

<div class="prompt output_prompt">Out[19]:</div>




<div class="output_text output_subarea output_execute_result">
<pre>2000-01-01    0.793662
2000-01-02    1.476277
2000-01-03    0.821034
2000-01-04    0.016291
2000-01-05   -0.729836
Freq: D, dtype: float64</pre>
</div>

</div>

</div>
</div>

</div>
<div class="cell border-box-sizing code_cell rendered">
<div class="input">
<div class="prompt input_prompt">In&nbsp;[20]:</div>
<div class="inner_cell">
    <div class="input_area">
<div class=" highlight hl-ipython2"><pre><span></span><span class="n">ax</span> <span class="o">=</span> <span class="n">time_series</span><span class="o">.</span><span class="n">plot</span><span class="p">()</span>
</pre></div>

</div>
</div>
</div>

<div class="output_wrapper">
<div class="output">


<div class="output_area">

<div class="prompt"></div>




<div class="output_png output_subarea ">
<img src="data:image/png;base64,iVBORw0KGgoAAAANSUhEUgAAAX0AAAEXCAYAAABBFpRtAAAABHNCSVQICAgIfAhkiAAAAAlwSFlz
AAALEgAACxIB0t1+/AAAHepJREFUeJzt3XmYXVWV9/HvTwbn1kYUFILQMii2DagggkgU0IAIQisy
TyIqoDYODKINNq3Qr4KINIKIMimDgBhkDEgYlHmSV4mAEoEoQZmMgEDI7/1jH3jLWFVJ1b119x1+
n+fJ89xz77nnLA7Jql3rrL2PbBMREYPhebUDiIiIzknSj4gYIEn6EREDJEk/ImKAJOlHRAyQJP2I
iAHSctKX9D1JsyXdNsLnkyU9Kunm5s8XWz1nRESMz6JtOMb3gW8BJ42yz+W2N2vDuSIiogUtj/Rt
Xwk8vIDd1Op5IiKidZ2o6RtYR9Ktks6XtGoHzhkREcNoR3lnQW4CJtl+XNLGwDnAyvPvJCnrQURE
jIPtha6mTHjStz1nyOsLJB0taQnbDw2zb8pAbSDpINsH1Y6jX+R6tleuZ3uNdcA84eUdSUtJUvN6
LUDDJfxonYQk/gMu2E1iq9rx9JHptQPoM9NrBzDI1Ooqm5JOBdYHlgRmAwcCiwHYPlbSnsAngLnA
48BnbF8zzHGckf74SbwSOIHy/+HQ5s91wF42j1YMLSIm0FhzZ8tJv12S9MdPYgNKy+zJwJdsnpZ4
MfA1YBNgJ5vLa8YYERMjSX+ASCwGfBnYCdjZZtow+2wCfBc4hfID4cnORhkRE2msuTPLMPQoiRWA
K4HVgTWGS/gANucDqwErAddJvKlzUUZEt0nS70ESW1Pq9acDm9o8MNr+Nn8CtgS+CfxM4jNS/t9H
DKKUd3pIU6c/EngnsLXNjeM4xr9Qav9/o5SE7m1vlBHRSSnv9CmJ1YEbgUWAN48n4QPY/I7yQ+NS
4EaJbdoXZUR0u4z0u5yEgE8CXwL+w+YHbTz2Wyg3eG8G9rQXuIZSRHSZjPT7iMSSwFRgB+Dt7Uz4
AM1vC28BHgJulXh3O48fEd0nSb9LSbwLuAW4HVjX5q6JOI/N4zZ7AbsDJ0kcJvGCiThXRNSXpN9l
JBaT+G/gB8CuNvvYPDXR57W5kNLa+VpKa+e/TfQ5I6LzkvS7iMTywOXAWym99xd38vw2DwIfAg4D
LpX4XFo7I/pL/kF3CYkPUXrvzwY2sZldIw4b25wIrAVsTkn+y9WIJSLaL0m/MokXSRwHHAK8z+br
NvNqx2VzNzAZuAi4QWK7ppMoInpYWjYraurmp1H67/ewmbOAr1QhsQblHsNtwCdssjR2RJdIy2YP
aNa935MyQeoQmx26NeED2NxMae28n9LauWHlkCJinDLS7zCJVwDfA5alLKVwZ+WQxkRiI0r8ZwH7
2zxROaSIgZaRfheTWJ/Se38XZbJVTyV8gGY1z9WAV1Nq/atXDikixiAj/Q6QWBT4T+CjlN77CyqH
1LLmpu52wDeArwNft3mmblQRgycPUekyEq+l3AR9AtjB5v7KIbVV8993IuW3xh1tZtaNKGKwpLzT
RST+Hbiesn7Oe/st4QPY/B7YADgXuF5ix7R2RnSvjPQngMSLgMOBjYBtbK6rHFJHSKxG+a3mduDj
zQzfiJhAGelXJvGvlJm1/0RZSmEgEj6Aza2UJSTupbR2vrdySBExn4z026QpaXwc+C/g88CJNt1x
cSuQ2AD4PnAOsG9aOyMmRkb6FUgsQelb/yjwDpsTBjnhA9hcSmntfCVwk8SbK4cUESTpt0xiPUrv
/e8pvfe/qRxS17B52GYb4GDgQokvSCxSO66IQZbyzjg1vfcHUEo6u9mcVzmkrtas1HkCsDildfXu
uhFF9IeUdzpAYhLwM8oDxt+ShL9gNvcAG1KWjr5OYpe0dkZ0XpL+GElsAdwAnA+8x+YPlUPqGTbz
bA4H3g3sDZzVPAc4IjokSX8hSbxQ4mhK//3mNodm2YHxsbkNWBP4LaW1c+PKIUUMjCT9hSDxRkrv
/RLA6jbXVA6p59k8afN5yvo9x0j8bzOpLSImUJL+KJp173cHplMWFtvG5tG6UfUXm+mU1s6XUVo7
31o3ooj+lu6dEUj8M3AcsCJl3fsZlUPqexIfBo4EvgUcajO3ckgRXS/dO20gsS5wMzALWDsJvzNs
Tqc8oWsycIXE6+pGFNF/kvSHkFhE4kuU2bWftPm0zd9qxzVIbO4D3gOcDlwjsVtaOyPaJ+Wd587P
ssApgIHtbWbViiWK5gb6KZTZzrvbPFA5pIiuk/LOOEhsDtwITAM2TMLvDja/AtYGZgC3SLyvckgR
PW+gR/oSLwC+Brwf2NbmF508fyw8iXcCJwEXAp+1eaxySBFdoeMjfUnfkzRb0m2j7HOkpDsl3Spp
jVbP2Q4SbwCuBZai9N4n4XcxmysorZ0vBG6WWKtySBE9qR3lne8DU0b6UNImwIq2VwJ2B77dhnOO
W9N7vxtwJXAU8GGbR2rGFAvH5lGbnYAvAOdKHNgsfBcRC6nlpG/7SuDhUXbZjPLgbGxfC7xc0lKt
nnc8JF5O6Qr5FPBOm+MGfd37XmRzJrAGsA7wc4mVKocU0TM6cSN3Gcrj8551H7BsB877dyTWofTe
PwCsZfPrTscQ7dMsdLcxpbvnFxK7p7UzYsE69avx/P8Yhx1dSzoBmNlsPgLcYnt689lkgLFug68E
9oNpn4Xph9lf+Uorx8t2121/S+JSOO8c+NvO0r9vYTO7i+LLdrbbut283pliJmPUlu4dScsD59p+
0zCfHQNMt31asz0DWN/27Pn2a3v3jsQywMmU32i2byb+RB+SWBw4CNgF+JjN1LoRRXRGN/bpTwV2
BJC0NvDI/Al/IkhsSum9vwzYIAm/v9k8ZfMF4EPAERLHSbykdlwR3ablkb6kU4H1gSWB2cCBwGIA
to9t9jmK0uHzGLCL7ZuGOU5bRvoSzwf+D/ABYDubq1o9ZvQWiX8CjqA82WwHm6srhxQxYcaaO/tq
cpbE64FTgd9Rnls7WldR9DmJLYGjge8AB9s8XTmkiLbrxvLOhGt673el9N4fA3wwCT9szqa0dq5J
ae1cpXJIEdX1fNKXeBnwQ+AzwGSbY9N7H8+y+SOwCXACcJXEJ9LaGYOsp5O+xNsovfcPA2s2C3RF
/B0b2xwNrAfsCvxUYunKYUVU0ZNJX+J5EvtROoM+a7OHzRO144ru1jwMZx3gJsqqnR+oHFJEx/Xc
jVyJV1N6759P6c65Z8KDi77TzNA+Gbgc+LTNnMohRYxLX9/IldiEMkq7CnhXEn6MV7Oq6urAPMqo
f93KIUV0RE+M9Jve+0OAD1Jm1l7R0eCirzVlnmOA7wJfTmtn9JK+G+lLrAxcDawArJGEH+1mcw5l
rf7VgaubZy1E9KWuTfpN7/1OwM+B44AtbR6sHFb0KZvZlCeoHQdcKbFXWjujH3VleaeZRv9tyshr
a5sRn8oV0W7Nb5cnU1qBd22WcY7oSj1f3mkeg3cTMIfSe5+EHx1lcwfwDuAa4CaJzSqHFNE2XTXS
B+8LfA7Yo3k6UkRVEmsDZ1IWcDsss72j2/T0gmvgn1N6739fO56IZ0lMAs4DfgHsZTO3ckgRz+n1
pL9Y/kFFN2ruM50OCNjK5i+VQ4oAerymn4Qf3apJ8u+nLNt9lcRylUOKGJeuSvoR3awZlOwJfJ/S
z//WyiFFjFmSfsQYNCt2foOS/C/Iom3RaxatHUBEL7I5R+I+4CcSKwBHpLMnekFX3chtxzNyIzqp
qe2fR3lq26dyXyo6radv5Eb0mmal13WB1wHnNl0+EV0rST+iRU1nz6bA7ynr9kyqHFLEiJL0I9qg
WY75E8BJlM6eN1cOKWJYSfoRbdJ09hwGfBK4UOL9tWOKmF+6dyLazObHTWfPORL/AhyZzp7oFune
iZggEq+ldPZcBuydzp6YCOneiegSzcKB6wKrUPr5X1o5pIgk/YiJZPMo8D5gFqWzZ9nKIcWAS9KP
mGBNZ8/HgB9QOnvWqBxSDLAk/YgOaDp7vgbsDVwssWntmGIwJelHdFDzRLhNge9IfLJ2PDF40r0T
UUGzSNt5wDTgMzbPVA4pelS6dyJ6gM3dwDrAGyn9/C+pHFIMiCT9iEpsHgE2BmYDV0gsUzmkGABJ
+hEVNZ09HwXOoHT2rFY5pOhzSfoRlTWdPYcCnwOmSWxSO6boXy0nfUlTJM2QdKekfYf5fLKkRyXd
3Pz5YqvnjOhHNmcAmwPHS+xRO57oTy0tuCZpEeAoYEPKjMPrJU21fft8u15ue7NWzhUxCGyullgX
OE9iJeBz6eyJdmp1pL8WcJftmbafBk6jjFTml1bMiIVk8ztKZ89qwNkSL64cUvSRVpP+MsC9Q7bv
a94bysA6km6VdL6kVVs8Z0Tfs3kYmAI8SOnseU3lkKJPtJr0F2Zm103AJNurAd8CzmnxnBEDweYp
4CPAWZTOnn+rHFL0gVYfojIL/u55oJMoo/3n2J4z5PUFko6WtITth+Y/mKQTgJnN5iPALbanN59N
bo6R7WwP2vZXpS8/H9a5XNpoG5sLuyy+bHdwu3m9M8VMxqilZRgkLQr8BtgA+ANwHbDN0Bu5kpYC
HrBtSWsBZ9hefphjZRmGiFFIrEMZ9f+XzbdrxxPdYay5s6WRvu25kvYCLgIWAY63fbukjzWfHwt8
EPiEpLnA48DWrZwzYlDZ/ELiHZTOnhWBfdLZE2OVBdcieozEPwNnU0qg29s8VjmkqCgLrkX0uaaz
573Ao8B0iVdXDil6SJJ+RA9qOnt2AX4CXCPxpsohRY9IeSeix0lsCxwB7GBzUe14orNS3okYMDY/
BLYETpTYvXY80d0y0o/oE01Hz3nAVGBfm3mVQ4oOGGvuTNKP6CMSr6B09vyZUu55vHJIMcFS3okY
YDYPAu+hzImZLrF05ZCiyyTpR/QZmyeBHSmlnqsl3lg5pOgiKe9E9DGJ7YHDgW1tLqkdT7RfyjsR
8RybUyhLoZwisVvteKK+jPQjBoDEypRyz1nAF9LZ0z/SvRMRw5JYEvgxcD+wo80TlUOKNkh5JyKG
ZfNnyvOsnwQuk3hV5ZCigiT9iAHSdPbsAFxIWbMnjy8dMCnvRAwoiR2BrwPb2FxaO54Yn5R3ImKh
2JwEfAj4ocSuteOJzshIP2LASaxC6ew5A/hiOnt6S7p3ImLMms6ec4BZwM7p7OkdKe9ExJgN6eyZ
B/wsnT39K0k/IgCw+RuwHXAJZc2eN1QOKSZAkn5EPMdmns2XgIMpq3S+q3ZM0V5J+hHxD2xOALYG
TpPYuW400U65kRsRI5J4PaWz51TgP9PZ033SvRMRbSXxSuAnwO+BXZraf3SJdO9ERFvZ/AnYABBw
afNDIHpUkn5ELFDTt78tMJ3S2bNK3YhivJL0I2KhNJ09BwBfBa6QmFw5pBiHJP2IGBOb71FG/ac3
i7ZFD8mN3IgYl2ZZ5p8CJwMH2XRHMhkw6d6JiI5plmv4CfA7YNdmvf7ooHTvRETH2DwAvBtYDLik
WbgtuliSfkS0pOns2Rq4itLZs3LlkGIUSfoR0bKms2d/4H8onT3vrB1TDC9JPyLaxua7wPbAmRLb
144n/lFu5EZE20m8kdLZcyLw5XT2TJx070REV5BYCpgK3AHsls6eidHx7h1JUyTNkHSnpH1H2OfI
5vNbJa3R6jkjovvZzAbeBbwImCbxisohBS0mfUmLAEcBU4BVgW0kvWG+fTYBVrS9ErA78O1WzhkR
vcPmceBDwDWUzp4VK4c08Fod6a8F3GV7pu2ngdOAzefbZzNKXQ/b1wIvl7RUi+eNiB7RdPbsA3wd
uCpr9tTVatJfBrh3yPZ9zXsL2mfZFs8bET3G5juUzp7TJD4tkXt4FSza4vcX9i7w/P9zh/2epBOA
mc3mI8Attqc3n00GyHa2s93T25dIvB3OuxjmvE/a+gM2j3dRfF2/3bzemWImY9RS946ktYGDbE9p
tvcH5tn+nyH7HANMt31asz0DWN/27PmOle6diAEh8SLgO5R7gVvaY09eUXS6e+cGYCVJy0taHPgw
pUVrqKlQll9tfkg8Mn/Cj4jB0tzg3QE4CbhGYsPKIQ2Mlso7tudK2gu4CFgEON727ZI+1nx+rO3z
JW0i6S7gMWCXlqOOiJ7XTNg6QuIW4FSJw4DDMpFrYmVyVkRUJ7EccDZwF/ARm8cqh9QzsrRyRPQc
m3uA9YAnKP38r6scUt9K0o+IrtAs0bwrcAzwC4kplUPqSynvRETXkViPMtnzf4FDUucfWRZci4i+
ILEMcBYwC9jZZk7lkLpSavoR0RdsZgHrAw9S2jrzRK42SNKPiK5l86TN7sA3Kev2bFo7pl6X8k5E
9ISyfAM/Ao4DDraZVzmkrpCafkT0LYmlgTMpJZ8dbR6tHFJ1qelHRN+yuR94N2Xl3usk3rCAr8R8
kvQjoqfYPGWzF3AocIXEFrVj6iUp70REz5JYk9LWeRJwoM0zlUPquNT0I2KgSLwKOAN4HNjO5uHK
IXVUavoRMVBsHgA2An4DXC/xr5VD6mpJ+hHR82yettkbOAi4TGKryiF1rZR3IqKvSKxBWab5DOAA
m7mVQ5pQqelHxMCTWJKyYJuBrW0erBzShElNPyIGns2fgSnAzcANEqtXDqlrJOlHRF+ymWuzD7Af
ME1iu9oxdYOUdyKi70m8CfgxcC7w+X6q86e8ExExH5vbgLWA11NG/a+qHFI1SfoRMRBsHgI2BX5B
6ed/a+WQqkjSj4iBYfOMzQHA3sAFEjtXDqnjUtOPiIEksSqlzj8N+IzNU5VDGpfU9CMiFoLNryl1
/uWAS5u1+vtekn5EDKzmISwfAC6h1PnXrhzShEvSj4iBZjPP5svAnsBUiY/WjmkipaYfEdGQWAU4
B7gC+JTNk5VDWqDU9CMixsnmN8DbgFcC0yVeUzmktkvSj4gYwuYvwAcps3evl3hH5ZDaKkk/ImI+
TZ3/q8BuwNkSe0j0Rfk5Nf2IiFFIrEjp578e2MPmb5VD+jup6UdEtJHNXcDbgRcDV0pMqhxSS5L0
IyIWwOavwNaUp3FdJzG5bkTjl/JORMQYSGwEnAwcAhxpUzWJ5nGJERETTGIFynN4fwXsbvN4vVhS
04+ImFA2dwPrNps/l1i+YjhjMu6kL2kJSdMk3SHpYkkvH2G/mZJ+KelmSdeNP9SIiO7RjO53AE4E
rpHYsHJIC6WVkf5+wDTbKwOXNtvDMTDZ9hq212rhfBERXcXGNkdQbvKeLPH5bu/nH3dNX9IMYH3b
syUtDUy3/fph9rsbeKvtBxdwvNT0I6JnSSxHqfP/FtjV5rHOnLdzNf2lbM9uXs8GlhphPwOXSLpB
Ul+vXhcRg8vmHmA94HHgaonXVQ5pWIuO9qGkaTDsgwUOGLph25JG+pVhXdt/lPRKYJqkGbavHOF8
JwAzm81HgFtsT28+m9ycK9vZzna2u3ZbYlc4/HB40/XSRtvaXNje42syPPeYx5mMUavlncm275f0
auCy4co7833nQOCvtg8b5rOUdyKibzQLtZ0BHAUcMlH9/J0s70wFdmpe70RZg3r+YF4k6aXN6xcD
7wFua+GcERE9weYqYE1gM+BMiZdWDgloLekfCmwk6Q7g3c02kl4j6bxmn6WBKyXdAlwL/NT2xa0E
HBHRK2xmAesDDwLXNg9pqSozciMiOkBid+C/gY/YnNu+42YZhoiIriTxduBHwHHAwTbzWj9mkn5E
RNeSWBo4E3gI2MHm0daOl7V3IiK6ls39lPug91CWaV61k+dP0o+I6DCbp2z2oizPfLnElp06d8o7
EREVSbwVOAs4BfhPm2fG9v3U9CMieorEqygTuZ4AtrV5eOG/m5p+RERPsXkA2AiYAVwv8aaJOleS
fkREF7B52mZv4EDgZxJbTcR5Ut6JiOgyEmtQlmn+EfAFm7kj75uafkREz5NYEji12dzaZthnkqSm
HxHRB2z+DGwM3Azc0Iz+W5akHxHRpWzm2uxDeRztxRLbt3rMlHciInpA09HzY+BcYB+bp8v7Ke9E
RPQdm9so6/O/HpjW9PaPWZJ+RESPaCZtbQr8nNLPv+ZYj5HyTkRED2rW6zkc9Nq0bEZEDACJF4Ie
T00/ImIA2Dwx1u8k6UdEDJAk/YiIAZKkHxExQJL0IyIGSJJ+RMQASdKPiBggSfoREQMkST8iYoAk
6UdEDJAk/YiIAZKkHxExQJL0IyIGSJJ+RMQASdKPiBggSfoREQMkST8iYoAk6UdEDJBxJ31JH5L0
K0nPSHrzKPtNkTRD0p2S9h3v+SIionWtjPRvA7YArhhpB0mLAEcBU4BVgW0kvaGFc0ZERAsWHe8X
bc8AkEZ9Hu9awF22Zzb7ngZsDtw+3vNGRMT4TXRNfxng3iHb9zXvxQSSNLl2DP0k17O9cj3rGjXp
S5om6bZh/rx/IY/vNsQYYze5dgB9ZnLtAPrM5NoBDLJRyzu2N2rx+LOASUO2J1FG+8OSlB8SbSLp
wNox9JNcz/bK9axn3DX9+YxU2L8BWEnS8sAfgA8D2wy3o+1Rbw5ERETrWmnZ3ELSvcDawHmSLmje
f42k8wBszwX2Ai4Cfg2cbjs3cSMiKpGdikpExKCoMiN3uAlbCzvZK/7RCNfza5Jul3SrpLMlvax2
nL1ghGt5cHMdb5F0qaRJCzpOFKNNzpT0WUnzJC1RK75eM8Lfz4Mk3Sfp5ubPlFGP0emRfjNh6zfA
hpQbvddT6vwG5gHHAp+1fVNHA+tRo1zPZYFLbc+TdCiA7f2qBdoDRrmW99me0+zzSWA127tVC7RH
jHQ9bd/e/OA8DlgFeIvth+pF2htG+fu5FTDH9uELc5waI/3nJmzZfho4Ddjc9gzbd1SIp9eNdD2n
2Z7X7HMt5YdAjG6kazlnyD4vAf5cJbreM+z1bD47HNinWmS9abTrudCNMDWSfiZstdfCXM9dgfM7
FlHvGvFaSvqKpHuAnYBDK8TWi4a9npI2p/z29Ms6YfWs0f6tf7IpQR4v6eWjHaRG0s+d4/Ya9XpK
OgB4yvYPOxRPLxvxWto+wPZywAnANzoWUW8b7nq+CNgfGNqnn3bthTPS38+jgRWA1YE/AoeNdpAa
SX9ME7ZigUa8npJ2BjYBtut8WD1pYf5u/hBYs2MR9bbhrufdlAR1q6S7KWXHGyW9qkJ8vWbYv5+2
/+QG8F1KGWhENZL+cxO2JC1OmbA1db598pN/4Q17PZs7+J+n1KT/VjXC3jHStVxpyD6bAzdXia73
DHc9z7K9lO0VbK9A+aH6ZtsPVI20N4z09/PVQ/bZgrIC8ojaNSN3odmeK+nZCVuLAMc3d/O3AI4E
lqRM9rrZ9sadjq/XjHI9pwKLA9OalVCvtr1HxVC73ijX8kxJqwDPAL8FPlEzzl4x0vWcf7fOR9ab
Rvn7eZKk1SnX8m7gY6MdJ5OzIiIGSB6XGBExQJL0IyIGSJJ+RMQA6XjSl/TXTp8zIiKKTM6KiBgg
tVbZfLGkSyTdKOmXkjZr3l++WRnyO5L+r6SLJL2gRowREf2oxiqbc4CXAS+2PUfSkpQe8mefsHUn
ZdW9X0o6HZhq+wcdDTIiok91fHJW43nAIZLWoyyn/Joh07DvHrIQ043A8hXii4joS7WS/naUmbdv
tv1MswbHs2WcJ4fs9wzwwk4HFxHRr2q1bL4MeKBJ+O8CXlspjoiIgdLRkb6kRSkj+R8A50r6JWUR
oaHrccx/kyHdPhERbdLRG7mSVgOOtb12x04aERHP6Vh5R9LHKWuRf7FT54yIiL+XVTYjIgZI1t6J
iBggE5b0JU2SdJmkXzWzaz/VvL+EpGmS7pB08dCH+EraX9KdkmZIes+Q998i6bbms29OVMwREf1u
Ikf6TwN7234jsDawp6Q3APsB02yvDFzabCNpVcrjv1YFpgBHq3nkE/Bt4CO2V6I8LmzKBMYdEdG3
Jizp277f9i3N679S2jKXATYDTmx2OxH4QPN6c+BU20/bngncBbytef7jS21f1+x30pDvRETEGHSk
pt+sqbMGcC2wlO3ZzUezgaWa16+hPCT5WfdRfkjM//6s5v2IiBijCU/6kl4CnAV82vacoZ+5tA6l
fSgiokMmNOlLWoyS8E+2fU7z9mxJSzefvxp4oHl/FjBpyNeXpYzwZzWvh74/ayLjjojoVxPZvSPg
eODXto8Y8tFUYKfm9U7AOUPe31rS4pJWAFYCrrN9P/AXSW9rjrnDkO9ERMQYTNjkLEnvAK4Afsn/
L+HsD1wHnAEsB8wEtrL9SPOdLwC7AnMp5aCLmvffApxAWXHzfNufmpCgIyL6XGbkRkQMkMzIjYgY
IEn6EREDJEk/ImKAJOlHRAyQJP2IiAGSpB8RMUCS9CMiBsj/A1aSEnbA1/lYAAAAAElFTkSuQmCC
"
>
</div>

</div>

</div>
</div>

</div>
<div class="cell border-box-sizing text_cell rendered"><div class="prompt input_prompt">
</div>
<div class="inner_cell">
<div class="text_cell_render border-box-sizing rendered_html">
<h1 id="Missing-values">Missing values<a class="anchor-link" href="#Missing-values">&#182;</a></h1><ul>
<li><p>Pandas uses <code>nan</code> to represent missing data.</p>
</li>
<li><p>So <code>nan</code> is used to represent missing, invalid or unknown data values.</p>
</li>
<li><p>It is important to note that this only convention only applies within pandas.</p>
<ul>
<li>Other frameworks have very different semantics for these values.</li>
</ul>
</li>
</ul>

</div>
</div>
</div>
<div class="cell border-box-sizing text_cell rendered"><div class="prompt input_prompt">
</div>
<div class="inner_cell">
<div class="text_cell_render border-box-sizing rendered_html">
<h1 id="DataFrame">DataFrame<a class="anchor-link" href="#DataFrame">&#182;</a></h1><ul>
<li><p>A data frame has multiple columns, each of which can hold a <em>different</em> type of value.</p>
</li>
<li><p>Like a series, it has an index which provides a label for each and every row.</p>
</li>
<li><p>Data frames can be constructed from:</p>
<ul>
<li>dict of arrays,</li>
<li>dict of lists,</li>
<li>dict of dict</li>
<li>dict of Series</li>
<li>2-dimensional array</li>
<li>a single Series</li>
<li>another DataFrame</li>
</ul>
</li>
</ul>

</div>
</div>
</div>
<div class="cell border-box-sizing text_cell rendered"><div class="prompt input_prompt">
</div>
<div class="inner_cell">
<div class="text_cell_render border-box-sizing rendered_html">
<h1 id="A-dict-of-series">A dict of series<a class="anchor-link" href="#A-dict-of-series">&#182;</a></h1>
</div>
</div>
</div>
<div class="cell border-box-sizing code_cell rendered">
<div class="input">
<div class="prompt input_prompt">In&nbsp;[21]:</div>
<div class="inner_cell">
    <div class="input_area">
<div class=" highlight hl-ipython2"><pre><span></span><span class="n">d</span> <span class="o">=</span> <span class="p">{</span>
        <span class="s1">&#39;x&#39;</span> <span class="p">:</span> 
            <span class="n">pd</span><span class="o">.</span><span class="n">Series</span><span class="p">([</span><span class="mf">1.</span><span class="p">,</span> <span class="mf">2.</span><span class="p">,</span> <span class="mf">3.</span><span class="p">],</span> <span class="n">index</span><span class="o">=</span><span class="p">[</span><span class="s1">&#39;a&#39;</span><span class="p">,</span> <span class="s1">&#39;b&#39;</span><span class="p">,</span> <span class="s1">&#39;c&#39;</span><span class="p">]),</span>
        <span class="s1">&#39;y&#39;</span> <span class="p">:</span> 
            <span class="n">pd</span><span class="o">.</span><span class="n">Series</span><span class="p">([</span><span class="mf">4.</span><span class="p">,</span> <span class="mf">5.</span><span class="p">,</span> <span class="mf">6.</span><span class="p">,</span> <span class="mf">7.</span><span class="p">],</span> <span class="n">index</span><span class="o">=</span><span class="p">[</span><span class="s1">&#39;a&#39;</span><span class="p">,</span> <span class="s1">&#39;b&#39;</span><span class="p">,</span> <span class="s1">&#39;c&#39;</span><span class="p">,</span> <span class="s1">&#39;d&#39;</span><span class="p">]),</span>
        <span class="s1">&#39;z&#39;</span> <span class="p">:</span>
            <span class="n">pd</span><span class="o">.</span><span class="n">Series</span><span class="p">([</span><span class="mf">0.1</span><span class="p">,</span> <span class="mf">0.2</span><span class="p">,</span> <span class="mf">0.3</span><span class="p">,</span> <span class="mf">0.4</span><span class="p">],</span> <span class="n">index</span><span class="o">=</span><span class="p">[</span><span class="s1">&#39;a&#39;</span><span class="p">,</span> <span class="s1">&#39;b&#39;</span><span class="p">,</span> <span class="s1">&#39;c&#39;</span><span class="p">,</span> <span class="s1">&#39;d&#39;</span><span class="p">])</span>
<span class="p">}</span>

<span class="n">d</span>
</pre></div>

</div>
</div>
</div>

<div class="output_wrapper">
<div class="output">


<div class="output_area">

<div class="prompt output_prompt">Out[21]:</div>




<div class="output_text output_subarea output_execute_result">
<pre>{&#39;x&#39;: a    1
 b    2
 c    3
 dtype: float64, &#39;y&#39;: a    4
 b    5
 c    6
 d    7
 dtype: float64, &#39;z&#39;: a    0.1
 b    0.2
 c    0.3
 d    0.4
 dtype: float64}</pre>
</div>

</div>

</div>
</div>

</div>
<div class="cell border-box-sizing text_cell rendered"><div class="prompt input_prompt">
</div>
<div class="inner_cell">
<div class="text_cell_render border-box-sizing rendered_html">
<h1 id="As-a-data-frame">As a data frame<a class="anchor-link" href="#As-a-data-frame">&#182;</a></h1>
</div>
</div>
</div>
<div class="cell border-box-sizing code_cell rendered">
<div class="input">
<div class="prompt input_prompt">In&nbsp;[22]:</div>
<div class="inner_cell">
    <div class="input_area">
<div class=" highlight hl-ipython2"><pre><span></span><span class="n">df</span> <span class="o">=</span> <span class="n">pd</span><span class="o">.</span><span class="n">DataFrame</span><span class="p">(</span><span class="n">d</span><span class="p">)</span>
<span class="n">df</span>
</pre></div>

</div>
</div>
</div>

<div class="output_wrapper">
<div class="output">


<div class="output_area">

<div class="prompt output_prompt">Out[22]:</div>



<div class="output_html rendered_html output_subarea output_execute_result">
<div style="max-height:1000px;max-width:1500px;overflow:auto;">
<table border="1" class="dataframe">
  <thead>
    <tr style="text-align: right;">
      <th></th>
      <th>x</th>
      <th>y</th>
      <th>z</th>
    </tr>
  </thead>
  <tbody>
    <tr>
      <th>a</th>
      <td>  1</td>
      <td> 4</td>
      <td> 0.1</td>
    </tr>
    <tr>
      <th>b</th>
      <td>  2</td>
      <td> 5</td>
      <td> 0.2</td>
    </tr>
    <tr>
      <th>c</th>
      <td>  3</td>
      <td> 6</td>
      <td> 0.3</td>
    </tr>
    <tr>
      <th>d</th>
      <td>NaN</td>
      <td> 7</td>
      <td> 0.4</td>
    </tr>
  </tbody>
</table>
</div>
</div>

</div>

</div>
</div>

</div>
<div class="cell border-box-sizing text_cell rendered"><div class="prompt input_prompt">
</div>
<div class="inner_cell">
<div class="text_cell_render border-box-sizing rendered_html">
<h1 id="Plotting-data-frames">Plotting data frames<a class="anchor-link" href="#Plotting-data-frames">&#182;</a></h1><ul>
<li><p>When plotting a data frame, each column is plotted as its own series on the same graph.</p>
</li>
<li><p>The column names are used to label each series.</p>
</li>
<li><p>The row names (index) is used to label the x-axis.</p>
</li>
</ul>

</div>
</div>
</div>
<div class="cell border-box-sizing code_cell rendered">
<div class="input">
<div class="prompt input_prompt">In&nbsp;[23]:</div>
<div class="inner_cell">
    <div class="input_area">
<div class=" highlight hl-ipython2"><pre><span></span><span class="n">ax</span> <span class="o">=</span> <span class="n">df</span><span class="o">.</span><span class="n">plot</span><span class="p">()</span>
</pre></div>

</div>
</div>
</div>

<div class="output_wrapper">
<div class="output">


<div class="output_area">

<div class="prompt"></div>




<div class="output_png output_subarea ">
<img src="data:image/png;base64,iVBORw0KGgoAAAANSUhEUgAAAWgAAAEACAYAAACeQuziAAAABHNCSVQICAgIfAhkiAAAAAlwSFlz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"
>
</div>

</div>

</div>
</div>

</div>
<div class="cell border-box-sizing text_cell rendered"><div class="prompt input_prompt">
</div>
<div class="inner_cell">
<div class="text_cell_render border-box-sizing rendered_html">
<h1 id="Indexing">Indexing<a class="anchor-link" href="#Indexing">&#182;</a></h1>
</div>
</div>
</div>
<div class="cell border-box-sizing text_cell rendered"><div class="prompt input_prompt">
</div>
<div class="inner_cell">
<div class="text_cell_render border-box-sizing rendered_html">
<ul>
<li><p>The outer dimension is the column index.</p>
</li>
<li><p>When we retrieve a single column, the result is a Series</p>
</li>
</ul>

</div>
</div>
</div>
<div class="cell border-box-sizing code_cell rendered">
<div class="input">
<div class="prompt input_prompt">In&nbsp;[24]:</div>
<div class="inner_cell">
    <div class="input_area">
<div class=" highlight hl-ipython2"><pre><span></span><span class="n">df</span><span class="p">[</span><span class="s1">&#39;x&#39;</span><span class="p">]</span>
</pre></div>

</div>
</div>
</div>

<div class="output_wrapper">
<div class="output">


<div class="output_area">

<div class="prompt output_prompt">Out[24]:</div>




<div class="output_text output_subarea output_execute_result">
<pre>a     1
b     2
c     3
d   NaN
Name: x, dtype: float64</pre>
</div>

</div>

</div>
</div>

</div>
<div class="cell border-box-sizing code_cell rendered">
<div class="input">
<div class="prompt input_prompt">In&nbsp;[25]:</div>
<div class="inner_cell">
    <div class="input_area">
<div class=" highlight hl-ipython2"><pre><span></span><span class="n">df</span><span class="p">[</span><span class="s1">&#39;x&#39;</span><span class="p">][</span><span class="s1">&#39;b&#39;</span><span class="p">]</span>
</pre></div>

</div>
</div>
</div>

<div class="output_wrapper">
<div class="output">


<div class="output_area">

<div class="prompt output_prompt">Out[25]:</div>




<div class="output_text output_subarea output_execute_result">
<pre>2.0</pre>
</div>

</div>

</div>
</div>

</div>
<div class="cell border-box-sizing code_cell rendered">
<div class="input">
<div class="prompt input_prompt">In&nbsp;[26]:</div>
<div class="inner_cell">
    <div class="input_area">
<div class=" highlight hl-ipython2"><pre><span></span><span class="n">df</span><span class="o">.</span><span class="n">x</span><span class="o">.</span><span class="n">b</span>
</pre></div>

</div>
</div>
</div>

<div class="output_wrapper">
<div class="output">


<div class="output_area">

<div class="prompt output_prompt">Out[26]:</div>




<div class="output_text output_subarea output_execute_result">
<pre>2.0</pre>
</div>

</div>

</div>
</div>

</div>
<div class="cell border-box-sizing text_cell rendered"><div class="prompt input_prompt">
</div>
<div class="inner_cell">
<div class="text_cell_render border-box-sizing rendered_html">
<ul>
<li>Data frames can be sliced just like series.</li>
<li>If we project a single column the result is a series:</li>
</ul>

</div>
</div>
</div>
<div class="cell border-box-sizing code_cell rendered">
<div class="input">
<div class="prompt input_prompt">In&nbsp;[27]:</div>
<div class="inner_cell">
    <div class="input_area">
<div class=" highlight hl-ipython2"><pre><span></span><span class="nb">slice</span> <span class="o">=</span> <span class="n">df</span><span class="p">[</span><span class="s1">&#39;x&#39;</span><span class="p">][[</span><span class="s1">&#39;b&#39;</span><span class="p">,</span> <span class="s1">&#39;c&#39;</span><span class="p">]]</span>
<span class="nb">slice</span>
</pre></div>

</div>
</div>
</div>

<div class="output_wrapper">
<div class="output">


<div class="output_area">

<div class="prompt output_prompt">Out[27]:</div>




<div class="output_text output_subarea output_execute_result">
<pre>b    2
c    3
Name: x, dtype: float64</pre>
</div>

</div>

</div>
</div>

</div>
<div class="cell border-box-sizing code_cell rendered">
<div class="input">
<div class="prompt input_prompt">In&nbsp;[28]:</div>
<div class="inner_cell">
    <div class="input_area">
<div class=" highlight hl-ipython2"><pre><span></span><span class="nb">type</span><span class="p">(</span><span class="nb">slice</span><span class="p">)</span>
</pre></div>

</div>
</div>
</div>

<div class="output_wrapper">
<div class="output">


<div class="output_area">

<div class="prompt output_prompt">Out[28]:</div>




<div class="output_text output_subarea output_execute_result">
<pre>pandas.core.series.Series</pre>
</div>

</div>

</div>
</div>

</div>
<div class="cell border-box-sizing text_cell rendered"><div class="prompt input_prompt">
</div>
<div class="inner_cell">
<div class="text_cell_render border-box-sizing rendered_html">
<ul>
<li>When we include multiple columns in the project the result is a DataFrame.</li>
</ul>

</div>
</div>
</div>
<div class="cell border-box-sizing code_cell rendered">
<div class="input">
<div class="prompt input_prompt">In&nbsp;[29]:</div>
<div class="inner_cell">
    <div class="input_area">
<div class=" highlight hl-ipython2"><pre><span></span><span class="nb">slice</span> <span class="o">=</span> <span class="n">df</span><span class="p">[[</span><span class="s1">&#39;x&#39;</span><span class="p">,</span> <span class="s1">&#39;y&#39;</span><span class="p">]]</span>
<span class="nb">slice</span>
</pre></div>

</div>
</div>
</div>

<div class="output_wrapper">
<div class="output">


<div class="output_area">

<div class="prompt output_prompt">Out[29]:</div>



<div class="output_html rendered_html output_subarea output_execute_result">
<div style="max-height:1000px;max-width:1500px;overflow:auto;">
<table border="1" class="dataframe">
  <thead>
    <tr style="text-align: right;">
      <th></th>
      <th>x</th>
      <th>y</th>
    </tr>
  </thead>
  <tbody>
    <tr>
      <th>a</th>
      <td>  1</td>
      <td> 4</td>
    </tr>
    <tr>
      <th>b</th>
      <td>  2</td>
      <td> 5</td>
    </tr>
    <tr>
      <th>c</th>
      <td>  3</td>
      <td> 6</td>
    </tr>
    <tr>
      <th>d</th>
      <td>NaN</td>
      <td> 7</td>
    </tr>
  </tbody>
</table>
</div>
</div>

</div>

</div>
</div>

</div>
<div class="cell border-box-sizing code_cell rendered">
<div class="input">
<div class="prompt input_prompt">In&nbsp;[30]:</div>
<div class="inner_cell">
    <div class="input_area">
<div class=" highlight hl-ipython2"><pre><span></span><span class="nb">type</span><span class="p">(</span><span class="nb">slice</span><span class="p">)</span>
</pre></div>

</div>
</div>
</div>

<div class="output_wrapper">
<div class="output">


<div class="output_area">

<div class="prompt output_prompt">Out[30]:</div>




<div class="output_text output_subarea output_execute_result">
<pre>pandas.core.frame.DataFrame</pre>
</div>

</div>

</div>
</div>

</div>
<div class="cell border-box-sizing text_cell rendered"><div class="prompt input_prompt">
</div>
<div class="inner_cell">
<div class="text_cell_render border-box-sizing rendered_html">
<h1 id="Vectorization">Vectorization<a class="anchor-link" href="#Vectorization">&#182;</a></h1><ul>
<li>Vectorized functions and operators work just as with series objects:</li>
</ul>

</div>
</div>
</div>
<div class="cell border-box-sizing code_cell rendered">
<div class="input">
<div class="prompt input_prompt">In&nbsp;[31]:</div>
<div class="inner_cell">
    <div class="input_area">
<div class=" highlight hl-ipython2"><pre><span></span><span class="n">df</span><span class="p">[</span><span class="s1">&#39;x&#39;</span><span class="p">]</span> <span class="o">+</span> <span class="n">df</span><span class="p">[</span><span class="s1">&#39;y&#39;</span><span class="p">]</span>
</pre></div>

</div>
</div>
</div>

<div class="output_wrapper">
<div class="output">


<div class="output_area">

<div class="prompt output_prompt">Out[31]:</div>




<div class="output_text output_subarea output_execute_result">
<pre>a     5
b     7
c     9
d   NaN
dtype: float64</pre>
</div>

</div>

</div>
</div>

</div>
<div class="cell border-box-sizing code_cell rendered">
<div class="input">
<div class="prompt input_prompt">In&nbsp;[32]:</div>
<div class="inner_cell">
    <div class="input_area">
<div class=" highlight hl-ipython2"><pre><span></span><span class="n">df</span> <span class="o">**</span> <span class="mi">2</span>
</pre></div>

</div>
</div>
</div>

<div class="output_wrapper">
<div class="output">


<div class="output_area">

<div class="prompt output_prompt">Out[32]:</div>



<div class="output_html rendered_html output_subarea output_execute_result">
<div style="max-height:1000px;max-width:1500px;overflow:auto;">
<table border="1" class="dataframe">
  <thead>
    <tr style="text-align: right;">
      <th></th>
      <th>x</th>
      <th>y</th>
      <th>z</th>
    </tr>
  </thead>
  <tbody>
    <tr>
      <th>a</th>
      <td>  1</td>
      <td> 16</td>
      <td> 0.01</td>
    </tr>
    <tr>
      <th>b</th>
      <td>  4</td>
      <td> 25</td>
      <td> 0.04</td>
    </tr>
    <tr>
      <th>c</th>
      <td>  9</td>
      <td> 36</td>
      <td> 0.09</td>
    </tr>
    <tr>
      <th>d</th>
      <td>NaN</td>
      <td> 49</td>
      <td> 0.16</td>
    </tr>
  </tbody>
</table>
</div>
</div>

</div>

</div>
</div>

</div>
<div class="cell border-box-sizing text_cell rendered"><div class="prompt input_prompt">
</div>
<div class="inner_cell">
<div class="text_cell_render border-box-sizing rendered_html">
<h1 id="Logical-indexing">Logical indexing<a class="anchor-link" href="#Logical-indexing">&#182;</a></h1><ul>
<li>We can use logical indexing to retrieve a subset of the data.</li>
</ul>

</div>
</div>
</div>
<div class="cell border-box-sizing code_cell rendered">
<div class="input">
<div class="prompt input_prompt">In&nbsp;[33]:</div>
<div class="inner_cell">
    <div class="input_area">
<div class=" highlight hl-ipython2"><pre><span></span><span class="n">df</span><span class="p">[</span><span class="s1">&#39;x&#39;</span><span class="p">]</span> <span class="o">&gt;=</span> <span class="mi">2</span>
</pre></div>

</div>
</div>
</div>

<div class="output_wrapper">
<div class="output">


<div class="output_area">

<div class="prompt output_prompt">Out[33]:</div>




<div class="output_text output_subarea output_execute_result">
<pre>a    False
b     True
c     True
d    False
Name: x, dtype: bool</pre>
</div>

</div>

</div>
</div>

</div>
<div class="cell border-box-sizing code_cell rendered">
<div class="input">
<div class="prompt input_prompt">In&nbsp;[34]:</div>
<div class="inner_cell">
    <div class="input_area">
<div class=" highlight hl-ipython2"><pre><span></span><span class="n">df</span><span class="p">[</span><span class="n">df</span><span class="p">[</span><span class="s1">&#39;x&#39;</span><span class="p">]</span> <span class="o">&gt;=</span> <span class="mi">2</span><span class="p">]</span>
</pre></div>

</div>
</div>
</div>

<div class="output_wrapper">
<div class="output">


<div class="output_area">

<div class="prompt output_prompt">Out[34]:</div>



<div class="output_html rendered_html output_subarea output_execute_result">
<div style="max-height:1000px;max-width:1500px;overflow:auto;">
<table border="1" class="dataframe">
  <thead>
    <tr style="text-align: right;">
      <th></th>
      <th>x</th>
      <th>y</th>
      <th>z</th>
    </tr>
  </thead>
  <tbody>
    <tr>
      <th>b</th>
      <td> 2</td>
      <td> 5</td>
      <td> 0.2</td>
    </tr>
    <tr>
      <th>c</th>
      <td> 3</td>
      <td> 6</td>
      <td> 0.3</td>
    </tr>
  </tbody>
</table>
</div>
</div>

</div>

</div>
</div>

</div>
<div class="cell border-box-sizing text_cell rendered"><div class="prompt input_prompt">
</div>
<div class="inner_cell">
<div class="text_cell_render border-box-sizing rendered_html">
<h1 id="Summary-statistics">Summary statistics<a class="anchor-link" href="#Summary-statistics">&#182;</a></h1>
</div>
</div>
</div>
<div class="cell border-box-sizing text_cell rendered"><div class="prompt input_prompt">
</div>
<div class="inner_cell">
<div class="text_cell_render border-box-sizing rendered_html">
<ul>
<li>To quickly obtain summary statistics on numerical values use the <code>describe</code> method.</li>
</ul>

</div>
</div>
</div>
<div class="cell border-box-sizing code_cell rendered">
<div class="input">
<div class="prompt input_prompt">In&nbsp;[35]:</div>
<div class="inner_cell">
    <div class="input_area">
<div class=" highlight hl-ipython2"><pre><span></span><span class="n">df</span><span class="o">.</span><span class="n">describe</span><span class="p">()</span>
</pre></div>

</div>
</div>
</div>

<div class="output_wrapper">
<div class="output">


<div class="output_area">

<div class="prompt output_prompt">Out[35]:</div>



<div class="output_html rendered_html output_subarea output_execute_result">
<div style="max-height:1000px;max-width:1500px;overflow:auto;">
<table border="1" class="dataframe">
  <thead>
    <tr style="text-align: right;">
      <th></th>
      <th>x</th>
      <th>y</th>
      <th>z</th>
    </tr>
  </thead>
  <tbody>
    <tr>
      <th>count</th>
      <td> 3.0</td>
      <td> 4.000000</td>
      <td> 4.000000</td>
    </tr>
    <tr>
      <th>mean</th>
      <td> 2.0</td>
      <td> 5.500000</td>
      <td> 0.250000</td>
    </tr>
    <tr>
      <th>std</th>
      <td> 1.0</td>
      <td> 1.290994</td>
      <td> 0.129099</td>
    </tr>
    <tr>
      <th>min</th>
      <td> 1.0</td>
      <td> 4.000000</td>
      <td> 0.100000</td>
    </tr>
    <tr>
      <th>25%</th>
      <td> 1.5</td>
      <td> 4.750000</td>
      <td> 0.175000</td>
    </tr>
    <tr>
      <th>50%</th>
      <td> 2.0</td>
      <td> 5.500000</td>
      <td> 0.250000</td>
    </tr>
    <tr>
      <th>75%</th>
      <td> 2.5</td>
      <td> 6.250000</td>
      <td> 0.325000</td>
    </tr>
    <tr>
      <th>max</th>
      <td> 3.0</td>
      <td> 7.000000</td>
      <td> 0.400000</td>
    </tr>
  </tbody>
</table>
</div>
</div>

</div>

</div>
</div>

</div>
<div class="cell border-box-sizing text_cell rendered"><div class="prompt input_prompt">
</div>
<div class="inner_cell">
<div class="text_cell_render border-box-sizing rendered_html">
<ul>
<li>The result is itself a DataFrame, so we can index a particular statistic like so:</li>
</ul>

</div>
</div>
</div>
<div class="cell border-box-sizing code_cell rendered">
<div class="input">
<div class="prompt input_prompt">In&nbsp;[36]:</div>
<div class="inner_cell">
    <div class="input_area">
<div class=" highlight hl-ipython2"><pre><span></span><span class="n">df</span><span class="o">.</span><span class="n">describe</span><span class="p">()[</span><span class="s1">&#39;x&#39;</span><span class="p">][</span><span class="s1">&#39;mean&#39;</span><span class="p">]</span>
</pre></div>

</div>
</div>
</div>

<div class="output_wrapper">
<div class="output">


<div class="output_area">

<div class="prompt output_prompt">Out[36]:</div>




<div class="output_text output_subarea output_execute_result">
<pre>2.0</pre>
</div>

</div>

</div>
</div>

</div>
<div class="cell border-box-sizing text_cell rendered"><div class="prompt input_prompt">
</div>
<div class="inner_cell">
<div class="text_cell_render border-box-sizing rendered_html">
<h1 id="Accessing-the-row-and-column-labels">Accessing the row and column labels<a class="anchor-link" href="#Accessing-the-row-and-column-labels">&#182;</a></h1><ul>
<li>The row labels (index) and column labels can be accessed:</li>
</ul>

</div>
</div>
</div>
<div class="cell border-box-sizing code_cell rendered">
<div class="input">
<div class="prompt input_prompt">In&nbsp;[37]:</div>
<div class="inner_cell">
    <div class="input_area">
<div class=" highlight hl-ipython2"><pre><span></span><span class="n">df</span><span class="o">.</span><span class="n">index</span>
</pre></div>

</div>
</div>
</div>

<div class="output_wrapper">
<div class="output">


<div class="output_area">

<div class="prompt output_prompt">Out[37]:</div>




<div class="output_text output_subarea output_execute_result">
<pre>Index([u&#39;a&#39;, u&#39;b&#39;, u&#39;c&#39;, u&#39;d&#39;], dtype=&#39;object&#39;)</pre>
</div>

</div>

</div>
</div>

</div>
<div class="cell border-box-sizing code_cell rendered">
<div class="input">
<div class="prompt input_prompt">In&nbsp;[38]:</div>
<div class="inner_cell">
    <div class="input_area">
<div class=" highlight hl-ipython2"><pre><span></span><span class="n">df</span><span class="o">.</span><span class="n">columns</span>
</pre></div>

</div>
</div>
</div>

<div class="output_wrapper">
<div class="output">


<div class="output_area">

<div class="prompt output_prompt">Out[38]:</div>




<div class="output_text output_subarea output_execute_result">
<pre>Index([u&#39;x&#39;, u&#39;y&#39;, u&#39;z&#39;], dtype=&#39;object&#39;)</pre>
</div>

</div>

</div>
</div>

</div>
<div class="cell border-box-sizing text_cell rendered"><div class="prompt input_prompt">
</div>
<div class="inner_cell">
<div class="text_cell_render border-box-sizing rendered_html">
<h1 id="Reading-data-from-a-database">Reading data from a database<a class="anchor-link" href="#Reading-data-from-a-database">&#182;</a></h1>
</div>
</div>
</div>
<div class="cell border-box-sizing text_cell rendered"><div class="prompt input_prompt">
</div>
<div class="inner_cell">
<div class="text_cell_render border-box-sizing rendered_html">
<ul>
<li><p>We can read a data frame from a database query using an <a href="https://dev.mysql.com/downloads/connector/odbc/">ODBC driver</a>.</p>
</li>
<li><p>We will need to import an additional Python module <code>sqlalchemy</code>.</p>
</li>
</ul>

</div>
</div>
</div>
<div class="cell border-box-sizing code_cell rendered">
<div class="input">
<div class="prompt input_prompt">In&nbsp;[39]:</div>
<div class="inner_cell">
    <div class="input_area">
<div class=" highlight hl-ipython2"><pre><span></span><span class="kn">import</span> <span class="nn">pandas</span> <span class="kn">as</span> <span class="nn">pd</span>
<span class="kn">from</span> <span class="nn">sqlalchemy</span> <span class="kn">import</span> <span class="n">create_engine</span>
</pre></div>

</div>
</div>
</div>

</div>
<div class="cell border-box-sizing text_cell rendered"><div class="prompt input_prompt">
</div>
<div class="inner_cell">
<div class="text_cell_render border-box-sizing rendered_html">
<ul>
<li>The following command creates a connection to the database<ul>
<li>but does not do anything with it, yet.</li>
</ul>
</li>
</ul>

</div>
</div>
</div>
<div class="cell border-box-sizing code_cell rendered">
<div class="input">
<div class="prompt input_prompt">In&nbsp;[40]:</div>
<div class="inner_cell">
    <div class="input_area">
<div class=" highlight hl-ipython2"><pre><span></span><span class="n">eng</span> <span class="o">=</span> <span class="n">create_engine</span><span class="p">(</span><span class="s1">&#39;mysql://guest1:<a href="/cdn-cgi/l/email-protection" class="__cf_email__" data-cfemail="f39486968087b3c2c1c4ddc3ddc3ddc2">[email&#160;protected]</a>/crime&#39;</span><span class="p">)</span>
</pre></div>

</div>
</div>
</div>

</div>
<div class="cell border-box-sizing text_cell rendered"><div class="prompt input_prompt">
</div>
<div class="inner_cell">
<div class="text_cell_render border-box-sizing rendered_html">
<ul>
<li><p>There are several functions starting with the names <code>read_&lt;source&gt;</code> in the pandas module.</p>
</li>
<li><p>To read from a database use <code>read_sql_query()</code>.</p>
</li>
<li><p>We specify the engine (above), and also which column we want to use as the index.</p>
</li>
<li><p>Pandas will automatically infer and parse different data types.</p>
</li>
</ul>

</div>
</div>
</div>
<div class="cell border-box-sizing code_cell rendered">
<div class="input">
<div class="prompt input_prompt">In&nbsp;[41]:</div>
<div class="inner_cell">
    <div class="input_area">
<div class=" highlight hl-ipython2"><pre><span></span><span class="n">dataset</span> <span class="o">=</span> <span class="n">pd</span><span class="o">.</span><span class="n">read_sql_query</span><span class="p">(</span><span class="s1">&#39;select * from crimes&#39;</span><span class="p">,</span> <span class="n">eng</span><span class="p">,</span> <span class="n">index_col</span><span class="o">=</span><span class="s1">&#39;date&#39;</span><span class="p">)</span>
</pre></div>

</div>
</div>
</div>

</div>
<div class="cell border-box-sizing text_cell rendered"><div class="prompt input_prompt">
</div>
<div class="inner_cell">
<div class="text_cell_render border-box-sizing rendered_html">
<h1 id="Head-and-tail">Head and tail<a class="anchor-link" href="#Head-and-tail">&#182;</a></h1><ul>
<li>Data frames have <code>head()</code> and <code>tail()</code> methods which behave analgously to the Unix commands of the same name.</li>
</ul>

</div>
</div>
</div>
<div class="cell border-box-sizing code_cell rendered">
<div class="input">
<div class="prompt input_prompt">In&nbsp;[42]:</div>
<div class="inner_cell">
    <div class="input_area">
<div class=" highlight hl-ipython2"><pre><span></span><span class="n">dataset</span><span class="o">.</span><span class="n">head</span><span class="p">()</span>
</pre></div>

</div>
</div>
</div>

<div class="output_wrapper">
<div class="output">


<div class="output_area">

<div class="prompt output_prompt">Out[42]:</div>



<div class="output_html rendered_html output_subarea output_execute_result">
<div style="max-height:1000px;max-width:1500px;overflow:auto;">
<table border="1" class="dataframe">
  <thead>
    <tr style="text-align: right;">
      <th></th>
      <th>id</th>
      <th>day</th>
      <th>district</th>
      <th>address</th>
      <th>longitude</th>
      <th>lattitude</th>
    </tr>
    <tr>
      <th>date</th>
      <th></th>
      <th></th>
      <th></th>
      <th></th>
      <th></th>
      <th></th>
    </tr>
  </thead>
  <tbody>
    <tr>
      <th>2015-05-10</th>
      <td> 0</td>
      <td> Sunday</td>
      <td>   BAYVIEW</td>
      <td>  2000 Block of THOMAS AV</td>
      <td>-122</td>
      <td> 38</td>
    </tr>
    <tr>
      <th>2015-05-10</th>
      <td> 1</td>
      <td> Sunday</td>
      <td>   BAYVIEW</td>
      <td>       3RD ST / REVERE AV</td>
      <td>-122</td>
      <td> 38</td>
    </tr>
    <tr>
      <th>2015-05-10</th>
      <td> 2</td>
      <td> Sunday</td>
      <td>  NORTHERN</td>
      <td>   2000 Block of GOUGH ST</td>
      <td>-122</td>
      <td> 38</td>
    </tr>
    <tr>
      <th>2015-05-10</th>
      <td> 3</td>
      <td> Sunday</td>
      <td> INGLESIDE</td>
      <td> 4700 Block of MISSION ST</td>
      <td>-122</td>
      <td> 38</td>
    </tr>
    <tr>
      <th>2015-05-10</th>
      <td> 4</td>
      <td> Sunday</td>
      <td> INGLESIDE</td>
      <td> 4700 Block of MISSION ST</td>
      <td>-122</td>
      <td> 38</td>
    </tr>
  </tbody>
</table>
</div>
</div>

</div>

</div>
</div>

</div>
<div class="cell border-box-sizing code_cell rendered">
<div class="input">
<div class="prompt input_prompt">In&nbsp;[43]:</div>
<div class="inner_cell">
    <div class="input_area">
<div class=" highlight hl-ipython2"><pre><span></span><span class="n">dataset</span><span class="o">.</span><span class="n">tail</span><span class="p">()</span>
</pre></div>

</div>
</div>
</div>

<div class="output_wrapper">
<div class="output">


<div class="output_area">

<div class="prompt output_prompt">Out[43]:</div>



<div class="output_html rendered_html output_subarea output_execute_result">
<div style="max-height:1000px;max-width:1500px;overflow:auto;">
<table border="1" class="dataframe">
  <thead>
    <tr style="text-align: right;">
      <th></th>
      <th>id</th>
      <th>day</th>
      <th>district</th>
      <th>address</th>
      <th>longitude</th>
      <th>lattitude</th>
    </tr>
    <tr>
      <th>date</th>
      <th></th>
      <th></th>
      <th></th>
      <th></th>
      <th></th>
      <th></th>
    </tr>
  </thead>
  <tbody>
    <tr>
      <th>2003-01-01</th>
      <td> 884257</td>
      <td> Wednesday</td>
      <td>   MISSION</td>
      <td>     2600 Block of BRYANT ST</td>
      <td>-122</td>
      <td> 38</td>
    </tr>
    <tr>
      <th>2003-01-01</th>
      <td> 884258</td>
      <td> Wednesday</td>
      <td>  NORTHERN</td>
      <td> 1900 Block of WASHINGTON ST</td>
      <td>-122</td>
      <td> 38</td>
    </tr>
    <tr>
      <th>2003-01-01</th>
      <td> 884259</td>
      <td> Wednesday</td>
      <td> INGLESIDE</td>
      <td>    5500 Block of MISSION ST</td>
      <td>-122</td>
      <td> 38</td>
    </tr>
    <tr>
      <th>2003-01-01</th>
      <td> 884260</td>
      <td> Wednesday</td>
      <td>   BAYVIEW</td>
      <td>     1500 Block of HUDSON AV</td>
      <td>-122</td>
      <td> 38</td>
    </tr>
    <tr>
      <th>2003-01-01</th>
      <td> 884261</td>
      <td> Wednesday</td>
      <td>   TARAVAL</td>
      <td>      1500 Block of SLOAT BL</td>
      <td>-122</td>
      <td> 38</td>
    </tr>
  </tbody>
</table>
</div>
</div>

</div>

</div>
</div>

</div>
<div class="cell border-box-sizing text_cell rendered"><div class="prompt input_prompt">
</div>
<div class="inner_cell">
<div class="text_cell_render border-box-sizing rendered_html">
<h1 id="Grouping">Grouping<a class="anchor-link" href="#Grouping">&#182;</a></h1><ul>
<li><p>We can summarise by first partitioning data into groups, and then reducing to a summary statistic.</p>
</li>
<li><p>To get summary data on lattitude values by district:</p>
</li>
</ul>

</div>
</div>
</div>
<div class="cell border-box-sizing code_cell rendered">
<div class="input">
<div class="prompt input_prompt">In&nbsp;[44]:</div>
<div class="inner_cell">
    <div class="input_area">
<div class=" highlight hl-ipython2"><pre><span></span><span class="n">dataset</span><span class="o">.</span><span class="n">groupby</span><span class="p">(</span><span class="s1">&#39;district&#39;</span><span class="p">)[</span><span class="s1">&#39;longitude&#39;</span><span class="p">]</span><span class="o">.</span><span class="n">describe</span><span class="p">()</span>
</pre></div>

</div>
</div>
</div>

<div class="output_wrapper">
<div class="output">


<div class="output_area">

<div class="prompt output_prompt">Out[44]:</div>




<div class="output_text output_subarea output_execute_result">
<pre>district       
BAYVIEW   count    89591.000000
          mean      -121.999955
          std          0.008184
          min       -123.000000
          25%       -122.000000
          50%       -122.000000
          75%       -122.000000
          max       -121.000000
CENTRAL   count    86130.000000
          mean      -121.999965
          std          0.005902
          min       -122.000000
          25%       -122.000000
          50%       -122.000000
          75%       -122.000000
...
TARAVAL     mean      -122.119504
            std          0.324476
            min       -123.000000
            25%       -122.000000
            50%       -122.000000
            75%       -122.000000
            max       -121.000000
TENDERLOIN  count    81747.000000
            mean      -121.999768
            std          0.015244
            min       -122.000000
            25%       -122.000000
            50%       -122.000000
            75%       -122.000000
            max       -121.000000
Length: 80, dtype: float64</pre>
</div>

</div>

</div>
</div>

</div>
<div class="cell border-box-sizing text_cell rendered"><div class="prompt input_prompt">
</div>
<div class="inner_cell">
<div class="text_cell_render border-box-sizing rendered_html">
<h1 id="Search-by-regular-expression">Search by regular expression<a class="anchor-link" href="#Search-by-regular-expression">&#182;</a></h1>
</div>
</div>
</div>
<div class="cell border-box-sizing code_cell rendered">
<div class="input">
<div class="prompt input_prompt">In&nbsp;[45]:</div>
<div class="inner_cell">
    <div class="input_area">
<div class=" highlight hl-ipython2"><pre><span></span><span class="n">dataset</span><span class="p">[</span><span class="n">dataset</span><span class="o">.</span><span class="n">address</span><span class="o">.</span><span class="n">str</span><span class="o">.</span><span class="n">match</span><span class="p">(</span><span class="s1">&#39;[0-9]+ [Bb]lock of MISSION ST&#39;</span><span class="p">)]</span><span class="o">.</span><span class="n">head</span><span class="p">()</span>
</pre></div>

</div>
</div>
</div>

<div class="output_wrapper">
<div class="output">


<div class="output_area">

<div class="prompt output_prompt">Out[45]:</div>



<div class="output_html rendered_html output_subarea output_execute_result">
<div style="max-height:1000px;max-width:1500px;overflow:auto;">
<table border="1" class="dataframe">
  <thead>
    <tr style="text-align: right;">
      <th></th>
      <th>id</th>
      <th>day</th>
      <th>district</th>
      <th>address</th>
      <th>longitude</th>
      <th>lattitude</th>
    </tr>
    <tr>
      <th>date</th>
      <th></th>
      <th></th>
      <th></th>
      <th></th>
      <th></th>
      <th></th>
    </tr>
  </thead>
  <tbody>
    <tr>
      <th>2015-05-10</th>
      <td>   3</td>
      <td> Sunday</td>
      <td> INGLESIDE</td>
      <td> 4700 Block of MISSION ST</td>
      <td>-122</td>
      <td> 38</td>
    </tr>
    <tr>
      <th>2015-05-10</th>
      <td>   4</td>
      <td> Sunday</td>
      <td> INGLESIDE</td>
      <td> 4700 Block of MISSION ST</td>
      <td>-122</td>
      <td> 38</td>
    </tr>
    <tr>
      <th>2015-05-10</th>
      <td> 140</td>
      <td> Sunday</td>
      <td>  SOUTHERN</td>
      <td>  700 Block of MISSION ST</td>
      <td>-122</td>
      <td> 38</td>
    </tr>
    <tr>
      <th>2015-05-10</th>
      <td> 163</td>
      <td> Sunday</td>
      <td>  SOUTHERN</td>
      <td>  800 Block of MISSION ST</td>
      <td>-122</td>
      <td> 38</td>
    </tr>
    <tr>
      <th>2015-05-10</th>
      <td> 228</td>
      <td> Sunday</td>
      <td> INGLESIDE</td>
      <td> 4100 Block of MISSION ST</td>
      <td>-122</td>
      <td> 38</td>
    </tr>
  </tbody>
</table>
</div>
</div>

</div>

</div>
</div>

</div>
<div class="cell border-box-sizing text_cell rendered"><div class="prompt input_prompt">
</div>
<div class="inner_cell">
<div class="text_cell_render border-box-sizing rendered_html">
<h1 id="Data-frames-behave-like-relations">Data frames behave like relations<a class="anchor-link" href="#Data-frames-behave-like-relations">&#182;</a></h1><ul>
<li><p>Data frames have a relational aspect.</p>
</li>
<li><p>We can perform joins, unions etc..</p>
</li>
</ul>

</div>
</div>
</div>
<div class="cell border-box-sizing text_cell rendered"><div class="prompt input_prompt">
</div>
<div class="inner_cell">
<div class="text_cell_render border-box-sizing rendered_html">
<ul>
<li>The <code>student</code> relation from the databases course can be represented as a data frame.</li>
</ul>

</div>
</div>
</div>
<div class="cell border-box-sizing code_cell rendered">
<div class="input">
<div class="prompt input_prompt">In&nbsp;[46]:</div>
<div class="inner_cell">
    <div class="input_area">
<div class=" highlight hl-ipython2"><pre><span></span><span class="n">student</span> <span class="o">=</span> <span class="n">pd</span><span class="o">.</span><span class="n">DataFrame</span><span class="p">({</span> 
        <span class="s1">&#39;name&#39;</span><span class="p">:</span> <span class="p">[</span><span class="s1">&#39;Smith&#39;</span><span class="p">,</span> <span class="s1">&#39;Brown&#39;</span><span class="p">,</span> <span class="s1">&#39;Phelps&#39;</span><span class="p">],</span>       
        <span class="s1">&#39;student_number&#39;</span><span class="p">:</span> <span class="p">[</span><span class="mi">17</span><span class="p">,</span> <span class="mi">8</span><span class="p">,</span> <span class="mi">666</span><span class="p">]</span>
        <span class="p">})</span>
<span class="n">student</span>
</pre></div>

</div>
</div>
</div>

<div class="output_wrapper">
<div class="output">


<div class="output_area">

<div class="prompt output_prompt">Out[46]:</div>



<div class="output_html rendered_html output_subarea output_execute_result">
<div style="max-height:1000px;max-width:1500px;overflow:auto;">
<table border="1" class="dataframe">
  <thead>
    <tr style="text-align: right;">
      <th></th>
      <th>name</th>
      <th>student_number</th>
    </tr>
  </thead>
  <tbody>
    <tr>
      <th>0</th>
      <td>  Smith</td>
      <td>  17</td>
    </tr>
    <tr>
      <th>1</th>
      <td>  Brown</td>
      <td>   8</td>
    </tr>
    <tr>
      <th>2</th>
      <td> Phelps</td>
      <td> 666</td>
    </tr>
  </tbody>
</table>
</div>
</div>

</div>

</div>
</div>

</div>
<div class="cell border-box-sizing text_cell rendered"><div class="prompt input_prompt">
</div>
<div class="inner_cell">
<div class="text_cell_render border-box-sizing rendered_html">
<ul>
<li>Notice that we were able to give the index a name by setting the <code>name</code> attribute of the <code>index</code> attribute.</li>
</ul>

</div>
</div>
</div>
<div class="cell border-box-sizing text_cell rendered"><div class="prompt input_prompt">
</div>
<div class="inner_cell">
<div class="text_cell_render border-box-sizing rendered_html">
<ul>
<li>Similarly for the <code>grade_report</code> relation:</li>
</ul>

</div>
</div>
</div>
<div class="cell border-box-sizing code_cell rendered">
<div class="input">
<div class="prompt input_prompt">In&nbsp;[47]:</div>
<div class="inner_cell">
    <div class="input_area">
<div class=" highlight hl-ipython2"><pre><span></span><span class="n">grade_report</span> <span class="o">=</span> <span class="n">pd</span><span class="o">.</span><span class="n">DataFrame</span><span class="p">({</span>
        <span class="s1">&#39;student_number&#39;</span><span class="p">:</span> <span class="p">[</span><span class="mi">17</span><span class="p">,</span> <span class="mi">17</span><span class="p">,</span> <span class="mi">8</span><span class="p">,</span> <span class="mi">8</span><span class="p">,</span> <span class="mi">8</span><span class="p">,</span> <span class="mi">8</span><span class="p">],</span>
        <span class="s1">&#39;section_identifier&#39;</span><span class="p">:</span> <span class="p">[</span><span class="mi">112</span><span class="p">,</span> <span class="mi">119</span><span class="p">,</span> <span class="mi">85</span><span class="p">,</span> <span class="mi">92</span><span class="p">,</span> <span class="mi">102</span><span class="p">,</span> <span class="mi">135</span><span class="p">],</span>
        <span class="s1">&#39;grade&#39;</span><span class="p">:</span> <span class="p">[</span><span class="s1">&#39;B&#39;</span><span class="p">,</span> <span class="s1">&#39;A&#39;</span><span class="p">,</span> <span class="s1">&#39;A&#39;</span><span class="p">,</span> <span class="s1">&#39;A&#39;</span><span class="p">,</span> <span class="s1">&#39;B&#39;</span><span class="p">,</span> <span class="s1">&#39;A&#39;</span><span class="p">]</span>
        <span class="p">})</span>
<span class="n">grade_report</span>
</pre></div>

</div>
</div>
</div>

<div class="output_wrapper">
<div class="output">


<div class="output_area">

<div class="prompt output_prompt">Out[47]:</div>



<div class="output_html rendered_html output_subarea output_execute_result">
<div style="max-height:1000px;max-width:1500px;overflow:auto;">
<table border="1" class="dataframe">
  <thead>
    <tr style="text-align: right;">
      <th></th>
      <th>grade</th>
      <th>section_identifier</th>
      <th>student_number</th>
    </tr>
  </thead>
  <tbody>
    <tr>
      <th>0</th>
      <td> B</td>
      <td> 112</td>
      <td> 17</td>
    </tr>
    <tr>
      <th>1</th>
      <td> A</td>
      <td> 119</td>
      <td> 17</td>
    </tr>
    <tr>
      <th>2</th>
      <td> A</td>
      <td>  85</td>
      <td>  8</td>
    </tr>
    <tr>
      <th>3</th>
      <td> A</td>
      <td>  92</td>
      <td>  8</td>
    </tr>
    <tr>
      <th>4</th>
      <td> B</td>
      <td> 102</td>
      <td>  8</td>
    </tr>
    <tr>
      <th>5</th>
      <td> A</td>
      <td> 135</td>
      <td>  8</td>
    </tr>
  </tbody>
</table>
</div>
</div>

</div>

</div>
</div>

</div>
<div class="cell border-box-sizing text_cell rendered"><div class="prompt input_prompt">
</div>
<div class="inner_cell">
<div class="text_cell_render border-box-sizing rendered_html">
<h1 id="Inner-joins-using-merge">Inner joins using merge<a class="anchor-link" href="#Inner-joins-using-merge">&#182;</a></h1>
</div>
</div>
</div>
<div class="cell border-box-sizing code_cell rendered">
<div class="input">
<div class="prompt input_prompt">In&nbsp;[48]:</div>
<div class="inner_cell">
    <div class="input_area">
<div class=" highlight hl-ipython2"><pre><span></span><span class="n">student</span><span class="o">.</span><span class="n">merge</span><span class="p">(</span><span class="n">grade_report</span><span class="p">,</span> <span class="n">on</span><span class="o">=</span><span class="s1">&#39;student_number&#39;</span><span class="p">)</span>
</pre></div>

</div>
</div>
</div>

<div class="output_wrapper">
<div class="output">


<div class="output_area">

<div class="prompt output_prompt">Out[48]:</div>



<div class="output_html rendered_html output_subarea output_execute_result">
<div style="max-height:1000px;max-width:1500px;overflow:auto;">
<table border="1" class="dataframe">
  <thead>
    <tr style="text-align: right;">
      <th></th>
      <th>name</th>
      <th>student_number</th>
      <th>grade</th>
      <th>section_identifier</th>
    </tr>
  </thead>
  <tbody>
    <tr>
      <th>0</th>
      <td> Smith</td>
      <td> 17</td>
      <td> B</td>
      <td> 112</td>
    </tr>
    <tr>
      <th>1</th>
      <td> Smith</td>
      <td> 17</td>
      <td> A</td>
      <td> 119</td>
    </tr>
    <tr>
      <th>2</th>
      <td> Brown</td>
      <td>  8</td>
      <td> A</td>
      <td>  85</td>
    </tr>
    <tr>
      <th>3</th>
      <td> Brown</td>
      <td>  8</td>
      <td> A</td>
      <td>  92</td>
    </tr>
    <tr>
      <th>4</th>
      <td> Brown</td>
      <td>  8</td>
      <td> B</td>
      <td> 102</td>
    </tr>
    <tr>
      <th>5</th>
      <td> Brown</td>
      <td>  8</td>
      <td> A</td>
      <td> 135</td>
    </tr>
  </tbody>
</table>
</div>
</div>

</div>

</div>
</div>

</div>
<div class="cell border-box-sizing text_cell rendered"><div class="prompt input_prompt">
</div>
<div class="inner_cell">
<div class="text_cell_render border-box-sizing rendered_html">
<h1 id="Left-outer-join">Left outer join<a class="anchor-link" href="#Left-outer-join">&#182;</a></h1>
</div>
</div>
</div>
<div class="cell border-box-sizing code_cell rendered">
<div class="input">
<div class="prompt input_prompt">In&nbsp;[49]:</div>
<div class="inner_cell">
    <div class="input_area">
<div class=" highlight hl-ipython2"><pre><span></span><span class="n">student</span><span class="o">.</span><span class="n">merge</span><span class="p">(</span><span class="n">grade_report</span><span class="p">,</span> <span class="n">on</span><span class="o">=</span><span class="s1">&#39;student_number&#39;</span><span class="p">,</span> <span class="n">how</span><span class="o">=</span><span class="s1">&#39;left&#39;</span><span class="p">)</span>
</pre></div>

</div>
</div>
</div>

<div class="output_wrapper">
<div class="output">


<div class="output_area">

<div class="prompt output_prompt">Out[49]:</div>



<div class="output_html rendered_html output_subarea output_execute_result">
<div style="max-height:1000px;max-width:1500px;overflow:auto;">
<table border="1" class="dataframe">
  <thead>
    <tr style="text-align: right;">
      <th></th>
      <th>name</th>
      <th>student_number</th>
      <th>grade</th>
      <th>section_identifier</th>
    </tr>
  </thead>
  <tbody>
    <tr>
      <th>0</th>
      <td>  Smith</td>
      <td>  17</td>
      <td>   B</td>
      <td> 112</td>
    </tr>
    <tr>
      <th>1</th>
      <td>  Smith</td>
      <td>  17</td>
      <td>   A</td>
      <td> 119</td>
    </tr>
    <tr>
      <th>2</th>
      <td>  Brown</td>
      <td>   8</td>
      <td>   A</td>
      <td>  85</td>
    </tr>
    <tr>
      <th>3</th>
      <td>  Brown</td>
      <td>   8</td>
      <td>   A</td>
      <td>  92</td>
    </tr>
    <tr>
      <th>4</th>
      <td>  Brown</td>
      <td>   8</td>
      <td>   B</td>
      <td> 102</td>
    </tr>
    <tr>
      <th>5</th>
      <td>  Brown</td>
      <td>   8</td>
      <td>   A</td>
      <td> 135</td>
    </tr>
    <tr>
      <th>6</th>
      <td> Phelps</td>
      <td> 666</td>
      <td> NaN</td>
      <td> NaN</td>
    </tr>
  </tbody>
</table>
</div>
</div>

</div>

</div>
</div>

</div>
<div class="cell border-box-sizing text_cell rendered"><div class="prompt input_prompt">
</div>
<div class="inner_cell">
<div class="text_cell_render border-box-sizing rendered_html">
<h1 id="Financial-data">Financial data<a class="anchor-link" href="#Financial-data">&#182;</a></h1><ul>
<li><p>Pandas was originally developed to analyse financial data.</p>
</li>
<li><p>It has <a href="http://pandas.pydata.org/pandas-docs/stable/remote_data.html">built-in functions</a> for retrieving data from Google, Yahoo Finance etc..</p>
</li>
<li><p>The following example will retrieve the data for "GSK" from Yahoo Finance.</p>
</li>
</ul>

</div>
</div>
</div>
<div class="cell border-box-sizing code_cell rendered">
<div class="input">
<div class="prompt input_prompt">In&nbsp;[50]:</div>
<div class="inner_cell">
    <div class="input_area">
<div class=" highlight hl-ipython2"><pre><span></span><span class="kn">import</span> <span class="nn">pandas.io.data</span> <span class="kn">as</span> <span class="nn">web</span>
<span class="kn">import</span> <span class="nn">datetime</span>
<span class="n">start</span> <span class="o">=</span> <span class="n">datetime</span><span class="o">.</span><span class="n">datetime</span><span class="p">(</span><span class="mi">2010</span><span class="p">,</span> <span class="mi">1</span><span class="p">,</span> <span class="mi">1</span><span class="p">)</span>
<span class="n">end</span> <span class="o">=</span> <span class="n">datetime</span><span class="o">.</span><span class="n">datetime</span><span class="p">(</span><span class="mi">2013</span><span class="p">,</span> <span class="mi">1</span><span class="p">,</span> <span class="mi">27</span><span class="p">)</span>
<span class="n">gsk</span> <span class="o">=</span> <span class="n">web</span><span class="o">.</span><span class="n">DataReader</span><span class="p">(</span><span class="s2">&quot;GSK&quot;</span><span class="p">,</span> <span class="s1">&#39;yahoo&#39;</span><span class="p">,</span> <span class="n">start</span><span class="p">,</span> <span class="n">end</span><span class="p">)</span>
<span class="n">gsk</span><span class="o">.</span><span class="n">head</span><span class="p">()</span>
</pre></div>

</div>
</div>
</div>

<div class="output_wrapper">
<div class="output">


<div class="output_area">

<div class="prompt output_prompt">Out[50]:</div>



<div class="output_html rendered_html output_subarea output_execute_result">
<div style="max-height:1000px;max-width:1500px;overflow:auto;">
<table border="1" class="dataframe">
  <thead>
    <tr style="text-align: right;">
      <th></th>
      <th>Open</th>
      <th>High</th>
      <th>Low</th>
      <th>Close</th>
      <th>Volume</th>
      <th>Adj Close</th>
    </tr>
    <tr>
      <th>Date</th>
      <th></th>
      <th></th>
      <th></th>
      <th></th>
      <th></th>
      <th></th>
    </tr>
  </thead>
  <tbody>
    <tr>
      <th>2010-01-04</th>
      <td> 43.080002</td>
      <td> 43.130001</td>
      <td> 42.889999</td>
      <td> 42.970001</td>
      <td> 1046500</td>
      <td> 31.339488</td>
    </tr>
    <tr>
      <th>2010-01-05</th>
      <td> 41.990002</td>
      <td> 42.080002</td>
      <td> 41.619999</td>
      <td> 41.830002</td>
      <td> 1619800</td>
      <td> 30.508047</td>
    </tr>
    <tr>
      <th>2010-01-06</th>
      <td> 41.560001</td>
      <td> 41.700001</td>
      <td> 41.290001</td>
      <td> 41.340000</td>
      <td> 1850100</td>
      <td> 30.150672</td>
    </tr>
    <tr>
      <th>2010-01-07</th>
      <td> 41.400002</td>
      <td> 41.549999</td>
      <td> 41.020000</td>
      <td> 41.480000</td>
      <td> 1762500</td>
      <td> 30.252779</td>
    </tr>
    <tr>
      <th>2010-01-08</th>
      <td> 41.060001</td>
      <td> 41.160000</td>
      <td> 40.770000</td>
      <td> 41.099998</td>
      <td> 2952100</td>
      <td> 29.975631</td>
    </tr>
  </tbody>
</table>
</div>
</div>

</div>

</div>
</div>

</div>
<div class="cell border-box-sizing code_cell rendered">
<div class="input">
<div class="prompt input_prompt">In&nbsp;[51]:</div>
<div class="inner_cell">
    <div class="input_area">
<div class=" highlight hl-ipython2"><pre><span></span><span class="c1">## Volume as a time series</span>

<span class="o">%</span><span class="k">matplotlib</span> inline

<span class="n">ax</span> <span class="o">=</span> <span class="n">gsk</span><span class="p">[</span><span class="s1">&#39;Volume&#39;</span><span class="p">]</span><span class="o">.</span><span class="n">plot</span><span class="p">()</span>
</pre></div>

</div>
</div>
</div>

<div class="output_wrapper">
<div class="output">


<div class="output_area">

<div class="prompt"></div>




<div class="output_png output_subarea ">
<img src="data:image/png;base64,iVBORw0KGgoAAAANSUhEUgAAAW8AAAEWCAYAAACpERYdAAAABHNCSVQICAgIfAhkiAAAAAlwSFlz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"
>
</div>

</div>

</div>
</div>

</div>
<div class="cell border-box-sizing text_cell rendered"><div class="prompt input_prompt">
</div>
<div class="inner_cell">
<div class="text_cell_render border-box-sizing rendered_html">
<h2 id="Adjusted-closing-prices-as-a-time-series">Adjusted closing prices as a time series<a class="anchor-link" href="#Adjusted-closing-prices-as-a-time-series">&#182;</a></h2>
</div>
</div>
</div>
<div class="cell border-box-sizing code_cell rendered">
<div class="input">
<div class="prompt input_prompt">In&nbsp;[52]:</div>
<div class="inner_cell">
    <div class="input_area">
<div class=" highlight hl-ipython2"><pre><span></span><span class="n">gsk</span><span class="p">[</span><span class="s1">&#39;Adj Close&#39;</span><span class="p">]</span><span class="o">.</span><span class="n">plot</span><span class="p">()</span>
</pre></div>

</div>
</div>
</div>

<div class="output_wrapper">
<div class="output">


<div class="output_area">

<div class="prompt output_prompt">Out[52]:</div>




<div class="output_text output_subarea output_execute_result">
<pre>&lt;matplotlib.axes._subplots.AxesSubplot at 0x7f8ece5c2dd0&gt;</pre>
</div>

</div>

<div class="output_area">

<div class="prompt"></div>




<div class="output_png output_subarea ">
<img src="data:image/png;base64,iVBORw0KGgoAAAANSUhEUgAAAW8AAAEQCAYAAAB/SPUAAAAABHNCSVQICAgIfAhkiAAAAAlwSFlz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"
>
</div>

</div>

</div>
</div>

</div>
<div class="cell border-box-sizing code_cell rendered">
<div class="input">
<div class="prompt input_prompt">In&nbsp;[53]:</div>
<div class="inner_cell">
    <div class="input_area">
<div class=" highlight hl-ipython2"><pre><span></span><span class="c1">## We can slice a range of dates</span>
</pre></div>

</div>
</div>
</div>

</div>
<div class="cell border-box-sizing code_cell rendered">
<div class="input">
<div class="prompt input_prompt">In&nbsp;[54]:</div>
<div class="inner_cell">
    <div class="input_area">
<div class=" highlight hl-ipython2"><pre><span></span><span class="n">gsk</span><span class="p">[</span><span class="s1">&#39;Adj Close&#39;</span><span class="p">][</span><span class="s1">&#39;1-1-2011&#39;</span><span class="p">:</span><span class="s1">&#39;1-1-2013&#39;</span><span class="p">]</span><span class="o">.</span><span class="n">plot</span><span class="p">()</span>
</pre></div>

</div>
</div>
</div>

<div class="output_wrapper">
<div class="output">


<div class="output_area">

<div class="prompt output_prompt">Out[54]:</div>




<div class="output_text output_subarea output_execute_result">
<pre>&lt;matplotlib.axes._subplots.AxesSubplot at 0x7f8ecc7a4450&gt;</pre>
</div>

</div>

<div class="output_area">

<div class="prompt"></div>




<div class="output_png output_subarea ">
<img src="data:image/png;base64,iVBORw0KGgoAAAANSUhEUgAAAWwAAAEPCAYAAABm//5NAAAABHNCSVQICAgIfAhkiAAAAAlwSFlz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"
>
</div>

</div>

</div>
</div>

</div>
<div class="cell border-box-sizing text_cell rendered"><div class="prompt input_prompt">
</div>
<div class="inner_cell">
<div class="text_cell_render border-box-sizing rendered_html">
<ul>
<li>We can <em>resample</em> to obtain weekly prices</li>
</ul>

</div>
</div>
</div>
<div class="cell border-box-sizing code_cell rendered">
<div class="input">
<div class="prompt input_prompt">In&nbsp;[55]:</div>
<div class="inner_cell">
    <div class="input_area">
<div class=" highlight hl-ipython2"><pre><span></span><span class="n">weekly_prices</span> <span class="o">=</span> <span class="n">gsk</span><span class="p">[</span><span class="s1">&#39;Adj Close&#39;</span><span class="p">]</span><span class="o">.</span><span class="n">resample</span><span class="p">(</span><span class="s1">&#39;1w&#39;</span><span class="p">)</span>
<span class="n">weekly_prices</span><span class="o">.</span><span class="n">plot</span><span class="p">()</span>
</pre></div>

</div>
</div>
</div>

<div class="output_wrapper">
<div class="output">


<div class="output_area">

<div class="prompt output_prompt">Out[55]:</div>




<div class="output_text output_subarea output_execute_result">
<pre>&lt;matplotlib.axes._subplots.AxesSubplot at 0x7f8ed10c8a90&gt;</pre>
</div>

</div>

<div class="output_area">

<div class="prompt"></div>




<div class="output_png output_subarea ">
<img src="data:image/png;base64,iVBORw0KGgoAAAANSUhEUgAAAXIAAAEbCAYAAADH3w+bAAAABHNCSVQICAgIfAhkiAAAAAlwSFlz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"
>
</div>

</div>

</div>
</div>

</div>
<div class="cell border-box-sizing code_cell rendered">
<div class="input">
<div class="prompt input_prompt">In&nbsp;[56]:</div>
<div class="inner_cell">
    <div class="input_area">
<div class=" highlight hl-ipython2"><pre><span></span><span class="kn">import</span> <span class="nn">matplotlib.pyplot</span> <span class="kn">as</span> <span class="nn">plt</span>
<span class="n">weekly_rets</span> <span class="o">=</span> <span class="n">np</span><span class="o">.</span><span class="n">diff</span><span class="p">(</span><span class="n">np</span><span class="o">.</span><span class="n">log</span><span class="p">(</span><span class="n">weekly_prices</span><span class="p">))</span>
<span class="n">plt</span><span class="o">.</span><span class="n">plot</span><span class="p">(</span><span class="n">weekly_rets</span><span class="p">)</span>
</pre></div>

</div>
</div>
</div>

<div class="output_wrapper">
<div class="output">


<div class="output_area">

<div class="prompt output_prompt">Out[56]:</div>




<div class="output_text output_subarea output_execute_result">
<pre>[&lt;matplotlib.lines.Line2D at 0x7f8ec4a14f90&gt;]</pre>
</div>

</div>

<div class="output_area">

<div class="prompt"></div>




<div class="output_png output_subarea ">
<img src="data:image/png;base64,iVBORw0KGgoAAAANSUhEUgAAAYYAAAEACAYAAAC3adEgAAAABHNCSVQICAgIfAhkiAAAAAlwSFlz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"
>
</div>

</div>

</div>
</div>

</div>
<div class="cell border-box-sizing code_cell rendered">
<div class="input">
<div class="prompt input_prompt">In&nbsp;[57]:</div>
<div class="inner_cell">
    <div class="input_area">
<div class=" highlight hl-ipython2"><pre><span></span><span class="n">ax</span> <span class="o">=</span> <span class="n">plt</span><span class="o">.</span><span class="n">hist</span><span class="p">(</span><span class="n">weekly_rets</span><span class="p">)</span>
</pre></div>

</div>
</div>
</div>

<div class="output_wrapper">
<div class="output">


<div class="output_area">

<div class="prompt"></div>




<div class="output_png output_subarea ">
<img src="data:image/png;base64,iVBORw0KGgoAAAANSUhEUgAAAXcAAAEACAYAAABI5zaHAAAABHNCSVQICAgIfAhkiAAAAAlwSFlz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"
>
</div>

</div>

</div>
</div>

</div>
 


    </div>
  </div>

  </div>


  
    <footer class="footer hidden-print">
      <div class="container">
        <div class="col-md-4">
          <p>
            This website does not host notebooks, it only renders notebooks
            available on other websites.
          </p>
        </div>

        <div class="col-md-4">
          <p>
            Delivered by <a href="http://www.fastly.com/">Fastly</a>,
            Rendered by <a href="https://developer.rackspace.com/?nbviewer=awesome">Rackspace</a>
          </p>
          <p>
            nbviewer GitHub <a href="https://github.com/jupyter/nbviewer">repository</a>.
          </p>
        </div>

        <div class="col-md-4">
          
  
            
              <p>
                nbviewer version:
                <a href="https://github.com/jupyter/nbviewer/commit/38e181afeec4b7527a8a13ef7c3814e36045244c">
                  38e181a
                </a>
              </p>
            
          
  
  <p>
    nbconvert version: <a href="https://github.com/jupyter/nbconvert/releases/tag/5.3.1">
      5.3.1
    </a>
  </p>
  

          
  
  
  <p>
    Rendered
    <span class='date' data-date='Sun, 17 Jun 2018 13:06:37 UTC' title='Sun, 17 Jun 2018 13:06:37 UTC'>(Sun, 17 Jun 2018 13:06:37 UTC)</span>
  </p>
  

        </div>
      </div>
    </footer>
  

  <script data-cfasync="false" src="/cdn-cgi/scripts/f2bf09f8/cloudflare-static/email-decode.min.js"></script><script src="/static/components/bootstrap/js/bootstrap.min.js?v=5869c96cc8f19086aee625d670d741f9"></script>
  <script src="/static/components/headroom.js/dist/headroom.min.js?v=b0a311ea668f8e768ea375f4a7abb81c"></script>
  <script src="/static/components/headroom.js/dist/jQuery.headroom.min.js?v=f3a1bae118315d0c234afc74dc6aab71"></script>

  
  
  <script>
    $(function(){ $("#menubar").headroom({
      tolerance: 5,
      offset: 205,
      classes: {
        initial: "animated",
        pinned: "slideInDown",
        unpinned: "slideOutUp"
      }
    })});
  </script>


  
  <script>
    (function(i,s,o,g,r,a,m){i['GoogleAnalyticsObject']=r;i[r]=i[r]||function(){
      (i[r].q=i[r].q||[]).push(arguments)},i[r].l=1*new Date();a=s.createElement(o),
      m=s.getElementsByTagName(o)[0];a.async=1;a.src=g;m.parentNode.insertBefore(a,m)
    })(window,document,'script','https://www.google-analytics.com/analytics.js','ga');
    ga('create', 'UA-52617120-5', 'auto',
       {'storage': 'none'});
    ga('set', 'anonymizeIp', true);
    ga('send', 'pageview');
  </script>
  
  <script>
    require({
        paths: {
          moment: "/static/components/moment/min/moment.min.js?v=89f87298ad94aa1e6b92f42eb66da043"
        }
      }, ["moment"], function(moment){
      var date = $("footer .date"),
        m = moment(new Date(date.data('date'))),
        update = function(){ date.text(m.fromNow()); };
      setInterval(update, 61*1000);
      update();
      var w = $(window).scroll(function(event){
        $("body").toggleClass("scrolled", w.scrollTop() > 0);
      });
    });
  </script>

  <!--NEW RELIC Stop Perf Measurement-->
  
  <!--NEW RELIC End-->
</body>
</html>