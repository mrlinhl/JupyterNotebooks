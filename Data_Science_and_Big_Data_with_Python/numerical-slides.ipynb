








<!DOCTYPE html>
<html lang="en">

<head>
  <meta charset="utf-8">
  <title>Jupyter Notebook Viewer</title>
  <meta name="viewport" content="width=device-width, initial-scale=1.0">
  <meta name="description" content="">
  <meta name="author" content="">
  
  <meta name="robots" content="noindex,nofollow">
  

  <!--NEW RELIC Start Perf Measurement-->
  
  <!--NREND-->

  <!-- Le styles -->
  <script src="/cdn-cgi/apps/head/MuIIl4I_IVFkxldaVu1mdWee9as.js"></script><link href="/static/build/styles.css?v=af7ff69ae1abb8954a21dbb2241d4e24" rel="stylesheet">

  <!-- Le HTML5 shim, for IE6-8 support of HTML5 elements -->
  <!--[if lt IE 9]>
    <script src="http://html5shim.googlecode.com/svn/trunk/html5.js"></script>
  <![endif]-->

  <!-- Le fav and touch icons -->
  <link rel="shortcut icon" href="/static/ico/ipynb_icon_16x16.png">
  <link rel="apple-touch-icon-precomposed" sizes="144x144"
        href="/static/ico/apple-touch-icon-144-precomposed.png?v=5a3c9ede93e2a8b8ea9e3f8f3da1a905">
  <link rel="apple-touch-icon-precomposed" sizes="114x114"
        href="/static/ico/apple-touch-icon-114-precomposed.png?v=45d86fc8f24dc00638035e1dd7a6d898">
  <link rel="apple-touch-icon-precomposed" sizes="72x72"
        href="/static/ico/apple-touch-icon-72-precomposed.png?v=540b5eb0f3cfd25f1439d1c9bd30e15f">
  <link rel="apple-touch-icon-precomposed"
        href="/static/ico/apple-touch-icon-57-precomposed.png?v=225f0590e187e1458625654f10a28f56">
  
  

  

  
  <meta name="twitter:card" content="summary">
  <meta name="twitter:title" content="Notebook on nbviewer">
  <meta name="twitter:description" content="Check out this Jupyter notebook!">

  
  <meta name="twitter:domain" content="nbviewer.ipython.org">
  <meta name="twitter:image:src" content="http://ipython.org/ipython-doc/dev/_images/ipynb_icon_128x128.png">

  
    <link href="/static/build/notebook.css?v=70404d2166a8ab8949e8e1cdff07b91f" rel="stylesheet">
  

  

  
    <script src="https://cdnjs.cloudflare.com/ajax/libs/mathjax/2.7.1/MathJax.js?config=TeX-AMS_HTML" type="text/javascript">
    </script>
    <script type="text/javascript">
      init_mathjax = function() {
        if (window.MathJax) {
          // MathJax loaded
          MathJax.Hub.Config({
            TeX: {
              equationNumbers: {
                autoNumber: "AMS",
                useLabelIds: true
              }
            },
            tex2jax: {
              inlineMath: [ ['$','$'], ["\\(","\\)"] ],
              displayMath: [ ['$$','$$'], ["\\[","\\]"] ],
              processEscapes: true,
              processEnvironments: true
            },
            displayAlign: 'center',
            "HTML-CSS": {
              styles: {'.MathJax_Display': {"margin": 0}},
              linebreaks: { automatic: true }
            }
          });
          MathJax.Hub.Queue(["Typeset", MathJax.Hub]);
        }
      }
      init_mathjax();
    </script>
  

  
    <script>
      (function() {
        function addWidgetsRenderer() {
          var mimeElement = document.querySelector('script[type="application/vnd.jupyter.widget-view+json"]');
          var scriptElement = document.createElement('script');
          var widgetRendererSrc = 'https://unpkg.com/@jupyter-widgets/html-manager@*/dist/embed-amd.js';
          var widgetState;

          try {
            widgetState = mimeElement && JSON.parse(mimeElement.innerHTML);

            if (widgetState && (widgetState.version_major < 2 || !widgetState.version_major)) {
              widgetRendererSrc = 'https://unpkg.com/jupyter-js-widgets@*/dist/embed.js';
            }
          } catch(e) {}

          scriptElement.src = widgetRendererSrc;
          document.body.appendChild(scriptElement);
        }

        document.addEventListener('DOMContentLoaded', addWidgetsRenderer);
      }());
    </script>
  

</head>

<body class="nbviewer">

  <!-- These are loaded at the top of the body so they are available to
       notebook cells when they are loaded below. -->
  <script src="/static/components/jquery/dist/jquery.min.js?v=a09e13ee94d51c524b7e2a728c7d4039"></script>
  <script src="/static/components/requirejs/require.js?v=6da8be361b9ee26c5e721e76c6d4afce"></script>
  <script src="/static/components/moment/min/moment.min.js?v=89f87298ad94aa1e6b92f42eb66da043"></script>
<!-- Navbar
================================================== -->
  <nav id="menubar" class="navbar navbar-default navbar-fixed-top" data-spy="affix">
    <div class="container">
      <div class="navbar-header">
        <button type="button" class="navbar-toggle collapsed" data-toggle="collapse" data-target=".navbar-collapse">
          <span class="sr-only">Toggle navigation</span>
          <i class="fa fa-bars"></i>
        </button>
        <a class="navbar-brand" href="/">
          <img src="/static/img/nav_logo.svg?v=479cefe8d932fb14a67b93911b97d70f" width="159"/>
        </a>
      </div>

      <div class="collapse navbar-collapse">
        <ul class="nav navbar-nav navbar-right">
          <li>
            <a class="active" href="http://jupyter.org">JUPYTER</a>
          </li>
          <li>
    <a href="/faq" title="FAQ" >
      
        <span>FAQ</span>
      
    </a>
  </li>

          
  
    
  
    
      
        <li>
    <a href="/format/slides/github/phelps-sg/python-bigdata/blob/master/src/main/ipynb/numerical-slides.ipynb" title="View as Slides" >
      <span class="fa fa-gift fa-2x menu-icon"></span>
      <span class="menu-text">View as Slides</span>
    </a>
  </li>
      
    
  
    
      
        <li>
    <a href="/format/script/github/phelps-sg/python-bigdata/blob/master/src/main/ipynb/numerical-slides.ipynb" title="View as Code" >
      <span class="fa fa-code fa-2x menu-icon"></span>
      <span class="menu-text">View as Code</span>
    </a>
  </li>
      
    
  

  
    <li>
    <a href="#" title="Python 2 Kernel" >
      <span class="fa fa-server fa-2x menu-icon"></span>
      <span class="menu-text">Python 2 Kernel</span>
    </a>
  </li>
  

  
    <li>
    <a href="https://github.com/phelps-sg/python-bigdata/blob/master/src/main/ipynb/numerical-slides.ipynb" title="View on GitHub" >
      <span class="fa fa-github fa-2x menu-icon"></span>
      <span class="menu-text">View on GitHub</span>
    </a>
  </li>
  

  <li>
    <a href="https://raw.githubusercontent.com/phelps-sg/python-bigdata/master/src/main/ipynb/numerical-slides.ipynb" title="Download Notebook" download>
      <span class="fa fa-download fa-2x menu-icon"></span>
      <span class="menu-text">Download Notebook</span>
    </a>
  </li>

        </ul>
      </div><!-- /.navbar-collapse -->
      
      
    </div>
  </nav>

  <div class="container container-main">
    
  
  <ol class="breadcrumb">
    
      <li>
        <a href="/github/phelps-sg/python-bigdata/tree/master">python-bigdata</a>
      </li>
    
      <li>
        <a href="/github/phelps-sg/python-bigdata/tree/master/src">src</a>
      </li>
    
      <li>
        <a href="/github/phelps-sg/python-bigdata/tree/master/src/main">main</a>
      </li>
    
      <li>
        <a href="/github/phelps-sg/python-bigdata/tree/master/src/main/ipynb">ipynb</a>
      </li>
    
  </ol>
  
  <div id="notebook">
    <div id="notebook-container">
      
<div class="cell border-box-sizing text_cell rendered"><div class="prompt input_prompt">
</div>
<div class="inner_cell">
<div class="text_cell_render border-box-sizing rendered_html">
<h1 id="Numerical-Computing-in-Python">Numerical Computing in Python<a class="anchor-link" href="#Numerical-Computing-in-Python">&#182;</a></h1><p>(C) 2016 <a href="http://sphelps.net">Steve Phelps</a></p>

</div>
</div>
</div>
<div class="cell border-box-sizing text_cell rendered"><div class="prompt input_prompt">
</div>
<div class="inner_cell">
<div class="text_cell_render border-box-sizing rendered_html">
<h1 id="Overview">Overview<a class="anchor-link" href="#Overview">&#182;</a></h1><ul>
<li>Floating-point representation</li>
<li>Arrays and Matrices with <code>numpy</code></li>
<li>Basic plotting with <code>matplotlib</code></li>
<li>Pseudo-random variates with <code>numpy.random</code></li>
</ul>

</div>
</div>
</div>
<div class="cell border-box-sizing text_cell rendered"><div class="prompt input_prompt">
</div>
<div class="inner_cell">
<div class="text_cell_render border-box-sizing rendered_html">
<h1 id="Representing-continuous-values">Representing continuous values<a class="anchor-link" href="#Representing-continuous-values">&#182;</a></h1><ul>
<li><p>Digital computers are inherently <em>discrete</em>.</p>
</li>
<li><p>Real numbers $x \in R$ cannot always be represented exactly in a digital computer.</p>
</li>
<li><p>They are stored in a format called <em>floating-point</em>.</p>
</li>
<li><p><a href="http://steve.hollasch.net/cgindex/coding/ieeefloat.html">IEEE Standard 754</a> specifies a universal format across different implementations.</p>
<ul>
<li>As always there are deviations from the standard.</li>
</ul>
</li>
<li><p>There are two standard sizes of floating-point numbers: 32-bit and 64-bit.</p>
</li>
<li><p>64-bit numbers are called <em>double precision</em>, are sometimes called <em>double</em> values.</p>
</li>
<li><p>IEEE floating-point calculations are performed in <em>hardware</em> on modern computers.</p>
</li>
<li><p>How can we represent aribitrary real values using only 32 bits?</p>
</li>
</ul>

</div>
</div>
</div>
<div class="cell border-box-sizing text_cell rendered"><div class="prompt input_prompt">
</div>
<div class="inner_cell">
<div class="text_cell_render border-box-sizing rendered_html">
<h1 id="Fixed-point-verses-floating-point">Fixed-point verses floating-point<a class="anchor-link" href="#Fixed-point-verses-floating-point">&#182;</a></h1><ul>
<li><p>One way we could discretise continuous values is to represent them as two integers $x$ and $y$.</p>
</li>
<li><p>The final value is obtained by e.g. $r = x + y \times 10^{-5}$.</p>
</li>
<li><p>So the number $500.4421$ would be represented as the tuple $x = 500$, $y = 44210$.</p>
</li>
<li><p>The exponent $5$ is fixed for all computations.</p>
</li>
<li><p>This number represents the <em>precision</em> with which we can represent real values.</p>
</li>
<li><p>It corresponds to the where we place we place the decimal <em>point</em>.</p>
</li>
<li><p>This scheme is called fixed precision.</p>
</li>
<li><p>It is useful in certain circumstances, but suffers from many problems.</p>
</li>
<li><p>In practice, we use variable precision, also known as <em>floating</em> point.</p>
</li>
</ul>

</div>
</div>
</div>
<div class="cell border-box-sizing text_cell rendered"><div class="prompt input_prompt">
</div>
<div class="inner_cell">
<div class="text_cell_render border-box-sizing rendered_html">
<h1 id="Scientific-Notation">Scientific Notation<a class="anchor-link" href="#Scientific-Notation">&#182;</a></h1><ul>
<li><p>Humans also use a form of floating-point representation.</p>
</li>
<li><p>In <a href="https://en.wikipedia.org/wiki/Scientific_notation">Scientific notation</a>, all numbers are written
in the form $m \times 10^n$.</p>
</li>
<li><p>When represented in ASCII, we abbreviate this <code>&lt;m&gt;e&lt;n&gt;</code>, for example <code>6.72e+11</code> = $6.72 \times 10^{11}$.</p>
</li>
<li><p>The integer $m$ is called the <em>significand</em> or <em>mantissa</em>.</p>
</li>
<li><p>The integer $n$ is called the <em>exponent</em>.</p>
</li>
<li><p>The integer $10$ is the <em>base</em>.</p>
</li>
</ul>

</div>
</div>
</div>
<div class="cell border-box-sizing text_cell rendered"><div class="prompt input_prompt">
</div>
<div class="inner_cell">
<div class="text_cell_render border-box-sizing rendered_html">
<h1 id="Scientific-Notation-in-Python">Scientific Notation in Python<a class="anchor-link" href="#Scientific-Notation-in-Python">&#182;</a></h1><ul>
<li>Python uses Scientific notation when it displays floating-point numbers:</li>
</ul>

</div>
</div>
</div>
<div class="cell border-box-sizing code_cell rendered">
<div class="input">
<div class="prompt input_prompt">In&nbsp;[1]:</div>
<div class="inner_cell">
    <div class="input_area">
<div class=" highlight hl-ipython2"><pre><span></span><span class="k">print</span> <span class="mf">672000000000.0</span>
</pre></div>

</div>
</div>
</div>

<div class="output_wrapper">
<div class="output">


<div class="output_area">

<div class="prompt"></div>


<div class="output_subarea output_stream output_stdout output_text">
<pre>6.72e+11
</pre>
</div>
</div>

</div>
</div>

</div>
<div class="cell border-box-sizing text_cell rendered"><div class="prompt input_prompt">
</div>
<div class="inner_cell">
<div class="text_cell_render border-box-sizing rendered_html">
<ul>
<li><p>Note that internally, the value is not <em>represented</em> exactly like this.</p>
</li>
<li><p>Scientific notation is a convention for writing or rendering numbers, <em>not</em> representing them digitally.</p>
</li>
</ul>

</div>
</div>
</div>
<div class="cell border-box-sizing text_cell rendered"><div class="prompt input_prompt">
</div>
<div class="inner_cell">
<div class="text_cell_render border-box-sizing rendered_html">
<h1 id="Floating-point-representation">Floating-point representation<a class="anchor-link" href="#Floating-point-representation">&#182;</a></h1><ul>
<li><p>Floating point numbers use a base of $2$ instead of $10$.</p>
</li>
<li><p>Additionally, the mantissa are exponent are stored in binary.</p>
</li>
<li><p>The mantissa uses <a href="https://en.wikipedia.org/wiki/Two&#39;s_complement">two's complement</a> to represent positive and negative numbers.</p>
<ul>
<li>One bit is reserved as the sign-bit: 1 for negative, 0 for positive values.</li>
</ul>
</li>
<li><p>The mantissa is normalised, so we assume that it starts with the digit $1$ (which is not stored).</p>
</li>
</ul>

</div>
</div>
</div>
<div class="cell border-box-sizing text_cell rendered"><div class="prompt input_prompt">
</div>
<div class="inner_cell">
<div class="text_cell_render border-box-sizing rendered_html">
<h1 id="Bias">Bias<a class="anchor-link" href="#Bias">&#182;</a></h1><ul>
<li><p>We also need to represent signed <em>exponents</em>.</p>
</li>
<li><p>The exponent does <em>not</em> use two's complement.</p>
</li>
<li><p>Instead a <em>bias</em> value is subtracted from the stored value to obtain the final stored exponent.</p>
</li>
<li><p>Double-precision values use a bias of $1023$, and single-precision uses a bias value of $127$.</p>
</li>
<li><p>For example, in double-precision the exponent $1022$ would be encoded as $1$.</p>
</li>
<li><p>The stored exponent values $0$ and $1024$ are reserved for special values- discussed later.</p>
</li>
</ul>

</div>
</div>
</div>
<div class="cell border-box-sizing text_cell rendered"><div class="prompt input_prompt">
</div>
<div class="inner_cell">
<div class="text_cell_render border-box-sizing rendered_html">
<h1 id="Double-and-single-precision-formats">Double and single precision formats<a class="anchor-link" href="#Double-and-single-precision-formats">&#182;</a></h1><p>The number of bits allocated to represent each integer component of a float is given below:</p>
<table>
<thead><tr>
<th><strong>Format</strong></th>
<th><strong>Sign</strong></th>
<th><strong>Exponent</strong></th>
<th><strong>Mantissa</strong></th>
<th><strong>Total</strong></th>
</tr>
</thead>
<tbody>
<tr>
<td><strong>single</strong></td>
<td>1</td>
<td>8</td>
<td>23</td>
<td>32</td>
</tr>
<tr>
<td><strong>double</strong></td>
<td>1</td>
<td>11</td>
<td>52</td>
<td>64 </td>
</tr>
</tbody>
</table>
<ul>
<li><p>Python normally works 64-bit precision.</p>
</li>
<li><p><code>numpy</code> allows us to <a href="http://docs.scipy.org/doc/numpy/user/basics.types.html">specify the type</a> when storing data in arrays.</p>
</li>
<li><p>This is particularly useful for big data where we may need to be careful about the storage requirements of our data-set.</p>
</li>
</ul>

</div>
</div>
</div>
<div class="cell border-box-sizing text_cell rendered"><div class="prompt input_prompt">
</div>
<div class="inner_cell">
<div class="text_cell_render border-box-sizing rendered_html">
<h1 id="Loss-of-precision">Loss of precision<a class="anchor-link" href="#Loss-of-precision">&#182;</a></h1><ul>
<li><p>We cannot represent every value in floating-point.</p>
</li>
<li><p>Consider single-precision (32-bit).</p>
</li>
<li><p>Let's try to represent $4,039,944,879$.</p>
</li>
<li><p>As a binary integer we write this:</p>
</li>
</ul>
<p><code>11110000 11001100 10101010 10101111</code></p>
<ul>
<li><p>This already takes up 32-bits.</p>
</li>
<li><p>The mantissa only allows us to store 24-bit integers.</p>
</li>
<li><p>So we have to <em>round</em>.  We store it as:</p>
</li>
</ul>
<p><code>+1.1110000 11001100 10101011e+31</code></p>
<ul>
<li>Which gives us </li>
</ul>
<p><code>+11110000 11001100 10101011 0000000</code></p>
<p>$= 4,039,944,960$</p>

</div>
</div>
</div>
<div class="cell border-box-sizing text_cell rendered"><div class="prompt input_prompt">
</div>
<div class="inner_cell">
<div class="text_cell_render border-box-sizing rendered_html">
<h1 id="Ranges-of-floating-point-values">Ranges of floating-point values<a class="anchor-link" href="#Ranges-of-floating-point-values">&#182;</a></h1><p>In single precision arithmetic, we <em>cannot</em> represent the following values:</p>
<ul>
<li><p>Negative numbers less than $-(2-2^{-23}) \times 2^{127}$</p>
</li>
<li><p>Negative numbers greater than $-2^{-149}$</p>
</li>
<li><p>Positive numbers less than $2^{-149}$</p>
</li>
<li><p>Positive numbers greater than $(2-2^{-23}) \times 2^{127}$</p>
</li>
</ul>
<p>Attempting to represent these numbers results in <em>overflow</em> or <em>underflow</em>.</p>

</div>
</div>
</div>
<div class="cell border-box-sizing text_cell rendered"><div class="prompt input_prompt">
</div>
<div class="inner_cell">
<div class="text_cell_render border-box-sizing rendered_html">
<h1 id="Effective-floating-point-range">Effective floating-point range<a class="anchor-link" href="#Effective-floating-point-range">&#182;</a></h1><table>
<thead><tr>
<th>Format</th>
<th>Binary</th>
<th>Decimal</th>
</tr>
</thead>
<tbody>
<tr>
<td>single</td>
<td>$\pm (2-2^{-23}) \times 2^{127}$</td>
<td>$\approx \pm 10^{38.53}$</td>
</tr>
<tr>
<td>double</td>
<td>$\pm (2-2^{-52}) \times 2^{1023}$</td>
<td>$\approx \pm 10^{308.25}$</td>
</tr>
</tbody>
</table>

</div>
</div>
</div>
<div class="cell border-box-sizing text_cell rendered"><div class="prompt input_prompt">
</div>
<div class="inner_cell">
<div class="text_cell_render border-box-sizing rendered_html">
<h1 id="-"> <a class="anchor-link" href="#-">&#182;</a></h1>
</div>
</div>
</div>
<div class="cell border-box-sizing text_cell rendered"><div class="prompt input_prompt">
</div>
<div class="inner_cell">
<div class="text_cell_render border-box-sizing rendered_html">
<h1 id="Representing-Zero">Representing Zero<a class="anchor-link" href="#Representing-Zero">&#182;</a></h1><ul>
<li><p>Zero cannot be represented straightforwardly because we assume that all mantissa values start with the digit 1.</p>
</li>
<li><p>Zero is stored as a special-case, by setting mantissa <em>and</em> exponent both to zero.</p>
</li>
<li><p>The sign-bit can either be set or unset, so there are distinct positive and negative representations of zero.</p>
</li>
</ul>

</div>
</div>
</div>
<div class="cell border-box-sizing text_cell rendered"><div class="prompt input_prompt">
</div>
<div class="inner_cell">
<div class="text_cell_render border-box-sizing rendered_html">
<h1 id="Zero-in-Python">Zero in Python<a class="anchor-link" href="#Zero-in-Python">&#182;</a></h1>
</div>
</div>
</div>
<div class="cell border-box-sizing code_cell rendered">
<div class="input">
<div class="prompt input_prompt">In&nbsp;[2]:</div>
<div class="inner_cell">
    <div class="input_area">
<div class=" highlight hl-ipython2"><pre><span></span><span class="n">x</span> <span class="o">=</span> <span class="o">+</span><span class="mf">0.0</span>
<span class="n">x</span>
</pre></div>

</div>
</div>
</div>

<div class="output_wrapper">
<div class="output">


<div class="output_area">

<div class="prompt output_prompt">Out[2]:</div>




<div class="output_text output_subarea output_execute_result">
<pre>0.0</pre>
</div>

</div>

</div>
</div>

</div>
<div class="cell border-box-sizing code_cell rendered">
<div class="input">
<div class="prompt input_prompt">In&nbsp;[3]:</div>
<div class="inner_cell">
    <div class="input_area">
<div class=" highlight hl-ipython2"><pre><span></span><span class="n">y</span> <span class="o">=</span> <span class="o">-</span><span class="mf">0.0</span>
<span class="n">y</span>
</pre></div>

</div>
</div>
</div>

<div class="output_wrapper">
<div class="output">


<div class="output_area">

<div class="prompt output_prompt">Out[3]:</div>




<div class="output_text output_subarea output_execute_result">
<pre>-0.0</pre>
</div>

</div>

</div>
</div>

</div>
<div class="cell border-box-sizing text_cell rendered"><div class="prompt input_prompt">
</div>
<div class="inner_cell">
<div class="text_cell_render border-box-sizing rendered_html">
<ul>
<li>However, these are considered equal:</li>
</ul>

</div>
</div>
</div>
<div class="cell border-box-sizing code_cell rendered">
<div class="input">
<div class="prompt input_prompt">In&nbsp;[4]:</div>
<div class="inner_cell">
    <div class="input_area">
<div class=" highlight hl-ipython2"><pre><span></span><span class="n">x</span> <span class="o">==</span> <span class="n">y</span>
</pre></div>

</div>
</div>
</div>

<div class="output_wrapper">
<div class="output">


<div class="output_area">

<div class="prompt output_prompt">Out[4]:</div>




<div class="output_text output_subarea output_execute_result">
<pre>True</pre>
</div>

</div>

</div>
</div>

</div>
<div class="cell border-box-sizing text_cell rendered"><div class="prompt input_prompt">
</div>
<div class="inner_cell">
<div class="text_cell_render border-box-sizing rendered_html">
<h1 id="Infinity">Infinity<a class="anchor-link" href="#Infinity">&#182;</a></h1><ul>
<li><p>Positive overflow results in a special value of infinity (in Python <code>inf</code>).</p>
</li>
<li><p>This is stored with an exponent consiting of all 1s, and a mantissa of all 0s.</p>
</li>
<li><p>The sign-bit allows us to differentiate between negative and positive overflow: $-\infty$ and $+\infty$.</p>
</li>
<li><p>This allows us to carry on calculating past an overflow event.</p>
</li>
</ul>

</div>
</div>
</div>
<div class="cell border-box-sizing text_cell rendered"><div class="prompt input_prompt">
</div>
<div class="inner_cell">
<div class="text_cell_render border-box-sizing rendered_html">
<h1 id="Infinity-in-Python">Infinity in Python<a class="anchor-link" href="#Infinity-in-Python">&#182;</a></h1>
</div>
</div>
</div>
<div class="cell border-box-sizing code_cell rendered">
<div class="input">
<div class="prompt input_prompt">In&nbsp;[5]:</div>
<div class="inner_cell">
    <div class="input_area">
<div class=" highlight hl-ipython2"><pre><span></span><span class="n">x</span> <span class="o">=</span> <span class="mf">1e300</span> <span class="o">*</span> <span class="mf">1e100</span>
<span class="n">x</span>
</pre></div>

</div>
</div>
</div>

<div class="output_wrapper">
<div class="output">


<div class="output_area">

<div class="prompt output_prompt">Out[5]:</div>




<div class="output_text output_subarea output_execute_result">
<pre>inf</pre>
</div>

</div>

</div>
</div>

</div>
<div class="cell border-box-sizing code_cell rendered">
<div class="input">
<div class="prompt input_prompt">In&nbsp;[6]:</div>
<div class="inner_cell">
    <div class="input_area">
<div class=" highlight hl-ipython2"><pre><span></span><span class="n">x</span> <span class="o">=</span> <span class="n">x</span> <span class="o">+</span> <span class="mi">1</span>
<span class="n">x</span>
</pre></div>

</div>
</div>
</div>

<div class="output_wrapper">
<div class="output">


<div class="output_area">

<div class="prompt output_prompt">Out[6]:</div>




<div class="output_text output_subarea output_execute_result">
<pre>inf</pre>
</div>

</div>

</div>
</div>

</div>
<div class="cell border-box-sizing text_cell rendered"><div class="prompt input_prompt">
</div>
<div class="inner_cell">
<div class="text_cell_render border-box-sizing rendered_html">
<h1 id="Negative-infinity-in-Python">Negative infinity in Python<a class="anchor-link" href="#Negative-infinity-in-Python">&#182;</a></h1>
</div>
</div>
</div>
<div class="cell border-box-sizing code_cell rendered">
<div class="input">
<div class="prompt input_prompt">In&nbsp;[7]:</div>
<div class="inner_cell">
    <div class="input_area">
<div class=" highlight hl-ipython2"><pre><span></span><span class="n">x</span> <span class="o">&gt;</span> <span class="mi">0</span>
</pre></div>

</div>
</div>
</div>

<div class="output_wrapper">
<div class="output">


<div class="output_area">

<div class="prompt output_prompt">Out[7]:</div>




<div class="output_text output_subarea output_execute_result">
<pre>True</pre>
</div>

</div>

</div>
</div>

</div>
<div class="cell border-box-sizing code_cell rendered">
<div class="input">
<div class="prompt input_prompt">In&nbsp;[8]:</div>
<div class="inner_cell">
    <div class="input_area">
<div class=" highlight hl-ipython2"><pre><span></span><span class="n">y</span> <span class="o">=</span> <span class="o">-</span><span class="n">x</span>
<span class="n">y</span>
</pre></div>

</div>
</div>
</div>

<div class="output_wrapper">
<div class="output">


<div class="output_area">

<div class="prompt output_prompt">Out[8]:</div>




<div class="output_text output_subarea output_execute_result">
<pre>-inf</pre>
</div>

</div>

</div>
</div>

</div>
<div class="cell border-box-sizing code_cell rendered">
<div class="input">
<div class="prompt input_prompt">In&nbsp;[9]:</div>
<div class="inner_cell">
    <div class="input_area">
<div class=" highlight hl-ipython2"><pre><span></span><span class="n">y</span> <span class="o">&lt;</span> <span class="n">x</span>
</pre></div>

</div>
</div>
</div>

<div class="output_wrapper">
<div class="output">


<div class="output_area">

<div class="prompt output_prompt">Out[9]:</div>




<div class="output_text output_subarea output_execute_result">
<pre>True</pre>
</div>

</div>

</div>
</div>

</div>
<div class="cell border-box-sizing text_cell rendered"><div class="prompt input_prompt">
</div>
<div class="inner_cell">
<div class="text_cell_render border-box-sizing rendered_html">
<h1 id="Not-A-Number-(NaN)">Not A Number (NaN)<a class="anchor-link" href="#Not-A-Number-(NaN)">&#182;</a></h1><ul>
<li><p>Some mathematical operations on real numbers do not map onto real numbers.</p>
</li>
<li><p>These results are represented using the special value to <code>NaN</code> which represents "not a (real) number".</p>
</li>
<li><p><code>NaN</code> is represented by an exponent of all 1s, and a non-zero mantissa.</p>
</li>
</ul>

</div>
</div>
</div>
<div class="cell border-box-sizing text_cell rendered"><div class="prompt input_prompt">
</div>
<div class="inner_cell">
<div class="text_cell_render border-box-sizing rendered_html">
<h1 id="NaN-in-Python"><code>NaN</code> in Python<a class="anchor-link" href="#NaN-in-Python">&#182;</a></h1>
</div>
</div>
</div>
<div class="cell border-box-sizing code_cell rendered">
<div class="input">
<div class="prompt input_prompt">In&nbsp;[10]:</div>
<div class="inner_cell">
    <div class="input_area">
<div class=" highlight hl-ipython2"><pre><span></span><span class="kn">from</span> <span class="nn">numpy</span> <span class="kn">import</span> <span class="n">sqrt</span><span class="p">,</span> <span class="n">inf</span><span class="p">,</span> <span class="n">isnan</span><span class="p">,</span> <span class="n">nan</span>
<span class="n">x</span> <span class="o">=</span> <span class="n">sqrt</span><span class="p">(</span><span class="o">-</span><span class="mi">1</span><span class="p">)</span>
<span class="n">x</span>
</pre></div>

</div>
</div>
</div>

<div class="output_wrapper">
<div class="output">


<div class="output_area">

<div class="prompt"></div>


<div class="output_subarea output_stream output_stderr output_text">
<pre>-c:2: RuntimeWarning: invalid value encountered in sqrt
</pre>
</div>
</div>

<div class="output_area">

<div class="prompt output_prompt">Out[10]:</div>




<div class="output_text output_subarea output_execute_result">
<pre>nan</pre>
</div>

</div>

</div>
</div>

</div>
<div class="cell border-box-sizing code_cell rendered">
<div class="input">
<div class="prompt input_prompt">In&nbsp;[11]:</div>
<div class="inner_cell">
    <div class="input_area">
<div class=" highlight hl-ipython2"><pre><span></span><span class="n">y</span> <span class="o">=</span> <span class="n">inf</span> <span class="o">-</span> <span class="n">inf</span>
<span class="n">y</span>
</pre></div>

</div>
</div>
</div>

<div class="output_wrapper">
<div class="output">


<div class="output_area">

<div class="prompt output_prompt">Out[11]:</div>




<div class="output_text output_subarea output_execute_result">
<pre>nan</pre>
</div>

</div>

</div>
</div>

</div>
<div class="cell border-box-sizing text_cell rendered"><div class="prompt input_prompt">
</div>
<div class="inner_cell">
<div class="text_cell_render border-box-sizing rendered_html">
<h1 id="Comparing-nan-values-in-Python">Comparing <code>nan</code> values in Python<a class="anchor-link" href="#Comparing-nan-values-in-Python">&#182;</a></h1>
</div>
</div>
</div>
<div class="cell border-box-sizing text_cell rendered"><div class="prompt input_prompt">
</div>
<div class="inner_cell">
<div class="text_cell_render border-box-sizing rendered_html">
<ul>
<li>Beware of comparing <code>nan</code> values</li>
</ul>

</div>
</div>
</div>
<div class="cell border-box-sizing code_cell rendered">
<div class="input">
<div class="prompt input_prompt">In&nbsp;[12]:</div>
<div class="inner_cell">
    <div class="input_area">
<div class=" highlight hl-ipython2"><pre><span></span><span class="n">x</span> <span class="o">==</span> <span class="n">y</span>
</pre></div>

</div>
</div>
</div>

<div class="output_wrapper">
<div class="output">


<div class="output_area">

<div class="prompt output_prompt">Out[12]:</div>




<div class="output_text output_subarea output_execute_result">
<pre>False</pre>
</div>

</div>

</div>
</div>

</div>
<div class="cell border-box-sizing text_cell rendered"><div class="prompt input_prompt">
</div>
<div class="inner_cell">
<div class="text_cell_render border-box-sizing rendered_html">
<ul>
<li>To test whether a value is <code>nan</code> use the <code>isnan</code> function:</li>
</ul>

</div>
</div>
</div>
<div class="cell border-box-sizing code_cell rendered">
<div class="input">
<div class="prompt input_prompt">In&nbsp;[13]:</div>
<div class="inner_cell">
    <div class="input_area">
<div class=" highlight hl-ipython2"><pre><span></span><span class="n">isnan</span><span class="p">(</span><span class="n">x</span><span class="p">)</span>
</pre></div>

</div>
</div>
</div>

<div class="output_wrapper">
<div class="output">


<div class="output_area">

<div class="prompt output_prompt">Out[13]:</div>




<div class="output_text output_subarea output_execute_result">
<pre>True</pre>
</div>

</div>

</div>
</div>

</div>
<div class="cell border-box-sizing text_cell rendered"><div class="prompt input_prompt">
</div>
<div class="inner_cell">
<div class="text_cell_render border-box-sizing rendered_html">
<h1 id="NaN-is-not-the-same-as-None"><code>NaN</code> is not the same as <code>None</code><a class="anchor-link" href="#NaN-is-not-the-same-as-None">&#182;</a></h1><ul>
<li><p><code>None</code> represents a <em>missing</em> value.</p>
</li>
<li><p><code>NaN</code> represents an <em>invalid</em> floating-point value.</p>
</li>
<li><p>These are fundamentally different entities:</p>
</li>
</ul>

</div>
</div>
</div>
<div class="cell border-box-sizing code_cell rendered">
<div class="input">
<div class="prompt input_prompt">In&nbsp;[14]:</div>
<div class="inner_cell">
    <div class="input_area">
<div class=" highlight hl-ipython2"><pre><span></span><span class="n">nan</span> <span class="ow">is</span> <span class="bp">None</span>
</pre></div>

</div>
</div>
</div>

<div class="output_wrapper">
<div class="output">


<div class="output_area">

<div class="prompt output_prompt">Out[14]:</div>




<div class="output_text output_subarea output_execute_result">
<pre>False</pre>
</div>

</div>

</div>
</div>

</div>
<div class="cell border-box-sizing code_cell rendered">
<div class="input">
<div class="prompt input_prompt">In&nbsp;[15]:</div>
<div class="inner_cell">
    <div class="input_area">
<div class=" highlight hl-ipython2"><pre><span></span><span class="n">isnan</span><span class="p">(</span><span class="bp">None</span><span class="p">)</span>
</pre></div>

</div>
</div>
</div>

<div class="output_wrapper">
<div class="output">


<div class="output_area">

<div class="prompt"></div>


<div class="output_subarea output_text output_error">
<pre><span class="ansi-red-fg">---------------------------------------------------------------------------</span>
<span class="ansi-red-fg">TypeError</span>                                 Traceback (most recent call last)
<span class="ansi-green-fg">&lt;ipython-input-15-7d785ead34f4&gt;</span> in <span class="ansi-cyan-fg">&lt;module&gt;</span><span class="ansi-blue-fg">()</span>
<span class="ansi-green-fg">----&gt; 1</span><span class="ansi-red-fg"> </span>isnan<span class="ansi-blue-fg">(</span>None<span class="ansi-blue-fg">)</span>

<span class="ansi-red-fg">TypeError</span>: ufunc &#39;isnan&#39; not supported for the input types, and the inputs could not be safely coerced to any supported types according to the casting rule &#39;&#39;safe&#39;&#39;</pre>
</div>
</div>

</div>
</div>

</div>
<div class="cell border-box-sizing text_cell rendered"><div class="prompt input_prompt">
</div>
<div class="inner_cell">
<div class="text_cell_render border-box-sizing rendered_html">
<h1 id="Numerical-Methods">Numerical Methods<a class="anchor-link" href="#Numerical-Methods">&#182;</a></h1><ul>
<li><p>In e.g. simulation models or quantiative analysis we typically repeatedly update numerical values inside long loops.</p>
</li>
<li><p>Programs such as these implement <em>numerical algorithms</em>.</p>
</li>
<li><p>It is very easy to introduce bugs into code like this.</p>
</li>
</ul>

</div>
</div>
</div>
<div class="cell border-box-sizing text_cell rendered"><div class="prompt input_prompt">
</div>
<div class="inner_cell">
<div class="text_cell_render border-box-sizing rendered_html">
<h1 id="Numerical-stability">Numerical stability<a class="anchor-link" href="#Numerical-stability">&#182;</a></h1><ul>
<li><p>The round-off error associated with a result can be compounded in a loop.</p>
</li>
<li><p>If the error increases as we go round the loop, we say the algorithm is
numerically <em>unstable</em>.</p>
</li>
<li><p>Mathematicians design numerically stable algorithms using <a href="https://en.wikipedia.org/wiki/Numerical_analysis">numerical analysis</a>.</p>
</li>
</ul>

</div>
</div>
</div>
<div class="cell border-box-sizing text_cell rendered"><div class="prompt input_prompt">
</div>
<div class="inner_cell">
<div class="text_cell_render border-box-sizing rendered_html">
<h1 id="Catastrophic-Cancellation">Catastrophic Cancellation<a class="anchor-link" href="#Catastrophic-Cancellation">&#182;</a></h1><ul>
<li><p>Suppose we have two real values $x$ and $y = x + \epsilon$.</p>
</li>
<li><p>$\epsilon$ is very small and $x$ is very large.</p>
</li>
<li><p>$x$ has an <em>exact</em> floating point representation</p>
</li>
<li><p>However, because of lack of precision $x$ and $y$ have the same floating
point representation.</p>
<ul>
<li>i.e. they are represented as the same sequence of 64-bits</li>
</ul>
</li>
</ul>

</div>
</div>
</div>
<div class="cell border-box-sizing text_cell rendered"><div class="prompt input_prompt">
</div>
<div class="inner_cell">
<div class="text_cell_render border-box-sizing rendered_html">
<h1 id="Relative-and-absolute-error">Relative and absolute error<a class="anchor-link" href="#Relative-and-absolute-error">&#182;</a></h1><ul>
<li><p>The absolute error $r = x - y = (x + \epsilon) - x$.</p>
</li>
<li><p>The relative error is $R = r/x = (x + \epsilon)/x - 1 = \epsilon/x$.</p>
</li>
<li><p>So the relative error is tiny because $x$ is large relative to $\epsilon$.</p>
</li>
<li><p>Ok, but how about the error in computing the <em>difference</em> between these values.</p>
</li>
<li><p>If we perform this in floating-point we will get 0.</p>
</li>
<li><p>The correct value is $(x + \epsilon) - x = \epsilon$.</p>
</li>
<li><p>The relative error is infinite!</p>
</li>
</ul>

</div>
</div>
</div>
<div class="cell border-box-sizing text_cell rendered"><div class="prompt input_prompt">
</div>
<div class="inner_cell">
<div class="text_cell_render border-box-sizing rendered_html">
<h1 id="Catastrophic-Cancellation-in-Python">Catastrophic Cancellation in Python<a class="anchor-link" href="#Catastrophic-Cancellation-in-Python">&#182;</a></h1>
</div>
</div>
</div>
<div class="cell border-box-sizing code_cell rendered">
<div class="input">
<div class="prompt input_prompt">In&nbsp;[16]:</div>
<div class="inner_cell">
    <div class="input_area">
<div class=" highlight hl-ipython2"><pre><span></span><span class="n">x</span> <span class="o">=</span> <span class="mf">3.141592653589793</span>
<span class="n">x</span>
</pre></div>

</div>
</div>
</div>

<div class="output_wrapper">
<div class="output">


<div class="output_area">

<div class="prompt output_prompt">Out[16]:</div>




<div class="output_text output_subarea output_execute_result">
<pre>3.141592653589793</pre>
</div>

</div>

</div>
</div>

</div>
<div class="cell border-box-sizing code_cell rendered">
<div class="input">
<div class="prompt input_prompt">In&nbsp;[17]:</div>
<div class="inner_cell">
    <div class="input_area">
<div class=" highlight hl-ipython2"><pre><span></span><span class="n">y</span> <span class="o">=</span> <span class="mf">6.022e23</span>
<span class="n">x</span> <span class="o">=</span> <span class="p">(</span><span class="n">x</span> <span class="o">+</span> <span class="n">y</span><span class="p">)</span> <span class="o">-</span> <span class="n">y</span>
</pre></div>

</div>
</div>
</div>

</div>
<div class="cell border-box-sizing code_cell rendered">
<div class="input">
<div class="prompt input_prompt">In&nbsp;[18]:</div>
<div class="inner_cell">
    <div class="input_area">
<div class=" highlight hl-ipython2"><pre><span></span><span class="n">x</span>
</pre></div>

</div>
</div>
</div>

<div class="output_wrapper">
<div class="output">


<div class="output_area">

<div class="prompt output_prompt">Out[18]:</div>




<div class="output_text output_subarea output_execute_result">
<pre>0.0</pre>
</div>

</div>

</div>
</div>

</div>
<div class="cell border-box-sizing text_cell rendered"><div class="prompt input_prompt">
</div>
<div class="inner_cell">
<div class="text_cell_render border-box-sizing rendered_html">
<ul>
<li><p>Avoid subtracting two nearly-equal numbers.</p>
</li>
<li><p>Especially in a loop!</p>
</li>
<li><p>Better-yet use a well-validated existing implementation in the form of a numerical library.</p>
</li>
</ul>

</div>
</div>
</div>
<div class="cell border-box-sizing text_cell rendered"><div class="prompt input_prompt">
</div>
<div class="inner_cell">
<div class="text_cell_render border-box-sizing rendered_html">
<h1 id="Importing-numpy">Importing numpy<a class="anchor-link" href="#Importing-numpy">&#182;</a></h1><ul>
<li><p>Functions for numerical computiing are provided by a separate <em>module</em> called <a href="http://www.numpy.org/"><code>numpy</code></a>.</p>
</li>
<li><p>Before we use the numpy module we must import it.</p>
</li>
<li><p>By convention, we import <code>numpy</code> using the alias <code>np</code>.</p>
</li>
<li><p>Once we have done this we can prefix the functions in the numpy library using the prefix <code>np.</code></p>
</li>
</ul>

</div>
</div>
</div>
<div class="cell border-box-sizing code_cell rendered">
<div class="input">
<div class="prompt input_prompt">In&nbsp;[19]:</div>
<div class="inner_cell">
    <div class="input_area">
<div class=" highlight hl-ipython2"><pre><span></span><span class="kn">import</span> <span class="nn">numpy</span> <span class="kn">as</span> <span class="nn">np</span>
</pre></div>

</div>
</div>
</div>

</div>
<div class="cell border-box-sizing text_cell rendered"><div class="prompt input_prompt">
</div>
<div class="inner_cell">
<div class="text_cell_render border-box-sizing rendered_html">
<ul>
<li>We can now use the functions defined in this package by prefixing them with <code>np</code>.  </li>
</ul>

</div>
</div>
</div>
<div class="cell border-box-sizing text_cell rendered"><div class="prompt input_prompt">
</div>
<div class="inner_cell">
<div class="text_cell_render border-box-sizing rendered_html">
<h1 id="Arrays">Arrays<a class="anchor-link" href="#Arrays">&#182;</a></h1><ul>
<li><p>Arrays represent a collection of values.</p>
</li>
<li><p>In contrast to lists:</p>
<ul>
<li>arrays typically have a <em>fixed length</em><ul>
<li>they can be resized, but this involves an expensive copying process.</li>
</ul>
</li>
<li>and all values in the array are of the <em>same type</em>.<ul>
<li>typically we store floating-point values.</li>
</ul>
</li>
</ul>
</li>
<li><p>Like lists:</p>
<ul>
<li>arrays are <em>mutable</em>;</li>
<li>we can change the elements of an existing array.</li>
</ul>
</li>
</ul>

</div>
</div>
</div>
<div class="cell border-box-sizing text_cell rendered"><div class="prompt input_prompt">
</div>
<div class="inner_cell">
<div class="text_cell_render border-box-sizing rendered_html">
<h1 id="Arrays-in-numpy">Arrays in <code>numpy</code><a class="anchor-link" href="#Arrays-in-numpy">&#182;</a></h1>
</div>
</div>
</div>
<div class="cell border-box-sizing text_cell rendered"><div class="prompt input_prompt">
</div>
<div class="inner_cell">
<div class="text_cell_render border-box-sizing rendered_html">
<ul>
<li><p>Arrays are provided by the <code>numpy</code> module.</p>
</li>
<li><p>The function <code>array()</code> creates an array given a list.</p>
</li>
</ul>

</div>
</div>
</div>
<div class="cell border-box-sizing code_cell rendered">
<div class="input">
<div class="prompt input_prompt">In&nbsp;[20]:</div>
<div class="inner_cell">
    <div class="input_area">
<div class=" highlight hl-ipython2"><pre><span></span><span class="kn">import</span> <span class="nn">numpy</span> <span class="kn">as</span> <span class="nn">np</span>
<span class="n">x</span> <span class="o">=</span> <span class="n">np</span><span class="o">.</span><span class="n">array</span><span class="p">([</span><span class="mi">0</span><span class="p">,</span> <span class="mi">1</span><span class="p">,</span> <span class="mi">2</span><span class="p">,</span> <span class="mi">3</span><span class="p">,</span> <span class="mi">4</span><span class="p">])</span>
<span class="n">x</span>
</pre></div>

</div>
</div>
</div>

<div class="output_wrapper">
<div class="output">


<div class="output_area">

<div class="prompt output_prompt">Out[20]:</div>




<div class="output_text output_subarea output_execute_result">
<pre>array([0, 1, 2, 3, 4])</pre>
</div>

</div>

</div>
</div>

</div>
<div class="cell border-box-sizing text_cell rendered"><div class="prompt input_prompt">
</div>
<div class="inner_cell">
<div class="text_cell_render border-box-sizing rendered_html">
<h1 id="Array-indexing">Array indexing<a class="anchor-link" href="#Array-indexing">&#182;</a></h1><ul>
<li>We can index an array just like a list</li>
</ul>

</div>
</div>
</div>
<div class="cell border-box-sizing code_cell rendered">
<div class="input">
<div class="prompt input_prompt">In&nbsp;[21]:</div>
<div class="inner_cell">
    <div class="input_area">
<div class=" highlight hl-ipython2"><pre><span></span><span class="n">x</span><span class="p">[</span><span class="mi">4</span><span class="p">]</span>
</pre></div>

</div>
</div>
</div>

<div class="output_wrapper">
<div class="output">


<div class="output_area">

<div class="prompt output_prompt">Out[21]:</div>




<div class="output_text output_subarea output_execute_result">
<pre>4</pre>
</div>

</div>

</div>
</div>

</div>
<div class="cell border-box-sizing code_cell rendered">
<div class="input">
<div class="prompt input_prompt">In&nbsp;[22]:</div>
<div class="inner_cell">
    <div class="input_area">
<div class=" highlight hl-ipython2"><pre><span></span><span class="n">x</span><span class="p">[</span><span class="mi">4</span><span class="p">]</span> <span class="o">=</span> <span class="mi">2</span>
<span class="n">x</span>
</pre></div>

</div>
</div>
</div>

<div class="output_wrapper">
<div class="output">


<div class="output_area">

<div class="prompt output_prompt">Out[22]:</div>




<div class="output_text output_subarea output_execute_result">
<pre>array([0, 1, 2, 3, 2])</pre>
</div>

</div>

</div>
</div>

</div>
<div class="cell border-box-sizing text_cell rendered"><div class="prompt input_prompt">
</div>
<div class="inner_cell">
<div class="text_cell_render border-box-sizing rendered_html">
<h1 id="Arrays-are-not-lists">Arrays are not lists<a class="anchor-link" href="#Arrays-are-not-lists">&#182;</a></h1><ul>
<li>Although this looks a bit like a list of numbers, it is a fundamentally different type of value:</li>
</ul>

</div>
</div>
</div>
<div class="cell border-box-sizing code_cell rendered">
<div class="input">
<div class="prompt input_prompt">In&nbsp;[23]:</div>
<div class="inner_cell">
    <div class="input_area">
<div class=" highlight hl-ipython2"><pre><span></span><span class="nb">type</span><span class="p">(</span><span class="n">x</span><span class="p">)</span>
</pre></div>

</div>
</div>
</div>

<div class="output_wrapper">
<div class="output">


<div class="output_area">

<div class="prompt output_prompt">Out[23]:</div>




<div class="output_text output_subarea output_execute_result">
<pre>numpy.ndarray</pre>
</div>

</div>

</div>
</div>

</div>
<div class="cell border-box-sizing text_cell rendered"><div class="prompt input_prompt">
</div>
<div class="inner_cell">
<div class="text_cell_render border-box-sizing rendered_html">
<ul>
<li>For example, we cannot append to the array:</li>
</ul>

</div>
</div>
</div>
<div class="cell border-box-sizing code_cell rendered">
<div class="input">
<div class="prompt input_prompt">In&nbsp;[24]:</div>
<div class="inner_cell">
    <div class="input_area">
<div class=" highlight hl-ipython2"><pre><span></span><span class="n">x</span><span class="o">.</span><span class="n">append</span><span class="p">(</span><span class="mi">5</span><span class="p">)</span>
</pre></div>

</div>
</div>
</div>

<div class="output_wrapper">
<div class="output">


<div class="output_area">

<div class="prompt"></div>


<div class="output_subarea output_text output_error">
<pre><span class="ansi-red-fg">---------------------------------------------------------------------------</span>
<span class="ansi-red-fg">AttributeError</span>                            Traceback (most recent call last)
<span class="ansi-green-fg">&lt;ipython-input-24-2f1e4fff5cec&gt;</span> in <span class="ansi-cyan-fg">&lt;module&gt;</span><span class="ansi-blue-fg">()</span>
<span class="ansi-green-fg">----&gt; 1</span><span class="ansi-red-fg"> </span>x<span class="ansi-blue-fg">.</span>append<span class="ansi-blue-fg">(</span><span class="ansi-cyan-fg">5</span><span class="ansi-blue-fg">)</span>

<span class="ansi-red-fg">AttributeError</span>: &#39;numpy.ndarray&#39; object has no attribute &#39;append&#39;</pre>
</div>
</div>

</div>
</div>

</div>
<div class="cell border-box-sizing text_cell rendered"><div class="prompt input_prompt">
</div>
<div class="inner_cell">
<div class="text_cell_render border-box-sizing rendered_html">
<h1 id="Functions-over-arrays">Functions over arrays<a class="anchor-link" href="#Functions-over-arrays">&#182;</a></h1><ul>
<li>When we use arithmetic operators on arrays, we create a new array with the result of applying the operator to each element.</li>
</ul>

</div>
</div>
</div>
<div class="cell border-box-sizing code_cell rendered">
<div class="input">
<div class="prompt input_prompt">In&nbsp;[25]:</div>
<div class="inner_cell">
    <div class="input_area">
<div class=" highlight hl-ipython2"><pre><span></span><span class="n">y</span> <span class="o">=</span> <span class="n">x</span> <span class="o">*</span> <span class="mi">2</span>
<span class="n">y</span>
</pre></div>

</div>
</div>
</div>

<div class="output_wrapper">
<div class="output">


<div class="output_area">

<div class="prompt output_prompt">Out[25]:</div>




<div class="output_text output_subarea output_execute_result">
<pre>array([0, 2, 4, 6, 4])</pre>
</div>

</div>

</div>
</div>

</div>
<div class="cell border-box-sizing text_cell rendered"><div class="prompt input_prompt">
</div>
<div class="inner_cell">
<div class="text_cell_render border-box-sizing rendered_html">
<ul>
<li>The same goes for numerical functions:</li>
</ul>

</div>
</div>
</div>
<div class="cell border-box-sizing code_cell rendered">
<div class="input">
<div class="prompt input_prompt">In&nbsp;[26]:</div>
<div class="inner_cell">
    <div class="input_area">
<div class=" highlight hl-ipython2"><pre><span></span><span class="n">x</span> <span class="o">=</span> <span class="n">np</span><span class="o">.</span><span class="n">array</span><span class="p">([</span><span class="o">-</span><span class="mi">1</span><span class="p">,</span> <span class="mi">2</span><span class="p">,</span> <span class="mi">3</span><span class="p">,</span> <span class="o">-</span><span class="mi">4</span><span class="p">])</span>
<span class="n">y</span> <span class="o">=</span> <span class="nb">abs</span><span class="p">(</span><span class="n">x</span><span class="p">)</span>
<span class="n">y</span>
</pre></div>

</div>
</div>
</div>

<div class="output_wrapper">
<div class="output">


<div class="output_area">

<div class="prompt output_prompt">Out[26]:</div>




<div class="output_text output_subarea output_execute_result">
<pre>array([1, 2, 3, 4])</pre>
</div>

</div>

</div>
</div>

</div>
<div class="cell border-box-sizing text_cell rendered"><div class="prompt input_prompt">
</div>
<div class="inner_cell">
<div class="text_cell_render border-box-sizing rendered_html">
<h1 id="Vectorized-functions">Vectorized functions<a class="anchor-link" href="#Vectorized-functions">&#182;</a></h1><ul>
<li><p>Note that not every function automatically works with arrays.</p>
</li>
<li><p>Functions that have been written to work with arrays of numbers are called <em>vectorized</em> functions.</p>
</li>
<li><p>Most of the functions in <code>numpy</code> are already vectorized.</p>
</li>
<li><p>You can create a vectorized version of any other function using the higher-order function <code>numpy.vectorize()</code>.</p>
</li>
</ul>

</div>
</div>
</div>
<div class="cell border-box-sizing text_cell rendered"><div class="prompt input_prompt">
</div>
<div class="inner_cell">
<div class="text_cell_render border-box-sizing rendered_html">
<h1 id="vectorize-example"><code>vectorize</code> example<a class="anchor-link" href="#vectorize-example">&#182;</a></h1>
</div>
</div>
</div>
<div class="cell border-box-sizing code_cell rendered">
<div class="input">
<div class="prompt input_prompt">In&nbsp;[27]:</div>
<div class="inner_cell">
    <div class="input_area">
<div class=" highlight hl-ipython2"><pre><span></span><span class="k">def</span> <span class="nf">myfunc</span><span class="p">(</span><span class="n">x</span><span class="p">):</span>
    <span class="k">if</span> <span class="n">x</span> <span class="o">&gt;=</span> <span class="mf">0.5</span><span class="p">:</span>
        <span class="k">return</span> <span class="n">x</span>
    <span class="k">else</span><span class="p">:</span>
        <span class="k">return</span> <span class="mf">0.0</span>
    
<span class="n">fv</span> <span class="o">=</span> <span class="n">np</span><span class="o">.</span><span class="n">vectorize</span><span class="p">(</span><span class="n">myfunc</span><span class="p">)</span>
</pre></div>

</div>
</div>
</div>

</div>
<div class="cell border-box-sizing code_cell rendered">
<div class="input">
<div class="prompt input_prompt">In&nbsp;[28]:</div>
<div class="inner_cell">
    <div class="input_area">
<div class=" highlight hl-ipython2"><pre><span></span><span class="n">x</span> <span class="o">=</span> <span class="n">np</span><span class="o">.</span><span class="n">arange</span><span class="p">(</span><span class="mi">0</span><span class="p">,</span> <span class="mi">1</span><span class="p">,</span> <span class="mf">0.1</span><span class="p">)</span>
<span class="n">x</span>
</pre></div>

</div>
</div>
</div>

<div class="output_wrapper">
<div class="output">


<div class="output_area">

<div class="prompt output_prompt">Out[28]:</div>




<div class="output_text output_subarea output_execute_result">
<pre>array([ 0. ,  0.1,  0.2,  0.3,  0.4,  0.5,  0.6,  0.7,  0.8,  0.9])</pre>
</div>

</div>

</div>
</div>

</div>
<div class="cell border-box-sizing code_cell rendered">
<div class="input">
<div class="prompt input_prompt">In&nbsp;[29]:</div>
<div class="inner_cell">
    <div class="input_area">
<div class=" highlight hl-ipython2"><pre><span></span><span class="n">fv</span><span class="p">(</span><span class="n">x</span><span class="p">)</span>
</pre></div>

</div>
</div>
</div>

<div class="output_wrapper">
<div class="output">


<div class="output_area">

<div class="prompt output_prompt">Out[29]:</div>




<div class="output_text output_subarea output_execute_result">
<pre>array([ 0. ,  0. ,  0. ,  0. ,  0. ,  0.5,  0.6,  0.7,  0.8,  0.9])</pre>
</div>

</div>

</div>
</div>

</div>
<div class="cell border-box-sizing text_cell rendered"><div class="prompt input_prompt">
</div>
<div class="inner_cell">
<div class="text_cell_render border-box-sizing rendered_html">
<h1 id="Populating-Arrays">Populating Arrays<a class="anchor-link" href="#Populating-Arrays">&#182;</a></h1><ul>
<li>To populate an array with a range of values we use the <code>np.arange()</code> function:</li>
</ul>

</div>
</div>
</div>
<div class="cell border-box-sizing code_cell rendered">
<div class="input">
<div class="prompt input_prompt">In&nbsp;[30]:</div>
<div class="inner_cell">
    <div class="input_area">
<div class=" highlight hl-ipython2"><pre><span></span><span class="n">x</span> <span class="o">=</span> <span class="n">np</span><span class="o">.</span><span class="n">arange</span><span class="p">(</span><span class="mi">0</span><span class="p">,</span> <span class="mi">10</span><span class="p">)</span>
<span class="k">print</span> <span class="n">x</span>
</pre></div>

</div>
</div>
</div>

<div class="output_wrapper">
<div class="output">


<div class="output_area">

<div class="prompt"></div>


<div class="output_subarea output_stream output_stdout output_text">
<pre>[0 1 2 3 4 5 6 7 8 9]
</pre>
</div>
</div>

</div>
</div>

</div>
<div class="cell border-box-sizing text_cell rendered"><div class="prompt input_prompt">
</div>
<div class="inner_cell">
<div class="text_cell_render border-box-sizing rendered_html">
<ul>
<li>We can also use floating point increments.</li>
</ul>

</div>
</div>
</div>
<div class="cell border-box-sizing code_cell rendered">
<div class="input">
<div class="prompt input_prompt">In&nbsp;[31]:</div>
<div class="inner_cell">
    <div class="input_area">
<div class=" highlight hl-ipython2"><pre><span></span><span class="n">x</span> <span class="o">=</span> <span class="n">np</span><span class="o">.</span><span class="n">arange</span><span class="p">(</span><span class="mi">0</span><span class="p">,</span> <span class="mi">1</span><span class="p">,</span> <span class="mf">0.1</span><span class="p">)</span>
<span class="k">print</span> <span class="n">x</span>
</pre></div>

</div>
</div>
</div>

<div class="output_wrapper">
<div class="output">


<div class="output_area">

<div class="prompt"></div>


<div class="output_subarea output_stream output_stdout output_text">
<pre>[ 0.   0.1  0.2  0.3  0.4  0.5  0.6  0.7  0.8  0.9]
</pre>
</div>
</div>

</div>
</div>

</div>
<div class="cell border-box-sizing text_cell rendered"><div class="prompt input_prompt">
</div>
<div class="inner_cell">
<div class="text_cell_render border-box-sizing rendered_html">
<h1 id="Basic-Plotting">Basic Plotting<a class="anchor-link" href="#Basic-Plotting">&#182;</a></h1><ul>
<li><p>We will use a module called <code>matplotlib</code> to plot some simple graphs.</p>
</li>
<li><p>This module has a nested module called <code>pyplot</code>.</p>
</li>
<li><p>By convention we import this with the alias <code>plt</code>.</p>
</li>
<li><p>This module provides functions which are very similar to <a href="http://uk.mathworks.com/help/matlab/ref/plot.html">MATLAB plotting commands</a>.</p>
</li>
</ul>

</div>
</div>
</div>
<div class="cell border-box-sizing code_cell rendered">
<div class="input">
<div class="prompt input_prompt">In&nbsp;[32]:</div>
<div class="inner_cell">
    <div class="input_area">
<div class=" highlight hl-ipython2"><pre><span></span><span class="kn">import</span> <span class="nn">matplotlib.pyplot</span> <span class="kn">as</span> <span class="nn">plt</span>
<span class="o">%</span><span class="k">matplotlib</span> inline

<span class="n">y</span> <span class="o">=</span> <span class="n">x</span><span class="o">*</span><span class="mi">2</span> <span class="o">+</span> <span class="mi">5</span>
<span class="n">plt</span><span class="o">.</span><span class="n">plot</span><span class="p">(</span><span class="n">x</span><span class="p">,</span> <span class="n">y</span><span class="p">)</span>
</pre></div>

</div>
</div>
</div>

<div class="output_wrapper">
<div class="output">


<div class="output_area">

<div class="prompt output_prompt">Out[32]:</div>




<div class="output_text output_subarea output_execute_result">
<pre>[&lt;matplotlib.lines.Line2D at 0x7f33229deb90&gt;]</pre>
</div>

</div>

<div class="output_area">

<div class="prompt"></div>




<div class="output_png output_subarea ">
<img src="data:image/png;base64,iVBORw0KGgoAAAANSUhEUgAAAXcAAAEACAYAAABI5zaHAAAABHNCSVQICAgIfAhkiAAAAAlwSFlz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"
>
</div>

</div>

</div>
</div>

</div>
<div class="cell border-box-sizing text_cell rendered"><div class="prompt input_prompt">
</div>
<div class="inner_cell">
<div class="text_cell_render border-box-sizing rendered_html">
<h1 id="Plotting-a-sine-curve">Plotting a sine curve<a class="anchor-link" href="#Plotting-a-sine-curve">&#182;</a></h1>
</div>
</div>
</div>
<div class="cell border-box-sizing code_cell rendered">
<div class="input">
<div class="prompt input_prompt">In&nbsp;[33]:</div>
<div class="inner_cell">
    <div class="input_area">
<div class=" highlight hl-ipython2"><pre><span></span><span class="kn">from</span> <span class="nn">numpy</span> <span class="kn">import</span> <span class="n">pi</span><span class="p">,</span> <span class="n">sin</span>

<span class="n">x</span> <span class="o">=</span> <span class="n">np</span><span class="o">.</span><span class="n">arange</span><span class="p">(</span><span class="mi">0</span><span class="p">,</span> <span class="mi">2</span><span class="o">*</span><span class="n">pi</span><span class="p">,</span> <span class="mf">0.01</span><span class="p">)</span>
<span class="n">y</span> <span class="o">=</span> <span class="n">sin</span><span class="p">(</span><span class="n">x</span><span class="p">)</span>
<span class="n">plt</span><span class="o">.</span><span class="n">plot</span><span class="p">(</span><span class="n">x</span><span class="p">,</span> <span class="n">y</span><span class="p">)</span>
</pre></div>

</div>
</div>
</div>

<div class="output_wrapper">
<div class="output">


<div class="output_area">

<div class="prompt output_prompt">Out[33]:</div>




<div class="output_text output_subarea output_execute_result">
<pre>[&lt;matplotlib.lines.Line2D at 0x7f33228e8d50&gt;]</pre>
</div>

</div>

<div class="output_area">

<div class="prompt"></div>




<div class="output_png output_subarea ">
<img src="data:image/png;base64,iVBORw0KGgoAAAANSUhEUgAAAXoAAAEACAYAAAC9Gb03AAAABHNCSVQICAgIfAhkiAAAAAlwSFlz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==
"
>
</div>

</div>

</div>
</div>

</div>
<div class="cell border-box-sizing text_cell rendered"><div class="prompt input_prompt">
</div>
<div class="inner_cell">
<div class="text_cell_render border-box-sizing rendered_html">
<h1 id="Multi-dimensional-data">Multi-dimensional data<a class="anchor-link" href="#Multi-dimensional-data">&#182;</a></h1><ul>
<li><p>Numpy arrays can hold multi-dimensional data.</p>
</li>
<li><p>To create a multi-dimensional array, we can pass a list of lists to the <code>array()</code> function:</p>
</li>
</ul>

</div>
</div>
</div>
<div class="cell border-box-sizing code_cell rendered">
<div class="input">
<div class="prompt input_prompt">In&nbsp;[34]:</div>
<div class="inner_cell">
    <div class="input_area">
<div class=" highlight hl-ipython2"><pre><span></span><span class="kn">import</span> <span class="nn">numpy</span> <span class="kn">as</span> <span class="nn">np</span>

<span class="n">x</span> <span class="o">=</span> <span class="n">np</span><span class="o">.</span><span class="n">array</span><span class="p">([[</span><span class="mi">1</span><span class="p">,</span><span class="mi">2</span><span class="p">],</span> <span class="p">[</span><span class="mi">3</span><span class="p">,</span><span class="mi">4</span><span class="p">]])</span>
<span class="n">x</span>
</pre></div>

</div>
</div>
</div>

<div class="output_wrapper">
<div class="output">


<div class="output_area">

<div class="prompt output_prompt">Out[34]:</div>




<div class="output_text output_subarea output_execute_result">
<pre>array([[1, 2],
       [3, 4]])</pre>
</div>

</div>

</div>
</div>

</div>
<div class="cell border-box-sizing text_cell rendered"><div class="prompt input_prompt">
</div>
<div class="inner_cell">
<div class="text_cell_render border-box-sizing rendered_html">
<h1 id="Arrays-containing-arrays">Arrays containing arrays<a class="anchor-link" href="#Arrays-containing-arrays">&#182;</a></h1><ul>
<li><p>A multi-dimensional array is an array of an arrays.</p>
</li>
<li><p>The outer array holds the rows.</p>
</li>
<li><p>Each row is itself an array:</p>
</li>
</ul>

</div>
</div>
</div>
<div class="cell border-box-sizing code_cell rendered">
<div class="input">
<div class="prompt input_prompt">In&nbsp;[35]:</div>
<div class="inner_cell">
    <div class="input_area">
<div class=" highlight hl-ipython2"><pre><span></span><span class="n">x</span><span class="p">[</span><span class="mi">0</span><span class="p">]</span>
</pre></div>

</div>
</div>
</div>

<div class="output_wrapper">
<div class="output">


<div class="output_area">

<div class="prompt output_prompt">Out[35]:</div>




<div class="output_text output_subarea output_execute_result">
<pre>array([1, 2])</pre>
</div>

</div>

</div>
</div>

</div>
<div class="cell border-box-sizing code_cell rendered">
<div class="input">
<div class="prompt input_prompt">In&nbsp;[36]:</div>
<div class="inner_cell">
    <div class="input_area">
<div class=" highlight hl-ipython2"><pre><span></span><span class="n">x</span><span class="p">[</span><span class="mi">1</span><span class="p">]</span>
</pre></div>

</div>
</div>
</div>

<div class="output_wrapper">
<div class="output">


<div class="output_area">

<div class="prompt output_prompt">Out[36]:</div>




<div class="output_text output_subarea output_execute_result">
<pre>array([3, 4])</pre>
</div>

</div>

</div>
</div>

</div>
<div class="cell border-box-sizing text_cell rendered"><div class="prompt input_prompt">
</div>
<div class="inner_cell">
<div class="text_cell_render border-box-sizing rendered_html">
<ul>
<li>So the element in the second row, and first column is:</li>
</ul>

</div>
</div>
</div>
<div class="cell border-box-sizing code_cell rendered">
<div class="input">
<div class="prompt input_prompt">In&nbsp;[37]:</div>
<div class="inner_cell">
    <div class="input_area">
<div class=" highlight hl-ipython2"><pre><span></span><span class="n">x</span><span class="p">[</span><span class="mi">1</span><span class="p">][</span><span class="mi">0</span><span class="p">]</span>
</pre></div>

</div>
</div>
</div>

<div class="output_wrapper">
<div class="output">


<div class="output_area">

<div class="prompt output_prompt">Out[37]:</div>




<div class="output_text output_subarea output_execute_result">
<pre>3</pre>
</div>

</div>

</div>
</div>

</div>
<div class="cell border-box-sizing text_cell rendered"><div class="prompt input_prompt">
</div>
<div class="inner_cell">
<div class="text_cell_render border-box-sizing rendered_html">
<h1 id="Matrices">Matrices<a class="anchor-link" href="#Matrices">&#182;</a></h1><ul>
<li>We can create a matrix from a multi-dimensional array.</li>
</ul>

</div>
</div>
</div>
<div class="cell border-box-sizing code_cell rendered">
<div class="input">
<div class="prompt input_prompt">In&nbsp;[38]:</div>
<div class="inner_cell">
    <div class="input_area">
<div class=" highlight hl-ipython2"><pre><span></span><span class="n">M</span> <span class="o">=</span> <span class="n">np</span><span class="o">.</span><span class="n">matrix</span><span class="p">(</span><span class="n">x</span><span class="p">)</span>
<span class="n">M</span>
</pre></div>

</div>
</div>
</div>

<div class="output_wrapper">
<div class="output">


<div class="output_area">

<div class="prompt output_prompt">Out[38]:</div>




<div class="output_text output_subarea output_execute_result">
<pre>matrix([[1, 2],
        [3, 4]])</pre>
</div>

</div>

</div>
</div>

</div>
<div class="cell border-box-sizing text_cell rendered"><div class="prompt input_prompt">
</div>
<div class="inner_cell">
<div class="text_cell_render border-box-sizing rendered_html">
<h1 id="Plotting-multi-dimensional-with-matrices">Plotting multi-dimensional with matrices<a class="anchor-link" href="#Plotting-multi-dimensional-with-matrices">&#182;</a></h1><ul>
<li>If we supply a matrix to <code>plot()</code> then it will plot the y-values taken from the <em>columns</em> of the matrix (notice the transpose in the example below).</li>
</ul>

</div>
</div>
</div>
<div class="cell border-box-sizing code_cell rendered">
<div class="input">
<div class="prompt input_prompt">In&nbsp;[39]:</div>
<div class="inner_cell">
    <div class="input_area">
<div class=" highlight hl-ipython2"><pre><span></span><span class="kn">from</span> <span class="nn">numpy</span> <span class="kn">import</span> <span class="n">pi</span><span class="p">,</span> <span class="n">sin</span><span class="p">,</span> <span class="n">cos</span>

<span class="n">x</span> <span class="o">=</span> <span class="n">np</span><span class="o">.</span><span class="n">arange</span><span class="p">(</span><span class="mi">0</span><span class="p">,</span> <span class="mi">2</span><span class="o">*</span><span class="n">pi</span><span class="p">,</span> <span class="mf">0.01</span><span class="p">)</span>
<span class="n">y</span> <span class="o">=</span> <span class="n">sin</span><span class="p">(</span><span class="n">x</span><span class="p">)</span>
<span class="n">ax</span> <span class="o">=</span> <span class="n">plt</span><span class="o">.</span><span class="n">plot</span><span class="p">(</span><span class="n">x</span><span class="p">,</span> <span class="n">np</span><span class="o">.</span><span class="n">matrix</span><span class="p">([</span><span class="n">sin</span><span class="p">(</span><span class="n">x</span><span class="p">),</span> <span class="n">cos</span><span class="p">(</span><span class="n">x</span><span class="p">)])</span><span class="o">.</span><span class="n">T</span><span class="p">)</span>
</pre></div>

</div>
</div>
</div>

<div class="output_wrapper">
<div class="output">


<div class="output_area">

<div class="prompt"></div>




<div class="output_png output_subarea ">
<img src="data:image/png;base64,iVBORw0KGgoAAAANSUhEUgAAAXoAAAEACAYAAAC9Gb03AAAABHNCSVQICAgIfAhkiAAAAAlwSFlz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"
>
</div>

</div>

</div>
</div>

</div>
<div class="cell border-box-sizing text_cell rendered"><div class="prompt input_prompt">
</div>
<div class="inner_cell">
<div class="text_cell_render border-box-sizing rendered_html">
<h1 id="Performance">Performance<a class="anchor-link" href="#Performance">&#182;</a></h1><ul>
<li><p>When we use <code>numpy</code> matrices in Python the corresponding functions are linked with libraries written in C and FORTRAN.</p>
</li>
<li><p>For example, see the <a href="http://www.netlib.org/blas/">BLAS (Basic Linear Algebra Subprograms) library</a>.</p>
</li>
<li><p>These libraries are very fast, and can be configured so that operations are performed in parallel on multiple CPU cores, or GPU hardware.</p>
</li>
</ul>

</div>
</div>
</div>
<div class="cell border-box-sizing text_cell rendered"><div class="prompt input_prompt">
</div>
<div class="inner_cell">
<div class="text_cell_render border-box-sizing rendered_html">
<h1 id="Matrix-Operators">Matrix Operators<a class="anchor-link" href="#Matrix-Operators">&#182;</a></h1><ul>
<li><p>Once we have a matrix, we can perform matrix computations.</p>
</li>
<li><p>To compute the <a href="http://mathworld.wolfram.com/MatrixTranspose.html">transpose</a> and <a href="http://mathworld.wolfram.com/MatrixInverse.html">inverse</a> use the <code>T</code> and <code>I</code> attributes:</p>
</li>
</ul>

</div>
</div>
</div>
<div class="cell border-box-sizing text_cell rendered"><div class="prompt input_prompt">
</div>
<div class="inner_cell">
<div class="text_cell_render border-box-sizing rendered_html">
<p>To compute the transpose $M^{T}$</p>

</div>
</div>
</div>
<div class="cell border-box-sizing code_cell rendered">
<div class="input">
<div class="prompt input_prompt">In&nbsp;[40]:</div>
<div class="inner_cell">
    <div class="input_area">
<div class=" highlight hl-ipython2"><pre><span></span><span class="n">M</span><span class="o">.</span><span class="n">T</span>
</pre></div>

</div>
</div>
</div>

<div class="output_wrapper">
<div class="output">


<div class="output_area">

<div class="prompt output_prompt">Out[40]:</div>




<div class="output_text output_subarea output_execute_result">
<pre>matrix([[1, 3],
        [2, 4]])</pre>
</div>

</div>

</div>
</div>

</div>
<div class="cell border-box-sizing text_cell rendered"><div class="prompt input_prompt">
</div>
<div class="inner_cell">
<div class="text_cell_render border-box-sizing rendered_html">
<p>To compute the inverse $M^{-1}$</p>

</div>
</div>
</div>
<div class="cell border-box-sizing code_cell rendered">
<div class="input">
<div class="prompt input_prompt">In&nbsp;[41]:</div>
<div class="inner_cell">
    <div class="input_area">
<div class=" highlight hl-ipython2"><pre><span></span><span class="n">M</span><span class="o">.</span><span class="n">I</span>
</pre></div>

</div>
</div>
</div>

<div class="output_wrapper">
<div class="output">


<div class="output_area">

<div class="prompt output_prompt">Out[41]:</div>




<div class="output_text output_subarea output_execute_result">
<pre>matrix([[-2. ,  1. ],
        [ 1.5, -0.5]])</pre>
</div>

</div>

</div>
</div>

</div>
<div class="cell border-box-sizing text_cell rendered"><div class="prompt input_prompt">
</div>
<div class="inner_cell">
<div class="text_cell_render border-box-sizing rendered_html">
<h1 id="Matrix-Dimensions">Matrix Dimensions<a class="anchor-link" href="#Matrix-Dimensions">&#182;</a></h1><ul>
<li>The total number of elements, and the dimensions of the array:</li>
</ul>

</div>
</div>
</div>
<div class="cell border-box-sizing code_cell rendered">
<div class="input">
<div class="prompt input_prompt">In&nbsp;[42]:</div>
<div class="inner_cell">
    <div class="input_area">
<div class=" highlight hl-ipython2"><pre><span></span><span class="n">M</span><span class="o">.</span><span class="n">size</span>
</pre></div>

</div>
</div>
</div>

<div class="output_wrapper">
<div class="output">


<div class="output_area">

<div class="prompt output_prompt">Out[42]:</div>




<div class="output_text output_subarea output_execute_result">
<pre>4</pre>
</div>

</div>

</div>
</div>

</div>
<div class="cell border-box-sizing code_cell rendered">
<div class="input">
<div class="prompt input_prompt">In&nbsp;[43]:</div>
<div class="inner_cell">
    <div class="input_area">
<div class=" highlight hl-ipython2"><pre><span></span><span class="n">M</span><span class="o">.</span><span class="n">shape</span>
</pre></div>

</div>
</div>
</div>

<div class="output_wrapper">
<div class="output">


<div class="output_area">

<div class="prompt output_prompt">Out[43]:</div>




<div class="output_text output_subarea output_execute_result">
<pre>(2, 2)</pre>
</div>

</div>

</div>
</div>

</div>
<div class="cell border-box-sizing code_cell rendered">
<div class="input">
<div class="prompt input_prompt">In&nbsp;[44]:</div>
<div class="inner_cell">
    <div class="input_area">
<div class=" highlight hl-ipython2"><pre><span></span><span class="nb">len</span><span class="p">(</span><span class="n">M</span><span class="o">.</span><span class="n">shape</span><span class="p">)</span>
</pre></div>

</div>
</div>
</div>

<div class="output_wrapper">
<div class="output">


<div class="output_area">

<div class="prompt output_prompt">Out[44]:</div>




<div class="output_text output_subarea output_execute_result">
<pre>2</pre>
</div>

</div>

</div>
</div>

</div>
<div class="cell border-box-sizing text_cell rendered"><div class="prompt input_prompt">
</div>
<div class="inner_cell">
<div class="text_cell_render border-box-sizing rendered_html">
<h1 id="Creating-Matrices-from-strings">Creating Matrices from strings<a class="anchor-link" href="#Creating-Matrices-from-strings">&#182;</a></h1><ul>
<li>We can also create arrays directly from strings, which saves some typing:</li>
</ul>

</div>
</div>
</div>
<div class="cell border-box-sizing code_cell rendered">
<div class="input">
<div class="prompt input_prompt">In&nbsp;[45]:</div>
<div class="inner_cell">
    <div class="input_area">
<div class=" highlight hl-ipython2"><pre><span></span><span class="n">I2</span> <span class="o">=</span> <span class="n">np</span><span class="o">.</span><span class="n">matrix</span><span class="p">(</span><span class="s1">&#39;2 0; 0 2&#39;</span><span class="p">)</span>
<span class="n">I2</span>
</pre></div>

</div>
</div>
</div>

<div class="output_wrapper">
<div class="output">


<div class="output_area">

<div class="prompt output_prompt">Out[45]:</div>




<div class="output_text output_subarea output_execute_result">
<pre>matrix([[2, 0],
        [0, 2]])</pre>
</div>

</div>

</div>
</div>

</div>
<div class="cell border-box-sizing text_cell rendered"><div class="prompt input_prompt">
</div>
<div class="inner_cell">
<div class="text_cell_render border-box-sizing rendered_html">
<ul>
<li>The semicolon starts a new row.</li>
</ul>

</div>
</div>
</div>
<div class="cell border-box-sizing text_cell rendered"><div class="prompt input_prompt">
</div>
<div class="inner_cell">
<div class="text_cell_render border-box-sizing rendered_html">
<h1 id="Matrix-Multiplication">Matrix Multiplication<a class="anchor-link" href="#Matrix-Multiplication">&#182;</a></h1>
</div>
</div>
</div>
<div class="cell border-box-sizing text_cell rendered"><div class="prompt input_prompt">
</div>
<div class="inner_cell">
<div class="text_cell_render border-box-sizing rendered_html">
<p>Now that we have two matrices, we can perform <a href="https://en.wikipedia.org/wiki/Matrix_multiplication">matrix multiplication</a>:</p>

</div>
</div>
</div>
<div class="cell border-box-sizing code_cell rendered">
<div class="input">
<div class="prompt input_prompt">In&nbsp;[46]:</div>
<div class="inner_cell">
    <div class="input_area">
<div class=" highlight hl-ipython2"><pre><span></span><span class="n">M</span> <span class="o">*</span> <span class="n">I2</span>
</pre></div>

</div>
</div>
</div>

<div class="output_wrapper">
<div class="output">


<div class="output_area">

<div class="prompt output_prompt">Out[46]:</div>




<div class="output_text output_subarea output_execute_result">
<pre>matrix([[2, 4],
        [6, 8]])</pre>
</div>

</div>

</div>
</div>

</div>
<div class="cell border-box-sizing text_cell rendered"><div class="prompt input_prompt">
</div>
<div class="inner_cell">
<div class="text_cell_render border-box-sizing rendered_html">
<h1 id="Matrix-Indexing">Matrix Indexing<a class="anchor-link" href="#Matrix-Indexing">&#182;</a></h1>
</div>
</div>
</div>
<div class="cell border-box-sizing text_cell rendered"><div class="prompt input_prompt">
</div>
<div class="inner_cell">
<div class="text_cell_render border-box-sizing rendered_html">
<ul>
<li>We can <a href="http://docs.scipy.org/doc/numpy/user/basics.indexing.html">index and slice matrices</a> using the same syntax as lists.</li>
</ul>

</div>
</div>
</div>
<div class="cell border-box-sizing code_cell rendered">
<div class="input">
<div class="prompt input_prompt">In&nbsp;[47]:</div>
<div class="inner_cell">
    <div class="input_area">
<div class=" highlight hl-ipython2"><pre><span></span><span class="n">M</span><span class="p">[:,</span><span class="mi">1</span><span class="p">]</span>
</pre></div>

</div>
</div>
</div>

<div class="output_wrapper">
<div class="output">


<div class="output_area">

<div class="prompt output_prompt">Out[47]:</div>




<div class="output_text output_subarea output_execute_result">
<pre>matrix([[2],
        [4]])</pre>
</div>

</div>

</div>
</div>

</div>
<div class="cell border-box-sizing text_cell rendered"><div class="prompt input_prompt">
</div>
<div class="inner_cell">
<div class="text_cell_render border-box-sizing rendered_html">
<h1 id="Slices-are-references">Slices are references<a class="anchor-link" href="#Slices-are-references">&#182;</a></h1><ul>
<li>If we use this is an assignment, we create a <em>reference</em> to the sliced elements, <em>not</em> a copy.</li>
</ul>

</div>
</div>
</div>
<div class="cell border-box-sizing code_cell rendered">
<div class="input">
<div class="prompt input_prompt">In&nbsp;[48]:</div>
<div class="inner_cell">
    <div class="input_area">
<div class=" highlight hl-ipython2"><pre><span></span><span class="n">V</span> <span class="o">=</span> <span class="n">M</span><span class="p">[:,</span><span class="mi">1</span><span class="p">]</span>  <span class="c1"># This does not make a copy of the elements!</span>
<span class="n">V</span>
</pre></div>

</div>
</div>
</div>

<div class="output_wrapper">
<div class="output">


<div class="output_area">

<div class="prompt output_prompt">Out[48]:</div>




<div class="output_text output_subarea output_execute_result">
<pre>matrix([[2],
        [4]])</pre>
</div>

</div>

</div>
</div>

</div>
<div class="cell border-box-sizing code_cell rendered">
<div class="input">
<div class="prompt input_prompt">In&nbsp;[49]:</div>
<div class="inner_cell">
    <div class="input_area">
<div class=" highlight hl-ipython2"><pre><span></span><span class="n">M</span><span class="p">[</span><span class="mi">0</span><span class="p">,</span><span class="mi">1</span><span class="p">]</span> <span class="o">=</span> <span class="o">-</span><span class="mi">2</span>
<span class="n">V</span>
</pre></div>

</div>
</div>
</div>

<div class="output_wrapper">
<div class="output">


<div class="output_area">

<div class="prompt output_prompt">Out[49]:</div>




<div class="output_text output_subarea output_execute_result">
<pre>matrix([[-2],
        [ 4]])</pre>
</div>

</div>

</div>
</div>

</div>
<div class="cell border-box-sizing text_cell rendered"><div class="prompt input_prompt">
</div>
<div class="inner_cell">
<div class="text_cell_render border-box-sizing rendered_html">
<h1 id="Copying-matrices-and-vectors">Copying matrices and vectors<a class="anchor-link" href="#Copying-matrices-and-vectors">&#182;</a></h1><ul>
<li>To copy a matrix, or a slice of its elements, use the function <code>np.copy()</code>:</li>
</ul>

</div>
</div>
</div>
<div class="cell border-box-sizing code_cell rendered">
<div class="input">
<div class="prompt input_prompt">In&nbsp;[50]:</div>
<div class="inner_cell">
    <div class="input_area">
<div class=" highlight hl-ipython2"><pre><span></span><span class="n">M</span> <span class="o">=</span> <span class="n">np</span><span class="o">.</span><span class="n">matrix</span><span class="p">(</span><span class="s1">&#39;1 2; 3 4&#39;</span><span class="p">)</span>
<span class="n">V</span> <span class="o">=</span> <span class="n">np</span><span class="o">.</span><span class="n">copy</span><span class="p">(</span><span class="n">M</span><span class="p">[:,</span><span class="mi">1</span><span class="p">])</span>  <span class="c1"># This does copy the elements.</span>
<span class="n">V</span>
</pre></div>

</div>
</div>
</div>

<div class="output_wrapper">
<div class="output">


<div class="output_area">

<div class="prompt output_prompt">Out[50]:</div>




<div class="output_text output_subarea output_execute_result">
<pre>array([[2],
       [4]])</pre>
</div>

</div>

</div>
</div>

</div>
<div class="cell border-box-sizing code_cell rendered">
<div class="input">
<div class="prompt input_prompt">In&nbsp;[51]:</div>
<div class="inner_cell">
    <div class="input_area">
<div class=" highlight hl-ipython2"><pre><span></span><span class="n">M</span><span class="p">[</span><span class="mi">0</span><span class="p">,</span><span class="mi">1</span><span class="p">]</span> <span class="o">=</span> <span class="o">-</span><span class="mi">2</span>
<span class="n">V</span>
</pre></div>

</div>
</div>
</div>

<div class="output_wrapper">
<div class="output">


<div class="output_area">

<div class="prompt output_prompt">Out[51]:</div>




<div class="output_text output_subarea output_execute_result">
<pre>array([[2],
       [4]])</pre>
</div>

</div>

</div>
</div>

</div>
<div class="cell border-box-sizing text_cell rendered"><div class="prompt input_prompt">
</div>
<div class="inner_cell">
<div class="text_cell_render border-box-sizing rendered_html">
<h1 id="Sums">Sums<a class="anchor-link" href="#Sums">&#182;</a></h1>
</div>
</div>
</div>
<div class="cell border-box-sizing text_cell rendered"><div class="prompt input_prompt">
</div>
<div class="inner_cell">
<div class="text_cell_render border-box-sizing rendered_html">
<p>One way we <em>could</em> sum a vector or matrix is to use a <code>for</code> loop.</p>

</div>
</div>
</div>
<div class="cell border-box-sizing code_cell rendered">
<div class="input">
<div class="prompt input_prompt">In&nbsp;[52]:</div>
<div class="inner_cell">
    <div class="input_area">
<div class=" highlight hl-ipython2"><pre><span></span><span class="n">vector</span> <span class="o">=</span> <span class="n">np</span><span class="o">.</span><span class="n">arange</span><span class="p">(</span><span class="mf">0.0</span><span class="p">,</span> <span class="mf">100.0</span><span class="p">,</span> <span class="mf">10.0</span><span class="p">)</span>
<span class="n">vector</span>
</pre></div>

</div>
</div>
</div>

<div class="output_wrapper">
<div class="output">


<div class="output_area">

<div class="prompt output_prompt">Out[52]:</div>




<div class="output_text output_subarea output_execute_result">
<pre>array([  0.,  10.,  20.,  30.,  40.,  50.,  60.,  70.,  80.,  90.])</pre>
</div>

</div>

</div>
</div>

</div>
<div class="cell border-box-sizing code_cell rendered">
<div class="input">
<div class="prompt input_prompt">In&nbsp;[53]:</div>
<div class="inner_cell">
    <div class="input_area">
<div class=" highlight hl-ipython2"><pre><span></span><span class="n">result</span> <span class="o">=</span> <span class="mf">0.0</span>
<span class="k">for</span> <span class="n">x</span> <span class="ow">in</span> <span class="n">vector</span><span class="p">:</span>
    <span class="n">result</span> <span class="o">=</span> <span class="n">result</span> <span class="o">+</span> <span class="n">x</span>
<span class="n">result</span>
</pre></div>

</div>
</div>
</div>

<div class="output_wrapper">
<div class="output">


<div class="output_area">

<div class="prompt output_prompt">Out[53]:</div>




<div class="output_text output_subarea output_execute_result">
<pre>450.0</pre>
</div>

</div>

</div>
</div>

</div>
<div class="cell border-box-sizing text_cell rendered"><div class="prompt input_prompt">
</div>
<div class="inner_cell">
<div class="text_cell_render border-box-sizing rendered_html">
<ul>
<li>This is not the most <em>efficient</em> way to compute a sum.</li>
</ul>

</div>
</div>
</div>
<div class="cell border-box-sizing text_cell rendered"><div class="prompt input_prompt">
</div>
<div class="inner_cell">
<div class="text_cell_render border-box-sizing rendered_html">
<h1 id="Efficient-sums">Efficient sums<a class="anchor-link" href="#Efficient-sums">&#182;</a></h1><ul>
<li><p>Instead of using a <code>for</code> loop, we can use a numpy function <code>sum()</code>.</p>
</li>
<li><p>This function is written in the C language, and is very fast.</p>
</li>
</ul>

</div>
</div>
</div>
<div class="cell border-box-sizing code_cell rendered">
<div class="input">
<div class="prompt input_prompt">In&nbsp;[54]:</div>
<div class="inner_cell">
    <div class="input_area">
<div class=" highlight hl-ipython2"><pre><span></span><span class="n">vector</span> <span class="o">=</span> <span class="n">np</span><span class="o">.</span><span class="n">array</span><span class="p">([</span><span class="mi">0</span><span class="p">,</span> <span class="mi">1</span><span class="p">,</span> <span class="mi">2</span><span class="p">,</span> <span class="mi">3</span><span class="p">,</span> <span class="mi">4</span><span class="p">])</span>
<span class="k">print</span> <span class="n">np</span><span class="o">.</span><span class="n">sum</span><span class="p">(</span><span class="n">vector</span><span class="p">)</span>
</pre></div>

</div>
</div>
</div>

<div class="output_wrapper">
<div class="output">


<div class="output_area">

<div class="prompt"></div>


<div class="output_subarea output_stream output_stdout output_text">
<pre>10
</pre>
</div>
</div>

</div>
</div>

</div>
<div class="cell border-box-sizing text_cell rendered"><div class="prompt input_prompt">
</div>
<div class="inner_cell">
<div class="text_cell_render border-box-sizing rendered_html">
<h1 id="Summing-rows-and-columns">Summing rows and columns<a class="anchor-link" href="#Summing-rows-and-columns">&#182;</a></h1><ul>
<li>When dealing with multi-dimensional data, the 'sum()' function has a named-argument <code>axis</code> which allows us to specify whether to sum along, each rows or columns.</li>
</ul>

</div>
</div>
</div>
<div class="cell border-box-sizing code_cell rendered">
<div class="input">
<div class="prompt input_prompt">In&nbsp;[55]:</div>
<div class="inner_cell">
    <div class="input_area">
<div class=" highlight hl-ipython2"><pre><span></span><span class="n">matrix</span> <span class="o">=</span> <span class="n">np</span><span class="o">.</span><span class="n">matrix</span><span class="p">(</span><span class="s1">&#39;1 2 3; 4 5 6; 7 8 9&#39;</span><span class="p">)</span>
<span class="k">print</span> <span class="n">matrix</span>
</pre></div>

</div>
</div>
</div>

<div class="output_wrapper">
<div class="output">


<div class="output_area">

<div class="prompt"></div>


<div class="output_subarea output_stream output_stdout output_text">
<pre>[[1 2 3]
 [4 5 6]
 [7 8 9]]
</pre>
</div>
</div>

</div>
</div>

</div>
<div class="cell border-box-sizing text_cell rendered"><div class="prompt input_prompt">
</div>
<div class="inner_cell">
<div class="text_cell_render border-box-sizing rendered_html">
<ul>
<li>To sum along rows:</li>
</ul>

</div>
</div>
</div>
<div class="cell border-box-sizing code_cell rendered">
<div class="input">
<div class="prompt input_prompt">In&nbsp;[56]:</div>
<div class="inner_cell">
    <div class="input_area">
<div class=" highlight hl-ipython2"><pre><span></span><span class="n">np</span><span class="o">.</span><span class="n">sum</span><span class="p">(</span><span class="n">matrix</span><span class="p">,</span> <span class="n">axis</span><span class="o">=</span><span class="mi">0</span><span class="p">)</span>
</pre></div>

</div>
</div>
</div>

<div class="output_wrapper">
<div class="output">


<div class="output_area">

<div class="prompt output_prompt">Out[56]:</div>




<div class="output_text output_subarea output_execute_result">
<pre>matrix([[12, 15, 18]])</pre>
</div>

</div>

</div>
</div>

</div>
<div class="cell border-box-sizing text_cell rendered"><div class="prompt input_prompt">
</div>
<div class="inner_cell">
<div class="text_cell_render border-box-sizing rendered_html">
<ul>
<li>To sum along columns:</li>
</ul>

</div>
</div>
</div>
<div class="cell border-box-sizing code_cell rendered">
<div class="input">
<div class="prompt input_prompt">In&nbsp;[57]:</div>
<div class="inner_cell">
    <div class="input_area">
<div class=" highlight hl-ipython2"><pre><span></span><span class="n">np</span><span class="o">.</span><span class="n">sum</span><span class="p">(</span><span class="n">matrix</span><span class="p">,</span> <span class="n">axis</span><span class="o">=</span><span class="mi">1</span><span class="p">)</span>
</pre></div>

</div>
</div>
</div>

<div class="output_wrapper">
<div class="output">


<div class="output_area">

<div class="prompt output_prompt">Out[57]:</div>




<div class="output_text output_subarea output_execute_result">
<pre>matrix([[ 6],
        [15],
        [24]])</pre>
</div>

</div>

</div>
</div>

</div>
<div class="cell border-box-sizing text_cell rendered"><div class="prompt input_prompt">
</div>
<div class="inner_cell">
<div class="text_cell_render border-box-sizing rendered_html">
<h1 id="Cumulative-sums">Cumulative sums<a class="anchor-link" href="#Cumulative-sums">&#182;</a></h1><ul>
<li>Suppose we want to compute $y_n = \sum_{i=1}^{n} x_i$ where $\mathbf{x}$ is a vector.</li>
</ul>

</div>
</div>
</div>
<div class="cell border-box-sizing code_cell rendered">
<div class="input">
<div class="prompt input_prompt">In&nbsp;[58]:</div>
<div class="inner_cell">
    <div class="input_area">
<div class=" highlight hl-ipython2"><pre><span></span><span class="kn">import</span> <span class="nn">numpy</span> <span class="kn">as</span> <span class="nn">np</span>
<span class="n">x</span> <span class="o">=</span> <span class="n">np</span><span class="o">.</span><span class="n">array</span><span class="p">([</span><span class="mi">0</span><span class="p">,</span> <span class="mi">1</span><span class="p">,</span> <span class="mi">2</span><span class="p">,</span> <span class="mi">3</span><span class="p">,</span> <span class="mi">4</span><span class="p">])</span>
<span class="n">y</span> <span class="o">=</span> <span class="n">np</span><span class="o">.</span><span class="n">cumsum</span><span class="p">(</span><span class="n">x</span><span class="p">)</span>
<span class="k">print</span> <span class="n">y</span>
</pre></div>

</div>
</div>
</div>

<div class="output_wrapper">
<div class="output">


<div class="output_area">

<div class="prompt"></div>


<div class="output_subarea output_stream output_stdout output_text">
<pre>[ 0  1  3  6 10]
</pre>
</div>
</div>

</div>
</div>

</div>
<div class="cell border-box-sizing text_cell rendered"><div class="prompt input_prompt">
</div>
<div class="inner_cell">
<div class="text_cell_render border-box-sizing rendered_html">
<h1 id="Cumulative-sums-along-rows-and-columns">Cumulative sums along rows and columns<a class="anchor-link" href="#Cumulative-sums-along-rows-and-columns">&#182;</a></h1>
</div>
</div>
</div>
<div class="cell border-box-sizing code_cell rendered">
<div class="input">
<div class="prompt input_prompt">In&nbsp;[59]:</div>
<div class="inner_cell">
    <div class="input_area">
<div class=" highlight hl-ipython2"><pre><span></span><span class="n">x</span> <span class="o">=</span> <span class="n">np</span><span class="o">.</span><span class="n">matrix</span><span class="p">(</span><span class="s1">&#39;1 2 3; 4 5 6; 7 8 9&#39;</span><span class="p">)</span>
<span class="k">print</span> <span class="n">x</span>
</pre></div>

</div>
</div>
</div>

<div class="output_wrapper">
<div class="output">


<div class="output_area">

<div class="prompt"></div>


<div class="output_subarea output_stream output_stdout output_text">
<pre>[[1 2 3]
 [4 5 6]
 [7 8 9]]
</pre>
</div>
</div>

</div>
</div>

</div>
<div class="cell border-box-sizing code_cell rendered">
<div class="input">
<div class="prompt input_prompt">In&nbsp;[60]:</div>
<div class="inner_cell">
    <div class="input_area">
<div class=" highlight hl-ipython2"><pre><span></span><span class="n">y</span> <span class="o">=</span> <span class="n">np</span><span class="o">.</span><span class="n">cumsum</span><span class="p">(</span><span class="n">x</span><span class="p">)</span>
<span class="n">np</span><span class="o">.</span><span class="n">cumsum</span><span class="p">(</span><span class="n">x</span><span class="p">,</span> <span class="n">axis</span><span class="o">=</span><span class="mi">0</span><span class="p">)</span>
</pre></div>

</div>
</div>
</div>

<div class="output_wrapper">
<div class="output">


<div class="output_area">

<div class="prompt output_prompt">Out[60]:</div>




<div class="output_text output_subarea output_execute_result">
<pre>matrix([[ 1,  2,  3],
        [ 5,  7,  9],
        [12, 15, 18]])</pre>
</div>

</div>

</div>
</div>

</div>
<div class="cell border-box-sizing code_cell rendered">
<div class="input">
<div class="prompt input_prompt">In&nbsp;[61]:</div>
<div class="inner_cell">
    <div class="input_area">
<div class=" highlight hl-ipython2"><pre><span></span><span class="n">np</span><span class="o">.</span><span class="n">cumsum</span><span class="p">(</span><span class="n">x</span><span class="p">,</span> <span class="n">axis</span><span class="o">=</span><span class="mi">1</span><span class="p">)</span>
</pre></div>

</div>
</div>
</div>

<div class="output_wrapper">
<div class="output">


<div class="output_area">

<div class="prompt output_prompt">Out[61]:</div>




<div class="output_text output_subarea output_execute_result">
<pre>matrix([[ 1,  3,  6],
        [ 4,  9, 15],
        [ 7, 15, 24]])</pre>
</div>

</div>

</div>
</div>

</div>
<div class="cell border-box-sizing text_cell rendered"><div class="prompt input_prompt">
</div>
<div class="inner_cell">
<div class="text_cell_render border-box-sizing rendered_html">
<h1 id="Cumulative-products">Cumulative products<a class="anchor-link" href="#Cumulative-products">&#182;</a></h1><ul>
<li>Similarly we can compute $y_n = \Pi_{i=1}^{n} x_i$ using <code>cumprod()</code>:</li>
</ul>

</div>
</div>
</div>
<div class="cell border-box-sizing code_cell rendered">
<div class="input">
<div class="prompt input_prompt">In&nbsp;[62]:</div>
<div class="inner_cell">
    <div class="input_area">
<div class=" highlight hl-ipython2"><pre><span></span><span class="kn">import</span> <span class="nn">numpy</span> <span class="kn">as</span> <span class="nn">np</span>
<span class="n">x</span> <span class="o">=</span> <span class="n">np</span><span class="o">.</span><span class="n">array</span><span class="p">([</span><span class="mi">1</span><span class="p">,</span> <span class="mi">2</span><span class="p">,</span> <span class="mi">3</span><span class="p">,</span> <span class="mi">4</span><span class="p">,</span> <span class="mi">5</span><span class="p">])</span>
<span class="n">np</span><span class="o">.</span><span class="n">cumprod</span><span class="p">(</span><span class="n">x</span><span class="p">)</span>
</pre></div>

</div>
</div>
</div>

<div class="output_wrapper">
<div class="output">


<div class="output_area">

<div class="prompt output_prompt">Out[62]:</div>




<div class="output_text output_subarea output_execute_result">
<pre>array([  1,   2,   6,  24, 120])</pre>
</div>

</div>

</div>
</div>

</div>
<div class="cell border-box-sizing text_cell rendered"><div class="prompt input_prompt">
</div>
<div class="inner_cell">
<div class="text_cell_render border-box-sizing rendered_html">
<ul>
<li>We can compute cummulative products along rows and columns using the <code>axis</code> parameter, just as with the <code>cumsum()</code> example.</li>
</ul>

</div>
</div>
</div>
<div class="cell border-box-sizing text_cell rendered"><div class="prompt input_prompt">
</div>
<div class="inner_cell">
<div class="text_cell_render border-box-sizing rendered_html">
<h1 id="Generating-(pseudo)-random-numbers">Generating (pseudo) random numbers<a class="anchor-link" href="#Generating-(pseudo)-random-numbers">&#182;</a></h1><ul>
<li>The nested module <code>numpy.random</code> contains functions for generating random numbers from different probability distributions.</li>
</ul>

</div>
</div>
</div>
<div class="cell border-box-sizing code_cell rendered">
<div class="input">
<div class="prompt input_prompt">In&nbsp;[63]:</div>
<div class="inner_cell">
    <div class="input_area">
<div class=" highlight hl-ipython2"><pre><span></span><span class="kn">from</span> <span class="nn">numpy.random</span> <span class="kn">import</span> <span class="n">normal</span><span class="p">,</span> <span class="n">uniform</span><span class="p">,</span> <span class="n">exponential</span><span class="p">,</span> <span class="n">randint</span>
</pre></div>

</div>
</div>
</div>

</div>
<div class="cell border-box-sizing text_cell rendered"><div class="prompt input_prompt">
</div>
<div class="inner_cell">
<div class="text_cell_render border-box-sizing rendered_html">
<ul>
<li><p>Suppose that we have a random variable $\epsilon \sim N(0, 1)$.</p>
</li>
<li><p>In Python we can draw from this distribution like so:</p>
</li>
</ul>

</div>
</div>
</div>
<div class="cell border-box-sizing code_cell rendered">
<div class="input">
<div class="prompt input_prompt">In&nbsp;[64]:</div>
<div class="inner_cell">
    <div class="input_area">
<div class=" highlight hl-ipython2"><pre><span></span><span class="n">epsilon</span> <span class="o">=</span> <span class="n">normal</span><span class="p">()</span>
<span class="k">print</span> <span class="n">epsilon</span>
</pre></div>

</div>
</div>
</div>

<div class="output_wrapper">
<div class="output">


<div class="output_area">

<div class="prompt"></div>


<div class="output_subarea output_stream output_stdout output_text">
<pre>-0.906592753436
</pre>
</div>
</div>

</div>
</div>

</div>
<div class="cell border-box-sizing text_cell rendered"><div class="prompt input_prompt">
</div>
<div class="inner_cell">
<div class="text_cell_render border-box-sizing rendered_html">
<ul>
<li>If we execute another call to the function, we will make a <em>new</em> draw from the distribution:</li>
</ul>

</div>
</div>
</div>
<div class="cell border-box-sizing code_cell rendered">
<div class="input">
<div class="prompt input_prompt">In&nbsp;[65]:</div>
<div class="inner_cell">
    <div class="input_area">
<div class=" highlight hl-ipython2"><pre><span></span><span class="n">epsilon</span> <span class="o">=</span> <span class="n">normal</span><span class="p">()</span>
<span class="k">print</span> <span class="n">epsilon</span>
</pre></div>

</div>
</div>
</div>

<div class="output_wrapper">
<div class="output">


<div class="output_area">

<div class="prompt"></div>


<div class="output_subarea output_stream output_stdout output_text">
<pre>-0.0841335075421
</pre>
</div>
</div>

</div>
</div>

</div>
<div class="cell border-box-sizing text_cell rendered"><div class="prompt input_prompt">
</div>
<div class="inner_cell">
<div class="text_cell_render border-box-sizing rendered_html">
<h1 id="Pseudo-random-numbers">Pseudo-random numbers<a class="anchor-link" href="#Pseudo-random-numbers">&#182;</a></h1><ul>
<li><p>Strictly speaking, these are not random numbers.</p>
</li>
<li><p>They rely on an initial state value called the <em>seed</em>.</p>
</li>
<li><p>If we know the seed, then we can predict with total accuracy the rest of the sequence, given any "random" number.</p>
</li>
<li><p>Nevertheless, statistically they behave like independently and identically-distributed values.</p>
<ul>
<li>Statistical tests for correlation and auto-correlation give insignificant results.</li>
</ul>
</li>
<li><p>For this reason they called <em>pseudo</em>-random numbers.</p>
</li>
<li><p>The algorithms for generating them are called Pseudo-Random Number Generators (PRNGs).</p>
</li>
<li><p>Some applications, such as cryptography, require genuinely unpredictable sequences.</p>
<ul>
<li>never use a standard PRNG for these applications!</li>
</ul>
</li>
</ul>

</div>
</div>
</div>
<div class="cell border-box-sizing text_cell rendered"><div class="prompt input_prompt">
</div>
<div class="inner_cell">
<div class="text_cell_render border-box-sizing rendered_html">
<h1 id="Managing-seed-values">Managing seed values<a class="anchor-link" href="#Managing-seed-values">&#182;</a></h1><ul>
<li><p>In some applications we need to reliably reproduce the same sequence of pseudo-random numbers that were used.</p>
</li>
<li><p>We can specify the seed value at the beginning of execution to achieve this.</p>
</li>
<li><p>Use the function <code>seed()</code> in the <code>numpy.random</code> module.</p>
</li>
</ul>

</div>
</div>
</div>
<div class="cell border-box-sizing text_cell rendered"><div class="prompt input_prompt">
</div>
<div class="inner_cell">
<div class="text_cell_render border-box-sizing rendered_html">
<h1 id="Setting-the-seed">Setting the seed<a class="anchor-link" href="#Setting-the-seed">&#182;</a></h1>
</div>
</div>
</div>
<div class="cell border-box-sizing code_cell rendered">
<div class="input">
<div class="prompt input_prompt">In&nbsp;[66]:</div>
<div class="inner_cell">
    <div class="input_area">
<div class=" highlight hl-ipython2"><pre><span></span><span class="kn">from</span> <span class="nn">numpy.random</span> <span class="kn">import</span> <span class="n">seed</span>

<span class="n">seed</span><span class="p">(</span><span class="mi">5</span><span class="p">)</span>
</pre></div>

</div>
</div>
</div>

</div>
<div class="cell border-box-sizing code_cell rendered">
<div class="input">
<div class="prompt input_prompt">In&nbsp;[67]:</div>
<div class="inner_cell">
    <div class="input_area">
<div class=" highlight hl-ipython2"><pre><span></span><span class="n">normal</span><span class="p">()</span>
</pre></div>

</div>
</div>
</div>

<div class="output_wrapper">
<div class="output">


<div class="output_area">

<div class="prompt output_prompt">Out[67]:</div>




<div class="output_text output_subarea output_execute_result">
<pre>0.44122748688504143</pre>
</div>

</div>

</div>
</div>

</div>
<div class="cell border-box-sizing code_cell rendered">
<div class="input">
<div class="prompt input_prompt">In&nbsp;[68]:</div>
<div class="inner_cell">
    <div class="input_area">
<div class=" highlight hl-ipython2"><pre><span></span><span class="n">normal</span><span class="p">()</span>
</pre></div>

</div>
</div>
</div>

<div class="output_wrapper">
<div class="output">


<div class="output_area">

<div class="prompt output_prompt">Out[68]:</div>




<div class="output_text output_subarea output_execute_result">
<pre>-0.33087015189408764</pre>
</div>

</div>

</div>
</div>

</div>
<div class="cell border-box-sizing code_cell rendered">
<div class="input">
<div class="prompt input_prompt">In&nbsp;[69]:</div>
<div class="inner_cell">
    <div class="input_area">
<div class=" highlight hl-ipython2"><pre><span></span><span class="n">seed</span><span class="p">(</span><span class="mi">5</span><span class="p">)</span>
</pre></div>

</div>
</div>
</div>

</div>
<div class="cell border-box-sizing code_cell rendered">
<div class="input">
<div class="prompt input_prompt">In&nbsp;[70]:</div>
<div class="inner_cell">
    <div class="input_area">
<div class=" highlight hl-ipython2"><pre><span></span><span class="n">normal</span><span class="p">()</span>
</pre></div>

</div>
</div>
</div>

<div class="output_wrapper">
<div class="output">


<div class="output_area">

<div class="prompt output_prompt">Out[70]:</div>




<div class="output_text output_subarea output_execute_result">
<pre>0.44122748688504143</pre>
</div>

</div>

</div>
</div>

</div>
<div class="cell border-box-sizing code_cell rendered">
<div class="input">
<div class="prompt input_prompt">In&nbsp;[71]:</div>
<div class="inner_cell">
    <div class="input_area">
<div class=" highlight hl-ipython2"><pre><span></span><span class="n">normal</span><span class="p">()</span>
</pre></div>

</div>
</div>
</div>

<div class="output_wrapper">
<div class="output">


<div class="output_area">

<div class="prompt output_prompt">Out[71]:</div>




<div class="output_text output_subarea output_execute_result">
<pre>-0.33087015189408764</pre>
</div>

</div>

</div>
</div>

</div>
<div class="cell border-box-sizing text_cell rendered"><div class="prompt input_prompt">
</div>
<div class="inner_cell">
<div class="text_cell_render border-box-sizing rendered_html">
<h1 id="Drawing-multiple-variates">Drawing multiple variates<a class="anchor-link" href="#Drawing-multiple-variates">&#182;</a></h1><ul>
<li>To generate more than number, we can specify the <code>size</code> parameter:</li>
</ul>

</div>
</div>
</div>
<div class="cell border-box-sizing code_cell rendered">
<div class="input">
<div class="prompt input_prompt">In&nbsp;[72]:</div>
<div class="inner_cell">
    <div class="input_area">
<div class=" highlight hl-ipython2"><pre><span></span><span class="n">normal</span><span class="p">(</span><span class="n">size</span><span class="o">=</span><span class="mi">10</span><span class="p">)</span>
</pre></div>

</div>
</div>
</div>

<div class="output_wrapper">
<div class="output">


<div class="output_area">

<div class="prompt output_prompt">Out[72]:</div>




<div class="output_text output_subarea output_execute_result">
<pre>array([ 2.43077119, -0.25209213,  0.10960984,  1.58248112, -0.9092324 ,
       -0.59163666,  0.18760323, -0.32986996, -1.19276461, -0.20487651])</pre>
</div>

</div>

</div>
</div>

</div>
<div class="cell border-box-sizing text_cell rendered"><div class="prompt input_prompt">
</div>
<div class="inner_cell">
<div class="text_cell_render border-box-sizing rendered_html">
<ul>
<li>If you are generating very many variates, this will be <em>much</em> faster than using a for loop</li>
</ul>

</div>
</div>
</div>
<div class="cell border-box-sizing text_cell rendered"><div class="prompt input_prompt">
</div>
<div class="inner_cell">
<div class="text_cell_render border-box-sizing rendered_html">
<ul>
<li>We can also specify more than one dimension:</li>
</ul>

</div>
</div>
</div>
<div class="cell border-box-sizing code_cell rendered">
<div class="input">
<div class="prompt input_prompt">In&nbsp;[73]:</div>
<div class="inner_cell">
    <div class="input_area">
<div class=" highlight hl-ipython2"><pre><span></span><span class="n">normal</span><span class="p">(</span><span class="n">size</span><span class="o">=</span><span class="p">(</span><span class="mi">5</span><span class="p">,</span><span class="mi">5</span><span class="p">))</span>
</pre></div>

</div>
</div>
</div>

<div class="output_wrapper">
<div class="output">


<div class="output_area">

<div class="prompt output_prompt">Out[73]:</div>




<div class="output_text output_subarea output_execute_result">
<pre>array([[-0.35882895,  0.6034716 , -1.66478853, -0.70017904,  1.15139101],
       [ 1.85733101, -1.51117956,  0.64484751, -0.98060789, -0.85685315],
       [-0.87187918, -0.42250793,  0.99643983,  0.71242127,  0.05914424],
       [-0.36331088,  0.00328884, -0.10593044,  0.79305332, -0.63157163],
       [-0.00619491, -0.10106761, -0.05230815,  0.24921766,  0.19766009]])</pre>
</div>

</div>

</div>
</div>

</div>
<div class="cell border-box-sizing text_cell rendered"><div class="prompt input_prompt">
</div>
<div class="inner_cell">
<div class="text_cell_render border-box-sizing rendered_html">
<h1 id="Histograms">Histograms<a class="anchor-link" href="#Histograms">&#182;</a></h1><ul>
<li>We can plot a histograms of randomly-distributed data using the <code>hist()</code> function from matplotlib:</li>
</ul>

</div>
</div>
</div>
<div class="cell border-box-sizing code_cell rendered">
<div class="input">
<div class="prompt input_prompt">In&nbsp;[74]:</div>
<div class="inner_cell">
    <div class="input_area">
<div class=" highlight hl-ipython2"><pre><span></span><span class="kn">import</span> <span class="nn">matplotlib.pyplot</span> <span class="kn">as</span> <span class="nn">plt</span>
<span class="o">%</span><span class="k">matplotlib</span> inline

<span class="n">data</span> <span class="o">=</span> <span class="n">normal</span><span class="p">(</span><span class="n">size</span><span class="o">=</span><span class="mi">10000</span><span class="p">)</span>
<span class="n">ax</span> <span class="o">=</span> <span class="n">plt</span><span class="o">.</span><span class="n">hist</span><span class="p">(</span><span class="n">data</span><span class="p">)</span>
</pre></div>

</div>
</div>
</div>

<div class="output_wrapper">
<div class="output">


<div class="output_area">

<div class="prompt"></div>




<div class="output_png output_subarea ">
<img src="data:image/png;base64,iVBORw0KGgoAAAANSUhEUgAAAXsAAAEACAYAAABS29YJAAAABHNCSVQICAgIfAhkiAAAAAlwSFlz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=
"
>
</div>

</div>

</div>
</div>

</div>
<div class="cell border-box-sizing text_cell rendered"><div class="prompt input_prompt">
</div>
<div class="inner_cell">
<div class="text_cell_render border-box-sizing rendered_html">
<h1 id="Computing-histograms-as-matrices">Computing histograms as matrices<a class="anchor-link" href="#Computing-histograms-as-matrices">&#182;</a></h1><ul>
<li>The function <code>histogram()</code> in the <code>numpy</code> module will count frequencies into bins and return the result as a 2-dimensional array.</li>
</ul>

</div>
</div>
</div>
<div class="cell border-box-sizing code_cell rendered">
<div class="input">
<div class="prompt input_prompt">In&nbsp;[75]:</div>
<div class="inner_cell">
    <div class="input_area">
<div class=" highlight hl-ipython2"><pre><span></span><span class="kn">import</span> <span class="nn">numpy</span> <span class="kn">as</span> <span class="nn">np</span>
<span class="n">np</span><span class="o">.</span><span class="n">histogram</span><span class="p">(</span><span class="n">data</span><span class="p">)</span>
</pre></div>

</div>
</div>
</div>

<div class="output_wrapper">
<div class="output">


<div class="output_area">

<div class="prompt output_prompt">Out[75]:</div>




<div class="output_text output_subarea output_execute_result">
<pre>(array([  23,  136,  618, 1597, 2626, 2635, 1620,  599,  130,   16]),
 array([-3.59780883, -2.87679609, -2.15578336, -1.43477063, -0.71375789,
        0.00725484,  0.72826758,  1.44928031,  2.17029304,  2.89130578,
        3.61231851]))</pre>
</div>

</div>

</div>
</div>

</div>
<div class="cell border-box-sizing text_cell rendered"><div class="prompt input_prompt">
</div>
<div class="inner_cell">
<div class="text_cell_render border-box-sizing rendered_html">
<h1 id="Summary-statistics">Summary statistics<a class="anchor-link" href="#Summary-statistics">&#182;</a></h1><ul>
<li>We can compute the summary statistics of a sample of values using the numpy functions <code>mean()</code> and <code>var()</code> to compute the sample mean $\bar{X}$ and sample <a href="https://en.wikipedia.org/wiki/Variance">variance</a> $\sigma_{X}^2$ .</li>
</ul>

</div>
</div>
</div>
<div class="cell border-box-sizing code_cell rendered">
<div class="input">
<div class="prompt input_prompt">In&nbsp;[76]:</div>
<div class="inner_cell">
    <div class="input_area">
<div class=" highlight hl-ipython2"><pre><span></span><span class="n">np</span><span class="o">.</span><span class="n">mean</span><span class="p">(</span><span class="n">data</span><span class="p">)</span>
</pre></div>

</div>
</div>
</div>

<div class="output_wrapper">
<div class="output">


<div class="output_area">

<div class="prompt output_prompt">Out[76]:</div>




<div class="output_text output_subarea output_execute_result">
<pre>-0.00045461080333495795</pre>
</div>

</div>

</div>
</div>

</div>
<div class="cell border-box-sizing code_cell rendered">
<div class="input">
<div class="prompt input_prompt">In&nbsp;[77]:</div>
<div class="inner_cell">
    <div class="input_area">
<div class=" highlight hl-ipython2"><pre><span></span><span class="n">np</span><span class="o">.</span><span class="n">var</span><span class="p">(</span><span class="n">data</span><span class="p">)</span>
</pre></div>

</div>
</div>
</div>

<div class="output_wrapper">
<div class="output">


<div class="output_area">

<div class="prompt output_prompt">Out[77]:</div>




<div class="output_text output_subarea output_execute_result">
<pre>1.0016048722546327</pre>
</div>

</div>

</div>
</div>

</div>
<div class="cell border-box-sizing text_cell rendered"><div class="prompt input_prompt">
</div>
<div class="inner_cell">
<div class="text_cell_render border-box-sizing rendered_html">
<ul>
<li>These functions also have an <code>axis</code> parameter to compute mean and variances of columns or rows of a multi-dimensional data-set.</li>
</ul>

</div>
</div>
</div>
<div class="cell border-box-sizing text_cell rendered"><div class="prompt input_prompt">
</div>
<div class="inner_cell">
<div class="text_cell_render border-box-sizing rendered_html">
<h1 id="Summary-statistics-with-nan-values">Summary statistics with <code>nan</code> values<a class="anchor-link" href="#Summary-statistics-with-nan-values">&#182;</a></h1><ul>
<li>If the data contains <code>nan</code> values, then the summary statistics will also be <code>nan</code>.</li>
</ul>

</div>
</div>
</div>
<div class="cell border-box-sizing code_cell rendered">
<div class="input">
<div class="prompt input_prompt">In&nbsp;[78]:</div>
<div class="inner_cell">
    <div class="input_area">
<div class=" highlight hl-ipython2"><pre><span></span><span class="kn">from</span> <span class="nn">numpy</span> <span class="kn">import</span> <span class="n">nan</span>
<span class="kn">import</span> <span class="nn">numpy</span> <span class="kn">as</span> <span class="nn">np</span>
<span class="n">data</span> <span class="o">=</span> <span class="n">np</span><span class="o">.</span><span class="n">array</span><span class="p">([</span><span class="mi">1</span><span class="p">,</span> <span class="mi">2</span><span class="p">,</span> <span class="mi">3</span><span class="p">,</span> <span class="mi">4</span><span class="p">,</span> <span class="n">nan</span><span class="p">])</span>
<span class="n">np</span><span class="o">.</span><span class="n">mean</span><span class="p">(</span><span class="n">data</span><span class="p">)</span>
</pre></div>

</div>
</div>
</div>

<div class="output_wrapper">
<div class="output">


<div class="output_area">

<div class="prompt output_prompt">Out[78]:</div>




<div class="output_text output_subarea output_execute_result">
<pre>nan</pre>
</div>

</div>

</div>
</div>

</div>
<div class="cell border-box-sizing text_cell rendered"><div class="prompt input_prompt">
</div>
<div class="inner_cell">
<div class="text_cell_render border-box-sizing rendered_html">
<ul>
<li>To omit <code>nan</code> values from the calculation, use the functions <code>nanmean()</code> and <code>nanvar()</code>:</li>
</ul>

</div>
</div>
</div>
<div class="cell border-box-sizing code_cell rendered">
<div class="input">
<div class="prompt input_prompt">In&nbsp;[79]:</div>
<div class="inner_cell">
    <div class="input_area">
<div class=" highlight hl-ipython2"><pre><span></span><span class="n">np</span><span class="o">.</span><span class="n">nanmean</span><span class="p">(</span><span class="n">data</span><span class="p">)</span>
</pre></div>

</div>
</div>
</div>

<div class="output_wrapper">
<div class="output">


<div class="output_area">

<div class="prompt output_prompt">Out[79]:</div>




<div class="output_text output_subarea output_execute_result">
<pre>2.5</pre>
</div>

</div>

</div>
</div>

</div>
<div class="cell border-box-sizing text_cell rendered"><div class="prompt input_prompt">
</div>
<div class="inner_cell">
<div class="text_cell_render border-box-sizing rendered_html">
<h1 id="Discrete-random-numbers">Discrete random numbers<a class="anchor-link" href="#Discrete-random-numbers">&#182;</a></h1><ul>
<li><p>The <code>randint()</code> function in <code>numpy.random</code> can be used to draw from a uniform discrete probability distribution.</p>
</li>
<li><p>It takes two parameters: the low value (inclusive), and the high value (exclusive).</p>
</li>
<li><p>So to simulate one roll of a die, we would use the following Python code.</p>
</li>
</ul>

</div>
</div>
</div>
<div class="cell border-box-sizing code_cell rendered">
<div class="input">
<div class="prompt input_prompt">In&nbsp;[80]:</div>
<div class="inner_cell">
    <div class="input_area">
<div class=" highlight hl-ipython2"><pre><span></span><span class="n">die_roll</span> <span class="o">=</span> <span class="n">randint</span><span class="p">(</span><span class="mi">0</span><span class="p">,</span> <span class="mi">6</span><span class="p">)</span> <span class="o">+</span> <span class="mi">1</span>
<span class="n">die_roll</span>
</pre></div>

</div>
</div>
</div>

<div class="output_wrapper">
<div class="output">


<div class="output_area">

<div class="prompt output_prompt">Out[80]:</div>




<div class="output_text output_subarea output_execute_result">
<pre>4</pre>
</div>

</div>

</div>
</div>

</div>
<div class="cell border-box-sizing text_cell rendered"><div class="prompt input_prompt">
</div>
<div class="inner_cell">
<div class="text_cell_render border-box-sizing rendered_html">
<ul>
<li><p>Just as with the <code>normal()</code> function, we can generate an entire sequence of values.</p>
</li>
<li><p>To simulate a <a href="https://en.wikipedia.org/wiki/Bernoulli_process">Bernoulli process</a> with $n=20$ trials:</p>
</li>
</ul>

</div>
</div>
</div>
<div class="cell border-box-sizing code_cell rendered">
<div class="input">
<div class="prompt input_prompt">In&nbsp;[81]:</div>
<div class="inner_cell">
    <div class="input_area">
<div class=" highlight hl-ipython2"><pre><span></span><span class="n">bernoulli_trials</span> <span class="o">=</span> <span class="n">randint</span><span class="p">(</span><span class="mi">0</span><span class="p">,</span> <span class="mi">2</span><span class="p">,</span> <span class="n">size</span> <span class="o">=</span> <span class="mi">20</span><span class="p">)</span>
<span class="n">bernoulli_trials</span>
</pre></div>

</div>
</div>
</div>

<div class="output_wrapper">
<div class="output">


<div class="output_area">

<div class="prompt output_prompt">Out[81]:</div>




<div class="output_text output_subarea output_execute_result">
<pre>array([1, 1, 0, 1, 1, 1, 0, 1, 0, 0, 1, 1, 1, 0, 0, 0, 0, 1, 1, 0])</pre>
</div>

</div>

</div>
</div>

</div>
<div class="cell border-box-sizing text_cell rendered"><div class="prompt input_prompt">
</div>
<div class="inner_cell">
<div class="text_cell_render border-box-sizing rendered_html">
<h3 id="Acknowledgements">Acknowledgements<a class="anchor-link" href="#Acknowledgements">&#182;</a></h3><p>The earlier sections of this notebook were adapted from <a href="http://steve.hollasch.net/cgindex/coding/ieeefloat.html">an article on floating-point numbers</a> written by <a href="http://steve.hollasch.net/">Steve Hollasch</a>.</p>

</div>
</div>
</div>
 


    </div>
  </div>

  </div>


  
    <footer class="footer hidden-print">
      <div class="container">
        <div class="col-md-4">
          <p>
            This website does not host notebooks, it only renders notebooks
            available on other websites.
          </p>
        </div>

        <div class="col-md-4">
          <p>
            Delivered by <a href="http://www.fastly.com/">Fastly</a>,
            Rendered by <a href="https://developer.rackspace.com/?nbviewer=awesome">Rackspace</a>
          </p>
          <p>
            nbviewer GitHub <a href="https://github.com/jupyter/nbviewer">repository</a>.
          </p>
        </div>

        <div class="col-md-4">
          
  
            
              <p>
                nbviewer version:
                <a href="https://github.com/jupyter/nbviewer/commit/38e181afeec4b7527a8a13ef7c3814e36045244c">
                  38e181a
                </a>
              </p>
            
          
  
  <p>
    nbconvert version: <a href="https://github.com/jupyter/nbconvert/releases/tag/5.3.1">
      5.3.1
    </a>
  </p>
  

          
  
  
  <p>
    Rendered
    <span class='date' data-date='Sun, 17 Jun 2018 13:52:11 UTC' title='Sun, 17 Jun 2018 13:52:11 UTC'>(Sun, 17 Jun 2018 13:52:11 UTC)</span>
  </p>
  

        </div>
      </div>
    </footer>
  

  <script src="/static/components/bootstrap/js/bootstrap.min.js?v=5869c96cc8f19086aee625d670d741f9"></script>
  <script src="/static/components/headroom.js/dist/headroom.min.js?v=b0a311ea668f8e768ea375f4a7abb81c"></script>
  <script src="/static/components/headroom.js/dist/jQuery.headroom.min.js?v=f3a1bae118315d0c234afc74dc6aab71"></script>

  
  
  <script>
    $(function(){ $("#menubar").headroom({
      tolerance: 5,
      offset: 205,
      classes: {
        initial: "animated",
        pinned: "slideInDown",
        unpinned: "slideOutUp"
      }
    })});
  </script>


  
  <script>
    (function(i,s,o,g,r,a,m){i['GoogleAnalyticsObject']=r;i[r]=i[r]||function(){
      (i[r].q=i[r].q||[]).push(arguments)},i[r].l=1*new Date();a=s.createElement(o),
      m=s.getElementsByTagName(o)[0];a.async=1;a.src=g;m.parentNode.insertBefore(a,m)
    })(window,document,'script','https://www.google-analytics.com/analytics.js','ga');
    ga('create', 'UA-52617120-5', 'auto',
       {'storage': 'none'});
    ga('set', 'anonymizeIp', true);
    ga('send', 'pageview');
  </script>
  
  <script>
    require({
        paths: {
          moment: "/static/components/moment/min/moment.min.js?v=89f87298ad94aa1e6b92f42eb66da043"
        }
      }, ["moment"], function(moment){
      var date = $("footer .date"),
        m = moment(new Date(date.data('date'))),
        update = function(){ date.text(m.fromNow()); };
      setInterval(update, 61*1000);
      update();
      var w = $(window).scroll(function(event){
        $("body").toggleClass("scrolled", w.scrollTop() > 0);
      });
    });
  </script>

  <!--NEW RELIC Stop Perf Measurement-->
  
  <!--NEW RELIC End-->
</body>
</html>