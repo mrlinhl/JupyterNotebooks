








<!DOCTYPE html>
<html lang="en">

<head>
  <meta charset="utf-8">
  <title>Jupyter Notebook Viewer</title>
  <meta name="viewport" content="width=device-width, initial-scale=1.0">
  <meta name="description" content="">
  <meta name="author" content="">
  
  <meta name="robots" content="noindex,nofollow">
  

  <!--NEW RELIC Start Perf Measurement-->
  
  <!--NREND-->

  <!-- Le styles -->
  <script src="/cdn-cgi/apps/head/MuIIl4I_IVFkxldaVu1mdWee9as.js"></script><link href="/static/build/styles.css?v=af7ff69ae1abb8954a21dbb2241d4e24" rel="stylesheet">

  <!-- Le HTML5 shim, for IE6-8 support of HTML5 elements -->
  <!--[if lt IE 9]>
    <script src="http://html5shim.googlecode.com/svn/trunk/html5.js"></script>
  <![endif]-->

  <!-- Le fav and touch icons -->
  <link rel="shortcut icon" href="/static/ico/ipynb_icon_16x16.png">
  <link rel="apple-touch-icon-precomposed" sizes="144x144"
        href="/static/ico/apple-touch-icon-144-precomposed.png?v=5a3c9ede93e2a8b8ea9e3f8f3da1a905">
  <link rel="apple-touch-icon-precomposed" sizes="114x114"
        href="/static/ico/apple-touch-icon-114-precomposed.png?v=45d86fc8f24dc00638035e1dd7a6d898">
  <link rel="apple-touch-icon-precomposed" sizes="72x72"
        href="/static/ico/apple-touch-icon-72-precomposed.png?v=540b5eb0f3cfd25f1439d1c9bd30e15f">
  <link rel="apple-touch-icon-precomposed"
        href="/static/ico/apple-touch-icon-57-precomposed.png?v=225f0590e187e1458625654f10a28f56">
  
  

  

  
  <meta name="twitter:card" content="summary">
  <meta name="twitter:title" content="Notebook on nbviewer">
  <meta name="twitter:description" content="Check out this Jupyter notebook!">

  
  <meta name="twitter:domain" content="nbviewer.ipython.org">
  <meta name="twitter:image:src" content="http://ipython.org/ipython-doc/dev/_images/ipynb_icon_128x128.png">

  
    <link href="/static/build/notebook.css?v=70404d2166a8ab8949e8e1cdff07b91f" rel="stylesheet">
  

  

  
    <script src="https://cdnjs.cloudflare.com/ajax/libs/mathjax/2.7.1/MathJax.js?config=TeX-AMS_HTML" type="text/javascript">
    </script>
    <script type="text/javascript">
      init_mathjax = function() {
        if (window.MathJax) {
          // MathJax loaded
          MathJax.Hub.Config({
            TeX: {
              equationNumbers: {
                autoNumber: "AMS",
                useLabelIds: true
              }
            },
            tex2jax: {
              inlineMath: [ ['$','$'], ["\\(","\\)"] ],
              displayMath: [ ['$$','$$'], ["\\[","\\]"] ],
              processEscapes: true,
              processEnvironments: true
            },
            displayAlign: 'center',
            "HTML-CSS": {
              styles: {'.MathJax_Display': {"margin": 0}},
              linebreaks: { automatic: true }
            }
          });
          MathJax.Hub.Queue(["Typeset", MathJax.Hub]);
        }
      }
      init_mathjax();
    </script>
  

  
    <script>
      (function() {
        function addWidgetsRenderer() {
          var mimeElement = document.querySelector('script[type="application/vnd.jupyter.widget-view+json"]');
          var scriptElement = document.createElement('script');
          var widgetRendererSrc = 'https://unpkg.com/@jupyter-widgets/html-manager@*/dist/embed-amd.js';
          var widgetState;

          try {
            widgetState = mimeElement && JSON.parse(mimeElement.innerHTML);

            if (widgetState && (widgetState.version_major < 2 || !widgetState.version_major)) {
              widgetRendererSrc = 'https://unpkg.com/jupyter-js-widgets@*/dist/embed.js';
            }
          } catch(e) {}

          scriptElement.src = widgetRendererSrc;
          document.body.appendChild(scriptElement);
        }

        document.addEventListener('DOMContentLoaded', addWidgetsRenderer);
      }());
    </script>
  

</head>

<body class="nbviewer">

  <!-- These are loaded at the top of the body so they are available to
       notebook cells when they are loaded below. -->
  <script src="/static/components/jquery/dist/jquery.min.js?v=a09e13ee94d51c524b7e2a728c7d4039"></script>
  <script src="/static/components/requirejs/require.js?v=6da8be361b9ee26c5e721e76c6d4afce"></script>
  <script src="/static/components/moment/min/moment.min.js?v=89f87298ad94aa1e6b92f42eb66da043"></script>
<!-- Navbar
================================================== -->
  <nav id="menubar" class="navbar navbar-default navbar-fixed-top" data-spy="affix">
    <div class="container">
      <div class="navbar-header">
        <button type="button" class="navbar-toggle collapsed" data-toggle="collapse" data-target=".navbar-collapse">
          <span class="sr-only">Toggle navigation</span>
          <i class="fa fa-bars"></i>
        </button>
        <a class="navbar-brand" href="/">
          <img src="/static/img/nav_logo.svg?v=479cefe8d932fb14a67b93911b97d70f" width="159"/>
        </a>
      </div>

      <div class="collapse navbar-collapse">
        <ul class="nav navbar-nav navbar-right">
          <li>
            <a class="active" href="http://jupyter.org">JUPYTER</a>
          </li>
          <li>
    <a href="/faq" title="FAQ" >
      
        <span>FAQ</span>
      
    </a>
  </li>

          
  
    
  
    
      
        <li>
    <a href="/format/slides/github/phelps-sg/python-bigdata/blob/master/src/main/ipynb/intro-python.ipynb" title="View as Slides" >
      <span class="fa fa-gift fa-2x menu-icon"></span>
      <span class="menu-text">View as Slides</span>
    </a>
  </li>
      
    
  
    
      
        <li>
    <a href="/format/script/github/phelps-sg/python-bigdata/blob/master/src/main/ipynb/intro-python.ipynb" title="View as Code" >
      <span class="fa fa-code fa-2x menu-icon"></span>
      <span class="menu-text">View as Code</span>
    </a>
  </li>
      
    
  

  
    <li>
    <a href="#" title="Python 2 Kernel" >
      <span class="fa fa-server fa-2x menu-icon"></span>
      <span class="menu-text">Python 2 Kernel</span>
    </a>
  </li>
  

  
    <li>
    <a href="https://github.com/phelps-sg/python-bigdata/blob/master/src/main/ipynb/intro-python.ipynb" title="View on GitHub" >
      <span class="fa fa-github fa-2x menu-icon"></span>
      <span class="menu-text">View on GitHub</span>
    </a>
  </li>
  

  <li>
    <a href="https://raw.githubusercontent.com/phelps-sg/python-bigdata/master/src/main/ipynb/intro-python.ipynb" title="Download Notebook" download>
      <span class="fa fa-download fa-2x menu-icon"></span>
      <span class="menu-text">Download Notebook</span>
    </a>
  </li>

        </ul>
      </div><!-- /.navbar-collapse -->
      
      
    </div>
  </nav>

  <div class="container container-main">
    
  
  <ol class="breadcrumb">
    
      <li>
        <a href="/github/phelps-sg/python-bigdata/tree/master">python-bigdata</a>
      </li>
    
      <li>
        <a href="/github/phelps-sg/python-bigdata/tree/master/src">src</a>
      </li>
    
      <li>
        <a href="/github/phelps-sg/python-bigdata/tree/master/src/main">main</a>
      </li>
    
      <li>
        <a href="/github/phelps-sg/python-bigdata/tree/master/src/main/ipynb">ipynb</a>
      </li>
    
  </ol>
  
  <div id="notebook">
    <div id="notebook-container">
      
<div class="cell border-box-sizing text_cell rendered"><div class="prompt input_prompt">
</div>
<div class="inner_cell">
<div class="text_cell_render border-box-sizing rendered_html">
<h1 id="Introduction-to-Python">Introduction to Python<a class="anchor-link" href="#Introduction-to-Python">&#182;</a></h1><p>Copyright <a href="http://sphelps.net">Steve Phelps</a> 2014</p>

</div>
</div>
</div>
<div class="cell border-box-sizing text_cell rendered"><div class="prompt input_prompt">
</div>
<div class="inner_cell">
<div class="text_cell_render border-box-sizing rendered_html">
<h1 id="Python-is-interpreted">Python is interpreted<a class="anchor-link" href="#Python-is-interpreted">&#182;</a></h1><ul>
<li><p>Python is an <em>interpreted</em> language, in contrast to Java and C which are compiled languages.</p>
</li>
<li><p>This means we can type statements into the interpreter and they are executed immediately.</p>
</li>
</ul>

</div>
</div>
</div>
<div class="cell border-box-sizing code_cell rendered">
<div class="input">
<div class="prompt input_prompt">In&nbsp;[5]:</div>
<div class="inner_cell">
    <div class="input_area">
<div class=" highlight hl-ipython2"><pre><span></span><span class="mi">5</span> <span class="o">+</span> <span class="mi">5</span>
</pre></div>

</div>
</div>
</div>

<div class="output_wrapper">
<div class="output">


<div class="output_area">

<div class="prompt output_prompt">Out[5]:</div>




<div class="output_text output_subarea output_execute_result">
<pre>10</pre>
</div>

</div>

</div>
</div>

</div>
<div class="cell border-box-sizing code_cell rendered">
<div class="input">
<div class="prompt input_prompt">In&nbsp;[2]:</div>
<div class="inner_cell">
    <div class="input_area">
<div class=" highlight hl-ipython2"><pre><span></span><span class="n">x</span> <span class="o">=</span> <span class="mi">5</span>
<span class="n">y</span> <span class="o">=</span> <span class="s1">&#39;Hello There&#39;</span>
<span class="n">z</span> <span class="o">=</span> <span class="mf">10.5</span>
</pre></div>

</div>
</div>
</div>

</div>
<div class="cell border-box-sizing code_cell rendered">
<div class="input">
<div class="prompt input_prompt">In&nbsp;[3]:</div>
<div class="inner_cell">
    <div class="input_area">
<div class=" highlight hl-ipython2"><pre><span></span><span class="n">x</span> <span class="o">+</span> <span class="mi">5</span>
</pre></div>

</div>
</div>
</div>

<div class="output_wrapper">
<div class="output">


<div class="output_area">

<div class="prompt output_prompt">Out[3]:</div>




<div class="output_text output_subarea output_execute_result">
<pre>10</pre>
</div>

</div>

</div>
</div>

</div>
<div class="cell border-box-sizing text_cell rendered"><div class="prompt input_prompt">
</div>
<div class="inner_cell">
<div class="text_cell_render border-box-sizing rendered_html">
<h1 id="Assignments-versus-equations">Assignments versus equations<a class="anchor-link" href="#Assignments-versus-equations">&#182;</a></h1><ul>
<li><p>In Python when we write <code>x = 5</code> this means something different from an equation $x=5$.</p>
</li>
<li><p>Unlike variables in mathematical models, variables in Python can refer to different things as more statements are interpreted.</p>
</li>
</ul>

</div>
</div>
</div>
<div class="cell border-box-sizing code_cell rendered">
<div class="input">
<div class="prompt input_prompt">In&nbsp;[14]:</div>
<div class="inner_cell">
    <div class="input_area">
<div class=" highlight hl-ipython2"><pre><span></span><span class="n">x</span> <span class="o">=</span> <span class="mi">1</span>
<span class="k">print</span> <span class="s1">&#39;The value of x is &#39;</span><span class="p">,</span> <span class="n">x</span>

<span class="n">x</span> <span class="o">=</span> <span class="mf">2.5</span>
<span class="k">print</span> <span class="s1">&#39;Now the value of x is &#39;</span><span class="p">,</span> <span class="n">x</span>

<span class="n">x</span> <span class="o">=</span> <span class="s1">&#39;hello there&#39;</span>
<span class="k">print</span> <span class="s1">&#39;Now it is &#39;</span><span class="p">,</span> <span class="n">x</span>
</pre></div>

</div>
</div>
</div>

<div class="output_wrapper">
<div class="output">


<div class="output_area">

<div class="prompt"></div>


<div class="output_subarea output_stream output_stdout output_text">
<pre>The value of x is  1
Now the value of x is  2.5
Now it is  hello there
</pre>
</div>
</div>

</div>
</div>

</div>
<div class="cell border-box-sizing text_cell rendered"><div class="prompt input_prompt">
</div>
<div class="inner_cell">
<div class="text_cell_render border-box-sizing rendered_html">
<h1 id="Calling-Functions">Calling Functions<a class="anchor-link" href="#Calling-Functions">&#182;</a></h1><p>We can call functions in a conventional way using round brackets</p>

</div>
</div>
</div>
<div class="cell border-box-sizing code_cell rendered">
<div class="input">
<div class="prompt input_prompt">In&nbsp;[37]:</div>
<div class="inner_cell">
    <div class="input_area">
<div class=" highlight hl-ipython2"><pre><span></span><span class="k">print</span> <span class="nb">round</span><span class="p">(</span><span class="mf">3.14</span><span class="p">)</span>
</pre></div>

</div>
</div>
</div>

<div class="output_wrapper">
<div class="output">


<div class="output_area">

<div class="prompt"></div>


<div class="output_subarea output_stream output_stdout output_text">
<pre>3.0
</pre>
</div>
</div>

</div>
</div>

</div>
<div class="cell border-box-sizing text_cell rendered"><div class="prompt input_prompt">
</div>
<div class="inner_cell">
<div class="text_cell_render border-box-sizing rendered_html">
<h1 id="Types">Types<a class="anchor-link" href="#Types">&#182;</a></h1><ul>
<li><p>Values in Python have an associated <em>type</em>.</p>
</li>
<li><p>If we combine types incorrectly we get an error.</p>
</li>
</ul>

</div>
</div>
</div>
<div class="cell border-box-sizing code_cell rendered">
<div class="input">
<div class="prompt input_prompt">In&nbsp;[4]:</div>
<div class="inner_cell">
    <div class="input_area">
<div class=" highlight hl-ipython2"><pre><span></span><span class="k">print</span> <span class="n">y</span>
</pre></div>

</div>
</div>
</div>

<div class="output_wrapper">
<div class="output">


<div class="output_area">

<div class="prompt"></div>


<div class="output_subarea output_stream output_stdout output_text">
<pre>Hello There
</pre>
</div>
</div>

</div>
</div>

</div>
<div class="cell border-box-sizing code_cell rendered">
<div class="input">
<div class="prompt input_prompt">In&nbsp;[5]:</div>
<div class="inner_cell">
    <div class="input_area">
<div class=" highlight hl-ipython2"><pre><span></span><span class="n">y</span> <span class="o">+</span> <span class="mi">5</span>
</pre></div>

</div>
</div>
</div>

<div class="output_wrapper">
<div class="output">


<div class="output_area">

<div class="prompt"></div>


<div class="output_subarea output_text output_error">
<pre><span class="ansi-red-fg">---------------------------------------------------------------------------</span>
<span class="ansi-red-fg">TypeError</span>                                 Traceback (most recent call last)
<span class="ansi-green-fg">&lt;ipython-input-5-c3d4037f4656&gt;</span> in <span class="ansi-cyan-fg">&lt;module&gt;</span><span class="ansi-blue-fg">()</span>
<span class="ansi-green-fg">----&gt; 1</span><span class="ansi-red-fg"> </span>y <span class="ansi-blue-fg">+</span> <span class="ansi-cyan-fg">5</span>

<span class="ansi-red-fg">TypeError</span>: cannot concatenate &#39;str&#39; and &#39;int&#39; objects</pre>
</div>
</div>

</div>
</div>

</div>
<div class="cell border-box-sizing text_cell rendered"><div class="prompt input_prompt">
</div>
<div class="inner_cell">
<div class="text_cell_render border-box-sizing rendered_html">
<h1 id="The-type-function">The type function<a class="anchor-link" href="#The-type-function">&#182;</a></h1><ul>
<li>We can query the type of a value using the <code>type</code> function.</li>
</ul>

</div>
</div>
</div>
<div class="cell border-box-sizing code_cell rendered">
<div class="input">
<div class="prompt input_prompt">In&nbsp;[16]:</div>
<div class="inner_cell">
    <div class="input_area">
<div class=" highlight hl-ipython2"><pre><span></span><span class="nb">type</span><span class="p">(</span><span class="mi">1</span><span class="p">)</span>
</pre></div>

</div>
</div>
</div>

<div class="output_wrapper">
<div class="output">


<div class="output_area">

<div class="prompt output_prompt">Out[16]:</div>




<div class="output_text output_subarea output_execute_result">
<pre>int</pre>
</div>

</div>

</div>
</div>

</div>
<div class="cell border-box-sizing code_cell rendered">
<div class="input">
<div class="prompt input_prompt">In&nbsp;[17]:</div>
<div class="inner_cell">
    <div class="input_area">
<div class=" highlight hl-ipython2"><pre><span></span><span class="nb">type</span><span class="p">(</span><span class="s1">&#39;hello&#39;</span><span class="p">)</span>
</pre></div>

</div>
</div>
</div>

<div class="output_wrapper">
<div class="output">


<div class="output_area">

<div class="prompt output_prompt">Out[17]:</div>




<div class="output_text output_subarea output_execute_result">
<pre>str</pre>
</div>

</div>

</div>
</div>

</div>
<div class="cell border-box-sizing code_cell rendered">
<div class="input">
<div class="prompt input_prompt">In&nbsp;[18]:</div>
<div class="inner_cell">
    <div class="input_area">
<div class=" highlight hl-ipython2"><pre><span></span><span class="nb">type</span><span class="p">(</span><span class="mf">2.5</span><span class="p">)</span>
</pre></div>

</div>
</div>
</div>

<div class="output_wrapper">
<div class="output">


<div class="output_area">

<div class="prompt output_prompt">Out[18]:</div>




<div class="output_text output_subarea output_execute_result">
<pre>float</pre>
</div>

</div>

</div>
</div>

</div>
<div class="cell border-box-sizing code_cell rendered">
<div class="input">
<div class="prompt input_prompt">In&nbsp;[29]:</div>
<div class="inner_cell">
    <div class="input_area">
<div class=" highlight hl-ipython2"><pre><span></span><span class="nb">type</span><span class="p">(</span><span class="bp">True</span><span class="p">)</span>
</pre></div>

</div>
</div>
</div>

<div class="output_wrapper">
<div class="output">


<div class="output_area">

<div class="prompt output_prompt">Out[29]:</div>




<div class="output_text output_subarea output_execute_result">
<pre>bool</pre>
</div>

</div>

</div>
</div>

</div>
<div class="cell border-box-sizing text_cell rendered"><div class="prompt input_prompt">
</div>
<div class="inner_cell">
<div class="text_cell_render border-box-sizing rendered_html">
<h1 id="Null-values">Null values<a class="anchor-link" href="#Null-values">&#182;</a></h1><ul>
<li><p>Sometimes we represent "no data" or "not applicable".</p>
</li>
<li><p>In Python we use the special value <code>None</code>.</p>
</li>
<li><p>This corresponds to <code>Null</code> in Java or SQL.</p>
</li>
</ul>

</div>
</div>
</div>
<div class="cell border-box-sizing code_cell rendered">
<div class="input">
<div class="prompt input_prompt">In&nbsp;[6]:</div>
<div class="inner_cell">
    <div class="input_area">
<div class=" highlight hl-ipython2"><pre><span></span><span class="n">result</span> <span class="o">=</span> <span class="bp">None</span>
</pre></div>

</div>
</div>
</div>

</div>
<div class="cell border-box-sizing text_cell rendered"><div class="prompt input_prompt">
</div>
<div class="inner_cell">
<div class="text_cell_render border-box-sizing rendered_html">
<ul>
<li>When we fetch the value <code>None</code> in the interactive interpreter, no result is printed out.</li>
</ul>

</div>
</div>
</div>
<div class="cell border-box-sizing code_cell rendered">
<div class="input">
<div class="prompt input_prompt">In&nbsp;[7]:</div>
<div class="inner_cell">
    <div class="input_area">
<div class=" highlight hl-ipython2"><pre><span></span><span class="n">result</span>
</pre></div>

</div>
</div>
</div>

</div>
<div class="cell border-box-sizing text_cell rendered"><div class="prompt input_prompt">
</div>
<div class="inner_cell">
<div class="text_cell_render border-box-sizing rendered_html">
<ul>
<li>We can check whether there is a result or not using the <code>is</code> operator:</li>
</ul>

</div>
</div>
</div>
<div class="cell border-box-sizing code_cell rendered">
<div class="input">
<div class="prompt input_prompt">In&nbsp;[8]:</div>
<div class="inner_cell">
    <div class="input_area">
<div class=" highlight hl-ipython2"><pre><span></span><span class="n">result</span> <span class="ow">is</span> <span class="bp">None</span>
</pre></div>

</div>
</div>
</div>

<div class="output_wrapper">
<div class="output">


<div class="output_area">

<div class="prompt output_prompt">Out[8]:</div>




<div class="output_text output_subarea output_execute_result">
<pre>True</pre>
</div>

</div>

</div>
</div>

</div>
<div class="cell border-box-sizing code_cell rendered">
<div class="input">
<div class="prompt input_prompt">In&nbsp;[9]:</div>
<div class="inner_cell">
    <div class="input_area">
<div class=" highlight hl-ipython2"><pre><span></span><span class="n">x</span> <span class="o">=</span> <span class="mi">5</span>
<span class="n">x</span> <span class="ow">is</span> <span class="bp">None</span>
</pre></div>

</div>
</div>
</div>

<div class="output_wrapper">
<div class="output">


<div class="output_area">

<div class="prompt output_prompt">Out[9]:</div>




<div class="output_text output_subarea output_execute_result">
<pre>False</pre>
</div>

</div>

</div>
</div>

</div>
<div class="cell border-box-sizing text_cell rendered"><div class="prompt input_prompt">
</div>
<div class="inner_cell">
<div class="text_cell_render border-box-sizing rendered_html">
<h1 id="Converting-values-between-types">Converting values between types<a class="anchor-link" href="#Converting-values-between-types">&#182;</a></h1><ul>
<li><p>We can convert values between different types.</p>
</li>
<li><p>To convert an integer to a floating-point number use the <code>float()</code> function.</p>
</li>
<li>To convert a floating-point to an integer use the <code>int()</code> function.</li>
</ul>

</div>
</div>
</div>
<div class="cell border-box-sizing code_cell rendered">
<div class="input">
<div class="prompt input_prompt">In&nbsp;[7]:</div>
<div class="inner_cell">
    <div class="input_area">
<div class=" highlight hl-ipython2"><pre><span></span><span class="n">x</span> <span class="o">=</span> <span class="mi">1</span>
<span class="k">print</span> <span class="nb">type</span><span class="p">(</span><span class="n">x</span><span class="p">)</span>
<span class="k">print</span> <span class="n">x</span>
</pre></div>

</div>
</div>
</div>

<div class="output_wrapper">
<div class="output">


<div class="output_area">

<div class="prompt"></div>


<div class="output_subarea output_stream output_stdout output_text">
<pre>&lt;type &#39;int&#39;&gt;
1
</pre>
</div>
</div>

</div>
</div>

</div>
<div class="cell border-box-sizing code_cell rendered">
<div class="input">
<div class="prompt input_prompt">In&nbsp;[6]:</div>
<div class="inner_cell">
    <div class="input_area">
<div class=" highlight hl-ipython2"><pre><span></span><span class="n">y</span> <span class="o">=</span> <span class="nb">float</span><span class="p">(</span><span class="n">x</span><span class="p">)</span>
<span class="k">print</span> <span class="nb">type</span><span class="p">(</span><span class="n">y</span><span class="p">)</span>
<span class="k">print</span> <span class="n">y</span>
</pre></div>

</div>
</div>
</div>

<div class="output_wrapper">
<div class="output">


<div class="output_area">

<div class="prompt"></div>


<div class="output_subarea output_stream output_stdout output_text">
<pre>&lt;type &#39;float&#39;&gt;
1.0
</pre>
</div>
</div>

</div>
</div>

</div>
<div class="cell border-box-sizing code_cell rendered">
<div class="input">
<div class="prompt input_prompt">In&nbsp;[8]:</div>
<div class="inner_cell">
    <div class="input_area">
<div class=" highlight hl-ipython2"><pre><span></span><span class="k">print</span> <span class="nb">int</span><span class="p">(</span><span class="n">y</span><span class="p">)</span>
</pre></div>

</div>
</div>
</div>

<div class="output_wrapper">
<div class="output">


<div class="output_area">

<div class="prompt"></div>


<div class="output_subarea output_stream output_stdout output_text">
<pre>1
</pre>
</div>
</div>

</div>
</div>

</div>
<div class="cell border-box-sizing text_cell rendered"><div class="prompt input_prompt">
</div>
<div class="inner_cell">
<div class="text_cell_render border-box-sizing rendered_html">
<h1 id="Converting-to-and-from-ASCII-values">Converting to and from ASCII values<a class="anchor-link" href="#Converting-to-and-from-ASCII-values">&#182;</a></h1><ul>
<li>The functions <code>chr()</code> and <code>ord()</code> can be used to convert characters from and to <a href="https://en.wikipedia.org/wiki/ASCII">ASCII</a>.</li>
</ul>

</div>
</div>
</div>
<div class="cell border-box-sizing code_cell rendered">
<div class="input">
<div class="prompt input_prompt">In&nbsp;[4]:</div>
<div class="inner_cell">
    <div class="input_area">
<div class=" highlight hl-ipython2"><pre><span></span><span class="k">print</span> <span class="nb">ord</span><span class="p">(</span><span class="s1">&#39;a&#39;</span><span class="p">)</span>
</pre></div>

</div>
</div>
</div>

<div class="output_wrapper">
<div class="output">


<div class="output_area">

<div class="prompt"></div>


<div class="output_subarea output_stream output_stdout output_text">
<pre>97
</pre>
</div>
</div>

</div>
</div>

</div>
<div class="cell border-box-sizing code_cell rendered">
<div class="input">
<div class="prompt input_prompt">In&nbsp;[5]:</div>
<div class="inner_cell">
    <div class="input_area">
<div class=" highlight hl-ipython2"><pre><span></span><span class="k">print</span> <span class="nb">chr</span><span class="p">(</span><span class="mi">97</span><span class="p">)</span>
</pre></div>

</div>
</div>
</div>

<div class="output_wrapper">
<div class="output">


<div class="output_area">

<div class="prompt"></div>


<div class="output_subarea output_stream output_stdout output_text">
<pre>a
</pre>
</div>
</div>

</div>
</div>

</div>
<div class="cell border-box-sizing text_cell rendered"><div class="prompt input_prompt">
</div>
<div class="inner_cell">
<div class="text_cell_render border-box-sizing rendered_html">
<h1 id="Variables-are-not-typed">Variables are not typed<a class="anchor-link" href="#Variables-are-not-typed">&#182;</a></h1><ul>
<li><em>Variables</em> themselves, on the other hand, do not have a fixed type.</li>
<li>It is only the values that they refer to that have a type.</li>
<li>This means that the type referred to by a variable can change as more statements are interpreted.</li>
</ul>

</div>
</div>
</div>
<div class="cell border-box-sizing code_cell rendered">
<div class="input">
<div class="prompt input_prompt">In&nbsp;[15]:</div>
<div class="inner_cell">
    <div class="input_area">
<div class=" highlight hl-ipython2"><pre><span></span><span class="n">y</span> <span class="o">=</span> <span class="s1">&#39;hello&#39;</span>
<span class="k">print</span> <span class="s1">&#39;The type of the value referred to by y is &#39;</span><span class="p">,</span> <span class="nb">type</span><span class="p">(</span><span class="n">y</span><span class="p">)</span>
<span class="n">y</span> <span class="o">=</span> <span class="mf">5.0</span>
<span class="k">print</span> <span class="s1">&#39;And now the type of the value is &#39;</span><span class="p">,</span> <span class="nb">type</span><span class="p">(</span><span class="n">y</span><span class="p">)</span>
</pre></div>

</div>
</div>
</div>

<div class="output_wrapper">
<div class="output">


<div class="output_area">

<div class="prompt"></div>


<div class="output_subarea output_stream output_stdout output_text">
<pre>The type of the value referred to by y is  &lt;type &#39;str&#39;&gt;
And now the type of the value is  &lt;type &#39;float&#39;&gt;
</pre>
</div>
</div>

</div>
</div>

</div>
<div class="cell border-box-sizing text_cell rendered"><div class="prompt input_prompt">
</div>
<div class="inner_cell">
<div class="text_cell_render border-box-sizing rendered_html">
<h1 id="Polymorphism">Polymorphism<a class="anchor-link" href="#Polymorphism">&#182;</a></h1><ul>
<li>The meaning of an operator depends on the types we are applying it to.</li>
</ul>

</div>
</div>
</div>
<div class="cell border-box-sizing code_cell rendered">
<div class="input">
<div class="prompt input_prompt">In&nbsp;[17]:</div>
<div class="inner_cell">
    <div class="input_area">
<div class=" highlight hl-ipython2"><pre><span></span><span class="mi">1</span> <span class="o">/</span> <span class="mi">5</span>
</pre></div>

</div>
</div>
</div>

<div class="output_wrapper">
<div class="output">


<div class="output_area">

<div class="prompt output_prompt">Out[17]:</div>




<div class="output_text output_subarea output_execute_result">
<pre>0</pre>
</div>

</div>

</div>
</div>

</div>
<div class="cell border-box-sizing code_cell rendered">
<div class="input">
<div class="prompt input_prompt">In&nbsp;[18]:</div>
<div class="inner_cell">
    <div class="input_area">
<div class=" highlight hl-ipython2"><pre><span></span><span class="mf">1.0</span> <span class="o">/</span> <span class="mf">5.0</span>
</pre></div>

</div>
</div>
</div>

<div class="output_wrapper">
<div class="output">


<div class="output_area">

<div class="prompt output_prompt">Out[18]:</div>




<div class="output_text output_subarea output_execute_result">
<pre>0.2</pre>
</div>

</div>

</div>
</div>

</div>
<div class="cell border-box-sizing code_cell rendered">
<div class="input">
<div class="prompt input_prompt">In&nbsp;[19]:</div>
<div class="inner_cell">
    <div class="input_area">
<div class=" highlight hl-ipython2"><pre><span></span><span class="mi">1</span> <span class="o">+</span> <span class="mi">1</span>
</pre></div>

</div>
</div>
</div>

<div class="output_wrapper">
<div class="output">


<div class="output_area">

<div class="prompt output_prompt">Out[19]:</div>




<div class="output_text output_subarea output_execute_result">
<pre>2</pre>
</div>

</div>

</div>
</div>

</div>
<div class="cell border-box-sizing code_cell rendered">
<div class="input">
<div class="prompt input_prompt">In&nbsp;[30]:</div>
<div class="inner_cell">
    <div class="input_area">
<div class=" highlight hl-ipython2"><pre><span></span><span class="s1">&#39;a&#39;</span> <span class="o">+</span> <span class="s1">&#39;b&#39;</span>
</pre></div>

</div>
</div>
</div>

<div class="output_wrapper">
<div class="output">


<div class="output_area">

<div class="prompt output_prompt">Out[30]:</div>




<div class="output_text output_subarea output_execute_result">
<pre>&#39;ab&#39;</pre>
</div>

</div>

</div>
</div>

</div>
<div class="cell border-box-sizing code_cell rendered">
<div class="input">
<div class="prompt input_prompt">In&nbsp;[31]:</div>
<div class="inner_cell">
    <div class="input_area">
<div class=" highlight hl-ipython2"><pre><span></span><span class="s1">&#39;1&#39;</span> <span class="o">+</span> <span class="s1">&#39;1&#39;</span>
</pre></div>

</div>
</div>
</div>

<div class="output_wrapper">
<div class="output">


<div class="output_area">

<div class="prompt output_prompt">Out[31]:</div>




<div class="output_text output_subarea output_execute_result">
<pre>&#39;11&#39;</pre>
</div>

</div>

</div>
</div>

</div>
<div class="cell border-box-sizing text_cell rendered"><div class="prompt input_prompt">
</div>
<div class="inner_cell">
<div class="text_cell_render border-box-sizing rendered_html">
<h1 id="Conditional-Statements-and-Indentation">Conditional Statements and Indentation<a class="anchor-link" href="#Conditional-Statements-and-Indentation">&#182;</a></h1>
</div>
</div>
</div>
<div class="cell border-box-sizing text_cell rendered"><div class="prompt input_prompt">
</div>
<div class="inner_cell">
<div class="text_cell_render border-box-sizing rendered_html">
<ul>
<li><p>The syntax for control structures in Python use <em>colons</em> and <em>indentation</em>.</p>
</li>
<li><p>Beware that white-space affects the semantics of Python code.</p>
</li>
</ul>

</div>
</div>
</div>
<div class="cell border-box-sizing code_cell rendered">
<div class="input">
<div class="prompt input_prompt">In&nbsp;[1]:</div>
<div class="inner_cell">
    <div class="input_area">
<div class=" highlight hl-ipython2"><pre><span></span><span class="n">x</span> <span class="o">=</span> <span class="mi">5</span>
<span class="k">if</span> <span class="n">x</span> <span class="o">&gt;</span> <span class="mi">0</span><span class="p">:</span>
    <span class="k">print</span> <span class="s1">&#39;x is strictly positive&#39;</span>
    <span class="k">print</span> <span class="n">x</span>
    
<span class="k">print</span> <span class="s1">&#39;finished.&#39;</span>
</pre></div>

</div>
</div>
</div>

<div class="output_wrapper">
<div class="output">


<div class="output_area">

<div class="prompt"></div>


<div class="output_subarea output_stream output_stdout output_text">
<pre>x is strictly positive
5
finished.
</pre>
</div>
</div>

</div>
</div>

</div>
<div class="cell border-box-sizing code_cell rendered">
<div class="input">
<div class="prompt input_prompt">In&nbsp;[1]:</div>
<div class="inner_cell">
    <div class="input_area">
<div class=" highlight hl-ipython2"><pre><span></span><span class="n">x</span> <span class="o">=</span> <span class="mi">0</span>
<span class="k">if</span> <span class="n">x</span> <span class="o">&gt;</span> <span class="mi">0</span><span class="p">:</span>
    <span class="k">print</span> <span class="s1">&#39;x is strictly positive&#39;</span>
<span class="k">print</span> <span class="n">x</span>
    
<span class="k">print</span> <span class="s1">&#39;finished&#39;</span>
</pre></div>

</div>
</div>
</div>

<div class="output_wrapper">
<div class="output">


<div class="output_area">

<div class="prompt"></div>


<div class="output_subarea output_stream output_stdout output_text">
<pre>0
finished
</pre>
</div>
</div>

</div>
</div>

</div>
<div class="cell border-box-sizing text_cell rendered"><div class="prompt input_prompt">
</div>
<div class="inner_cell">
<div class="text_cell_render border-box-sizing rendered_html">
<h1 id="Lists">Lists<a class="anchor-link" href="#Lists">&#182;</a></h1>
</div>
</div>
</div>
<div class="cell border-box-sizing text_cell rendered"><div class="prompt input_prompt">
</div>
<div class="inner_cell">
<div class="text_cell_render border-box-sizing rendered_html">
<p>We can use <em>lists</em> to hold an ordered sequence of values.</p>

</div>
</div>
</div>
<div class="cell border-box-sizing code_cell rendered">
<div class="input">
<div class="prompt input_prompt">In&nbsp;[28]:</div>
<div class="inner_cell">
    <div class="input_area">
<div class=" highlight hl-ipython2"><pre><span></span><span class="n">l</span> <span class="o">=</span> <span class="p">[</span><span class="s1">&#39;first&#39;</span><span class="p">,</span> <span class="s1">&#39;second&#39;</span><span class="p">,</span> <span class="s1">&#39;third&#39;</span><span class="p">]</span>
<span class="k">print</span> <span class="n">l</span>
</pre></div>

</div>
</div>
</div>

<div class="output_wrapper">
<div class="output">


<div class="output_area">

<div class="prompt"></div>


<div class="output_subarea output_stream output_stdout output_text">
<pre>[&#39;first&#39;, &#39;second&#39;, &#39;third&#39;]
</pre>
</div>
</div>

</div>
</div>

</div>
<div class="cell border-box-sizing text_cell rendered"><div class="prompt input_prompt">
</div>
<div class="inner_cell">
<div class="text_cell_render border-box-sizing rendered_html">
<p>Lists can contain different types of variable, even in the same list.</p>

</div>
</div>
</div>
<div class="cell border-box-sizing code_cell rendered">
<div class="input">
<div class="prompt input_prompt">In&nbsp;[29]:</div>
<div class="inner_cell">
    <div class="input_area">
<div class=" highlight hl-ipython2"><pre><span></span><span class="n">another_list</span> <span class="o">=</span> <span class="p">[</span><span class="s1">&#39;first&#39;</span><span class="p">,</span> <span class="s1">&#39;second&#39;</span><span class="p">,</span> <span class="s1">&#39;third&#39;</span><span class="p">,</span> <span class="mi">1</span><span class="p">,</span> <span class="mi">2</span><span class="p">,</span> <span class="mi">3</span><span class="p">]</span>
<span class="k">print</span> <span class="n">another_list</span>
</pre></div>

</div>
</div>
</div>

<div class="output_wrapper">
<div class="output">


<div class="output_area">

<div class="prompt"></div>


<div class="output_subarea output_stream output_stdout output_text">
<pre>[&#39;first&#39;, &#39;second&#39;, &#39;third&#39;, 1, 2, 3]
</pre>
</div>
</div>

</div>
</div>

</div>
<div class="cell border-box-sizing text_cell rendered"><div class="prompt input_prompt">
</div>
<div class="inner_cell">
<div class="text_cell_render border-box-sizing rendered_html">
<h1 id="Mutable-Datastructures">Mutable Datastructures<a class="anchor-link" href="#Mutable-Datastructures">&#182;</a></h1>
</div>
</div>
</div>
<div class="cell border-box-sizing text_cell rendered"><div class="prompt input_prompt">
</div>
<div class="inner_cell">
<div class="text_cell_render border-box-sizing rendered_html">
<p>Lists are <em>mutable</em>; their contents can change as more statements are interpreted.</p>

</div>
</div>
</div>
<div class="cell border-box-sizing code_cell rendered">
<div class="input">
<div class="prompt input_prompt">In&nbsp;[32]:</div>
<div class="inner_cell">
    <div class="input_area">
<div class=" highlight hl-ipython2"><pre><span></span><span class="n">l</span><span class="o">.</span><span class="n">append</span><span class="p">(</span><span class="s1">&#39;fourth&#39;</span><span class="p">)</span>
<span class="k">print</span> <span class="n">l</span>
</pre></div>

</div>
</div>
</div>

<div class="output_wrapper">
<div class="output">


<div class="output_area">

<div class="prompt"></div>


<div class="output_subarea output_stream output_stdout output_text">
<pre>[&#39;first&#39;, &#39;second&#39;, &#39;third&#39;, &#39;fourth&#39;]
</pre>
</div>
</div>

</div>
</div>

</div>
<div class="cell border-box-sizing text_cell rendered"><div class="prompt input_prompt">
</div>
<div class="inner_cell">
<div class="text_cell_render border-box-sizing rendered_html">
<h1 id="References">References<a class="anchor-link" href="#References">&#182;</a></h1><ul>
<li><p>Whenever we bind a variable to a value in Python we create a <em>reference</em>.</p>
</li>
<li><p>A reference is distinct from the value that it refers to.</p>
</li>
<li><p>Variables are names for references.</p>
</li>
</ul>

</div>
</div>
</div>
<div class="cell border-box-sizing code_cell rendered">
<div class="input">
<div class="prompt input_prompt">In&nbsp;[22]:</div>
<div class="inner_cell">
    <div class="input_area">
<div class=" highlight hl-ipython2"><pre><span></span><span class="n">X</span> <span class="o">=</span> <span class="p">[</span><span class="mi">1</span><span class="p">,</span> <span class="mi">2</span><span class="p">,</span> <span class="mi">3</span><span class="p">]</span>
<span class="n">Y</span> <span class="o">=</span> <span class="n">X</span>
</pre></div>

</div>
</div>
</div>

</div>
<div class="cell border-box-sizing text_cell rendered"><div class="prompt input_prompt">
</div>
<div class="inner_cell">
<div class="text_cell_render border-box-sizing rendered_html">
<ul>
<li><p>The above code creates two different references (named <code>X</code> and <code>Y</code>) to the <em>same</em> value <code>[1, 2, 3]</code></p>
</li>
<li><p>Because lists are mutable, changing them can have side-effects on other variables.</p>
</li>
<li><p>If we append something to <code>X</code> what will happen to <code>Y</code>?</p>
</li>
</ul>

</div>
</div>
</div>
<div class="cell border-box-sizing code_cell rendered">
<div class="input">
<div class="prompt input_prompt">In&nbsp;[23]:</div>
<div class="inner_cell">
    <div class="input_area">
<div class=" highlight hl-ipython2"><pre><span></span><span class="n">X</span><span class="o">.</span><span class="n">append</span><span class="p">(</span><span class="mi">4</span><span class="p">)</span>
<span class="n">X</span>
</pre></div>

</div>
</div>
</div>

<div class="output_wrapper">
<div class="output">


<div class="output_area">

<div class="prompt output_prompt">Out[23]:</div>




<div class="output_text output_subarea output_execute_result">
<pre>[1, 2, 3, 4]</pre>
</div>

</div>

</div>
</div>

</div>
<div class="cell border-box-sizing code_cell rendered">
<div class="input">
<div class="prompt input_prompt">In&nbsp;[24]:</div>
<div class="inner_cell">
    <div class="input_area">
<div class=" highlight hl-ipython2"><pre><span></span><span class="n">Y</span>
</pre></div>

</div>
</div>
</div>

<div class="output_wrapper">
<div class="output">


<div class="output_area">

<div class="prompt output_prompt">Out[24]:</div>




<div class="output_text output_subarea output_execute_result">
<pre>[1, 2, 3, 4]</pre>
</div>

</div>

</div>
</div>

</div>
<div class="cell border-box-sizing text_cell rendered"><div class="prompt input_prompt">
</div>
<div class="inner_cell">
<div class="text_cell_render border-box-sizing rendered_html">
<h1 id="State-and-identity">State and identity<a class="anchor-link" href="#State-and-identity">&#182;</a></h1><ul>
<li><p>The state referred to by a variable is <em>different</em> from its identity.</p>
</li>
<li><p>To compare <em>state</em> use the <code>==</code> operator.</p>
</li>
<li><p>To compare <em>identity</em> use the <code>is</code> operator.</p>
</li>
<li><p>When we compare identity we check equality of references.</p>
</li>
<li><p>When we compare state we check equality of values.</p>
</li>
</ul>

</div>
</div>
</div>
<div class="cell border-box-sizing code_cell rendered">
<div class="input">
<div class="prompt input_prompt">In&nbsp;[33]:</div>
<div class="inner_cell">
    <div class="input_area">
<div class=" highlight hl-ipython2"><pre><span></span><span class="n">X</span> <span class="o">=</span> <span class="p">[</span><span class="mi">1</span><span class="p">,</span> <span class="mi">2</span><span class="p">]</span>
<span class="n">Y</span> <span class="o">=</span> <span class="p">[</span><span class="mi">1</span><span class="p">]</span>
<span class="n">Y</span><span class="o">.</span><span class="n">append</span><span class="p">(</span><span class="mi">2</span><span class="p">)</span>
</pre></div>

</div>
</div>
</div>

</div>
<div class="cell border-box-sizing code_cell rendered">
<div class="input">
<div class="prompt input_prompt">In&nbsp;[34]:</div>
<div class="inner_cell">
    <div class="input_area">
<div class=" highlight hl-ipython2"><pre><span></span><span class="n">X</span> <span class="o">==</span> <span class="n">Y</span>
</pre></div>

</div>
</div>
</div>

<div class="output_wrapper">
<div class="output">


<div class="output_area">

<div class="prompt output_prompt">Out[34]:</div>




<div class="output_text output_subarea output_execute_result">
<pre>True</pre>
</div>

</div>

</div>
</div>

</div>
<div class="cell border-box-sizing code_cell rendered">
<div class="input">
<div class="prompt input_prompt">In&nbsp;[35]:</div>
<div class="inner_cell">
    <div class="input_area">
<div class=" highlight hl-ipython2"><pre><span></span><span class="n">X</span> <span class="ow">is</span> <span class="n">Y</span>
</pre></div>

</div>
</div>
</div>

<div class="output_wrapper">
<div class="output">


<div class="output_area">

<div class="prompt output_prompt">Out[35]:</div>




<div class="output_text output_subarea output_execute_result">
<pre>False</pre>
</div>

</div>

</div>
</div>

</div>
<div class="cell border-box-sizing code_cell rendered">
<div class="input">
<div class="prompt input_prompt">In&nbsp;[36]:</div>
<div class="inner_cell">
    <div class="input_area">
<div class=" highlight hl-ipython2"><pre><span></span><span class="n">Y</span><span class="o">.</span><span class="n">append</span><span class="p">(</span><span class="mi">3</span><span class="p">)</span>
<span class="n">X</span>
</pre></div>

</div>
</div>
</div>

<div class="output_wrapper">
<div class="output">


<div class="output_area">

<div class="prompt output_prompt">Out[36]:</div>




<div class="output_text output_subarea output_execute_result">
<pre>[1, 2]</pre>
</div>

</div>

</div>
</div>

</div>
<div class="cell border-box-sizing code_cell rendered">
<div class="input">
<div class="prompt input_prompt">In&nbsp;[38]:</div>
<div class="inner_cell">
    <div class="input_area">
<div class=" highlight hl-ipython2"><pre><span></span><span class="n">X</span> <span class="o">=</span> <span class="n">Y</span>
</pre></div>

</div>
</div>
</div>

</div>
<div class="cell border-box-sizing code_cell rendered">
<div class="input">
<div class="prompt input_prompt">In&nbsp;[39]:</div>
<div class="inner_cell">
    <div class="input_area">
<div class=" highlight hl-ipython2"><pre><span></span><span class="n">X</span> <span class="ow">is</span> <span class="n">Y</span>
</pre></div>

</div>
</div>
</div>

<div class="output_wrapper">
<div class="output">


<div class="output_area">

<div class="prompt output_prompt">Out[39]:</div>




<div class="output_text output_subarea output_execute_result">
<pre>True</pre>
</div>

</div>

</div>
</div>

</div>
<div class="cell border-box-sizing text_cell rendered"><div class="prompt input_prompt">
</div>
<div class="inner_cell">
<div class="text_cell_render border-box-sizing rendered_html">
<h1 id="Iteration">Iteration<a class="anchor-link" href="#Iteration">&#182;</a></h1><ul>
<li>We can iterate over each element of a list in turn using a <code>for</code> loop:</li>
</ul>

</div>
</div>
</div>
<div class="cell border-box-sizing code_cell rendered">
<div class="input">
<div class="prompt input_prompt">In&nbsp;[33]:</div>
<div class="inner_cell">
    <div class="input_area">
<div class=" highlight hl-ipython2"><pre><span></span><span class="k">for</span> <span class="n">i</span> <span class="ow">in</span> <span class="n">l</span><span class="p">:</span>
    <span class="k">print</span> <span class="n">i</span>
</pre></div>

</div>
</div>
</div>

<div class="output_wrapper">
<div class="output">


<div class="output_area">

<div class="prompt"></div>


<div class="output_subarea output_stream output_stdout output_text">
<pre>first
second
third
fourth
</pre>
</div>
</div>

</div>
</div>

</div>
<div class="cell border-box-sizing text_cell rendered"><div class="prompt input_prompt">
</div>
<div class="inner_cell">
<div class="text_cell_render border-box-sizing rendered_html">
<ul>
<li>To perform a statement a certain number of times, we can iterate over a list of the required size.</li>
</ul>

</div>
</div>
</div>
<div class="cell border-box-sizing code_cell rendered">
<div class="input">
<div class="prompt input_prompt">In&nbsp;[39]:</div>
<div class="inner_cell">
    <div class="input_area">
<div class=" highlight hl-ipython2"><pre><span></span><span class="k">for</span> <span class="n">i</span> <span class="ow">in</span> <span class="p">[</span><span class="mi">0</span><span class="p">,</span> <span class="mi">1</span><span class="p">,</span> <span class="mi">2</span><span class="p">,</span> <span class="mi">3</span><span class="p">]:</span>
    <span class="k">print</span> <span class="s2">&quot;Hello!&quot;</span>
</pre></div>

</div>
</div>
</div>

<div class="output_wrapper">
<div class="output">


<div class="output_area">

<div class="prompt"></div>


<div class="output_subarea output_stream output_stdout output_text">
<pre>Hello!
Hello!
Hello!
Hello!
</pre>
</div>
</div>

</div>
</div>

</div>
<div class="cell border-box-sizing text_cell rendered"><div class="prompt input_prompt">
</div>
<div class="inner_cell">
<div class="text_cell_render border-box-sizing rendered_html">
<h1 id="For-loops-with-the-range-function">For loops with the range function<a class="anchor-link" href="#For-loops-with-the-range-function">&#182;</a></h1><ul>
<li>To save from having to manually write the numbers out, we can use the function <code>range()</code> to count for us.  As in Java and C, we count starting at 0.</li>
</ul>

</div>
</div>
</div>
<div class="cell border-box-sizing code_cell rendered">
<div class="input">
<div class="prompt input_prompt">In&nbsp;[40]:</div>
<div class="inner_cell">
    <div class="input_area">
<div class=" highlight hl-ipython2"><pre><span></span><span class="nb">range</span><span class="p">(</span><span class="mi">4</span><span class="p">)</span>
</pre></div>

</div>
</div>
</div>

<div class="output_wrapper">
<div class="output">


<div class="output_area">

<div class="prompt output_prompt">Out[40]:</div>




<div class="output_text output_subarea output_execute_result">
<pre>[0, 1, 2, 3]</pre>
</div>

</div>

</div>
</div>

</div>
<div class="cell border-box-sizing code_cell rendered">
<div class="input">
<div class="prompt input_prompt">In&nbsp;[42]:</div>
<div class="inner_cell">
    <div class="input_area">
<div class=" highlight hl-ipython2"><pre><span></span><span class="k">for</span> <span class="n">i</span> <span class="ow">in</span> <span class="nb">range</span><span class="p">(</span><span class="mi">4</span><span class="p">):</span>
    <span class="k">print</span> <span class="s2">&quot;Hello!&quot;</span>
</pre></div>

</div>
</div>
</div>

<div class="output_wrapper">
<div class="output">


<div class="output_area">

<div class="prompt"></div>


<div class="output_subarea output_stream output_stdout output_text">
<pre>Hello!
Hello!
Hello!
Hello!
</pre>
</div>
</div>

</div>
</div>

</div>
<div class="cell border-box-sizing text_cell rendered"><div class="prompt input_prompt">
</div>
<div class="inner_cell">
<div class="text_cell_render border-box-sizing rendered_html">
<h1 id="List-Indexing">List Indexing<a class="anchor-link" href="#List-Indexing">&#182;</a></h1><ul>
<li>Lists can be indexed using square brackets to retrieve the element stored in a particular position.</li>
</ul>

</div>
</div>
</div>
<div class="cell border-box-sizing code_cell rendered">
<div class="input">
<div class="prompt input_prompt">In&nbsp;[43]:</div>
<div class="inner_cell">
    <div class="input_area">
<div class=" highlight hl-ipython2"><pre><span></span><span class="k">print</span> <span class="n">l</span><span class="p">[</span><span class="mi">0</span><span class="p">]</span>
</pre></div>

</div>
</div>
</div>

<div class="output_wrapper">
<div class="output">


<div class="output_area">

<div class="prompt"></div>


<div class="output_subarea output_stream output_stdout output_text">
<pre>first
</pre>
</div>
</div>

</div>
</div>

</div>
<div class="cell border-box-sizing code_cell rendered">
<div class="input">
<div class="prompt input_prompt">In&nbsp;[44]:</div>
<div class="inner_cell">
    <div class="input_area">
<div class=" highlight hl-ipython2"><pre><span></span><span class="k">print</span> <span class="n">l</span><span class="p">[</span><span class="mi">1</span><span class="p">]</span>
</pre></div>

</div>
</div>
</div>

<div class="output_wrapper">
<div class="output">


<div class="output_area">

<div class="prompt"></div>


<div class="output_subarea output_stream output_stdout output_text">
<pre>second
</pre>
</div>
</div>

</div>
</div>

</div>
<div class="cell border-box-sizing text_cell rendered"><div class="prompt input_prompt">
</div>
<div class="inner_cell">
<div class="text_cell_render border-box-sizing rendered_html">
<h1 id="List-Slicing">List Slicing<a class="anchor-link" href="#List-Slicing">&#182;</a></h1><ul>
<li><p>We can also a specify a <em>range</em> of positions.</p>
</li>
<li><p>This is called <em>slicing</em>.</p>
</li>
<li><p>The example below indexes from position 0 (inclusive) to 2 (exclusive).</p>
</li>
</ul>

</div>
</div>
</div>
<div class="cell border-box-sizing code_cell rendered">
<div class="input">
<div class="prompt input_prompt">In&nbsp;[45]:</div>
<div class="inner_cell">
    <div class="input_area">
<div class=" highlight hl-ipython2"><pre><span></span><span class="k">print</span> <span class="n">l</span><span class="p">[</span><span class="mi">0</span><span class="p">:</span><span class="mi">2</span><span class="p">]</span>
</pre></div>

</div>
</div>
</div>

<div class="output_wrapper">
<div class="output">


<div class="output_area">

<div class="prompt"></div>


<div class="output_subarea output_stream output_stdout output_text">
<pre>[&#39;first&#39;, &#39;second&#39;]
</pre>
</div>
</div>

</div>
</div>

</div>
<div class="cell border-box-sizing text_cell rendered"><div class="prompt input_prompt">
</div>
<div class="inner_cell">
<div class="text_cell_render border-box-sizing rendered_html">
<ul>
<li>If we leave out the starting index it implies the beginning of the list:</li>
</ul>

</div>
</div>
</div>
<div class="cell border-box-sizing code_cell rendered">
<div class="input">
<div class="prompt input_prompt">In&nbsp;[47]:</div>
<div class="inner_cell">
    <div class="input_area">
<div class=" highlight hl-ipython2"><pre><span></span><span class="k">print</span> <span class="n">l</span><span class="p">[:</span><span class="mi">2</span><span class="p">]</span>
</pre></div>

</div>
</div>
</div>

<div class="output_wrapper">
<div class="output">


<div class="output_area">

<div class="prompt"></div>


<div class="output_subarea output_stream output_stdout output_text">
<pre>[&#39;first&#39;, &#39;second&#39;]
</pre>
</div>
</div>

</div>
</div>

</div>
<div class="cell border-box-sizing text_cell rendered"><div class="prompt input_prompt">
</div>
<div class="inner_cell">
<div class="text_cell_render border-box-sizing rendered_html">
<ul>
<li>If we leave out the final index it implies the end of the list:</li>
</ul>

</div>
</div>
</div>
<div class="cell border-box-sizing code_cell rendered">
<div class="input">
<div class="prompt input_prompt">In&nbsp;[48]:</div>
<div class="inner_cell">
    <div class="input_area">
<div class=" highlight hl-ipython2"><pre><span></span><span class="k">print</span> <span class="n">l</span><span class="p">[</span><span class="mi">2</span><span class="p">:]</span>
</pre></div>

</div>
</div>
</div>

<div class="output_wrapper">
<div class="output">


<div class="output_area">

<div class="prompt"></div>


<div class="output_subarea output_stream output_stdout output_text">
<pre>[&#39;third&#39;, &#39;fourth&#39;]
</pre>
</div>
</div>

</div>
</div>

</div>
<div class="cell border-box-sizing text_cell rendered"><div class="prompt input_prompt">
</div>
<div class="inner_cell">
<div class="text_cell_render border-box-sizing rendered_html">
<h1 id="Negative-Indexing">Negative Indexing<a class="anchor-link" href="#Negative-Indexing">&#182;</a></h1><ul>
<li>Negative indices count from the end of the list:</li>
</ul>

</div>
</div>
</div>
<div class="cell border-box-sizing code_cell rendered">
<div class="input">
<div class="prompt input_prompt">In&nbsp;[49]:</div>
<div class="inner_cell">
    <div class="input_area">
<div class=" highlight hl-ipython2"><pre><span></span><span class="k">print</span> <span class="n">l</span><span class="p">[</span><span class="o">-</span><span class="mi">1</span><span class="p">]</span>
</pre></div>

</div>
</div>
</div>

<div class="output_wrapper">
<div class="output">


<div class="output_area">

<div class="prompt"></div>


<div class="output_subarea output_stream output_stdout output_text">
<pre>fourth
</pre>
</div>
</div>

</div>
</div>

</div>
<div class="cell border-box-sizing code_cell rendered">
<div class="input">
<div class="prompt input_prompt">In&nbsp;[50]:</div>
<div class="inner_cell">
    <div class="input_area">
<div class=" highlight hl-ipython2"><pre><span></span><span class="k">print</span> <span class="n">l</span><span class="p">[:</span><span class="o">-</span><span class="mi">1</span><span class="p">]</span>
</pre></div>

</div>
</div>
</div>

<div class="output_wrapper">
<div class="output">


<div class="output_area">

<div class="prompt"></div>


<div class="output_subarea output_stream output_stdout output_text">
<pre>[&#39;first&#39;, &#39;second&#39;, &#39;third&#39;]
</pre>
</div>
</div>

</div>
</div>

</div>
<div class="cell border-box-sizing text_cell rendered"><div class="prompt input_prompt">
</div>
<div class="inner_cell">
<div class="text_cell_render border-box-sizing rendered_html">
<h1 id="Collections">Collections<a class="anchor-link" href="#Collections">&#182;</a></h1><ul>
<li><p>Lists are an example of a <em>collection</em>.</p>
</li>
<li><p>A collection is a type of value that can contain other values.</p>
</li>
<li><p>There are other collection types in Python:</p>
<ul>
<li><code>tuple</code></li>
<li><code>set</code></li>
<li><code>dict</code></li>
</ul>
</li>
</ul>

</div>
</div>
</div>
<div class="cell border-box-sizing text_cell rendered"><div class="prompt input_prompt">
</div>
<div class="inner_cell">
<div class="text_cell_render border-box-sizing rendered_html">
<h1 id="Tuples">Tuples<a class="anchor-link" href="#Tuples">&#182;</a></h1><ul>
<li><p>Tuples are another way to combine different values.</p>
</li>
<li><p>The combined values can be of different types.</p>
</li>
<li><p>Like lists, they have a well-defined ordering and can be indexed.</p>
</li>
<li><p>To create a tuple in Python, use round brackets instead of square brackets</p>
</li>
</ul>

</div>
</div>
</div>
<div class="cell border-box-sizing code_cell rendered">
<div class="input">
<div class="prompt input_prompt">In&nbsp;[12]:</div>
<div class="inner_cell">
    <div class="input_area">
<div class=" highlight hl-ipython2"><pre><span></span><span class="n">tuple1</span> <span class="o">=</span> <span class="p">(</span><span class="mi">50</span><span class="p">,</span> <span class="s1">&#39;hello&#39;</span><span class="p">)</span>
<span class="n">tuple1</span>
</pre></div>

</div>
</div>
</div>

<div class="output_wrapper">
<div class="output">


<div class="output_area">

<div class="prompt output_prompt">Out[12]:</div>




<div class="output_text output_subarea output_execute_result">
<pre>(50, &#39;hello&#39;)</pre>
</div>

</div>

</div>
</div>

</div>
<div class="cell border-box-sizing code_cell rendered">
<div class="input">
<div class="prompt input_prompt">In&nbsp;[3]:</div>
<div class="inner_cell">
    <div class="input_area">
<div class=" highlight hl-ipython2"><pre><span></span><span class="n">tuple1</span><span class="p">[</span><span class="mi">0</span><span class="p">]</span>
</pre></div>

</div>
</div>
</div>

<div class="output_wrapper">
<div class="output">


<div class="output_area">

<div class="prompt output_prompt">Out[3]:</div>




<div class="output_text output_subarea output_execute_result">
<pre>50</pre>
</div>

</div>

</div>
</div>

</div>
<div class="cell border-box-sizing code_cell rendered">
<div class="input">
<div class="prompt input_prompt">In&nbsp;[4]:</div>
<div class="inner_cell">
    <div class="input_area">
<div class=" highlight hl-ipython2"><pre><span></span><span class="nb">type</span><span class="p">(</span><span class="n">tuple1</span><span class="p">)</span>
</pre></div>

</div>
</div>
</div>

<div class="output_wrapper">
<div class="output">


<div class="output_area">

<div class="prompt output_prompt">Out[4]:</div>




<div class="output_text output_subarea output_execute_result">
<pre>tuple</pre>
</div>

</div>

</div>
</div>

</div>
<div class="cell border-box-sizing text_cell rendered"><div class="prompt input_prompt">
</div>
<div class="inner_cell">
<div class="text_cell_render border-box-sizing rendered_html">
<h1 id="Tuples-are-immutable">Tuples are immutable<a class="anchor-link" href="#Tuples-are-immutable">&#182;</a></h1><ul>
<li>Unlike lists, tuples are <em>immutable</em>.  Once we have created a tuple we cannot add values to it.</li>
</ul>

</div>
</div>
</div>
<div class="cell border-box-sizing code_cell rendered">
<div class="input">
<div class="prompt input_prompt">In&nbsp;[11]:</div>
<div class="inner_cell">
    <div class="input_area">
<div class=" highlight hl-ipython2"><pre><span></span><span class="n">tuple1</span><span class="o">.</span><span class="n">append</span><span class="p">(</span><span class="mi">2</span><span class="p">)</span>
</pre></div>

</div>
</div>
</div>

<div class="output_wrapper">
<div class="output">


<div class="output_area">

<div class="prompt"></div>


<div class="output_subarea output_text output_error">
<pre><span class="ansi-red-fg">---------------------------------------------------------------------------</span>
<span class="ansi-red-fg">AttributeError</span>                            Traceback (most recent call last)
<span class="ansi-green-fg">&lt;ipython-input-11-a29bee310764&gt;</span> in <span class="ansi-cyan-fg">&lt;module&gt;</span><span class="ansi-blue-fg">()</span>
<span class="ansi-green-fg">----&gt; 1</span><span class="ansi-red-fg"> </span>tuple1<span class="ansi-blue-fg">.</span>append<span class="ansi-blue-fg">(</span><span class="ansi-cyan-fg">2</span><span class="ansi-blue-fg">)</span>

<span class="ansi-red-fg">AttributeError</span>: &#39;tuple&#39; object has no attribute &#39;append&#39;</pre>
</div>
</div>

</div>
</div>

</div>
<div class="cell border-box-sizing text_cell rendered"><div class="prompt input_prompt">
</div>
<div class="inner_cell">
<div class="text_cell_render border-box-sizing rendered_html">
<h1 id="Sets">Sets<a class="anchor-link" href="#Sets">&#182;</a></h1><ul>
<li><p>Lists can contain duplicate values.</p>
</li>
<li><p>A set, in contrast, contains no duplicates.</p>
</li>
<li><p>Sets can be created from lists using the <code>set()</code> function.</p>
</li>
</ul>

</div>
</div>
</div>
<div class="cell border-box-sizing code_cell rendered">
<div class="input">
<div class="prompt input_prompt">In&nbsp;[1]:</div>
<div class="inner_cell">
    <div class="input_area">
<div class=" highlight hl-ipython2"><pre><span></span><span class="n">X</span> <span class="o">=</span> <span class="nb">set</span><span class="p">([</span><span class="mi">1</span><span class="p">,</span> <span class="mi">2</span><span class="p">,</span> <span class="mi">3</span><span class="p">,</span> <span class="mi">3</span><span class="p">,</span> <span class="mi">4</span><span class="p">])</span>
<span class="n">X</span>
</pre></div>

</div>
</div>
</div>

<div class="output_wrapper">
<div class="output">


<div class="output_area">

<div class="prompt output_prompt">Out[1]:</div>




<div class="output_text output_subarea output_execute_result">
<pre>{1, 2, 3, 4}</pre>
</div>

</div>

</div>
</div>

</div>
<div class="cell border-box-sizing code_cell rendered">
<div class="input">
<div class="prompt input_prompt">In&nbsp;[8]:</div>
<div class="inner_cell">
    <div class="input_area">
<div class=" highlight hl-ipython2"><pre><span></span><span class="nb">type</span><span class="p">(</span><span class="n">X</span><span class="p">)</span>
</pre></div>

</div>
</div>
</div>

<div class="output_wrapper">
<div class="output">


<div class="output_area">

<div class="prompt output_prompt">Out[8]:</div>




<div class="output_text output_subarea output_execute_result">
<pre>set</pre>
</div>

</div>

</div>
</div>

</div>
<div class="cell border-box-sizing text_cell rendered"><div class="prompt input_prompt">
</div>
<div class="inner_cell">
<div class="text_cell_render border-box-sizing rendered_html">
<ul>
<li>Alternatively we can write a set literal using the <code>{</code> and <code>}</code> brackets.</li>
</ul>

</div>
</div>
</div>
<div class="cell border-box-sizing code_cell rendered">
<div class="input">
<div class="prompt input_prompt">In&nbsp;[27]:</div>
<div class="inner_cell">
    <div class="input_area">
<div class=" highlight hl-ipython2"><pre><span></span><span class="n">X</span> <span class="o">=</span> <span class="p">{</span><span class="mi">1</span><span class="p">,</span> <span class="mi">2</span><span class="p">,</span> <span class="mi">3</span><span class="p">,</span> <span class="mi">4</span><span class="p">}</span>
<span class="nb">type</span><span class="p">(</span><span class="n">X</span><span class="p">)</span>
</pre></div>

</div>
</div>
</div>

<div class="output_wrapper">
<div class="output">


<div class="output_area">

<div class="prompt output_prompt">Out[27]:</div>




<div class="output_text output_subarea output_execute_result">
<pre>set</pre>
</div>

</div>

</div>
</div>

</div>
<div class="cell border-box-sizing text_cell rendered"><div class="prompt input_prompt">
</div>
<div class="inner_cell">
<div class="text_cell_render border-box-sizing rendered_html">
<h1 id="Sets-are-mutable">Sets are mutable<a class="anchor-link" href="#Sets-are-mutable">&#182;</a></h1><ul>
<li>Sets are mutable like lists:</li>
</ul>

</div>
</div>
</div>
<div class="cell border-box-sizing code_cell rendered">
<div class="input">
<div class="prompt input_prompt">In&nbsp;[3]:</div>
<div class="inner_cell">
    <div class="input_area">
<div class=" highlight hl-ipython2"><pre><span></span><span class="n">X</span><span class="o">.</span><span class="n">add</span><span class="p">(</span><span class="mi">5</span><span class="p">)</span>
<span class="n">X</span>
</pre></div>

</div>
</div>
</div>

<div class="output_wrapper">
<div class="output">


<div class="output_area">

<div class="prompt output_prompt">Out[3]:</div>




<div class="output_text output_subarea output_execute_result">
<pre>{1, 2, 3, 4, 5}</pre>
</div>

</div>

</div>
</div>

</div>
<div class="cell border-box-sizing text_cell rendered"><div class="prompt input_prompt">
</div>
<div class="inner_cell">
<div class="text_cell_render border-box-sizing rendered_html">
<ul>
<li>Duplicates are automatically removed</li>
</ul>

</div>
</div>
</div>
<div class="cell border-box-sizing code_cell rendered">
<div class="input">
<div class="prompt input_prompt">In&nbsp;[4]:</div>
<div class="inner_cell">
    <div class="input_area">
<div class=" highlight hl-ipython2"><pre><span></span><span class="n">X</span><span class="o">.</span><span class="n">add</span><span class="p">(</span><span class="mi">5</span><span class="p">)</span>
<span class="n">X</span>
</pre></div>

</div>
</div>
</div>

<div class="output_wrapper">
<div class="output">


<div class="output_area">

<div class="prompt output_prompt">Out[4]:</div>




<div class="output_text output_subarea output_execute_result">
<pre>{1, 2, 3, 4, 5}</pre>
</div>

</div>

</div>
</div>

</div>
<div class="cell border-box-sizing text_cell rendered"><div class="prompt input_prompt">
</div>
<div class="inner_cell">
<div class="text_cell_render border-box-sizing rendered_html">
<h1 id="Sets-are-unordered">Sets are unordered<a class="anchor-link" href="#Sets-are-unordered">&#182;</a></h1><ul>
<li><p>Sets do not have an ordering.</p>
</li>
<li><p>Therefore we cannot index or slice them:</p>
</li>
</ul>

</div>
</div>
</div>
<div class="cell border-box-sizing code_cell rendered">
<div class="input">
<div class="prompt input_prompt">In&nbsp;[28]:</div>
<div class="inner_cell">
    <div class="input_area">
<div class=" highlight hl-ipython2"><pre><span></span><span class="n">X</span><span class="p">[</span><span class="mi">0</span><span class="p">]</span>
</pre></div>

</div>
</div>
</div>

<div class="output_wrapper">
<div class="output">


<div class="output_area">

<div class="prompt"></div>


<div class="output_subarea output_text output_error">
<pre><span class="ansi-red-fg">---------------------------------------------------------------------------</span>
<span class="ansi-red-fg">TypeError</span>                                 Traceback (most recent call last)
<span class="ansi-green-fg">&lt;ipython-input-28-1d61f6e5db90&gt;</span> in <span class="ansi-cyan-fg">&lt;module&gt;</span><span class="ansi-blue-fg">()</span>
<span class="ansi-green-fg">----&gt; 1</span><span class="ansi-red-fg"> </span>X<span class="ansi-blue-fg">[</span><span class="ansi-cyan-fg">0</span><span class="ansi-blue-fg">]</span>

<span class="ansi-red-fg">TypeError</span>: &#39;set&#39; object does not support indexing</pre>
</div>
</div>

</div>
</div>

</div>
<div class="cell border-box-sizing text_cell rendered"><div class="prompt input_prompt">
</div>
<div class="inner_cell">
<div class="text_cell_render border-box-sizing rendered_html">
<h1 id="Operations-on-sets">Operations on sets<a class="anchor-link" href="#Operations-on-sets">&#182;</a></h1><ul>
<li>Union: $X \cup Y$</li>
</ul>

</div>
</div>
</div>
<div class="cell border-box-sizing code_cell rendered">
<div class="input">
<div class="prompt input_prompt">In&nbsp;[11]:</div>
<div class="inner_cell">
    <div class="input_area">
<div class=" highlight hl-ipython2"><pre><span></span><span class="n">X</span> <span class="o">=</span> <span class="p">{</span><span class="mi">1</span><span class="p">,</span> <span class="mi">2</span><span class="p">,</span> <span class="mi">3</span><span class="p">}</span>
<span class="n">Y</span> <span class="o">=</span> <span class="p">{</span><span class="mi">4</span><span class="p">,</span> <span class="mi">5</span><span class="p">,</span> <span class="mi">6</span><span class="p">}</span>
<span class="n">X</span><span class="o">.</span><span class="n">union</span><span class="p">(</span><span class="n">Y</span><span class="p">)</span>
</pre></div>

</div>
</div>
</div>

<div class="output_wrapper">
<div class="output">


<div class="output_area">

<div class="prompt output_prompt">Out[11]:</div>




<div class="output_text output_subarea output_execute_result">
<pre>{1, 2, 3, 4, 5, 6}</pre>
</div>

</div>

</div>
</div>

</div>
<div class="cell border-box-sizing text_cell rendered"><div class="prompt input_prompt">
</div>
<div class="inner_cell">
<div class="text_cell_render border-box-sizing rendered_html">
<ul>
<li>Intersection: $X \cap Y$:</li>
</ul>

</div>
</div>
</div>
<div class="cell border-box-sizing code_cell rendered">
<div class="input">
<div class="prompt input_prompt">In&nbsp;[12]:</div>
<div class="inner_cell">
    <div class="input_area">
<div class=" highlight hl-ipython2"><pre><span></span><span class="n">X</span> <span class="o">=</span> <span class="p">{</span><span class="mi">1</span><span class="p">,</span> <span class="mi">2</span><span class="p">,</span> <span class="mi">3</span><span class="p">,</span> <span class="mi">4</span><span class="p">}</span>
<span class="n">Y</span> <span class="o">=</span> <span class="p">{</span><span class="mi">3</span><span class="p">,</span> <span class="mi">4</span><span class="p">,</span> <span class="mi">5</span><span class="p">}</span>
<span class="n">X</span><span class="o">.</span><span class="n">intersection</span><span class="p">(</span><span class="n">Y</span><span class="p">)</span>
</pre></div>

</div>
</div>
</div>

<div class="output_wrapper">
<div class="output">


<div class="output_area">

<div class="prompt output_prompt">Out[12]:</div>




<div class="output_text output_subarea output_execute_result">
<pre>{3, 4}</pre>
</div>

</div>

</div>
</div>

</div>
<div class="cell border-box-sizing text_cell rendered"><div class="prompt input_prompt">
</div>
<div class="inner_cell">
<div class="text_cell_render border-box-sizing rendered_html">
<ul>
<li>Difference $X - Y$:</li>
</ul>

</div>
</div>
</div>
<div class="cell border-box-sizing code_cell rendered">
<div class="input">
<div class="prompt input_prompt">In&nbsp;[13]:</div>
<div class="inner_cell">
    <div class="input_area">
<div class=" highlight hl-ipython2"><pre><span></span><span class="n">X</span> <span class="o">-</span> <span class="n">Y</span>
</pre></div>

</div>
</div>
</div>

<div class="output_wrapper">
<div class="output">


<div class="output_area">

<div class="prompt output_prompt">Out[13]:</div>




<div class="output_text output_subarea output_execute_result">
<pre>{1, 2}</pre>
</div>

</div>

</div>
</div>

</div>
<div class="cell border-box-sizing text_cell rendered"><div class="prompt input_prompt">
</div>
<div class="inner_cell">
<div class="text_cell_render border-box-sizing rendered_html">
<h1 id="Arrays">Arrays<a class="anchor-link" href="#Arrays">&#182;</a></h1><ul>
<li><p>Python also has fixed-length arrays which contain a single type of value</p>
</li>
<li><p>i.e. we cannot have different types of value within the same array.</p>
</li>
<li><p>Arrays are provided by a separate <em>module</em> called numpy.  Modules correspond to packages in e.g. Java.</p>
</li>
<li><p>We can import the module and then give it a shorter <em>alias</em>.</p>
</li>
</ul>

</div>
</div>
</div>
<div class="cell border-box-sizing code_cell rendered">
<div class="input">
<div class="prompt input_prompt">In&nbsp;[10]:</div>
<div class="inner_cell">
    <div class="input_area">
<div class=" highlight hl-ipython2"><pre><span></span><span class="kn">import</span> <span class="nn">numpy</span> <span class="kn">as</span> <span class="nn">np</span>
</pre></div>

</div>
</div>
</div>

</div>
<div class="cell border-box-sizing text_cell rendered"><div class="prompt input_prompt">
</div>
<div class="inner_cell">
<div class="text_cell_render border-box-sizing rendered_html">
<ul>
<li><p>We can now use the functions defined in this package by prefixing them with <code>np</code>.</p>
</li>
<li><p>The function <code>array()</code> creates an array given a list.</p>
</li>
</ul>

</div>
</div>
</div>
<div class="cell border-box-sizing code_cell rendered">
<div class="input">
<div class="prompt input_prompt">In&nbsp;[55]:</div>
<div class="inner_cell">
    <div class="input_area">
<div class=" highlight hl-ipython2"><pre><span></span><span class="n">x</span> <span class="o">=</span> <span class="n">np</span><span class="o">.</span><span class="n">array</span><span class="p">([</span><span class="mi">0</span><span class="p">,</span> <span class="mi">1</span><span class="p">,</span> <span class="mi">2</span><span class="p">,</span> <span class="mi">3</span><span class="p">,</span> <span class="mi">4</span><span class="p">])</span>
<span class="k">print</span> <span class="n">x</span>
<span class="k">print</span> <span class="nb">type</span><span class="p">(</span><span class="n">x</span><span class="p">)</span>
</pre></div>

</div>
</div>
</div>

<div class="output_wrapper">
<div class="output">


<div class="output_area">

<div class="prompt"></div>


<div class="output_subarea output_stream output_stdout output_text">
<pre>[0 1 2 3 4]
&lt;type &#39;numpy.ndarray&#39;&gt;
</pre>
</div>
</div>

</div>
</div>

</div>
<div class="cell border-box-sizing text_cell rendered"><div class="prompt input_prompt">
</div>
<div class="inner_cell">
<div class="text_cell_render border-box-sizing rendered_html">
<h1 id="Functions-over-arrays">Functions over arrays<a class="anchor-link" href="#Functions-over-arrays">&#182;</a></h1><ul>
<li>When we use arithmetic operators on arrays, we create a new array with the result of applying the operator to each element.</li>
</ul>

</div>
</div>
</div>
<div class="cell border-box-sizing code_cell rendered">
<div class="input">
<div class="prompt input_prompt">In&nbsp;[56]:</div>
<div class="inner_cell">
    <div class="input_area">
<div class=" highlight hl-ipython2"><pre><span></span><span class="n">y</span> <span class="o">=</span> <span class="n">x</span> <span class="o">*</span> <span class="mi">2</span>
<span class="k">print</span> <span class="n">y</span>
</pre></div>

</div>
</div>
</div>

<div class="output_wrapper">
<div class="output">


<div class="output_area">

<div class="prompt"></div>


<div class="output_subarea output_stream output_stdout output_text">
<pre>[0 2 4 6 8]
</pre>
</div>
</div>

</div>
</div>

</div>
<div class="cell border-box-sizing text_cell rendered"><div class="prompt input_prompt">
</div>
<div class="inner_cell">
<div class="text_cell_render border-box-sizing rendered_html">
<ul>
<li>The same goes for functions:</li>
</ul>

</div>
</div>
</div>
<div class="cell border-box-sizing code_cell rendered">
<div class="input">
<div class="prompt input_prompt">In&nbsp;[4]:</div>
<div class="inner_cell">
    <div class="input_area">
<div class=" highlight hl-ipython2"><pre><span></span><span class="n">x</span> <span class="o">=</span> <span class="n">np</span><span class="o">.</span><span class="n">array</span><span class="p">([</span><span class="o">-</span><span class="mi">1</span><span class="p">,</span> <span class="mi">2</span><span class="p">,</span> <span class="mi">3</span><span class="p">,</span> <span class="o">-</span><span class="mi">4</span><span class="p">])</span>
<span class="n">y</span> <span class="o">=</span> <span class="nb">abs</span><span class="p">(</span><span class="n">x</span><span class="p">)</span>
<span class="k">print</span> <span class="n">y</span>
</pre></div>

</div>
</div>
</div>

<div class="output_wrapper">
<div class="output">


<div class="output_area">

<div class="prompt"></div>


<div class="output_subarea output_stream output_stdout output_text">
<pre>[1 2 3 4]
</pre>
</div>
</div>

</div>
</div>

</div>
<div class="cell border-box-sizing text_cell rendered"><div class="prompt input_prompt">
</div>
<div class="inner_cell">
<div class="text_cell_render border-box-sizing rendered_html">
<h1 id="Populating-Arrays">Populating Arrays<a class="anchor-link" href="#Populating-Arrays">&#182;</a></h1><ul>
<li>To populate an array with a range of values we use the <code>np.arange()</code> function:</li>
</ul>

</div>
</div>
</div>
<div class="cell border-box-sizing code_cell rendered">
<div class="input">
<div class="prompt input_prompt">In&nbsp;[58]:</div>
<div class="inner_cell">
    <div class="input_area">
<div class=" highlight hl-ipython2"><pre><span></span><span class="n">x</span> <span class="o">=</span> <span class="n">np</span><span class="o">.</span><span class="n">arange</span><span class="p">(</span><span class="mi">0</span><span class="p">,</span> <span class="mi">10</span><span class="p">)</span>
<span class="k">print</span> <span class="n">x</span>
</pre></div>

</div>
</div>
</div>

<div class="output_wrapper">
<div class="output">


<div class="output_area">

<div class="prompt"></div>


<div class="output_subarea output_stream output_stdout output_text">
<pre>[0 1 2 3 4 5 6 7 8 9]
</pre>
</div>
</div>

</div>
</div>

</div>
<div class="cell border-box-sizing text_cell rendered"><div class="prompt input_prompt">
</div>
<div class="inner_cell">
<div class="text_cell_render border-box-sizing rendered_html">
<ul>
<li>We can also use floating point increments.</li>
</ul>

</div>
</div>
</div>
<div class="cell border-box-sizing code_cell rendered">
<div class="input">
<div class="prompt input_prompt">In&nbsp;[11]:</div>
<div class="inner_cell">
    <div class="input_area">
<div class=" highlight hl-ipython2"><pre><span></span><span class="n">x</span> <span class="o">=</span> <span class="n">np</span><span class="o">.</span><span class="n">arange</span><span class="p">(</span><span class="mi">0</span><span class="p">,</span> <span class="mi">1</span><span class="p">,</span> <span class="mf">0.1</span><span class="p">)</span>
<span class="k">print</span> <span class="n">x</span>
</pre></div>

</div>
</div>
</div>

<div class="output_wrapper">
<div class="output">


<div class="output_area">

<div class="prompt"></div>


<div class="output_subarea output_stream output_stdout output_text">
<pre>[ 0.   0.1  0.2  0.3  0.4  0.5  0.6  0.7  0.8  0.9]
</pre>
</div>
</div>

</div>
</div>

</div>
<div class="cell border-box-sizing text_cell rendered"><div class="prompt input_prompt">
</div>
<div class="inner_cell">
<div class="text_cell_render border-box-sizing rendered_html">
<h1 id="Basic-Plotting">Basic Plotting<a class="anchor-link" href="#Basic-Plotting">&#182;</a></h1><ul>
<li><p>We will use a module called <code>matplotlib</code> to plot some simple graphs.</p>
</li>
<li><p>This module provides functions which are very similar to MATLAB plotting commands.</p>
</li>
</ul>

</div>
</div>
</div>
<div class="cell border-box-sizing code_cell rendered">
<div class="input">
<div class="prompt input_prompt">In&nbsp;[12]:</div>
<div class="inner_cell">
    <div class="input_area">
<div class=" highlight hl-ipython2"><pre><span></span><span class="kn">import</span> <span class="nn">matplotlib.pyplot</span> <span class="kn">as</span> <span class="nn">plt</span>
<span class="o">%</span><span class="k">matplotlib</span> inline

<span class="n">y</span> <span class="o">=</span> <span class="n">x</span><span class="o">*</span><span class="mi">2</span> <span class="o">+</span> <span class="mi">5</span>
<span class="n">plt</span><span class="o">.</span><span class="n">plot</span><span class="p">(</span><span class="n">x</span><span class="p">,</span> <span class="n">y</span><span class="p">)</span>
</pre></div>

</div>
</div>
</div>

<div class="output_wrapper">
<div class="output">


<div class="output_area">

<div class="prompt output_prompt">Out[12]:</div>




<div class="output_text output_subarea output_execute_result">
<pre>[&lt;matplotlib.lines.Line2D at 0x7fdbb00a69d0&gt;]</pre>
</div>

</div>

<div class="output_area">

<div class="prompt"></div>




<div class="output_png output_subarea ">
<img src="data:image/png;base64,iVBORw0KGgoAAAANSUhEUgAAAXcAAAEACAYAAABI5zaHAAAABHNCSVQICAgIfAhkiAAAAAlwSFlz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"
>
</div>

</div>

</div>
</div>

</div>
<div class="cell border-box-sizing text_cell rendered"><div class="prompt input_prompt">
</div>
<div class="inner_cell">
<div class="text_cell_render border-box-sizing rendered_html">
<h1 id="Plotting-a-sine-curve">Plotting a sine curve<a class="anchor-link" href="#Plotting-a-sine-curve">&#182;</a></h1>
</div>
</div>
</div>
<div class="cell border-box-sizing code_cell rendered">
<div class="input">
<div class="prompt input_prompt">In&nbsp;[13]:</div>
<div class="inner_cell">
    <div class="input_area">
<div class=" highlight hl-ipython2"><pre><span></span><span class="kn">from</span> <span class="nn">numpy</span> <span class="kn">import</span> <span class="n">pi</span><span class="p">,</span> <span class="n">sin</span>

<span class="n">x</span> <span class="o">=</span> <span class="n">np</span><span class="o">.</span><span class="n">arange</span><span class="p">(</span><span class="mi">0</span><span class="p">,</span> <span class="mi">2</span><span class="o">*</span><span class="n">pi</span><span class="p">,</span> <span class="mf">0.01</span><span class="p">)</span>
<span class="n">y</span> <span class="o">=</span> <span class="n">sin</span><span class="p">(</span><span class="n">x</span><span class="p">)</span>
<span class="n">plt</span><span class="o">.</span><span class="n">plot</span><span class="p">(</span><span class="n">x</span><span class="p">,</span> <span class="n">y</span><span class="p">)</span>
</pre></div>

</div>
</div>
</div>

<div class="output_wrapper">
<div class="output">


<div class="output_area">

<div class="prompt output_prompt">Out[13]:</div>




<div class="output_text output_subarea output_execute_result">
<pre>[&lt;matplotlib.lines.Line2D at 0x7fdba98de290&gt;]</pre>
</div>

</div>

<div class="output_area">

<div class="prompt"></div>




<div class="output_png output_subarea ">
<img src="data:image/png;base64,iVBORw0KGgoAAAANSUhEUgAAAXoAAAEACAYAAAC9Gb03AAAABHNCSVQICAgIfAhkiAAAAAlwSFlz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==
"
>
</div>

</div>

</div>
</div>

</div>
<div class="cell border-box-sizing text_cell rendered"><div class="prompt input_prompt">
</div>
<div class="inner_cell">
<div class="text_cell_render border-box-sizing rendered_html">
<h1 id="Plotting-a-histogram">Plotting a histogram<a class="anchor-link" href="#Plotting-a-histogram">&#182;</a></h1><ul>
<li>We can use the <code>hist()</code> function in <code>matplotlib</code> to plot a histogram</li>
</ul>

</div>
</div>
</div>
<div class="cell border-box-sizing code_cell rendered">
<div class="input">
<div class="prompt input_prompt">In&nbsp;[37]:</div>
<div class="inner_cell">
    <div class="input_area">
<div class=" highlight hl-ipython2"><pre><span></span><span class="c1"># Generate some random data</span>
<span class="n">data</span> <span class="o">=</span> <span class="n">np</span><span class="o">.</span><span class="n">random</span><span class="o">.</span><span class="n">randn</span><span class="p">(</span><span class="mi">1000</span><span class="p">)</span>

<span class="n">ax</span> <span class="o">=</span> <span class="n">plt</span><span class="o">.</span><span class="n">hist</span><span class="p">(</span><span class="n">data</span><span class="p">)</span>
</pre></div>

</div>
</div>
</div>

<div class="output_wrapper">
<div class="output">


<div class="output_area">

<div class="prompt"></div>




<div class="output_png output_subarea ">
<img src="data:image/png;base64,iVBORw0KGgoAAAANSUhEUgAAAXUAAAEACAYAAABMEua6AAAABHNCSVQICAgIfAhkiAAAAAlwSFlz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"
>
</div>

</div>

</div>
</div>

</div>
<div class="cell border-box-sizing text_cell rendered"><div class="prompt input_prompt">
</div>
<div class="inner_cell">
<div class="text_cell_render border-box-sizing rendered_html">
<h1 id="Computing-histograms-as-matrices">Computing histograms as matrices<a class="anchor-link" href="#Computing-histograms-as-matrices">&#182;</a></h1><ul>
<li>The function <code>histogram()</code> in the <code>numpy</code> module will count frequencies into bins and return the result as a 2-dimensional array.</li>
</ul>

</div>
</div>
</div>
<div class="cell border-box-sizing code_cell rendered">
<div class="input">
<div class="prompt input_prompt">In&nbsp;[38]:</div>
<div class="inner_cell">
    <div class="input_area">
<div class=" highlight hl-ipython2"><pre><span></span><span class="n">np</span><span class="o">.</span><span class="n">histogram</span><span class="p">(</span><span class="n">data</span><span class="p">)</span>
</pre></div>

</div>
</div>
</div>

<div class="output_wrapper">
<div class="output">


<div class="output_area">

<div class="prompt output_prompt">Out[38]:</div>




<div class="output_text output_subarea output_execute_result">
<pre>(array([  1,  14,  44, 122, 202, 288, 186, 105,  26,  12]),
 array([-3.78273819, -3.08261624, -2.3824943 , -1.68237235, -0.98225041,
       -0.28212847,  0.41799348,  1.11811542,  1.81823737,  2.51835931,
        3.21848125]))</pre>
</div>

</div>

</div>
</div>

</div>
<div class="cell border-box-sizing text_cell rendered"><div class="prompt input_prompt">
</div>
<div class="inner_cell">
<div class="text_cell_render border-box-sizing rendered_html">
<h1 id="Defining-new-functions">Defining new functions<a class="anchor-link" href="#Defining-new-functions">&#182;</a></h1>
</div>
</div>
</div>
<div class="cell border-box-sizing code_cell rendered">
<div class="input">
<div class="prompt input_prompt">In&nbsp;[13]:</div>
<div class="inner_cell">
    <div class="input_area">
<div class=" highlight hl-ipython2"><pre><span></span><span class="k">def</span> <span class="nf">squared</span><span class="p">(</span><span class="n">x</span><span class="p">):</span>
    <span class="k">return</span> <span class="n">x</span> <span class="o">**</span> <span class="mi">2</span>

<span class="k">print</span> <span class="n">squared</span><span class="p">(</span><span class="mi">5</span><span class="p">)</span>
</pre></div>

</div>
</div>
</div>

<div class="output_wrapper">
<div class="output">


<div class="output_area">

<div class="prompt"></div>


<div class="output_subarea output_stream output_stdout output_text">
<pre>25
</pre>
</div>
</div>

</div>
</div>

</div>
<div class="cell border-box-sizing text_cell rendered"><div class="prompt input_prompt">
</div>
<div class="inner_cell">
<div class="text_cell_render border-box-sizing rendered_html">
<h1 id="Local-Variables">Local Variables<a class="anchor-link" href="#Local-Variables">&#182;</a></h1><ul>
<li><p>Variables created inside functions are <em>local</em> to that function.</p>
</li>
<li><p>They are not accessable to code outside of that function.</p>
</li>
</ul>

</div>
</div>
</div>
<div class="cell border-box-sizing code_cell rendered">
<div class="input">
<div class="prompt input_prompt">In&nbsp;[41]:</div>
<div class="inner_cell">
    <div class="input_area">
<div class=" highlight hl-ipython2"><pre><span></span><span class="k">def</span> <span class="nf">squared</span><span class="p">(</span><span class="n">x</span><span class="p">):</span>
    <span class="n">result</span> <span class="o">=</span> <span class="n">x</span> <span class="o">**</span> <span class="mi">2</span>
    <span class="k">return</span> <span class="n">result</span>

<span class="k">print</span> <span class="n">squared</span><span class="p">(</span><span class="mi">5</span><span class="p">)</span>
</pre></div>

</div>
</div>
</div>

<div class="output_wrapper">
<div class="output">


<div class="output_area">

<div class="prompt"></div>


<div class="output_subarea output_stream output_stdout output_text">
<pre>25
</pre>
</div>
</div>

</div>
</div>

</div>
<div class="cell border-box-sizing code_cell rendered">
<div class="input">
<div class="prompt input_prompt">In&nbsp;[15]:</div>
<div class="inner_cell">
    <div class="input_area">
<div class=" highlight hl-ipython2"><pre><span></span><span class="k">print</span> <span class="n">result</span>
</pre></div>

</div>
</div>
</div>

<div class="output_wrapper">
<div class="output">


<div class="output_area">

<div class="prompt"></div>


<div class="output_subarea output_text output_error">
<pre><span class="ansi-red-fg">---------------------------------------------------------------------------</span>
<span class="ansi-red-fg">NameError</span>                                 Traceback (most recent call last)
<span class="ansi-green-fg">&lt;ipython-input-15-819e2eca8219&gt;</span> in <span class="ansi-cyan-fg">&lt;module&gt;</span><span class="ansi-blue-fg">()</span>
<span class="ansi-green-fg">----&gt; 1</span><span class="ansi-red-fg"> </span><span class="ansi-green-fg">print</span> result

<span class="ansi-red-fg">NameError</span>: name &#39;result&#39; is not defined</pre>
</div>
</div>

</div>
</div>

</div>
<div class="cell border-box-sizing text_cell rendered"><div class="prompt input_prompt">
</div>
<div class="inner_cell">
<div class="text_cell_render border-box-sizing rendered_html">
<h1 id="Functional-Programming">Functional Programming<a class="anchor-link" href="#Functional-Programming">&#182;</a></h1><ul>
<li><p>Functions are first-class citizens in Python.</p>
</li>
<li><p>They can be passed around just like any other value.</p>
</li>
</ul>

</div>
</div>
</div>
<div class="cell border-box-sizing code_cell rendered">
<div class="input">
<div class="prompt input_prompt">In&nbsp;[16]:</div>
<div class="inner_cell">
    <div class="input_area">
<div class=" highlight hl-ipython2"><pre><span></span><span class="k">print</span><span class="p">(</span><span class="n">squared</span><span class="p">)</span>
</pre></div>

</div>
</div>
</div>

<div class="output_wrapper">
<div class="output">


<div class="output_area">

<div class="prompt"></div>


<div class="output_subarea output_stream output_stdout output_text">
<pre>&lt;function squared at 0x7ffd3ea6ee60&gt;
</pre>
</div>
</div>

</div>
</div>

</div>
<div class="cell border-box-sizing code_cell rendered">
<div class="input">
<div class="prompt input_prompt">In&nbsp;[17]:</div>
<div class="inner_cell">
    <div class="input_area">
<div class=" highlight hl-ipython2"><pre><span></span><span class="n">y</span> <span class="o">=</span> <span class="n">squared</span>
<span class="k">print</span> <span class="n">y</span>
</pre></div>

</div>
</div>
</div>

<div class="output_wrapper">
<div class="output">


<div class="output_area">

<div class="prompt"></div>


<div class="output_subarea output_stream output_stdout output_text">
<pre>&lt;function squared at 0x7ffd3ea6ee60&gt;
</pre>
</div>
</div>

</div>
</div>

</div>
<div class="cell border-box-sizing code_cell rendered">
<div class="input">
<div class="prompt input_prompt">In&nbsp;[18]:</div>
<div class="inner_cell">
    <div class="input_area">
<div class=" highlight hl-ipython2"><pre><span></span><span class="k">print</span> <span class="n">y</span><span class="p">(</span><span class="mi">5</span><span class="p">)</span>
</pre></div>

</div>
</div>
</div>

<div class="output_wrapper">
<div class="output">


<div class="output_area">

<div class="prompt"></div>


<div class="output_subarea output_stream output_stdout output_text">
<pre>25
</pre>
</div>
</div>

</div>
</div>

</div>
<div class="cell border-box-sizing text_cell rendered"><div class="prompt input_prompt">
</div>
<div class="inner_cell">
<div class="text_cell_render border-box-sizing rendered_html">
<h1 id="Mapping-the-elements-of-a-collection">Mapping the elements of a collection<a class="anchor-link" href="#Mapping-the-elements-of-a-collection">&#182;</a></h1><ul>
<li><p>We can apply a function to each element of a collection using the built-in function <code>map()</code>.</p>
</li>
<li><p>This will work with any collection: list, set, tuple or string.</p>
</li>
<li><p>This will take as an argument <em>another function</em>, and the list we want to apply it to.</p>
</li>
<li><p>It will return the results of applying the function, as a list.</p>
</li>
</ul>

</div>
</div>
</div>
<div class="cell border-box-sizing code_cell rendered">
<div class="input">
<div class="prompt input_prompt">In&nbsp;[16]:</div>
<div class="inner_cell">
    <div class="input_area">
<div class=" highlight hl-ipython2"><pre><span></span><span class="nb">map</span><span class="p">(</span><span class="n">squared</span><span class="p">,</span> <span class="p">[</span><span class="mi">1</span><span class="p">,</span> <span class="mi">2</span><span class="p">,</span> <span class="mi">3</span><span class="p">,</span> <span class="mi">4</span><span class="p">])</span>
</pre></div>

</div>
</div>
</div>

<div class="output_wrapper">
<div class="output">


<div class="output_area">

<div class="prompt output_prompt">Out[16]:</div>




<div class="output_text output_subarea output_execute_result">
<pre>[1, 4, 9, 16]</pre>
</div>

</div>

</div>
</div>

</div>
<div class="cell border-box-sizing text_cell rendered"><div class="prompt input_prompt">
</div>
<div class="inner_cell">
<div class="text_cell_render border-box-sizing rendered_html">
<h1 id="List-Comprehensions">List Comprehensions<a class="anchor-link" href="#List-Comprehensions">&#182;</a></h1>
</div>
</div>
</div>
<div class="cell border-box-sizing text_cell rendered"><div class="prompt input_prompt">
</div>
<div class="inner_cell">
<div class="text_cell_render border-box-sizing rendered_html">
<ul>
<li>Because this is such a common operation, Python has a special syntax to do the same thing, called a <em>list comprehension</em>.</li>
</ul>

</div>
</div>
</div>
<div class="cell border-box-sizing code_cell rendered">
<div class="input">
<div class="prompt input_prompt">In&nbsp;[17]:</div>
<div class="inner_cell">
    <div class="input_area">
<div class=" highlight hl-ipython2"><pre><span></span><span class="p">[</span><span class="n">squared</span><span class="p">(</span><span class="n">i</span><span class="p">)</span> <span class="k">for</span> <span class="n">i</span> <span class="ow">in</span> <span class="p">[</span><span class="mi">1</span><span class="p">,</span> <span class="mi">2</span><span class="p">,</span> <span class="mi">3</span><span class="p">,</span> <span class="mi">4</span><span class="p">]]</span>
</pre></div>

</div>
</div>
</div>

<div class="output_wrapper">
<div class="output">


<div class="output_area">

<div class="prompt output_prompt">Out[17]:</div>




<div class="output_text output_subarea output_execute_result">
<pre>[1, 4, 9, 16]</pre>
</div>

</div>

</div>
</div>

</div>
<div class="cell border-box-sizing text_cell rendered"><div class="prompt input_prompt">
</div>
<div class="inner_cell">
<div class="text_cell_render border-box-sizing rendered_html">
<ul>
<li>If we want a set instead of a list we can use a set comprehension</li>
</ul>

</div>
</div>
</div>
<div class="cell border-box-sizing code_cell rendered">
<div class="input">
<div class="prompt input_prompt">In&nbsp;[42]:</div>
<div class="inner_cell">
    <div class="input_area">
<div class=" highlight hl-ipython2"><pre><span></span><span class="p">{</span><span class="n">squared</span><span class="p">(</span><span class="n">i</span><span class="p">)</span> <span class="k">for</span> <span class="n">i</span> <span class="ow">in</span> <span class="p">[</span><span class="mi">1</span><span class="p">,</span> <span class="mi">2</span><span class="p">,</span> <span class="mi">3</span><span class="p">,</span> <span class="mi">4</span><span class="p">]}</span>
</pre></div>

</div>
</div>
</div>

<div class="output_wrapper">
<div class="output">


<div class="output_area">

<div class="prompt output_prompt">Out[42]:</div>




<div class="output_text output_subarea output_execute_result">
<pre>{1, 4, 9, 16}</pre>
</div>

</div>

</div>
</div>

</div>
<div class="cell border-box-sizing text_cell rendered"><div class="prompt input_prompt">
</div>
<div class="inner_cell">
<div class="text_cell_render border-box-sizing rendered_html">
<h1 id="Cartesian-product-using-list-comprehensions">Cartesian product using list comprehensions<a class="anchor-link" href="#Cartesian-product-using-list-comprehensions">&#182;</a></h1>
</div>
</div>
</div>
<div class="cell border-box-sizing text_cell rendered"><div class="prompt input_prompt">
</div>
<div class="inner_cell">
<div class="text_cell_render border-box-sizing rendered_html">
<p><img src="220px-Cartesian_Product_qtl1.svg.png"></p>
<p>The <a href="https://en.wikipedia.org/wiki/Cartesian_product">Cartesian product</a> of two collections $X = A \times B$ can be expressed by using multiple <code>for</code> statements in a comprehension.</p>

</div>
</div>
</div>
<div class="cell border-box-sizing code_cell rendered">
<div class="input">
<div class="prompt input_prompt">In&nbsp;[43]:</div>
<div class="inner_cell">
    <div class="input_area">
<div class=" highlight hl-ipython2"><pre><span></span><span class="n">A</span> <span class="o">=</span> <span class="p">{</span><span class="s1">&#39;x&#39;</span><span class="p">,</span> <span class="s1">&#39;y&#39;</span><span class="p">,</span> <span class="s1">&#39;z&#39;</span><span class="p">}</span>
<span class="n">B</span> <span class="o">=</span> <span class="p">{</span><span class="mi">1</span><span class="p">,</span> <span class="mi">2</span><span class="p">,</span> <span class="mi">3</span><span class="p">}</span>
<span class="p">{(</span><span class="n">a</span><span class="p">,</span><span class="n">b</span><span class="p">)</span> <span class="k">for</span> <span class="n">a</span> <span class="ow">in</span> <span class="n">A</span> <span class="k">for</span> <span class="n">b</span> <span class="ow">in</span> <span class="n">B</span><span class="p">}</span>
</pre></div>

</div>
</div>
</div>

<div class="output_wrapper">
<div class="output">


<div class="output_area">

<div class="prompt output_prompt">Out[43]:</div>




<div class="output_text output_subarea output_execute_result">
<pre>{(&#39;x&#39;, 1),
 (&#39;x&#39;, 2),
 (&#39;x&#39;, 3),
 (&#39;y&#39;, 1),
 (&#39;y&#39;, 2),
 (&#39;y&#39;, 3),
 (&#39;z&#39;, 1),
 (&#39;z&#39;, 2),
 (&#39;z&#39;, 3)}</pre>
</div>

</div>

</div>
</div>

</div>
<div class="cell border-box-sizing text_cell rendered"><div class="prompt input_prompt">
</div>
<div class="inner_cell">
<div class="text_cell_render border-box-sizing rendered_html">
<h1 id="Cartesian-products-with-other-collections">Cartesian products with other collections<a class="anchor-link" href="#Cartesian-products-with-other-collections">&#182;</a></h1><ul>
<li>The syntax for Cartesian products can be used with any collection type.</li>
</ul>

</div>
</div>
</div>
<div class="cell border-box-sizing code_cell rendered">
<div class="input">
<div class="prompt input_prompt">In&nbsp;[25]:</div>
<div class="inner_cell">
    <div class="input_area">
<div class=" highlight hl-ipython2"><pre><span></span><span class="n">first_names</span> <span class="o">=</span> <span class="p">(</span><span class="s1">&#39;Steve&#39;</span><span class="p">,</span> <span class="s1">&#39;John&#39;</span><span class="p">,</span> <span class="s1">&#39;Peter&#39;</span><span class="p">)</span>
<span class="n">surnames</span> <span class="o">=</span> <span class="p">(</span><span class="s1">&#39;Smith&#39;</span><span class="p">,</span> <span class="s1">&#39;Doe&#39;</span><span class="p">)</span>

<span class="p">[(</span><span class="n">first_name</span><span class="p">,</span> <span class="n">surname</span><span class="p">)</span> <span class="k">for</span> <span class="n">first_name</span> <span class="ow">in</span> <span class="n">first_names</span> <span class="k">for</span> <span class="n">surname</span> <span class="ow">in</span> <span class="n">surnames</span><span class="p">]</span>
</pre></div>

</div>
</div>
</div>

<div class="output_wrapper">
<div class="output">


<div class="output_area">

<div class="prompt output_prompt">Out[25]:</div>




<div class="output_text output_subarea output_execute_result">
<pre>[(&#39;Steve&#39;, &#39;Smith&#39;),
 (&#39;Steve&#39;, &#39;Doe&#39;),
 (&#39;John&#39;, &#39;Smith&#39;),
 (&#39;John&#39;, &#39;Doe&#39;),
 (&#39;Peter&#39;, &#39;Smith&#39;),
 (&#39;Peter&#39;, &#39;Doe&#39;)]</pre>
</div>

</div>

</div>
</div>

</div>
<div class="cell border-box-sizing text_cell rendered"><div class="prompt input_prompt">
</div>
<div class="inner_cell">
<div class="text_cell_render border-box-sizing rendered_html">
<h1 id="Anonymous-Function-Literals">Anonymous Function Literals<a class="anchor-link" href="#Anonymous-Function-Literals">&#182;</a></h1><ul>
<li>We can also write <em>anonymous</em> functions.</li>
<li>These are function literals, and do not necessarily have a name.</li>
<li>They are called <em>lambda expressions</em> (after the $\lambda-$calculus).</li>
</ul>

</div>
</div>
</div>
<div class="cell border-box-sizing code_cell rendered">
<div class="input">
<div class="prompt input_prompt">In&nbsp;[21]:</div>
<div class="inner_cell">
    <div class="input_area">
<div class=" highlight hl-ipython2"><pre><span></span><span class="nb">map</span><span class="p">(</span><span class="k">lambda</span> <span class="n">x</span><span class="p">:</span> <span class="n">x</span> <span class="o">**</span> <span class="mi">2</span><span class="p">,</span> <span class="p">[</span><span class="mi">1</span><span class="p">,</span> <span class="mi">2</span><span class="p">,</span> <span class="mi">3</span><span class="p">,</span> <span class="mi">4</span><span class="p">])</span>
</pre></div>

</div>
</div>
</div>

<div class="output_wrapper">
<div class="output">


<div class="output_area">

<div class="prompt output_prompt">Out[21]:</div>




<div class="output_text output_subarea output_execute_result">
<pre>[1, 4, 9, 16]</pre>
</div>

</div>

</div>
</div>

</div>
<div class="cell border-box-sizing text_cell rendered"><div class="prompt input_prompt">
</div>
<div class="inner_cell">
<div class="text_cell_render border-box-sizing rendered_html">
<h1 id="Filtering-data">Filtering data<a class="anchor-link" href="#Filtering-data">&#182;</a></h1><ul>
<li><p>We can filter a list by applying a <em>predicate</em> to each element of the list.</p>
</li>
<li><p>A predicate is a function which takes a single argument, and returns a boolean value.</p>
</li>
<li><p><code>filter(p, X)</code> is equivalent to $\{ x : p(x) \; \forall x \in X \}$ in set-builder notation.</p>
</li>
</ul>

</div>
</div>
</div>
<div class="cell border-box-sizing code_cell rendered">
<div class="input">
<div class="prompt input_prompt">In&nbsp;[40]:</div>
<div class="inner_cell">
    <div class="input_area">
<div class=" highlight hl-ipython2"><pre><span></span><span class="nb">filter</span><span class="p">(</span><span class="k">lambda</span> <span class="n">x</span><span class="p">:</span> <span class="n">x</span> <span class="o">&gt;</span> <span class="mi">0</span><span class="p">,</span> <span class="p">[</span><span class="o">-</span><span class="mi">5</span><span class="p">,</span> <span class="mi">2</span><span class="p">,</span> <span class="mi">3</span><span class="p">,</span> <span class="o">-</span><span class="mi">10</span><span class="p">,</span> <span class="mi">0</span><span class="p">,</span> <span class="mi">1</span><span class="p">])</span>
</pre></div>

</div>
</div>
</div>

<div class="output_wrapper">
<div class="output">


<div class="output_area">

<div class="prompt output_prompt">Out[40]:</div>




<div class="output_text output_subarea output_execute_result">
<pre>[2, 3, 1]</pre>
</div>

</div>

</div>
</div>

</div>
<div class="cell border-box-sizing text_cell rendered"><div class="prompt input_prompt">
</div>
<div class="inner_cell">
<div class="text_cell_render border-box-sizing rendered_html">
<p>We can use both <code>filter()</code> and <code>map()</code> on other collections such as strings or sets.</p>

</div>
</div>
</div>
<div class="cell border-box-sizing code_cell rendered">
<div class="input">
<div class="prompt input_prompt">In&nbsp;[1]:</div>
<div class="inner_cell">
    <div class="input_area">
<div class=" highlight hl-ipython2"><pre><span></span><span class="nb">filter</span><span class="p">(</span><span class="k">lambda</span> <span class="n">x</span><span class="p">:</span> <span class="n">x</span> <span class="o">!=</span> <span class="s1">&#39; &#39;</span><span class="p">,</span> <span class="s1">&#39;hello world&#39;</span><span class="p">)</span>
</pre></div>

</div>
</div>
</div>

<div class="output_wrapper">
<div class="output">


<div class="output_area">

<div class="prompt output_prompt">Out[1]:</div>




<div class="output_text output_subarea output_execute_result">
<pre>&#39;helloworld&#39;</pre>
</div>

</div>

</div>
</div>

</div>
<div class="cell border-box-sizing code_cell rendered">
<div class="input">
<div class="prompt input_prompt">In&nbsp;[2]:</div>
<div class="inner_cell">
    <div class="input_area">
<div class=" highlight hl-ipython2"><pre><span></span><span class="nb">map</span><span class="p">(</span><span class="nb">ord</span><span class="p">,</span> <span class="s1">&#39;hello world&#39;</span><span class="p">)</span>
</pre></div>

</div>
</div>
</div>

<div class="output_wrapper">
<div class="output">


<div class="output_area">

<div class="prompt output_prompt">Out[2]:</div>




<div class="output_text output_subarea output_execute_result">
<pre>[104, 101, 108, 108, 111, 32, 119, 111, 114, 108, 100]</pre>
</div>

</div>

</div>
</div>

</div>
<div class="cell border-box-sizing code_cell rendered">
<div class="input">
<div class="prompt input_prompt">In&nbsp;[26]:</div>
<div class="inner_cell">
    <div class="input_area">
<div class=" highlight hl-ipython2"><pre><span></span><span class="nb">filter</span><span class="p">(</span><span class="k">lambda</span> <span class="n">x</span><span class="p">:</span> <span class="n">x</span> <span class="o">&gt;</span> <span class="mi">0</span><span class="p">,</span> <span class="p">{</span><span class="o">-</span><span class="mi">5</span><span class="p">,</span> <span class="mi">2</span><span class="p">,</span> <span class="mi">3</span><span class="p">,</span> <span class="o">-</span><span class="mi">10</span><span class="p">,</span> <span class="mi">0</span><span class="p">,</span> <span class="mi">1</span><span class="p">})</span>
</pre></div>

</div>
</div>
</div>

<div class="output_wrapper">
<div class="output">


<div class="output_area">

<div class="prompt output_prompt">Out[26]:</div>




<div class="output_text output_subarea output_execute_result">
<pre>[1, 2, 3]</pre>
</div>

</div>

</div>
</div>

</div>
<div class="cell border-box-sizing text_cell rendered"><div class="prompt input_prompt">
</div>
<div class="inner_cell">
<div class="text_cell_render border-box-sizing rendered_html">
<h1 id="Filtering-using-a-list-comprehension">Filtering using a list comprehension<a class="anchor-link" href="#Filtering-using-a-list-comprehension">&#182;</a></h1><ul>
<li><p>Again, because this is such a common operation, we can use simpler syntax to say the same thing.</p>
</li>
<li><p>We can express a filter using a list-comprehension by using the keyword <code>if</code>:</p>
</li>
</ul>

</div>
</div>
</div>
<div class="cell border-box-sizing code_cell rendered">
<div class="input">
<div class="prompt input_prompt">In&nbsp;[15]:</div>
<div class="inner_cell">
    <div class="input_area">
<div class=" highlight hl-ipython2"><pre><span></span><span class="n">data</span> <span class="o">=</span> <span class="p">[</span><span class="o">-</span><span class="mi">5</span><span class="p">,</span> <span class="mi">2</span><span class="p">,</span> <span class="mi">3</span><span class="p">,</span> <span class="o">-</span><span class="mi">10</span><span class="p">,</span> <span class="mi">0</span><span class="p">,</span> <span class="mi">1</span><span class="p">]</span>
<span class="p">[</span><span class="n">x</span> <span class="k">for</span> <span class="n">x</span> <span class="ow">in</span> <span class="n">data</span> <span class="k">if</span> <span class="n">x</span> <span class="o">&gt;</span> <span class="mi">0</span><span class="p">]</span>
</pre></div>

</div>
</div>
</div>

<div class="output_wrapper">
<div class="output">


<div class="output_area">

<div class="prompt output_prompt">Out[15]:</div>




<div class="output_text output_subarea output_execute_result">
<pre>[2, 3, 1]</pre>
</div>

</div>

</div>
</div>

</div>
<div class="cell border-box-sizing text_cell rendered"><div class="prompt input_prompt">
</div>
<div class="inner_cell">
<div class="text_cell_render border-box-sizing rendered_html">
<ul>
<li>We can also filter and then map in the same expression:</li>
</ul>

</div>
</div>
</div>
<div class="cell border-box-sizing code_cell rendered">
<div class="input">
<div class="prompt input_prompt">In&nbsp;[20]:</div>
<div class="inner_cell">
    <div class="input_area">
<div class=" highlight hl-ipython2"><pre><span></span><span class="kn">from</span> <span class="nn">numpy</span> <span class="kn">import</span> <span class="n">sqrt</span>
<span class="p">[</span><span class="n">sqrt</span><span class="p">(</span><span class="n">x</span><span class="p">)</span> <span class="k">for</span> <span class="n">x</span> <span class="ow">in</span> <span class="n">data</span> <span class="k">if</span> <span class="n">x</span> <span class="o">&gt;</span> <span class="mi">0</span><span class="p">]</span>
</pre></div>

</div>
</div>
</div>

<div class="output_wrapper">
<div class="output">


<div class="output_area">

<div class="prompt output_prompt">Out[20]:</div>




<div class="output_text output_subarea output_execute_result">
<pre>[1.4142135623730951, 1.7320508075688772, 1.0]</pre>
</div>

</div>

</div>
</div>

</div>
<div class="cell border-box-sizing text_cell rendered"><div class="prompt input_prompt">
</div>
<div class="inner_cell">
<div class="text_cell_render border-box-sizing rendered_html">
<h1 id="The-reduce-function">The reduce function<a class="anchor-link" href="#The-reduce-function">&#182;</a></h1><ul>
<li>The <code>reduce()</code> function recursively applies another function to pairs of values over the entire list, resulting in a <em>single</em> return value.</li>
</ul>

</div>
</div>
</div>
<div class="cell border-box-sizing code_cell rendered">
<div class="input">
<div class="prompt input_prompt">In&nbsp;[22]:</div>
<div class="inner_cell">
    <div class="input_area">
<div class=" highlight hl-ipython2"><pre><span></span><span class="nb">reduce</span><span class="p">(</span><span class="k">lambda</span> <span class="n">x</span><span class="p">,</span> <span class="n">y</span><span class="p">:</span> <span class="n">x</span> <span class="o">+</span> <span class="n">y</span><span class="p">,</span> <span class="p">[</span><span class="mi">0</span><span class="p">,</span> <span class="mi">1</span><span class="p">,</span> <span class="mi">2</span><span class="p">,</span> <span class="mi">3</span><span class="p">,</span> <span class="mi">4</span><span class="p">,</span> <span class="mi">5</span><span class="p">])</span>
</pre></div>

</div>
</div>
</div>

<div class="output_wrapper">
<div class="output">


<div class="output_area">

<div class="prompt output_prompt">Out[22]:</div>




<div class="output_text output_subarea output_execute_result">
<pre>15</pre>
</div>

</div>

</div>
</div>

</div>
<div class="cell border-box-sizing text_cell rendered"><div class="prompt input_prompt">
</div>
<div class="inner_cell">
<div class="text_cell_render border-box-sizing rendered_html">
<h1 id="Big-Data">Big Data<a class="anchor-link" href="#Big-Data">&#182;</a></h1><ul>
<li><p>The <code>map()</code> and <code>reduce()</code> functions form the basis of the map-reduce programming model.</p>
</li>
<li><p><a href="https://en.wikipedia.org/wiki/MapReduce">Map-reduce</a> is the basis of modern highly-distributed large-scale computing frameworks.</p>
</li>
<li><p>It is used in BigTable, Hadoop and Apache Spark.</p>
</li>
<li><p>See <a href="https://spark.apache.org/examples.html">these examples in Python</a> for Apache Spark.</p>
</li>
</ul>

</div>
</div>
</div>
<div class="cell border-box-sizing text_cell rendered"><div class="prompt input_prompt">
</div>
<div class="inner_cell">
<div class="text_cell_render border-box-sizing rendered_html">
<h1 id="Reading-Text-Files">Reading Text Files<a class="anchor-link" href="#Reading-Text-Files">&#182;</a></h1><ul>
<li>To read an entire text file as a list of lines use the <code>readlines()</code> method of a file object.</li>
</ul>

</div>
</div>
</div>
<div class="cell border-box-sizing code_cell rendered">
<div class="input">
<div class="prompt input_prompt">In&nbsp;[26]:</div>
<div class="inner_cell">
    <div class="input_area">
<div class=" highlight hl-ipython2"><pre><span></span><span class="n">f</span> <span class="o">=</span> <span class="nb">open</span><span class="p">(</span><span class="s1">&#39;/etc/group&#39;</span><span class="p">)</span>
<span class="n">result</span> <span class="o">=</span> <span class="n">f</span><span class="o">.</span><span class="n">readlines</span><span class="p">()</span>
<span class="n">f</span><span class="o">.</span><span class="n">close</span><span class="p">()</span>
</pre></div>

</div>
</div>
</div>

</div>
<div class="cell border-box-sizing code_cell rendered">
<div class="input">
<div class="prompt input_prompt">In&nbsp;[27]:</div>
<div class="inner_cell">
    <div class="input_area">
<div class=" highlight hl-ipython2"><pre><span></span><span class="c1"># Print the first line</span>
<span class="k">print</span> <span class="n">result</span><span class="p">[</span><span class="mi">0</span><span class="p">]</span>
</pre></div>

</div>
</div>
</div>

<div class="output_wrapper">
<div class="output">


<div class="output_area">

<div class="prompt"></div>


<div class="output_subarea output_stream output_stdout output_text">
<pre>root:x:0:

</pre>
</div>
</div>

</div>
</div>

</div>
<div class="cell border-box-sizing text_cell rendered"><div class="prompt input_prompt">
</div>
<div class="inner_cell">
<div class="text_cell_render border-box-sizing rendered_html">
<p>To concatenate into a single string:</p>

</div>
</div>
</div>
<div class="cell border-box-sizing code_cell rendered">
<div class="input">
<div class="prompt input_prompt">In&nbsp;[&nbsp;]:</div>
<div class="inner_cell">
    <div class="input_area">
<div class=" highlight hl-ipython2"><pre><span></span><span class="n">single_string</span> <span class="o">=</span> <span class="s1">&#39;&#39;</span><span class="o">.</span><span class="n">join</span><span class="p">(</span><span class="n">result</span><span class="p">)</span>
</pre></div>

</div>
</div>
</div>

</div>
 


    </div>
  </div>

  </div>


  
    <footer class="footer hidden-print">
      <div class="container">
        <div class="col-md-4">
          <p>
            This website does not host notebooks, it only renders notebooks
            available on other websites.
          </p>
        </div>

        <div class="col-md-4">
          <p>
            Delivered by <a href="http://www.fastly.com/">Fastly</a>,
            Rendered by <a href="https://developer.rackspace.com/?nbviewer=awesome">Rackspace</a>
          </p>
          <p>
            nbviewer GitHub <a href="https://github.com/jupyter/nbviewer">repository</a>.
          </p>
        </div>

        <div class="col-md-4">
          
  
            
              <p>
                nbviewer version:
                <a href="https://github.com/jupyter/nbviewer/commit/38e181afeec4b7527a8a13ef7c3814e36045244c">
                  38e181a
                </a>
              </p>
            
          
  
  <p>
    nbconvert version: <a href="https://github.com/jupyter/nbconvert/releases/tag/5.3.1">
      5.3.1
    </a>
  </p>
  

          
  
  
  <p>
    Rendered
    <span class='date' data-date='Sun, 17 Jun 2018 13:44:15 UTC' title='Sun, 17 Jun 2018 13:44:15 UTC'>(Sun, 17 Jun 2018 13:44:15 UTC)</span>
  </p>
  

        </div>
      </div>
    </footer>
  

  <script src="/static/components/bootstrap/js/bootstrap.min.js?v=5869c96cc8f19086aee625d670d741f9"></script>
  <script src="/static/components/headroom.js/dist/headroom.min.js?v=b0a311ea668f8e768ea375f4a7abb81c"></script>
  <script src="/static/components/headroom.js/dist/jQuery.headroom.min.js?v=f3a1bae118315d0c234afc74dc6aab71"></script>

  
  
  <script>
    $(function(){ $("#menubar").headroom({
      tolerance: 5,
      offset: 205,
      classes: {
        initial: "animated",
        pinned: "slideInDown",
        unpinned: "slideOutUp"
      }
    })});
  </script>


  
  <script>
    (function(i,s,o,g,r,a,m){i['GoogleAnalyticsObject']=r;i[r]=i[r]||function(){
      (i[r].q=i[r].q||[]).push(arguments)},i[r].l=1*new Date();a=s.createElement(o),
      m=s.getElementsByTagName(o)[0];a.async=1;a.src=g;m.parentNode.insertBefore(a,m)
    })(window,document,'script','https://www.google-analytics.com/analytics.js','ga');
    ga('create', 'UA-52617120-5', 'auto',
       {'storage': 'none'});
    ga('set', 'anonymizeIp', true);
    ga('send', 'pageview');
  </script>
  
  <script>
    require({
        paths: {
          moment: "/static/components/moment/min/moment.min.js?v=89f87298ad94aa1e6b92f42eb66da043"
        }
      }, ["moment"], function(moment){
      var date = $("footer .date"),
        m = moment(new Date(date.data('date'))),
        update = function(){ date.text(m.fromNow()); };
      setInterval(update, 61*1000);
      update();
      var w = $(window).scroll(function(event){
        $("body").toggleClass("scrolled", w.scrollTop() > 0);
      });
    });
  </script>

  <!--NEW RELIC Stop Perf Measurement-->
  
  <!--NEW RELIC End-->
</body>
</html>