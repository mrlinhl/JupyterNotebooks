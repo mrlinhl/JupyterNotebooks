








<!DOCTYPE html>
<html lang="en">

<head>
  <meta charset="utf-8">
  <title>Jupyter Notebook Viewer</title>
  <meta name="viewport" content="width=device-width, initial-scale=1.0">
  <meta name="description" content="">
  <meta name="author" content="">
  
  <meta name="robots" content="noindex,nofollow">
  

  <!--NEW RELIC Start Perf Measurement-->
  
  <!--NREND-->

  <!-- Le styles -->
  <script src="/cdn-cgi/apps/head/MuIIl4I_IVFkxldaVu1mdWee9as.js"></script><link href="/static/build/styles.css?v=af7ff69ae1abb8954a21dbb2241d4e24" rel="stylesheet">

  <!-- Le HTML5 shim, for IE6-8 support of HTML5 elements -->
  <!--[if lt IE 9]>
    <script src="http://html5shim.googlecode.com/svn/trunk/html5.js"></script>
  <![endif]-->

  <!-- Le fav and touch icons -->
  <link rel="shortcut icon" href="/static/ico/ipynb_icon_16x16.png">
  <link rel="apple-touch-icon-precomposed" sizes="144x144"
        href="/static/ico/apple-touch-icon-144-precomposed.png?v=5a3c9ede93e2a8b8ea9e3f8f3da1a905">
  <link rel="apple-touch-icon-precomposed" sizes="114x114"
        href="/static/ico/apple-touch-icon-114-precomposed.png?v=45d86fc8f24dc00638035e1dd7a6d898">
  <link rel="apple-touch-icon-precomposed" sizes="72x72"
        href="/static/ico/apple-touch-icon-72-precomposed.png?v=540b5eb0f3cfd25f1439d1c9bd30e15f">
  <link rel="apple-touch-icon-precomposed"
        href="/static/ico/apple-touch-icon-57-precomposed.png?v=225f0590e187e1458625654f10a28f56">
  
  

  

  
  <meta name="twitter:card" content="summary">
  <meta name="twitter:title" content="Notebook on nbviewer">
  <meta name="twitter:description" content="Check out this Jupyter notebook!">

  
  <meta name="twitter:domain" content="nbviewer.ipython.org">
  <meta name="twitter:image:src" content="http://ipython.org/ipython-doc/dev/_images/ipynb_icon_128x128.png">

  
    <link href="/static/build/notebook.css?v=70404d2166a8ab8949e8e1cdff07b91f" rel="stylesheet">
  

  

  
    <script src="https://cdnjs.cloudflare.com/ajax/libs/mathjax/2.7.1/MathJax.js?config=TeX-AMS_HTML" type="text/javascript">
    </script>
    <script type="text/javascript">
      init_mathjax = function() {
        if (window.MathJax) {
          // MathJax loaded
          MathJax.Hub.Config({
            TeX: {
              equationNumbers: {
                autoNumber: "AMS",
                useLabelIds: true
              }
            },
            tex2jax: {
              inlineMath: [ ['$','$'], ["\\(","\\)"] ],
              displayMath: [ ['$$','$$'], ["\\[","\\]"] ],
              processEscapes: true,
              processEnvironments: true
            },
            displayAlign: 'center',
            "HTML-CSS": {
              styles: {'.MathJax_Display': {"margin": 0}},
              linebreaks: { automatic: true }
            }
          });
          MathJax.Hub.Queue(["Typeset", MathJax.Hub]);
        }
      }
      init_mathjax();
    </script>
  

  
    <script>
      (function() {
        function addWidgetsRenderer() {
          var mimeElement = document.querySelector('script[type="application/vnd.jupyter.widget-view+json"]');
          var scriptElement = document.createElement('script');
          var widgetRendererSrc = 'https://unpkg.com/@jupyter-widgets/html-manager@*/dist/embed-amd.js';
          var widgetState;

          try {
            widgetState = mimeElement && JSON.parse(mimeElement.innerHTML);

            if (widgetState && (widgetState.version_major < 2 || !widgetState.version_major)) {
              widgetRendererSrc = 'https://unpkg.com/jupyter-js-widgets@*/dist/embed.js';
            }
          } catch(e) {}

          scriptElement.src = widgetRendererSrc;
          document.body.appendChild(scriptElement);
        }

        document.addEventListener('DOMContentLoaded', addWidgetsRenderer);
      }());
    </script>
  

</head>

<body class="nbviewer">

  <!-- These are loaded at the top of the body so they are available to
       notebook cells when they are loaded below. -->
  <script src="/static/components/jquery/dist/jquery.min.js?v=a09e13ee94d51c524b7e2a728c7d4039"></script>
  <script src="/static/components/requirejs/require.js?v=6da8be361b9ee26c5e721e76c6d4afce"></script>
  <script src="/static/components/moment/min/moment.min.js?v=89f87298ad94aa1e6b92f42eb66da043"></script>
<!-- Navbar
================================================== -->
  <nav id="menubar" class="navbar navbar-default navbar-fixed-top" data-spy="affix">
    <div class="container">
      <div class="navbar-header">
        <button type="button" class="navbar-toggle collapsed" data-toggle="collapse" data-target=".navbar-collapse">
          <span class="sr-only">Toggle navigation</span>
          <i class="fa fa-bars"></i>
        </button>
        <a class="navbar-brand" href="/">
          <img src="/static/img/nav_logo.svg?v=479cefe8d932fb14a67b93911b97d70f" width="159"/>
        </a>
      </div>

      <div class="collapse navbar-collapse">
        <ul class="nav navbar-nav navbar-right">
          <li>
            <a class="active" href="http://jupyter.org">JUPYTER</a>
          </li>
          <li>
    <a href="/faq" title="FAQ" >
      
        <span>FAQ</span>
      
    </a>
  </li>

          
  
    
  
    
      
        <li>
    <a href="/format/slides/github/phelps-sg/python-bigdata/blob/master/src/main/ipynb/hbase-python-slides.ipynb" title="View as Slides" >
      <span class="fa fa-gift fa-2x menu-icon"></span>
      <span class="menu-text">View as Slides</span>
    </a>
  </li>
      
    
  
    
      
        <li>
    <a href="/format/script/github/phelps-sg/python-bigdata/blob/master/src/main/ipynb/hbase-python-slides.ipynb" title="View as Code" >
      <span class="fa fa-code fa-2x menu-icon"></span>
      <span class="menu-text">View as Code</span>
    </a>
  </li>
      
    
  

  
    <li>
    <a href="#" title="Python 2 Kernel" >
      <span class="fa fa-server fa-2x menu-icon"></span>
      <span class="menu-text">Python 2 Kernel</span>
    </a>
  </li>
  

  
    <li>
    <a href="https://github.com/phelps-sg/python-bigdata/blob/master/src/main/ipynb/hbase-python-slides.ipynb" title="View on GitHub" >
      <span class="fa fa-github fa-2x menu-icon"></span>
      <span class="menu-text">View on GitHub</span>
    </a>
  </li>
  

  <li>
    <a href="https://raw.githubusercontent.com/phelps-sg/python-bigdata/master/src/main/ipynb/hbase-python-slides.ipynb" title="Download Notebook" download>
      <span class="fa fa-download fa-2x menu-icon"></span>
      <span class="menu-text">Download Notebook</span>
    </a>
  </li>

        </ul>
      </div><!-- /.navbar-collapse -->
      
      
    </div>
  </nav>

  <div class="container container-main">
    
  
  <ol class="breadcrumb">
    
      <li>
        <a href="/github/phelps-sg/python-bigdata/tree/master">python-bigdata</a>
      </li>
    
      <li>
        <a href="/github/phelps-sg/python-bigdata/tree/master/src">src</a>
      </li>
    
      <li>
        <a href="/github/phelps-sg/python-bigdata/tree/master/src/main">main</a>
      </li>
    
      <li>
        <a href="/github/phelps-sg/python-bigdata/tree/master/src/main/ipynb">ipynb</a>
      </li>
    
  </ol>
  
  <div id="notebook">
    <div id="notebook-container">
      
<div class="cell border-box-sizing text_cell rendered"><div class="prompt input_prompt">
</div>
<div class="inner_cell">
<div class="text_cell_render border-box-sizing rendered_html">
<h1 id="Using-HBase-from-Python">Using HBase from Python<a class="anchor-link" href="#Using-HBase-from-Python">&#182;</a></h1><p>(C) 2016 <a href="http://sphelps.net">Steve Phelps</a></p>

</div>
</div>
</div>
<div class="cell border-box-sizing text_cell rendered"><div class="prompt input_prompt">
</div>
<div class="inner_cell">
<div class="text_cell_render border-box-sizing rendered_html">
<h3 id="Overview">Overview<a class="anchor-link" href="#Overview">&#182;</a></h3><ol>
<li>Column-oriented databases and Apache HBase</li>
<li>Binary data in Python </li>
<li>Serialization using the <code>Struct</code> class.</li>
<li>The <code>happybase</code> API.</li>
</ol>

</div>
</div>
</div>
<div class="cell border-box-sizing text_cell rendered"><div class="prompt input_prompt">
</div>
<div class="inner_cell">
<div class="text_cell_render border-box-sizing rendered_html">
<h3 id="Reading">Reading<a class="anchor-link" href="#Reading">&#182;</a></h3><ul>
<li><a href="https://highlyscalable.wordpress.com/2012/03/01/nosql-data-modeling-techniques/">no-SQL Data Modelling Techniques</a></li>
<li><a href="https://hbase.apache.org/book.html#datamodel">The HBase Data Model</a></li>
<li><a href="https://pymotw.com/2/struct/">Tutorial on binary data in Python</a></li>
<li><a href="http://happybase.readthedocs.org/en/latest/user.html">The HappyBase User Guide</a></li>
</ul>

</div>
</div>
</div>
<div class="cell border-box-sizing text_cell rendered"><div class="prompt input_prompt">
</div>
<div class="inner_cell">
<div class="text_cell_render border-box-sizing rendered_html">
<h1 id="Apache-HBase">Apache HBase<a class="anchor-link" href="#Apache-HBase">&#182;</a></h1><ul>
<li>HBase is a column-oriented database.</li>
<li>It is inspired by Google's Bigtable \cite{Chang2006}.</li>
<li>HBase is written in Java (Bigtable was written in C++).</li>
<li>HBase can be used from Python through a <a href="https://wiki.apache.org/hadoop/Hbase/ThriftApi">Thrift API</a>.</li>
<li>It can also be access through the <a href="https://spark.apache.org/">Apache Spark Python API</a>.</li>
</ul>

</div>
</div>
</div>
<div class="cell border-box-sizing text_cell rendered"><div class="prompt input_prompt">
</div>
<div class="inner_cell">
<div class="text_cell_render border-box-sizing rendered_html">
<h1 id="Scalability">Scalability<a class="anchor-link" href="#Scalability">&#182;</a></h1><ul>
<li>The design philosophy is based on highly-distributed, <a href="https://en.wikipedia.org/wiki/Shared_nothing_architecture">shared-nothing architecture</a>.</li>
<li>It provides automatic <a href="https://en.wikipedia.org/wiki/Shard_\%28database_architecture\%29}{sharding}">sharding</a>.</li>
<li>HBase is part of the <a href="https://hadoop.apache.org/">Hadoop</a> Ecosystem.</li>
</ul>

</div>
</div>
</div>
<div class="cell border-box-sizing text_cell rendered"><div class="prompt input_prompt">
</div>
<div class="inner_cell">
<div class="text_cell_render border-box-sizing rendered_html">
<h1 id="Shared-nothing-architecture">Shared-nothing architecture<a class="anchor-link" href="#Shared-nothing-architecture">&#182;</a></h1><ul>
<li><p>When building scalable systems, we need to parallelize our computations.</p>
</li>
<li><p>This requires multiple processors (and/or multiple cores).</p>
</li>
<li><p>How do we distribute the data to each processor?</p>
</li>
</ul>
<table>
<thead><tr>
<th>Scheme</th>
<th>Description</th>
</tr>
</thead>
<tbody>
<tr>
<td>Shared memory (SM)</td>
<td>Multiple processors share a common central memory.</td>
</tr>
<tr>
<td>Shared disk (SD)</td>
<td>Multiple processors with private memory share a  common collection of disks.</td>
</tr>
<tr>
<td>Shared nothing (SN)</td>
<td>Neither memory not peripheral storage is shared among processors.</td>
</tr>
</tbody>
</table>
<p>\cite{Stonebraker1986}</p>

</div>
</div>
</div>
<div class="cell border-box-sizing text_cell rendered"><div class="prompt input_prompt">
</div>
<div class="inner_cell">
<div class="text_cell_render border-box-sizing rendered_html">
<h1 id="Sharding">Sharding<a class="anchor-link" href="#Sharding">&#182;</a></h1><ul>
<li><p>We can provide parallel access to a database by storing different subsets
of the data on different RDBMS servers.</p>
</li>
<li><p>We could use, e.g. a hash function to determine which server a piece of data should reside on.</p>
</li>
<li><p>Each of these subsets is called a shard.</p>
</li>
<li><p>With a traditional relational database, sharding is very costly in terms of duplicated resources and the complexity of the configuration.</p>
</li>
<li><p>HBase provides automatic sharding, with minimal duplication of state.</p>
</li>
</ul>

</div>
</div>
</div>
<div class="cell border-box-sizing text_cell rendered"><div class="prompt input_prompt">
</div>
<div class="inner_cell">
<div class="text_cell_render border-box-sizing rendered_html">
<h1 id="Regions">Regions<a class="anchor-link" href="#Regions">&#182;</a></h1><ul>
<li><p>Tables are partitioned vertically into different <em>regions</em>.</p>
</li>
<li><p>Different <em>region servers</em> are responsible for one or more regions.</p>
</li>
<li><p>The HBase Master process performs coordination and load balancing across the region servers.</p>
</li>
</ul>

</div>
</div>
</div>
<div class="cell border-box-sizing text_cell rendered"><div class="prompt input_prompt">
</div>
<div class="inner_cell">
<div class="text_cell_render border-box-sizing rendered_html">
<h1 id="The-Hadoop-Distributed-File-System-(HDFS)">The Hadoop Distributed File System (HDFS)<a class="anchor-link" href="#The-Hadoop-Distributed-File-System-(HDFS)">&#182;</a></h1><ul>
<li><p>In a production configuration HBase stores its underlying data on a file-system called <a href="https://hadoop.apache.org/docs/r1.0.4/hdfs_design.html#Introduction">HDFS</a>.</p>
</li>
<li><p>HDFS uses a cluster of computers to simulate a single file-system.</p>
</li>
<li><p>It provides:</p>
<ul>
<li>Resilience against hardware </li>
<li>Streaming Data Access</li>
<li>Support for large files (e.g. terabytes)</li>
</ul>
</li>
<li><p>It is based on the philosophy that moving computation is often cheaper than moving data.</p>
</li>
</ul>

</div>
</div>
</div>
<div class="cell border-box-sizing text_cell rendered"><div class="prompt input_prompt">
</div>
<div class="inner_cell">
<div class="text_cell_render border-box-sizing rendered_html">
<h1 id="HBase-Tables">HBase Tables<a class="anchor-link" href="#HBase-Tables">&#182;</a></h1><ul>
<li>Tables are maps of maps.</li>
<li>We first map from row key to a map of the data for that row.</li>
<li>Then within each row, column names are mapped to values.</li>
<li>Tables consist of:<ul>
<li><em>Rows</em>, which hold the data associated with the row-key.</li>
<li><em>Column keys</em>, which are used to index each row.</li>
<li><em>Row keys</em>, which are used to index each attribute within a row.</li>
<li><em>Column families</em> which group related keys to specify access-control and options.</li>
</ul>
</li>
</ul>

</div>
</div>
</div>
<div class="cell border-box-sizing text_cell rendered"><div class="prompt input_prompt">
</div>
<div class="inner_cell">
<div class="text_cell_render border-box-sizing rendered_html">
<h1 id="Multi-dimensional-sorted-maps">Multi-dimensional sorted maps<a class="anchor-link" href="#Multi-dimensional-sorted-maps">&#182;</a></h1><ul>
<li>Row keys are sorted in <a href="http://mathworld.wolfram.com/LexicographicOrder.html}{lexicographic order">lexicographic order</a>.</li>
<li>The number of columns per row is <em>unbounded</em>.</li>
<li>This design implements a persistent, sparse, multi-dimensional sorted map.</li>
</ul>

</div>
</div>
</div>
<div class="cell border-box-sizing text_cell rendered"><div class="prompt input_prompt">
</div>
<div class="inner_cell">
<div class="text_cell_render border-box-sizing rendered_html">
<h1 id="Sparse-data">Sparse data<a class="anchor-link" href="#Sparse-data">&#182;</a></h1><ul>
<li>When de-normalising a schema, we introduce many <code>NULL</code> values.</li>
<li>A data-set which contains a significant fraction of <code>NULL</code> values is called <code>sparse</code> data.</li>
<li><code>NULL</code> values can be represented by the absence of a mapping.</li>
<li>Existence is tested using a <a href="https://en.wikipedia.org/wiki/Bloom_filter">Bloom filter</a>.</li>
<li>The bloom filter is cached in memory;<ul>
<li>This prevents unnecessary disk accesses.</li>
</ul>
</li>
</ul>

</div>
</div>
</div>
<div class="cell border-box-sizing text_cell rendered"><div class="prompt input_prompt">
</div>
<div class="inner_cell">
<div class="text_cell_render border-box-sizing rendered_html">
<h1 id="HBase-is-typeless">HBase is typeless<a class="anchor-link" href="#HBase-is-typeless">&#182;</a></h1><ul>
<li>There are <em>no types</em>. </li>
<li>Both keys and their associated values are arbitrary-length arrays of bytes.</li>
<li>There is no limit on the size of a value.</li>
</ul>

</div>
</div>
</div>
<div class="cell border-box-sizing text_cell rendered"><div class="prompt input_prompt">
</div>
<div class="inner_cell">
<div class="text_cell_render border-box-sizing rendered_html">
<h1 id="Lexicographic-ordering">Lexicographic ordering<a class="anchor-link" href="#Lexicographic-ordering">&#182;</a></h1><ul>
<li><p>We can define an ordering over arbitrary binary data.</p>
</li>
<li><p>For example, the following Python code determines whether $x &lt; y$
according to lexicographic ordering:</p>
</li>
</ul>

</div>
</div>
</div>
<div class="cell border-box-sizing code_cell rendered">
<div class="input">
<div class="prompt input_prompt">In&nbsp;[5]:</div>
<div class="inner_cell">
    <div class="input_area">
<div class=" highlight hl-ipython2"><pre><span></span><span class="k">def</span> <span class="nf">lexicographic_le</span><span class="p">(</span><span class="n">x</span><span class="p">,</span> <span class="n">y</span><span class="p">):</span>   
    <span class="k">for</span> <span class="n">i</span> <span class="ow">in</span> <span class="nb">range</span><span class="p">(</span><span class="nb">len</span><span class="p">(</span><span class="n">x</span><span class="p">)):</span>
        <span class="k">if</span> <span class="n">x</span><span class="p">[</span><span class="n">i</span><span class="p">]</span> <span class="o">==</span> <span class="n">y</span><span class="p">[</span><span class="n">i</span><span class="p">]:</span>
            <span class="k">continue</span>
        <span class="k">else</span><span class="p">:</span>
            <span class="k">return</span> <span class="n">x</span><span class="p">[</span><span class="n">i</span><span class="p">]</span> <span class="o">&lt;</span> <span class="n">y</span><span class="p">[</span><span class="n">i</span><span class="p">]</span>
    <span class="k">return</span> <span class="bp">False</span>

<span class="n">lexicographic_le</span><span class="p">(</span><span class="s1">&#39;steve&#39;</span><span class="p">,</span> <span class="s1">&#39;smith&#39;</span><span class="p">)</span>
</pre></div>

</div>
</div>
</div>

<div class="output_wrapper">
<div class="output">


<div class="output_area">

<div class="prompt output_prompt">Out[5]:</div>




<div class="output_text output_subarea output_execute_result">
<pre>False</pre>
</div>

</div>

</div>
</div>

</div>
<div class="cell border-box-sizing text_cell rendered"><div class="prompt input_prompt">
</div>
<div class="inner_cell">
<div class="text_cell_render border-box-sizing rendered_html">
<h1 id="Ordering-arrays-of-bytes">Ordering arrays of bytes<a class="anchor-link" href="#Ordering-arrays-of-bytes">&#182;</a></h1>
</div>
</div>
</div>
<div class="cell border-box-sizing code_cell rendered">
<div class="input">
<div class="prompt input_prompt">In&nbsp;[6]:</div>
<div class="inner_cell">
    <div class="input_area">
<div class=" highlight hl-ipython2"><pre><span></span><span class="kn">import</span> <span class="nn">numpy</span> <span class="kn">as</span> <span class="nn">np</span>

<span class="n">x</span> <span class="o">=</span> <span class="n">np</span><span class="o">.</span><span class="n">array</span><span class="p">([</span><span class="mi">15</span><span class="p">,</span> <span class="mi">9</span><span class="p">,</span> <span class="mi">5</span><span class="p">,</span> <span class="mi">16</span><span class="p">,</span> <span class="mi">4</span><span class="p">])</span>

<span class="n">y</span> <span class="o">=</span> <span class="n">np</span><span class="o">.</span><span class="n">array</span><span class="p">([</span><span class="mi">15</span><span class="p">,</span> <span class="mi">16</span><span class="p">,</span> <span class="mi">1</span><span class="p">,</span> <span class="mi">18</span><span class="p">,</span> <span class="mi">1</span><span class="p">])</span>

<span class="n">lexicographic_le</span><span class="p">(</span><span class="n">x</span><span class="p">,</span> <span class="n">y</span><span class="p">)</span>
</pre></div>

</div>
</div>
</div>

<div class="output_wrapper">
<div class="output">


<div class="output_area">

<div class="prompt output_prompt">Out[6]:</div>




<div class="output_text output_subarea output_execute_result">
<pre>True</pre>
</div>

</div>

</div>
</div>

</div>
<div class="cell border-box-sizing text_cell rendered"><div class="prompt input_prompt">
</div>
<div class="inner_cell">
<div class="text_cell_render border-box-sizing rendered_html">
<h1 id="Joins-in-HBase">Joins in HBase<a class="anchor-link" href="#Joins-in-HBase">&#182;</a></h1><ul>
<li><p>There is no automatic enforcement of referentially integrity in a column-oriented database.</p>
<ul>
<li>There are no foreign key constraints.</li>
</ul>
</li>
<li><p>If we want to retrieve the value associated with a particular key from another table, then
that will be a fast operation.</p>
</li>
<li><p>In general, however, the set-theoretic operations available in SQL can be very expensive.</p>
</li>
<li><p>Joins are not supported;
  we "pre-join" the data through de-normalisation.</p>
</li>
</ul>

</div>
</div>
</div>
<div class="cell border-box-sizing text_cell rendered"><div class="prompt input_prompt">
</div>
<div class="inner_cell">
<div class="text_cell_render border-box-sizing rendered_html">
<h1 id="An-example-table">An example table<a class="anchor-link" href="#An-example-table">&#182;</a></h1><p><img src="http://lwlink3.linkwithin.com/api/click?format=go&amp;jsonp=vglnk_14684974959609&amp;key=503c38809682907e0e07931326b1c03d&amp;libId=iqm9hrid01012xfu000DAkt1oqmsc&amp;loc=http%3A%2F%2Fgardenforkingpaths.blogspot.co.uk%2F2012%2F10%2Fhbase-column-family-store.html&amp;v=1&amp;out=http%3A%2F%2F1.bp.blogspot.com%2F-B8smblPeeqw%2FUHNjaBq-caI%2FAAAAAAAAAGU%2FHXMw8Hi2L90%2Fs1600%2Fhbase.png&amp;ref=https%3A%2F%2Fduckduckgo.com&amp;title=the%20Garden%20of%20Forking%20Paths%3A%20HBase%3A%20A%20Column-Family%20Store&amp;txt=" alt="hbase table"></p>

</div>
</div>
</div>
<div class="cell border-box-sizing text_cell rendered"><div class="prompt input_prompt">
</div>
<div class="inner_cell">
<div class="text_cell_render border-box-sizing rendered_html">
<h1 id="Column-qualifiers">Column qualifiers<a class="anchor-link" href="#Column-qualifiers">&#182;</a></h1><ul>
<li><p>Row keys and column keys can consist of arbitrary binary data.</p>
</li>
<li><p>Often we will use strings (which HBase will see an array of 8-bit ASCII values).</p>
</li>
<li><p>Column-keys containing the character "<code>:</code>" specify membership of a column-family:</p>
</li>
</ul>

<pre><code>&lt;column family name&gt;:&lt;column qualifer&gt;</code></pre>

</div>
</div>
</div>
<div class="cell border-box-sizing text_cell rendered"><div class="prompt input_prompt">
</div>
<div class="inner_cell">
<div class="text_cell_render border-box-sizing rendered_html">
<ul>
<li><p>The column family name must consist of printable text.</p>
</li>
<li><p>For example, in the previous example, the <code>triangle</code> attribute would be written as:</p>
</li>
</ul>
<p><code>shape:triangle</code></p>
<ul>
<li><p>The fully-qualified key is stored on disk.</p>
</li>
<li><p>Therefore, the name of a column-family should generally be short, in order to maintain capacity and IO throughput.</p>
</li>
</ul>

</div>
</div>
</div>
<div class="cell border-box-sizing text_cell rendered"><div class="prompt input_prompt">
</div>
<div class="inner_cell">
<div class="text_cell_render border-box-sizing rendered_html">
<h1 id="The-colors-and-shapes-example-with-Python-dicts">The colors and shapes example with Python dicts<a class="anchor-link" href="#The-colors-and-shapes-example-with-Python-dicts">&#182;</a></h1>
</div>
</div>
</div>
<div class="cell border-box-sizing code_cell rendered">
<div class="input">
<div class="prompt input_prompt">In&nbsp;[8]:</div>
<div class="inner_cell">
    <div class="input_area">
<div class=" highlight hl-ipython2"><pre><span></span><span class="n">data</span> <span class="o">=</span> \
    <span class="p">{</span>
        <span class="s1">&#39;first&#39;</span><span class="p">:</span> 
            <span class="p">{</span>
                <span class="s1">&#39;color:red&#39;</span><span class="p">:</span> <span class="mh">0xf00</span><span class="p">,</span> <span class="s1">&#39;color:blue&#39;</span><span class="p">:</span> <span class="mh">0x00f</span><span class="p">,</span> 
                    <span class="s1">&#39;shape:yellow&#39;</span><span class="p">:</span> <span class="mh">0xff0</span><span class="p">,</span> <span class="s1">&#39;shape:square&#39;</span><span class="p">:</span> <span class="mi">4</span> 
            <span class="p">},</span> 
        <span class="s1">&#39;second&#39;</span><span class="p">:</span> 
            <span class="p">{</span> 
                <span class="s1">&#39;shape:square&#39;</span><span class="p">:</span> <span class="mi">4</span><span class="p">,</span> <span class="s1">&#39;shape:triangle&#39;</span><span class="p">:</span> <span class="mi">3</span> 
            <span class="p">}</span> 
    <span class="p">}</span>
</pre></div>

</div>
</div>
</div>

</div>
<div class="cell border-box-sizing code_cell rendered">
<div class="input">
<div class="prompt input_prompt">In&nbsp;[9]:</div>
<div class="inner_cell">
    <div class="input_area">
<div class=" highlight hl-ipython2"><pre><span></span><span class="n">data</span><span class="p">[</span><span class="s1">&#39;second&#39;</span><span class="p">]</span>
</pre></div>

</div>
</div>
</div>

<div class="output_wrapper">
<div class="output">


<div class="output_area">

<div class="prompt output_prompt">Out[9]:</div>




<div class="output_text output_subarea output_execute_result">
<pre>{&#39;shape:square&#39;: 4, &#39;shape:triangle&#39;: 3}</pre>
</div>

</div>

</div>
</div>

</div>
<div class="cell border-box-sizing code_cell rendered">
<div class="input">
<div class="prompt input_prompt">In&nbsp;[10]:</div>
<div class="inner_cell">
    <div class="input_area">
<div class=" highlight hl-ipython2"><pre><span></span><span class="n">data</span><span class="p">[</span><span class="s1">&#39;second&#39;</span><span class="p">][</span><span class="s1">&#39;shape:triangle&#39;</span><span class="p">]</span>
</pre></div>

</div>
</div>
</div>

<div class="output_wrapper">
<div class="output">


<div class="output_area">

<div class="prompt output_prompt">Out[10]:</div>




<div class="output_text output_subarea output_execute_result">
<pre>3</pre>
</div>

</div>

</div>
</div>

</div>
<div class="cell border-box-sizing text_cell rendered"><div class="prompt input_prompt">
</div>
<div class="inner_cell">
<div class="text_cell_render border-box-sizing rendered_html">
<h1 id="URLs">URLs<a class="anchor-link" href="#URLs">&#182;</a></h1><ul>
<li><p>BigTable was originally designed to house web data (it originated from Google).</p>
</li>
<li><p>It is very common to use a URL as a row-key.</p>
</li>
<li><p>We would typically reverse the URL before using it as a key.</p>
</li>
<li><p>For example:</p>
</li>
</ul>
<p><code>keats.kcl.ac.uk</code> becomes <code>uk.ac.kcl.keats</code>.</p>

</div>
</div>
</div>
<div class="cell border-box-sizing text_cell rendered"><div class="prompt input_prompt">
</div>
<div class="inner_cell">
<div class="text_cell_render border-box-sizing rendered_html">
<h1 id="Time-stamps">Time stamps<a class="anchor-link" href="#Time-stamps">&#182;</a></h1><ul>
<li>HBase also allows multiple versions of the values associated with a given column for a given row.</li>
<li>We can optionally use this to index by the time-stamp of the datum.</li>
<li>For example, we might store several versions of a web page associated with a given URL.</li>
<li>The time-stamp dimension is optionally.</li>
<li>When writing data, if we do not specify the time-stamp, then the current system time is used.</li>
<li>When modifying data, the old value is kept along with the old time-stamp.</li>
<li>There are therefore three dimensions to the multi-dimensional map.</li>
<li>For some applications, we can use the time-dimension to store our own data.</li>
</ul>

</div>
</div>
</div>
<div class="cell border-box-sizing text_cell rendered"><div class="prompt input_prompt">
</div>
<div class="inner_cell">
<div class="text_cell_render border-box-sizing rendered_html">
<h1 id="Epoch-time">Epoch time<a class="anchor-link" href="#Epoch-time">&#182;</a></h1><ul>
<li>Time-stamps are stored as integers in <a href="http://www.epochconverter.com/">Unix epoch time</a>.</li>
<li>Epoch time is number of seconds that have elapsed since 00:00:00 Coordinated Universal Time (UTC), Thursday, 1 January 1970</li>
<li>To get the current epoch time on a Unix system:</li>
</ul>
<div class="highlight"><pre><span></span>date +%s
</pre></div>

</div>
</div>
</div>
<div class="cell border-box-sizing text_cell rendered"><div class="prompt input_prompt">
</div>
<div class="inner_cell">
<div class="text_cell_render border-box-sizing rendered_html">
<h1 id="Table-operations">Table operations<a class="anchor-link" href="#Table-operations">&#182;</a></h1><ul>
<li><p>There are four core CRUD operations which we can perform on tables:</p>
<ol>
<li>Get</li>
<li>Put</li>
<li>Delete</li>
<li>Scan</li>
</ol>
</li>
<li><p>We execute them by either:</p>
<ul>
<li>Executing a command in the shell.</li>
<li>Calling a Java method in the Java API.</li>
<li>Calling a Python function in the Thrift API.</li>
</ul>
</li>
<li><p>On a big project, it is typically more practical to use the API than the shell.</p>
</li>
</ul>

</div>
</div>
</div>
<div class="cell border-box-sizing text_cell rendered"><div class="prompt input_prompt">
</div>
<div class="inner_cell">
<div class="text_cell_render border-box-sizing rendered_html">
<h1 id="Get">Get<a class="anchor-link" href="#Get">&#182;</a></h1><ul>
<li><p>Get returns attributes for a specified row-key and column(s).</p>
</li>
<li><p>It can be used in several ways:</p>
<ul>
<li>Get everything for a row.</li>
<li>To get all columns from specific column families.</li>
<li>To get specific columns.</li>
<li>To get values within a specified time range.</li>
</ul>
</li>
<li><p>By default it will retrieve up to three versions of the data</p>
<ul>
<li>We can specify a different number each time we get.</li>
</ul>
</li>
</ul>

</div>
</div>
</div>
<div class="cell border-box-sizing text_cell rendered"><div class="prompt input_prompt">
</div>
<div class="inner_cell">
<div class="text_cell_render border-box-sizing rendered_html">
<h1 id="Put">Put<a class="anchor-link" href="#Put">&#182;</a></h1><ul>
<li><p>Put can be used to insert new rows, or update existing rows.</p>
</li>
<li><p>We always specify a row key.</p>
</li>
<li><p>Where there is no existing value at a cell, new data is created.</p>
</li>
<li><p>If there is existing data, it is retained under the old time stamp.</p>
</li>
</ul>

</div>
</div>
</div>
<div class="cell border-box-sizing text_cell rendered"><div class="prompt input_prompt">
</div>
<div class="inner_cell">
<div class="text_cell_render border-box-sizing rendered_html">
<h1 id="Delete">Delete<a class="anchor-link" href="#Delete">&#182;</a></h1><ul>
<li>Delete a particular cell.</li>
</ul>

</div>
</div>
</div>
<div class="cell border-box-sizing text_cell rendered"><div class="prompt input_prompt">
</div>
<div class="inner_cell">
<div class="text_cell_render border-box-sizing rendered_html">
<h1 id="Scan">Scan<a class="anchor-link" href="#Scan">&#182;</a></h1><ul>
<li><p>Scan is used to retrieve a <em>range</em> of rows in one operation.</p>
</li>
<li><p>In its simplest form it will iterate over all rows in the table.</p>
</li>
<li><p>We can also specify a minimum and maximum row-key.</p>
</li>
<li><p>The ordering is given by the lexicographic ordering of the row-key itself.</p>
<ul>
<li>Ascending and descending are supported.</li>
<li>Note that we cannot specify an arbitrary ordering of the data;</li>
<li>there is no equivalent of SQL's <code>ORDER BY</code> clause.</li>
</ul>
</li>
</ul>

</div>
</div>
</div>
<div class="cell border-box-sizing text_cell rendered"><div class="prompt input_prompt">
</div>
<div class="inner_cell">
<div class="text_cell_render border-box-sizing rendered_html">
<h1 id="Tall-Narrow-Versus-Flat-Wide-tables">Tall-Narrow Versus Flat-Wide tables<a class="anchor-link" href="#Tall-Narrow-Versus-Flat-Wide-tables">&#182;</a></h1><ul>
<li><p>In a column-oriented database we need to think carefully about the structure of the table in respect of the kinds of queries we want to support.</p>
</li>
<li><p>We can choose a tall-narrow design as opposed to a flat-wide design.</p>
<ul>
<li>Tall-narrow: very many rows, fewer columns</li>
<li>Flat-wide: fewer rows, very many columns</li>
</ul>
</li>
<li><p>A tall-narrow design is more readily shard-able.</p>
<ul>
<li>Individual rows cannot be split across regions.</li>
</ul>
</li>
<li><p>A flat-wide design can be transformed into a tall-narrow design by storing additional data values in the row-key.</p>
</li>
<li><p>These attributes can be retrieved by scanning with a <em>partial-key</em>.</p>
</li>
</ul>

</div>
</div>
</div>
<div class="cell border-box-sizing text_cell rendered"><div class="prompt input_prompt">
</div>
<div class="inner_cell">
<div class="text_cell_render border-box-sizing rendered_html">
<h1 id="Partial-Key-Scans">Partial Key Scans<a class="anchor-link" href="#Partial-Key-Scans">&#182;</a></h1><ul>
<li>Because keys are sorted lexicographically, we can index several attributes simultaneously through concatenation.</li>
<li><p>e.g. suppose we use row`keys as with the following format:</p>
<p><code>&lt;userId&gt;-&lt;date&gt;-&lt;messageId&gt;-&lt;attachmentId&gt;</code></p>
</li>
<li><p>We can then <em>scan</em> the table by specifying a partial-key.</p>
</li>
</ul>

</div>
</div>
</div>
<div class="cell border-box-sizing text_cell rendered"><div class="prompt input_prompt">
</div>
<div class="inner_cell">
<div class="text_cell_render border-box-sizing rendered_html">
<h1 id="Underlying-data-structures.">Underlying data-structures.<a class="anchor-link" href="#Underlying-data-structures.">&#182;</a></h1><ul>
<li>The ordering over keys is provided by Log-Structured Merge Trees \cite{Neil1996}.</li>
<li>In contrast to <a href="https://en.wikipedia.org/wiki/B\%2B_tree">B+ Trees</a> in traditional databases.</li>
<li>LSMT trees ensure that rows of tables can efficiently be read from disk sequentially.</li>
<li>The merging operation is scheduled in the background automatically.</li>
<li>No need to constantly optimise tables to avoid fragmentation of pages.</li>
<li><em>Scanning</em> a table over a large range is bound only by sequential IO latencies.</li>
</ul>

</div>
</div>
</div>
<div class="cell border-box-sizing text_cell rendered"><div class="prompt input_prompt">
</div>
<div class="inner_cell">
<div class="text_cell_render border-box-sizing rendered_html">
<h1 id="CRUD-operations-from-the-shell">CRUD operations from the shell<a class="anchor-link" href="#CRUD-operations-from-the-shell">&#182;</a></h1><ul>
<li><p>We can perform create, read, update and delete (CRUD) operations from the HBase shell.</p>
</li>
<li><p>To start the HBase shell type a command similar to the following from the Unix shell:</p>
</li>
</ul>
<p><code>hbase shell</code></p>
<ul>
<li>To check the status of HBase use the command <code>status</code>.</li>
</ul>

</div>
</div>
</div>
<div class="cell border-box-sizing text_cell rendered"><div class="prompt input_prompt">
</div>
<div class="inner_cell">
<div class="text_cell_render border-box-sizing rendered_html">
<h2 id="Types-in-HBase">Types in HBase<a class="anchor-link" href="#Types-in-HBase">&#182;</a></h2><ul>
<li><p>HBase does not have any concept of data types.</p>
</li>
<li><p>All data is treated as binary data.</p>
</li>
</ul>

</div>
</div>
</div>
<div class="cell border-box-sizing text_cell rendered"><div class="prompt input_prompt">
</div>
<div class="inner_cell">
<div class="text_cell_render border-box-sizing rendered_html">
<h2 id="Unprintable-characters">Unprintable characters<a class="anchor-link" href="#Unprintable-characters">&#182;</a></h2><ul>
<li><p>We can think of binary data as a sequence of bytes.</p>
</li>
<li><p>If we use utf8 or 8-bit ASCII, then we can represent binary data as a Python string.</p>
</li>
<li><p>Byte values which do not have an associated ASCII character are shown as <a href="https://en.wikipedia.org/wiki/Hexadecimal">hexadecimal</a> values.</p>
</li>
<li><p>It is very easy to <a href="http://www.ascii.cl/conversion.htm">convert between Hexadecimal and binary</a>.</p>
</li>
</ul>

</div>
</div>
</div>
<div class="cell border-box-sizing code_cell rendered">
<div class="input">
<div class="prompt input_prompt">In&nbsp;[4]:</div>
<div class="inner_cell">
    <div class="input_area">
<div class=" highlight hl-ipython2"><pre><span></span><span class="nb">chr</span><span class="p">(</span><span class="mi">97</span><span class="p">)</span>
</pre></div>

</div>
</div>
</div>

<div class="output_wrapper">
<div class="output">


<div class="output_area">

<div class="prompt output_prompt">Out[4]:</div>




<div class="output_text output_subarea output_execute_result">
<pre>&#39;a&#39;</pre>
</div>

</div>

</div>
</div>

</div>
<div class="cell border-box-sizing code_cell rendered">
<div class="input">
<div class="prompt input_prompt">In&nbsp;[5]:</div>
<div class="inner_cell">
    <div class="input_area">
<div class=" highlight hl-ipython2"><pre><span></span><span class="nb">ord</span><span class="p">(</span><span class="s1">&#39;a&#39;</span><span class="p">)</span>
</pre></div>

</div>
</div>
</div>

<div class="output_wrapper">
<div class="output">


<div class="output_area">

<div class="prompt output_prompt">Out[5]:</div>




<div class="output_text output_subarea output_execute_result">
<pre>97</pre>
</div>

</div>

</div>
</div>

</div>
<div class="cell border-box-sizing code_cell rendered">
<div class="input">
<div class="prompt input_prompt">In&nbsp;[6]:</div>
<div class="inner_cell">
    <div class="input_area">
<div class=" highlight hl-ipython2"><pre><span></span><span class="nb">chr</span><span class="p">(</span><span class="mi">0</span><span class="p">)</span>
</pre></div>

</div>
</div>
</div>

<div class="output_wrapper">
<div class="output">


<div class="output_area">

<div class="prompt output_prompt">Out[6]:</div>




<div class="output_text output_subarea output_execute_result">
<pre>&#39;\x00&#39;</pre>
</div>

</div>

</div>
</div>

</div>
<div class="cell border-box-sizing text_cell rendered"><div class="prompt input_prompt">
</div>
<div class="inner_cell">
<div class="text_cell_render border-box-sizing rendered_html">
<ul>
<li>We can write non-printable characters by prefixing the hexadecimal value with <code>\x&lt;value&gt;</code>.</li>
</ul>

</div>
</div>
</div>
<div class="cell border-box-sizing code_cell rendered">
<div class="input">
<div class="prompt input_prompt">In&nbsp;[7]:</div>
<div class="inner_cell">
    <div class="input_area">
<div class=" highlight hl-ipython2"><pre><span></span><span class="nb">ord</span><span class="p">(</span><span class="s1">&#39;</span><span class="se">\x00</span><span class="s1">&#39;</span><span class="p">)</span>
</pre></div>

</div>
</div>
</div>

<div class="output_wrapper">
<div class="output">


<div class="output_area">

<div class="prompt output_prompt">Out[7]:</div>




<div class="output_text output_subarea output_execute_result">
<pre>0</pre>
</div>

</div>

</div>
</div>

</div>
<div class="cell border-box-sizing code_cell rendered">
<div class="input">
<div class="prompt input_prompt">In&nbsp;[8]:</div>
<div class="inner_cell">
    <div class="input_area">
<div class=" highlight hl-ipython2"><pre><span></span><span class="nb">ord</span><span class="p">(</span><span class="s1">&#39;</span><span class="se">\x10</span><span class="s1">&#39;</span><span class="p">)</span>
</pre></div>

</div>
</div>
</div>

<div class="output_wrapper">
<div class="output">


<div class="output_area">

<div class="prompt output_prompt">Out[8]:</div>




<div class="output_text output_subarea output_execute_result">
<pre>16</pre>
</div>

</div>

</div>
</div>

</div>
<div class="cell border-box-sizing text_cell rendered"><div class="prompt input_prompt">
</div>
<div class="inner_cell">
<div class="text_cell_render border-box-sizing rendered_html">
<h2 id="Sequences-of-bytes">Sequences of bytes<a class="anchor-link" href="#Sequences-of-bytes">&#182;</a></h2><ul>
<li><p>We can represent any 8-bit value as a character in Python.</p>
</li>
<li><p>We can represent arbitrary binary data as an ordered sequence of characters.</p>
</li>
</ul>

</div>
</div>
</div>
<div class="cell border-box-sizing text_cell rendered"><div class="prompt input_prompt">
</div>
<div class="inner_cell">
<div class="text_cell_render border-box-sizing rendered_html">
<ul>
<li><p>This is simply a string.</p>
</li>
<li><p>For example, the sequence of bytes <code>0x0010</code> can be represented:</p>
</li>
</ul>

</div>
</div>
</div>
<div class="cell border-box-sizing code_cell rendered">
<div class="input">
<div class="prompt input_prompt">In&nbsp;[9]:</div>
<div class="inner_cell">
    <div class="input_area">
<div class=" highlight hl-ipython2"><pre><span></span><span class="n">binary_data</span> <span class="o">=</span> <span class="s1">&#39;</span><span class="se">\x00\x10</span><span class="s1">&#39;</span>
<span class="n">binary_data</span>
</pre></div>

</div>
</div>
</div>

<div class="output_wrapper">
<div class="output">


<div class="output_area">

<div class="prompt output_prompt">Out[9]:</div>




<div class="output_text output_subarea output_execute_result">
<pre>&#39;\x00\x10&#39;</pre>
</div>

</div>

</div>
</div>

</div>
<div class="cell border-box-sizing code_cell rendered">
<div class="input">
<div class="prompt input_prompt">In&nbsp;[10]:</div>
<div class="inner_cell">
    <div class="input_area">
<div class=" highlight hl-ipython2"><pre><span></span><span class="n">binary_data</span><span class="p">[</span><span class="mi">0</span><span class="p">]</span>
</pre></div>

</div>
</div>
</div>

<div class="output_wrapper">
<div class="output">


<div class="output_area">

<div class="prompt output_prompt">Out[10]:</div>




<div class="output_text output_subarea output_execute_result">
<pre>&#39;\x00&#39;</pre>
</div>

</div>

</div>
</div>

</div>
<div class="cell border-box-sizing text_cell rendered"><div class="prompt input_prompt">
</div>
<div class="inner_cell">
<div class="text_cell_render border-box-sizing rendered_html">
<h2 id="Lexicographic-ordering-of-binary-data">Lexicographic ordering of binary data<a class="anchor-link" href="#Lexicographic-ordering-of-binary-data">&#182;</a></h2><ul>
<li>We can compare strings according to their alphabetic ordering; e.g.:</li>
</ul>

</div>
</div>
</div>
<div class="cell border-box-sizing code_cell rendered">
<div class="input">
<div class="prompt input_prompt">In&nbsp;[11]:</div>
<div class="inner_cell">
    <div class="input_area">
<div class=" highlight hl-ipython2"><pre><span></span><span class="s1">&#39;alpha&#39;</span> <span class="o">&lt;</span> <span class="s1">&#39;beta&#39;</span>
</pre></div>

</div>
</div>
</div>

<div class="output_wrapper">
<div class="output">


<div class="output_area">

<div class="prompt output_prompt">Out[11]:</div>




<div class="output_text output_subarea output_execute_result">
<pre>True</pre>
</div>

</div>

</div>
</div>

</div>
<div class="cell border-box-sizing code_cell rendered">
<div class="input">
<div class="prompt input_prompt">In&nbsp;[12]:</div>
<div class="inner_cell">
    <div class="input_area">
<div class=" highlight hl-ipython2"><pre><span></span><span class="s1">&#39;smith&#39;</span> <span class="o">&lt;</span> <span class="s1">&#39;steve&#39;</span>
</pre></div>

</div>
</div>
</div>

<div class="output_wrapper">
<div class="output">


<div class="output_area">

<div class="prompt output_prompt">Out[12]:</div>




<div class="output_text output_subarea output_execute_result">
<pre>True</pre>
</div>

</div>

</div>
</div>

</div>
<div class="cell border-box-sizing text_cell rendered"><div class="prompt input_prompt">
</div>
<div class="inner_cell">
<div class="text_cell_render border-box-sizing rendered_html">
<ul>
<li>This still works with unprintable characters:</li>
</ul>

</div>
</div>
</div>
<div class="cell border-box-sizing code_cell rendered">
<div class="input">
<div class="prompt input_prompt">In&nbsp;[13]:</div>
<div class="inner_cell">
    <div class="input_area">
<div class=" highlight hl-ipython2"><pre><span></span><span class="n">x</span> <span class="o">=</span> <span class="s1">&#39;</span><span class="se">\x0f\x09\x05\x10\x04</span><span class="s1">&#39;</span>
<span class="n">y</span> <span class="o">=</span> <span class="s1">&#39;</span><span class="se">\x0f\x10\x01\x12\x01</span><span class="s1">&#39;</span>
</pre></div>

</div>
</div>
</div>

</div>
<div class="cell border-box-sizing code_cell rendered">
<div class="input">
<div class="prompt input_prompt">In&nbsp;[14]:</div>
<div class="inner_cell">
    <div class="input_area">
<div class=" highlight hl-ipython2"><pre><span></span><span class="k">print</span> <span class="nb">type</span><span class="p">(</span><span class="n">x</span><span class="p">)</span>
<span class="k">print</span> <span class="nb">type</span><span class="p">(</span><span class="n">y</span><span class="p">)</span>
</pre></div>

</div>
</div>
</div>

<div class="output_wrapper">
<div class="output">


<div class="output_area">

<div class="prompt"></div>


<div class="output_subarea output_stream output_stdout output_text">
<pre>&lt;type &#39;str&#39;&gt;
&lt;type &#39;str&#39;&gt;
</pre>
</div>
</div>

</div>
</div>

</div>
<div class="cell border-box-sizing code_cell rendered">
<div class="input">
<div class="prompt input_prompt">In&nbsp;[15]:</div>
<div class="inner_cell">
    <div class="input_area">
<div class=" highlight hl-ipython2"><pre><span></span><span class="n">x</span> <span class="o">&lt;</span> <span class="n">y</span>
</pre></div>

</div>
</div>
</div>

<div class="output_wrapper">
<div class="output">


<div class="output_area">

<div class="prompt output_prompt">Out[15]:</div>




<div class="output_text output_subarea output_execute_result">
<pre>True</pre>
</div>

</div>

</div>
</div>

</div>
<div class="cell border-box-sizing text_cell rendered"><div class="prompt input_prompt">
</div>
<div class="inner_cell">
<div class="text_cell_render border-box-sizing rendered_html">
<h3 id="Indexing-binary-data">Indexing binary data<a class="anchor-link" href="#Indexing-binary-data">&#182;</a></h3><ul>
<li><p>Binary data can be considered as a sequence of bits.</p>
</li>
<li><p>Therefore it can be considered as a sequence of bytes.</p>
</li>
<li><p>Therefore binary data can be represented as a string.</p>
</li>
<li><p>Therefore binary data can be compared and sorted.</p>
</li>
<li><p>Therefore we can order binary data and store it in, e.g. a tree.</p>
</li>
<li><p>Therefore binary data can be <em>indexed</em>.</p>
</li>
</ul>

</div>
</div>
</div>
<div class="cell border-box-sizing text_cell rendered"><div class="prompt input_prompt">
</div>
<div class="inner_cell">
<div class="text_cell_render border-box-sizing rendered_html">
<h3 id="Converting-to-and-from-binary-data">Converting to and from binary data<a class="anchor-link" href="#Converting-to-and-from-binary-data">&#182;</a></h3><ul>
<li><p>All values in Python are ultimately stored as binary data.</p>
</li>
<li><p>This is usually hidden from the programmer.</p>
</li>
<li><p>When working with HBase we will often need to deal explicitly with the binary representation.</p>
</li>
<li><p>This is sometimes called <em>serialization</em>.</p>
</li>
<li><p>We can use Python's <a href="https://docs.python.org/2/library/struct.html">struct class</a> to do this.</p>
</li>
</ul>

</div>
</div>
</div>
<div class="cell border-box-sizing code_cell rendered">
<div class="input">
<div class="prompt input_prompt">In&nbsp;[1]:</div>
<div class="inner_cell">
    <div class="input_area">
<div class=" highlight hl-ipython2"><pre><span></span><span class="kn">import</span> <span class="nn">struct</span>
<span class="kn">import</span> <span class="nn">binascii</span>

<span class="n">data</span> <span class="o">=</span> <span class="mf">3.141592653589793</span>
<span class="n">float64s</span> <span class="o">=</span> <span class="n">struct</span><span class="o">.</span><span class="n">Struct</span><span class="p">(</span><span class="s1">&#39;d&#39;</span><span class="p">)</span>
<span class="n">pi_in_binary</span> <span class="o">=</span> <span class="n">float64s</span><span class="o">.</span><span class="n">pack</span><span class="p">(</span><span class="n">data</span><span class="p">)</span>
<span class="n">pi_in_binary</span>
</pre></div>

</div>
</div>
</div>

<div class="output_wrapper">
<div class="output">


<div class="output_area">

<div class="prompt output_prompt">Out[1]:</div>




<div class="output_text output_subarea output_execute_result">
<pre>&#39;\x18-DT\xfb!\<a href="/cdn-cgi/l/email-protection" class="__cf_email__" data-cfemail="b6c2f6">[email&#160;protected]</a>&#39;</pre>
</div>

</div>

</div>
</div>

</div>
<div class="cell border-box-sizing text_cell rendered"><div class="prompt input_prompt">
</div>
<div class="inner_cell">
<div class="text_cell_render border-box-sizing rendered_html">
<ul>
<li><p>Because some of the characters are printable, it is hard to interpret the above string.</p>
</li>
<li><p>When dealing with binary data we often want to sequence of bits, or more conveniently the sequence of bytes represented in hexadecimal.</p>
</li>
<li><p>The <code>hexlify()</code> function in the <code>binascii</code> module will do this:</p>
</li>
</ul>

</div>
</div>
</div>
<div class="cell border-box-sizing code_cell rendered">
<div class="input">
<div class="prompt input_prompt">In&nbsp;[2]:</div>
<div class="inner_cell">
    <div class="input_area">
<div class=" highlight hl-ipython2"><pre><span></span><span class="n">binascii</span><span class="o">.</span><span class="n">hexlify</span><span class="p">(</span><span class="n">pi_in_binary</span><span class="p">)</span>
</pre></div>

</div>
</div>
</div>

<div class="output_wrapper">
<div class="output">


<div class="output_area">

<div class="prompt output_prompt">Out[2]:</div>




<div class="output_text output_subarea output_execute_result">
<pre>&#39;182d4454fb210940&#39;</pre>
</div>

</div>

</div>
</div>

</div>
<div class="cell border-box-sizing code_cell rendered">
<div class="input">
<div class="prompt input_prompt">In&nbsp;[18]:</div>
<div class="inner_cell">
    <div class="input_area">
<div class=" highlight hl-ipython2"><pre><span></span><span class="kn">import</span> <span class="nn">struct</span>
<span class="kn">import</span> <span class="nn">binascii</span>

<span class="n">data</span> <span class="o">=</span> <span class="mi">5</span>
<span class="n">integer64s</span> <span class="o">=</span> <span class="n">struct</span><span class="o">.</span><span class="n">Struct</span><span class="p">(</span><span class="s1">&#39;l&#39;</span><span class="p">)</span>
<span class="n">binary_data</span> <span class="o">=</span> <span class="n">integer64s</span><span class="o">.</span><span class="n">pack</span><span class="p">(</span><span class="n">data</span><span class="p">)</span>
<span class="n">binascii</span><span class="o">.</span><span class="n">hexlify</span><span class="p">(</span><span class="n">binary_data</span><span class="p">)</span>
</pre></div>

</div>
</div>
</div>

<div class="output_wrapper">
<div class="output">


<div class="output_area">

<div class="prompt output_prompt">Out[18]:</div>




<div class="output_text output_subarea output_execute_result">
<pre>&#39;0500000000000000&#39;</pre>
</div>

</div>

</div>
</div>

</div>
<div class="cell border-box-sizing code_cell rendered">
<div class="input">
<div class="prompt input_prompt">In&nbsp;[19]:</div>
<div class="inner_cell">
    <div class="input_area">
<div class=" highlight hl-ipython2"><pre><span></span><span class="n">data</span> <span class="o">=</span> <span class="o">-</span><span class="mi">5</span>
<span class="n">integer64s</span> <span class="o">=</span> <span class="n">struct</span><span class="o">.</span><span class="n">Struct</span><span class="p">(</span><span class="s1">&#39;l&#39;</span><span class="p">)</span>
<span class="n">binary_data</span> <span class="o">=</span> <span class="n">integer64s</span><span class="o">.</span><span class="n">pack</span><span class="p">(</span><span class="n">data</span><span class="p">)</span>
<span class="n">binascii</span><span class="o">.</span><span class="n">hexlify</span><span class="p">(</span><span class="n">binary_data</span><span class="p">)</span>
</pre></div>

</div>
</div>
</div>

<div class="output_wrapper">
<div class="output">


<div class="output_area">

<div class="prompt output_prompt">Out[19]:</div>




<div class="output_text output_subarea output_execute_result">
<pre>&#39;fbffffffffffffff&#39;</pre>
</div>

</div>

</div>
</div>

</div>
<div class="cell border-box-sizing text_cell rendered"><div class="prompt input_prompt">
</div>
<div class="inner_cell">
<div class="text_cell_render border-box-sizing rendered_html">
<h2 id="Deserializing">Deserializing<a class="anchor-link" href="#Deserializing">&#182;</a></h2>
</div>
</div>
</div>
<div class="cell border-box-sizing code_cell rendered">
<div class="input">
<div class="prompt input_prompt">In&nbsp;[3]:</div>
<div class="inner_cell">
    <div class="input_area">
<div class=" highlight hl-ipython2"><pre><span></span><span class="n">original_data</span> <span class="o">=</span> <span class="n">float64s</span><span class="o">.</span><span class="n">unpack</span><span class="p">(</span><span class="n">pi_in_binary</span><span class="p">)</span>
<span class="n">original_data</span>
</pre></div>

</div>
</div>
</div>

<div class="output_wrapper">
<div class="output">


<div class="output_area">

<div class="prompt output_prompt">Out[3]:</div>




<div class="output_text output_subarea output_execute_result">
<pre>(3.141592653589793,)</pre>
</div>

</div>

</div>
</div>

</div>
<div class="cell border-box-sizing code_cell rendered">
<div class="input">
<div class="prompt input_prompt">In&nbsp;[4]:</div>
<div class="inner_cell">
    <div class="input_area">
<div class=" highlight hl-ipython2"><pre><span></span><span class="n">original_value</span> <span class="o">=</span> <span class="n">original_data</span><span class="p">[</span><span class="mi">0</span><span class="p">]</span>
<span class="n">original_value</span>
</pre></div>

</div>
</div>
</div>

<div class="output_wrapper">
<div class="output">


<div class="output_area">

<div class="prompt output_prompt">Out[4]:</div>




<div class="output_text output_subarea output_execute_result">
<pre>3.141592653589793</pre>
</div>

</div>

</div>
</div>

</div>
<div class="cell border-box-sizing text_cell rendered"><div class="prompt input_prompt">
</div>
<div class="inner_cell">
<div class="text_cell_render border-box-sizing rendered_html">
<h2 id="Big--and-Little-Endian-formats">Big- and Little-Endian formats<a class="anchor-link" href="#Big--and-Little-Endian-formats">&#182;</a></h2><ul>
<li><p>When we use decimal, by convention we write the most-significant digit on the left, and proceed towards the least-significant digit on the right.</p>
</li>
<li><p>This is called a <a href="https://en.wikipedia.org/wiki/Endianness#Big-endian">Big-endian</a> format.</p>
</li>
<li><p>We can also use the opposite convention, which is <a href="https://en.wikipedia.org/wiki/Endianness#Little-endian">Little-endian</a>.</p>
</li>
<li><p>Different CPUs use different formats.</p>
</li>
<li><p>Intel processors use the Little-endian format.</p>
</li>
<li><p>The convention used by the CPU is called the <em>native</em> format.</p>
</li>
<li><p>If we want to make our data portable between machines, e.g. transmit it over the network, we may have to specify a particular convention.</p>
</li>
</ul>

</div>
</div>
</div>
<div class="cell border-box-sizing text_cell rendered"><div class="prompt input_prompt">
</div>
<div class="inner_cell">
<div class="text_cell_render border-box-sizing rendered_html">
<h2 id="Endian-conversions-in-Python">Endian conversions in Python<a class="anchor-link" href="#Endian-conversions-in-Python">&#182;</a></h2>
</div>
</div>
</div>
<div class="cell border-box-sizing code_cell rendered">
<div class="input">
<div class="prompt input_prompt">In&nbsp;[20]:</div>
<div class="inner_cell">
    <div class="input_area">
<div class=" highlight hl-ipython2"><pre><span></span><span class="n">big_endian_short_int</span> <span class="o">=</span> <span class="n">struct</span><span class="o">.</span><span class="n">Struct</span><span class="p">(</span><span class="s1">&#39;&gt;h&#39;</span><span class="p">)</span>
<span class="n">v</span> <span class="o">=</span> <span class="n">big_endian_short_int</span><span class="o">.</span><span class="n">pack</span><span class="p">(</span><span class="mi">1</span><span class="p">)</span>
<span class="n">binascii</span><span class="o">.</span><span class="n">hexlify</span><span class="p">(</span><span class="n">v</span><span class="p">)</span>
</pre></div>

</div>
</div>
</div>

<div class="output_wrapper">
<div class="output">


<div class="output_area">

<div class="prompt output_prompt">Out[20]:</div>




<div class="output_text output_subarea output_execute_result">
<pre>&#39;0001&#39;</pre>
</div>

</div>

</div>
</div>

</div>
<div class="cell border-box-sizing code_cell rendered">
<div class="input">
<div class="prompt input_prompt">In&nbsp;[21]:</div>
<div class="inner_cell">
    <div class="input_area">
<div class=" highlight hl-ipython2"><pre><span></span><span class="n">little_endian_short_int</span> <span class="o">=</span> <span class="n">struct</span><span class="o">.</span><span class="n">Struct</span><span class="p">(</span><span class="s1">&#39;&lt;h&#39;</span><span class="p">)</span>
<span class="n">v</span> <span class="o">=</span> <span class="n">little_endian_short_int</span><span class="o">.</span><span class="n">pack</span><span class="p">(</span><span class="mi">1</span><span class="p">)</span>
<span class="n">binascii</span><span class="o">.</span><span class="n">hexlify</span><span class="p">(</span><span class="n">v</span><span class="p">)</span>
</pre></div>

</div>
</div>
</div>

<div class="output_wrapper">
<div class="output">


<div class="output_area">

<div class="prompt output_prompt">Out[21]:</div>




<div class="output_text output_subarea output_execute_result">
<pre>&#39;0100&#39;</pre>
</div>

</div>

</div>
</div>

</div>
<div class="cell border-box-sizing code_cell rendered">
<div class="input">
<div class="prompt input_prompt">In&nbsp;[22]:</div>
<div class="inner_cell">
    <div class="input_area">
<div class=" highlight hl-ipython2"><pre><span></span><span class="n">big_endian_short_int</span> <span class="o">=</span> <span class="n">struct</span><span class="o">.</span><span class="n">Struct</span><span class="p">(</span><span class="s1">&#39;&gt;h&#39;</span><span class="p">)</span>
<span class="n">v</span> <span class="o">=</span> <span class="n">big_endian_short_int</span><span class="o">.</span><span class="n">pack</span><span class="p">(</span><span class="o">-</span><span class="mi">2</span><span class="p">)</span>
<span class="n">binascii</span><span class="o">.</span><span class="n">hexlify</span><span class="p">(</span><span class="n">v</span><span class="p">)</span>
</pre></div>

</div>
</div>
</div>

<div class="output_wrapper">
<div class="output">


<div class="output_area">

<div class="prompt output_prompt">Out[22]:</div>




<div class="output_text output_subarea output_execute_result">
<pre>&#39;fffe&#39;</pre>
</div>

</div>

</div>
</div>

</div>
<div class="cell border-box-sizing code_cell rendered">
<div class="input">
<div class="prompt input_prompt">In&nbsp;[23]:</div>
<div class="inner_cell">
    <div class="input_area">
<div class=" highlight hl-ipython2"><pre><span></span><span class="n">little_endian_short_int</span> <span class="o">=</span> <span class="n">struct</span><span class="o">.</span><span class="n">Struct</span><span class="p">(</span><span class="s1">&#39;&lt;h&#39;</span><span class="p">)</span>
<span class="n">v</span> <span class="o">=</span> <span class="n">little_endian_short_int</span><span class="o">.</span><span class="n">pack</span><span class="p">(</span><span class="o">-</span><span class="mi">2</span><span class="p">)</span>
<span class="n">binascii</span><span class="o">.</span><span class="n">hexlify</span><span class="p">(</span><span class="n">v</span><span class="p">)</span>
</pre></div>

</div>
</div>
</div>

<div class="output_wrapper">
<div class="output">


<div class="output_area">

<div class="prompt output_prompt">Out[23]:</div>




<div class="output_text output_subarea output_execute_result">
<pre>&#39;feff&#39;</pre>
</div>

</div>

</div>
</div>

</div>
<div class="cell border-box-sizing code_cell rendered">
<div class="input">
<div class="prompt input_prompt">In&nbsp;[26]:</div>
<div class="inner_cell">
    <div class="input_area">
<div class=" highlight hl-ipython2"><pre><span></span><span class="nb">type</span><span class="p">(</span><span class="n">original_value</span><span class="p">)</span>
</pre></div>

</div>
</div>
</div>

<div class="output_wrapper">
<div class="output">


<div class="output_area">

<div class="prompt output_prompt">Out[26]:</div>




<div class="output_text output_subarea output_execute_result">
<pre>float</pre>
</div>

</div>

</div>
</div>

</div>
<div class="cell border-box-sizing text_cell rendered"><div class="prompt input_prompt">
</div>
<div class="inner_cell">
<div class="text_cell_render border-box-sizing rendered_html">
<h2 id="Serializing-multiple-values">Serializing multiple values<a class="anchor-link" href="#Serializing-multiple-values">&#182;</a></h2>
</div>
</div>
</div>
<div class="cell border-box-sizing code_cell rendered">
<div class="input">
<div class="prompt input_prompt">In&nbsp;[27]:</div>
<div class="inner_cell">
    <div class="input_area">
<div class=" highlight hl-ipython2"><pre><span></span><span class="kn">import</span> <span class="nn">struct</span>
<span class="kn">import</span> <span class="nn">binascii</span>

<span class="n">values</span> <span class="o">=</span> <span class="p">(</span><span class="mi">1</span><span class="p">,</span> <span class="s1">&#39;hello&#39;</span><span class="p">,</span> <span class="mf">2.7</span><span class="p">)</span>
<span class="n">s</span> <span class="o">=</span> <span class="n">struct</span><span class="o">.</span><span class="n">Struct</span><span class="p">(</span><span class="s1">&#39;I 5s d&#39;</span><span class="p">)</span>
<span class="n">serialized</span> <span class="o">=</span> <span class="n">s</span><span class="o">.</span><span class="n">pack</span><span class="p">(</span><span class="o">*</span><span class="n">values</span><span class="p">)</span>

<span class="k">print</span> <span class="s1">&#39;Original values:&#39;</span><span class="p">,</span> <span class="n">values</span>
<span class="k">print</span> <span class="s1">&#39;Format string  :&#39;</span><span class="p">,</span> <span class="n">s</span><span class="o">.</span><span class="n">format</span>
<span class="k">print</span> <span class="s1">&#39;Uses           :&#39;</span><span class="p">,</span> <span class="n">s</span><span class="o">.</span><span class="n">size</span><span class="p">,</span> <span class="s1">&#39;bytes&#39;</span>
<span class="k">print</span> <span class="s1">&#39;Packed Value   :&#39;</span><span class="p">,</span> <span class="n">binascii</span><span class="o">.</span><span class="n">hexlify</span><span class="p">(</span><span class="n">serialized</span><span class="p">)</span>
</pre></div>

</div>
</div>
</div>

<div class="output_wrapper">
<div class="output">


<div class="output_area">

<div class="prompt"></div>


<div class="output_subarea output_stream output_stdout output_text">
<pre>Original values: (1, &#39;hello&#39;, 2.7)
Format string  : I 5s d
Uses           : 24 bytes
Packed Value   : 0100000068656c6c6f000000000000009a99999999990540
</pre>
</div>
</div>

</div>
</div>

</div>
<div class="cell border-box-sizing code_cell rendered">
<div class="input">
<div class="prompt input_prompt">In&nbsp;[28]:</div>
<div class="inner_cell">
    <div class="input_area">
<div class=" highlight hl-ipython2"><pre><span></span><span class="n">s</span><span class="o">.</span><span class="n">unpack</span><span class="p">(</span><span class="n">serialized</span><span class="p">)</span>
</pre></div>

</div>
</div>
</div>

<div class="output_wrapper">
<div class="output">


<div class="output_area">

<div class="prompt output_prompt">Out[28]:</div>




<div class="output_text output_subarea output_execute_result">
<pre>(1, &#39;hello&#39;, 2.7)</pre>
</div>

</div>

</div>
</div>

</div>
<div class="cell border-box-sizing text_cell rendered"><div class="prompt input_prompt">
</div>
<div class="inner_cell">
<div class="text_cell_render border-box-sizing rendered_html">
<h2 id="HappyBase-Prerequisites">HappyBase Prerequisites<a class="anchor-link" href="#HappyBase-Prerequisites">&#182;</a></h2><ol>
<li>Install the <a href="http://happybase.readthedocs.org/en/latest/"><code>happybase</code></a> package:<div class="highlight"><pre><span></span>conda install -c https://conda.anaconda.org/auto <span class="se">\</span>
     happybase
</pre></div>
</li>
<li>Start HBase:<div class="highlight"><pre><span></span><span class="nb">cd</span> hbase-1.1.2/bin
./start-hbase.sh
</pre></div>
</li>
<li>Start the HBase Thrift server:
<pre><code>./hbase thrift start</code></pre>
</li>
</ol>

</div>
</div>
</div>
<div class="cell border-box-sizing text_cell rendered"><div class="prompt input_prompt">
</div>
<div class="inner_cell">
<div class="text_cell_render border-box-sizing rendered_html">
<ul>
<li>Once the thrift server is up and running you can obtain a connection from Python:</li>
</ul>

</div>
</div>
</div>
<div class="cell border-box-sizing code_cell rendered">
<div class="input">
<div class="prompt input_prompt">In&nbsp;[29]:</div>
<div class="inner_cell">
    <div class="input_area">
<div class=" highlight hl-ipython2"><pre><span></span><span class="kn">import</span> <span class="nn">happybase</span>

<span class="n">host</span> <span class="o">=</span> <span class="s1">&#39;127.0.0.1&#39;</span>
<span class="n">connection</span> <span class="o">=</span> <span class="n">happybase</span><span class="o">.</span><span class="n">Connection</span><span class="p">(</span><span class="n">host</span><span class="p">)</span>
</pre></div>

</div>
</div>
</div>

</div>
<div class="cell border-box-sizing text_cell rendered"><div class="prompt input_prompt">
</div>
<div class="inner_cell">
<div class="text_cell_render border-box-sizing rendered_html">
<h2 id="Creating-a-table">Creating a table<a class="anchor-link" href="#Creating-a-table">&#182;</a></h2>
</div>
</div>
</div>
<div class="cell border-box-sizing code_cell rendered">
<div class="input">
<div class="prompt input_prompt">In&nbsp;[30]:</div>
<div class="inner_cell">
    <div class="input_area">
<div class=" highlight hl-ipython2"><pre><span></span><span class="n">table_name</span> <span class="o">=</span> <span class="s1">&#39;my_table&#39;</span>
<span class="n">connection</span><span class="o">.</span><span class="n">create_table</span><span class="p">(</span><span class="n">table_name</span><span class="p">,</span>
                        <span class="p">{</span> <span class="s1">&#39;color&#39;</span><span class="p">:</span> <span class="nb">dict</span><span class="p">(</span><span class="n">max_versions</span><span class="o">=</span><span class="mi">10</span><span class="p">),</span>
                          <span class="s1">&#39;shape&#39;</span><span class="p">:</span> <span class="nb">dict</span><span class="p">(</span><span class="n">max_versions</span><span class="o">=</span><span class="mi">1</span><span class="p">)</span>
                         <span class="p">})</span>
</pre></div>

</div>
</div>
</div>

</div>
<div class="cell border-box-sizing text_cell rendered"><div class="prompt input_prompt">
</div>
<div class="inner_cell">
<div class="text_cell_render border-box-sizing rendered_html">
<h2 id="Put">Put<a class="anchor-link" href="#Put">&#182;</a></h2>
</div>
</div>
</div>
<div class="cell border-box-sizing code_cell rendered">
<div class="input">
<div class="prompt input_prompt">In&nbsp;[31]:</div>
<div class="inner_cell">
    <div class="input_area">
<div class=" highlight hl-ipython2"><pre><span></span><span class="n">integer16s</span> <span class="o">=</span> <span class="n">struct</span><span class="o">.</span><span class="n">Struct</span><span class="p">(</span><span class="s1">&#39;h&#39;</span><span class="p">)</span>
<span class="n">four_as_bytes</span> <span class="o">=</span> <span class="n">integer16s</span><span class="o">.</span><span class="n">pack</span><span class="p">(</span><span class="mi">4</span><span class="p">)</span> 
<span class="n">four_as_bytes</span>
</pre></div>

</div>
</div>
</div>

<div class="output_wrapper">
<div class="output">


<div class="output_area">

<div class="prompt output_prompt">Out[31]:</div>




<div class="output_text output_subarea output_execute_result">
<pre>&#39;\x04\x00&#39;</pre>
</div>

</div>

</div>
</div>

</div>
<div class="cell border-box-sizing code_cell rendered">
<div class="input">
<div class="prompt input_prompt">In&nbsp;[32]:</div>
<div class="inner_cell">
    <div class="input_area">
<div class=" highlight hl-ipython2"><pre><span></span><span class="n">table</span> <span class="o">=</span> <span class="n">connection</span><span class="o">.</span><span class="n">table</span><span class="p">(</span><span class="s1">&#39;my_table&#39;</span><span class="p">)</span>
<span class="n">table</span><span class="o">.</span><span class="n">put</span><span class="p">(</span><span class="s1">&#39;first&#39;</span><span class="p">,</span> <span class="p">{</span><span class="s1">&#39;shape:square&#39;</span><span class="p">:</span> <span class="n">four_as_bytes</span><span class="p">}</span> <span class="p">)</span>
</pre></div>

</div>
</div>
</div>

</div>
<div class="cell border-box-sizing text_cell rendered"><div class="prompt input_prompt">
</div>
<div class="inner_cell">
<div class="text_cell_render border-box-sizing rendered_html">
<h2 id="Batch-operations">Batch operations<a class="anchor-link" href="#Batch-operations">&#182;</a></h2>
</div>
</div>
</div>
<div class="cell border-box-sizing code_cell rendered">
<div class="input">
<div class="prompt input_prompt">In&nbsp;[33]:</div>
<div class="inner_cell">
    <div class="input_area">
<div class=" highlight hl-ipython2"><pre><span></span><span class="n">b</span> <span class="o">=</span> <span class="n">table</span><span class="o">.</span><span class="n">batch</span><span class="p">()</span>
<span class="n">b</span><span class="o">.</span><span class="n">put</span><span class="p">(</span><span class="s1">&#39;first&#39;</span><span class="p">,</span> <span class="p">{</span>
        <span class="s1">&#39;color:red&#39;</span><span class="p">:</span> <span class="s1">&#39;</span><span class="se">\xff\x00\x00</span><span class="s1">&#39;</span><span class="p">,</span> 
        <span class="s1">&#39;color:blue&#39;</span><span class="p">:</span> <span class="s1">&#39;</span><span class="se">\x00\x00\xff</span><span class="s1">&#39;</span><span class="p">,</span> 
        <span class="s1">&#39;color:yellow&#39;</span><span class="p">:</span> <span class="s1">&#39;</span><span class="se">\xff\xff\x00</span><span class="s1">&#39;</span>
        <span class="p">})</span>
<span class="n">b</span><span class="o">.</span><span class="n">put</span><span class="p">(</span><span class="s1">&#39;second&#39;</span><span class="p">,</span> <span class="p">{</span><span class="s1">&#39;shape:triangle&#39;</span><span class="p">:</span> <span class="n">integer16s</span><span class="o">.</span><span class="n">pack</span><span class="p">(</span><span class="mi">3</span><span class="p">)})</span>
<span class="n">b</span><span class="o">.</span><span class="n">send</span><span class="p">()</span>
</pre></div>

</div>
</div>
</div>

</div>
<div class="cell border-box-sizing text_cell rendered"><div class="prompt input_prompt">
</div>
<div class="inner_cell">
<div class="text_cell_render border-box-sizing rendered_html">
<h2 id="Get">Get<a class="anchor-link" href="#Get">&#182;</a></h2>
</div>
</div>
</div>
<div class="cell border-box-sizing text_cell rendered"><div class="prompt input_prompt">
</div>
<div class="inner_cell">
<div class="text_cell_render border-box-sizing rendered_html">
<p>To retrieve a particular cell:</p>

</div>
</div>
</div>
<div class="cell border-box-sizing code_cell rendered">
<div class="input">
<div class="prompt input_prompt">In&nbsp;[34]:</div>
<div class="inner_cell">
    <div class="input_area">
<div class=" highlight hl-ipython2"><pre><span></span><span class="n">result</span> <span class="o">=</span> <span class="n">table</span><span class="o">.</span><span class="n">row</span><span class="p">(</span><span class="s1">&#39;first&#39;</span><span class="p">,</span> <span class="n">columns</span><span class="o">=</span><span class="p">[</span><span class="s1">&#39;shape:square&#39;</span><span class="p">])</span>
<span class="n">result</span>
</pre></div>

</div>
</div>
</div>

<div class="output_wrapper">
<div class="output">


<div class="output_area">

<div class="prompt output_prompt">Out[34]:</div>




<div class="output_text output_subarea output_execute_result">
<pre>{&#39;shape:square&#39;: &#39;\x04\x00&#39;}</pre>
</div>

</div>

</div>
</div>

</div>
<div class="cell border-box-sizing code_cell rendered">
<div class="input">
<div class="prompt input_prompt">In&nbsp;[35]:</div>
<div class="inner_cell">
    <div class="input_area">
<div class=" highlight hl-ipython2"><pre><span></span><span class="n">binary_data</span> <span class="o">=</span> <span class="n">result</span><span class="p">[</span><span class="s1">&#39;shape:square&#39;</span><span class="p">]</span>
</pre></div>

</div>
</div>
</div>

</div>
<div class="cell border-box-sizing code_cell rendered">
<div class="input">
<div class="prompt input_prompt">In&nbsp;[36]:</div>
<div class="inner_cell">
    <div class="input_area">
<div class=" highlight hl-ipython2"><pre><span></span><span class="n">number_of_sides</span> <span class="o">=</span> <span class="n">integer16s</span><span class="o">.</span><span class="n">unpack</span><span class="p">(</span><span class="n">binary_data</span><span class="p">)[</span><span class="mi">0</span><span class="p">]</span>
<span class="n">number_of_sides</span>
</pre></div>

</div>
</div>
</div>

<div class="output_wrapper">
<div class="output">


<div class="output_area">

<div class="prompt output_prompt">Out[36]:</div>




<div class="output_text output_subarea output_execute_result">
<pre>4</pre>
</div>

</div>

</div>
</div>

</div>
<div class="cell border-box-sizing code_cell rendered">
<div class="input">
<div class="prompt input_prompt">In&nbsp;[37]:</div>
<div class="inner_cell">
    <div class="input_area">
<div class=" highlight hl-ipython2"><pre><span></span><span class="nb">type</span><span class="p">(</span><span class="n">number_of_sides</span><span class="p">)</span>
</pre></div>

</div>
</div>
</div>

<div class="output_wrapper">
<div class="output">


<div class="output_area">

<div class="prompt output_prompt">Out[37]:</div>




<div class="output_text output_subarea output_execute_result">
<pre>int</pre>
</div>

</div>

</div>
</div>

</div>
<div class="cell border-box-sizing text_cell rendered"><div class="prompt input_prompt">
</div>
<div class="inner_cell">
<div class="text_cell_render border-box-sizing rendered_html">
<h2 id="Retrieving-multiple-columns">Retrieving multiple columns<a class="anchor-link" href="#Retrieving-multiple-columns">&#182;</a></h2>
</div>
</div>
</div>
<div class="cell border-box-sizing code_cell rendered">
<div class="input">
<div class="prompt input_prompt">In&nbsp;[38]:</div>
<div class="inner_cell">
    <div class="input_area">
<div class=" highlight hl-ipython2"><pre><span></span><span class="n">result</span> <span class="o">=</span> <span class="n">table</span><span class="o">.</span><span class="n">row</span><span class="p">(</span><span class="s1">&#39;first&#39;</span><span class="p">,</span> <span class="n">columns</span><span class="o">=</span><span class="p">[</span><span class="s1">&#39;shape:square&#39;</span><span class="p">,</span> <span class="s1">&#39;color:blue&#39;</span><span class="p">])</span>
<span class="n">result</span>
</pre></div>

</div>
</div>
</div>

<div class="output_wrapper">
<div class="output">


<div class="output_area">

<div class="prompt output_prompt">Out[38]:</div>




<div class="output_text output_subarea output_execute_result">
<pre>{&#39;color:blue&#39;: &#39;\x00\x00\xff&#39;, &#39;shape:square&#39;: &#39;\x04\x00&#39;}</pre>
</div>

</div>

</div>
</div>

</div>
<div class="cell border-box-sizing text_cell rendered"><div class="prompt input_prompt">
</div>
<div class="inner_cell">
<div class="text_cell_render border-box-sizing rendered_html">
<ul>
<li>We can also retrieve an entire column-family:</li>
</ul>

</div>
</div>
</div>
<div class="cell border-box-sizing code_cell rendered">
<div class="input">
<div class="prompt input_prompt">In&nbsp;[39]:</div>
<div class="inner_cell">
    <div class="input_area">
<div class=" highlight hl-ipython2"><pre><span></span><span class="n">result</span> <span class="o">=</span> <span class="n">table</span><span class="o">.</span><span class="n">row</span><span class="p">(</span><span class="s1">&#39;first&#39;</span><span class="p">,</span> <span class="n">columns</span><span class="o">=</span><span class="p">[</span><span class="s1">&#39;color&#39;</span><span class="p">])</span>
<span class="n">result</span>
</pre></div>

</div>
</div>
</div>

<div class="output_wrapper">
<div class="output">


<div class="output_area">

<div class="prompt output_prompt">Out[39]:</div>




<div class="output_text output_subarea output_execute_result">
<pre>{&#39;color:blue&#39;: &#39;\x00\x00\xff&#39;,
 &#39;color:red&#39;: &#39;\xff\x00\x00&#39;,
 &#39;color:yellow&#39;: &#39;\xff\xff\x00&#39;}</pre>
</div>

</div>

</div>
</div>

</div>
<div class="cell border-box-sizing text_cell rendered"><div class="prompt input_prompt">
</div>
<div class="inner_cell">
<div class="text_cell_render border-box-sizing rendered_html">
<ul>
<li>Or an entire row:</li>
</ul>

</div>
</div>
</div>
<div class="cell border-box-sizing code_cell rendered">
<div class="input">
<div class="prompt input_prompt">In&nbsp;[40]:</div>
<div class="inner_cell">
    <div class="input_area">
<div class=" highlight hl-ipython2"><pre><span></span><span class="n">table</span><span class="o">.</span><span class="n">row</span><span class="p">(</span><span class="s1">&#39;first&#39;</span><span class="p">)</span>
</pre></div>

</div>
</div>
</div>

<div class="output_wrapper">
<div class="output">


<div class="output_area">

<div class="prompt output_prompt">Out[40]:</div>




<div class="output_text output_subarea output_execute_result">
<pre>{&#39;color:blue&#39;: &#39;\x00\x00\xff&#39;,
 &#39;color:red&#39;: &#39;\xff\x00\x00&#39;,
 &#39;color:yellow&#39;: &#39;\xff\xff\x00&#39;,
 &#39;shape:square&#39;: &#39;\x04\x00&#39;}</pre>
</div>

</div>

</div>
</div>

</div>
<div class="cell border-box-sizing text_cell rendered"><div class="prompt input_prompt">
</div>
<div class="inner_cell">
<div class="text_cell_render border-box-sizing rendered_html">
<h2 id="Scanning-a-table">Scanning a table<a class="anchor-link" href="#Scanning-a-table">&#182;</a></h2>
</div>
</div>
</div>
<div class="cell border-box-sizing code_cell rendered">
<div class="input">
<div class="prompt input_prompt">In&nbsp;[41]:</div>
<div class="inner_cell">
    <div class="input_area">
<div class=" highlight hl-ipython2"><pre><span></span><span class="k">for</span> <span class="n">row_key</span><span class="p">,</span> <span class="n">data</span> <span class="ow">in</span> <span class="n">table</span><span class="o">.</span><span class="n">scan</span><span class="p">():</span>
    <span class="k">print</span> <span class="n">row_key</span><span class="p">,</span> <span class="n">data</span>
</pre></div>

</div>
</div>
</div>

<div class="output_wrapper">
<div class="output">


<div class="output_area">

<div class="prompt"></div>


<div class="output_subarea output_stream output_stdout output_text">
<pre>first {&#39;color:blue&#39;: &#39;\x00\x00\xff&#39;, &#39;color:red&#39;: &#39;\xff\x00\x00&#39;, &#39;shape:square&#39;: &#39;\x04\x00&#39;, &#39;color:yellow&#39;: &#39;\xff\xff\x00&#39;}
second {&#39;shape:triangle&#39;: &#39;\x03\x00&#39;}
</pre>
</div>
</div>

</div>
</div>

</div>
<div class="cell border-box-sizing code_cell rendered">
<div class="input">
<div class="prompt input_prompt">In&nbsp;[42]:</div>
<div class="inner_cell">
    <div class="input_area">
<div class=" highlight hl-ipython2"><pre><span></span><span class="n">table</span><span class="o">.</span><span class="n">row</span><span class="p">(</span><span class="s1">&#39;first&#39;</span><span class="p">,</span> <span class="n">columns</span><span class="o">=</span><span class="p">[</span><span class="s1">&#39;shape:square&#39;</span><span class="p">,</span> <span class="s1">&#39;shape:triangle&#39;</span><span class="p">])</span>
</pre></div>

</div>
</div>
</div>

<div class="output_wrapper">
<div class="output">


<div class="output_area">

<div class="prompt output_prompt">Out[42]:</div>




<div class="output_text output_subarea output_execute_result">
<pre>{&#39;shape:square&#39;: &#39;\x04\x00&#39;}</pre>
</div>

</div>

</div>
</div>

</div>
<div class="cell border-box-sizing text_cell rendered"><div class="prompt input_prompt">
</div>
<div class="inner_cell">
<div class="text_cell_render border-box-sizing rendered_html">
<h2 id="Using-URLs-as-row-keys">Using URLs as row keys<a class="anchor-link" href="#Using-URLs-as-row-keys">&#182;</a></h2><p>It is very common to use a URL as the row key.</p>

</div>
</div>
</div>
<div class="cell border-box-sizing code_cell rendered">
<div class="input">
<div class="prompt input_prompt">In&nbsp;[43]:</div>
<div class="inner_cell">
    <div class="input_area">
<div class=" highlight hl-ipython2"><pre><span></span><span class="n">urls</span> <span class="o">=</span> <span class="p">[</span>
    <span class="s2">&quot;http://www.google.com/&quot;</span><span class="p">,</span>
<span class="s2">&quot;http://www.baidu.com/&quot;</span><span class="p">,</span>
<span class="s2">&quot;http://www.facebook.com/&quot;</span><span class="p">,</span>
<span class="s2">&quot;http://www.youtube.com/&quot;</span><span class="p">,</span>
<span class="s2">&quot;http://www.yahoo.com/&quot;</span><span class="p">,</span>
<span class="s2">&quot;http://www.wikipedia.org/&quot;</span><span class="p">,</span>
<span class="s2">&quot;http://www.taobao.com/&quot;</span><span class="p">,</span>
<span class="s2">&quot;http://www.qq.com/&quot;</span><span class="p">,</span>
<span class="s2">&quot;http://www.amazon.com/&quot;</span><span class="p">,</span>
<span class="s2">&quot;http://www.live.com/&quot;</span><span class="p">,</span>
<span class="s2">&quot;http://www.twitter.com/&quot;</span><span class="p">,</span>
<span class="s2">&quot;http://www.weibo.com/&quot;</span><span class="p">,</span>
<span class="s2">&quot;http://www.google.co.in/&quot;</span><span class="p">,</span>
<span class="s2">&quot;http://www.tmall.com/&quot;</span><span class="p">,</span>
<span class="s2">&quot;http://www.linkedin.com/&quot;</span><span class="p">,</span>
<span class="s2">&quot;http://www.blogspot.com/&quot;</span><span class="p">,</span>
<span class="s2">&quot;http://www.google.co.jp/&quot;</span><span class="p">,</span>
<span class="s2">&quot;http://www.google.de/&quot;</span>
    <span class="p">]</span>
</pre></div>

</div>
</div>
</div>

</div>
<div class="cell border-box-sizing text_cell rendered"><div class="prompt input_prompt">
</div>
<div class="inner_cell">
<div class="text_cell_render border-box-sizing rendered_html">
<h3 id="Reversing-URLs">Reversing URLs<a class="anchor-link" href="#Reversing-URLs">&#182;</a></h3><ul>
<li><p>It is very useful to reverse the order of the domain names when storing them in an ordered-sequence.</p>
</li>
<li><p>This will allow us to retreive, e.g. all of the ".com" URLs using a scan on a <em>partial key</em>.</p>
</li>
<li><p>Let's parse the URLs and then reverse the domain names, and then store the result in a list with the reversed domain and the original URL.</p>
</li>
</ul>

</div>
</div>
</div>
<div class="cell border-box-sizing code_cell rendered">
<div class="input">
<div class="prompt input_prompt">In&nbsp;[44]:</div>
<div class="inner_cell">
    <div class="input_area">
<div class=" highlight hl-ipython2"><pre><span></span><span class="kn">import</span> <span class="nn">urlparse</span> <span class="kn">as</span> <span class="nn">up</span>

<span class="k">def</span> <span class="nf">reverse_domain</span><span class="p">(</span><span class="n">dom</span><span class="p">):</span>
    <span class="n">result</span> <span class="o">=</span> <span class="n">dom</span><span class="o">.</span><span class="n">split</span><span class="p">(</span><span class="s1">&#39;.&#39;</span><span class="p">)</span>
    <span class="n">result</span><span class="o">.</span><span class="n">reverse</span><span class="p">()</span>
    <span class="k">return</span> <span class="nb">reduce</span><span class="p">(</span><span class="k">lambda</span> <span class="n">x</span><span class="p">,</span> <span class="n">y</span><span class="p">:</span> <span class="n">x</span> <span class="o">+</span> <span class="s1">&#39;.&#39;</span> <span class="o">+</span> <span class="n">y</span><span class="p">,</span> <span class="n">result</span><span class="p">)</span>

<span class="n">reversed_domains</span> <span class="o">=</span> \
    <span class="p">[(</span><span class="n">reverse_domain</span><span class="p">(</span><span class="n">up</span><span class="o">.</span><span class="n">urlparse</span><span class="p">(</span><span class="n">i</span><span class="p">)</span><span class="o">.</span><span class="n">netloc</span><span class="p">),</span> <span class="n">i</span><span class="p">)</span> <span class="k">for</span> <span class="n">i</span> <span class="ow">in</span> <span class="n">urls</span><span class="p">]</span>
<span class="n">reversed_domains</span>
</pre></div>

</div>
</div>
</div>

<div class="output_wrapper">
<div class="output">


<div class="output_area">

<div class="prompt output_prompt">Out[44]:</div>




<div class="output_text output_subarea output_execute_result">
<pre>[(&#39;com.google.www&#39;, &#39;http://www.google.com/&#39;),
 (&#39;com.baidu.www&#39;, &#39;http://www.baidu.com/&#39;),
 (&#39;com.facebook.www&#39;, &#39;http://www.facebook.com/&#39;),
 (&#39;com.youtube.www&#39;, &#39;http://www.youtube.com/&#39;),
 (&#39;com.yahoo.www&#39;, &#39;http://www.yahoo.com/&#39;),
 (&#39;org.wikipedia.www&#39;, &#39;http://www.wikipedia.org/&#39;),
 (&#39;com.taobao.www&#39;, &#39;http://www.taobao.com/&#39;),
 (&#39;com.qq.www&#39;, &#39;http://www.qq.com/&#39;),
 (&#39;com.amazon.www&#39;, &#39;http://www.amazon.com/&#39;),
 (&#39;com.live.www&#39;, &#39;http://www.live.com/&#39;),
 (&#39;com.twitter.www&#39;, &#39;http://www.twitter.com/&#39;),
 (&#39;com.weibo.www&#39;, &#39;http://www.weibo.com/&#39;),
 (&#39;in.co.google.www&#39;, &#39;http://www.google.co.in/&#39;),
 (&#39;com.tmall.www&#39;, &#39;http://www.tmall.com/&#39;),
 (&#39;com.linkedin.www&#39;, &#39;http://www.linkedin.com/&#39;),
 (&#39;com.blogspot.www&#39;, &#39;http://www.blogspot.com/&#39;),
 (&#39;jp.co.google.www&#39;, &#39;http://www.google.co.jp/&#39;),
 (&#39;de.google.www&#39;, &#39;http://www.google.de/&#39;)]</pre>
</div>

</div>

</div>
</div>

</div>
<div class="cell border-box-sizing text_cell rendered"><div class="prompt input_prompt">
</div>
<div class="inner_cell">
<div class="text_cell_render border-box-sizing rendered_html">
<h3 id="Storing-the-URLs-in-the-database">Storing the URLs in the database<a class="anchor-link" href="#Storing-the-URLs-in-the-database">&#182;</a></h3><ul>
<li>We will now create a simple table called <code>pages</code> with a single column family <code>d</code>:</li>
</ul>

</div>
</div>
</div>
<div class="cell border-box-sizing code_cell rendered">
<div class="input">
<div class="prompt input_prompt">In&nbsp;[45]:</div>
<div class="inner_cell">
    <div class="input_area">
<div class=" highlight hl-ipython2"><pre><span></span><span class="n">connection</span><span class="o">.</span><span class="n">create_table</span><span class="p">(</span><span class="s1">&#39;pages&#39;</span><span class="p">,</span> <span class="p">{</span> <span class="s1">&#39;d&#39;</span><span class="p">:</span> <span class="nb">dict</span><span class="p">()</span> <span class="p">})</span>
</pre></div>

</div>
</div>
</div>

</div>
<div class="cell border-box-sizing text_cell rendered"><div class="prompt input_prompt">
</div>
<div class="inner_cell">
<div class="text_cell_render border-box-sizing rendered_html">
<ul>
<li><p>We will store the details of each URL on each row.</p>
</li>
<li><p>We will use a single column <code>times_crawled</code> to represent the number of times we have crawled the URL.</p>
</li>
</ul>

</div>
</div>
</div>
<div class="cell border-box-sizing code_cell rendered">
<div class="input">
<div class="prompt input_prompt">In&nbsp;[46]:</div>
<div class="inner_cell">
    <div class="input_area">
<div class=" highlight hl-ipython2"><pre><span></span><span class="n">integer64s</span> <span class="o">=</span> <span class="n">struct</span><span class="o">.</span><span class="n">Struct</span><span class="p">(</span><span class="s1">&#39;I&#39;</span><span class="p">)</span>
<span class="n">pages_table</span> <span class="o">=</span> <span class="n">connection</span><span class="o">.</span><span class="n">table</span><span class="p">(</span><span class="s1">&#39;pages&#39;</span><span class="p">)</span>
<span class="n">b</span> <span class="o">=</span> <span class="n">pages_table</span><span class="o">.</span><span class="n">batch</span><span class="p">()</span>
<span class="k">for</span> <span class="p">(</span><span class="n">reversed_domain</span><span class="p">,</span> <span class="n">url</span><span class="p">)</span> <span class="ow">in</span> <span class="n">reversed_domains</span><span class="p">:</span>
    <span class="n">b</span><span class="o">.</span><span class="n">put</span><span class="p">(</span><span class="n">reversed_domain</span><span class="p">,</span> <span class="p">{</span><span class="s1">&#39;d:url&#39;</span><span class="p">:</span> <span class="nb">str</span><span class="p">(</span><span class="n">url</span><span class="p">),</span> <span class="s1">&#39;d:times_crawled&#39;</span><span class="p">:</span> <span class="n">integer64s</span><span class="o">.</span><span class="n">pack</span><span class="p">(</span><span class="mi">0</span><span class="p">)})</span>
<span class="n">b</span><span class="o">.</span><span class="n">send</span><span class="p">()</span>
</pre></div>

</div>
</div>
</div>

</div>
<div class="cell border-box-sizing code_cell rendered">
<div class="input">
<div class="prompt input_prompt">In&nbsp;[47]:</div>
<div class="inner_cell">
    <div class="input_area">
<div class=" highlight hl-ipython2"><pre><span></span><span class="k">def</span> <span class="nf">to_int</span><span class="p">(</span><span class="nb">bytes</span><span class="p">):</span>
    <span class="k">return</span> <span class="n">integer64s</span><span class="o">.</span><span class="n">unpack</span><span class="p">(</span><span class="nb">bytes</span><span class="p">)[</span><span class="mi">0</span><span class="p">]</span>

<span class="k">for</span> <span class="p">(</span><span class="n">url</span><span class="p">,</span> <span class="n">data</span><span class="p">)</span> <span class="ow">in</span> <span class="n">pages_table</span><span class="o">.</span><span class="n">scan</span><span class="p">():</span>
    <span class="k">print</span> <span class="n">data</span><span class="p">[</span><span class="s1">&#39;d:url&#39;</span><span class="p">],</span> <span class="s2">&quot;was crawled&quot;</span><span class="p">,</span> \
        <span class="n">to_int</span><span class="p">(</span><span class="n">data</span><span class="p">[</span><span class="s1">&#39;d:times_crawled&#39;</span><span class="p">]),</span> <span class="s2">&quot;times&quot;</span>
</pre></div>

</div>
</div>
</div>

<div class="output_wrapper">
<div class="output">


<div class="output_area">

<div class="prompt"></div>


<div class="output_subarea output_stream output_stdout output_text">
<pre>http://www.amazon.com/ was crawled 0 times
http://www.baidu.com/ was crawled 0 times
http://www.blogspot.com/ was crawled 0 times
http://www.facebook.com/ was crawled 0 times
http://www.google.com/ was crawled 0 times
http://www.linkedin.com/ was crawled 0 times
http://www.live.com/ was crawled 0 times
http://www.qq.com/ was crawled 0 times
http://www.taobao.com/ was crawled 0 times
http://www.tmall.com/ was crawled 0 times
http://www.twitter.com/ was crawled 0 times
http://www.weibo.com/ was crawled 0 times
http://www.yahoo.com/ was crawled 0 times
http://www.youtube.com/ was crawled 0 times
http://www.google.de/ was crawled 0 times
http://www.google.co.in/ was crawled 0 times
http://www.google.co.jp/ was crawled 0 times
http://www.wikipedia.org/ was crawled 0 times
</pre>
</div>
</div>

</div>
</div>

</div>
<div class="cell border-box-sizing text_cell rendered"><div class="prompt input_prompt">
</div>
<div class="inner_cell">
<div class="text_cell_render border-box-sizing rendered_html">
<h2 id="Partial-key-scans">Partial key scans<a class="anchor-link" href="#Partial-key-scans">&#182;</a></h2>
</div>
</div>
</div>
<div class="cell border-box-sizing text_cell rendered"><div class="prompt input_prompt">
</div>
<div class="inner_cell">
<div class="text_cell_render border-box-sizing rendered_html">
<ul>
<li><p>We can now retreive URLs for a top-level domain by specifying a <em>partial key</em>.</p>
</li>
<li><p>Here we specify a row <em>prefix</em> parameter of <code>com.</code></p>
</li>
<li><p>Because we have reversed the domain names this will allow us to retrieve particular top-level domains.</p>
</li>
</ul>

</div>
</div>
</div>
<div class="cell border-box-sizing code_cell rendered">
<div class="input">
<div class="prompt input_prompt">In&nbsp;[48]:</div>
<div class="inner_cell">
    <div class="input_area">
<div class=" highlight hl-ipython2"><pre><span></span><span class="k">for</span> <span class="n">url</span><span class="p">,</span> <span class="n">data</span> <span class="ow">in</span> <span class="n">pages_table</span><span class="o">.</span><span class="n">scan</span><span class="p">(</span><span class="n">row_prefix</span><span class="o">=</span><span class="s2">&quot;com.&quot;</span><span class="p">):</span>
    <span class="k">print</span> <span class="n">data</span><span class="p">[</span><span class="s1">&#39;d:url&#39;</span><span class="p">],</span> <span class="s2">&quot;was crawled&quot;</span><span class="p">,</span> \
        <span class="n">to_int</span><span class="p">(</span><span class="n">data</span><span class="p">[</span><span class="s1">&#39;d:times_crawled&#39;</span><span class="p">]),</span> <span class="s2">&quot;times&quot;</span>
</pre></div>

</div>
</div>
</div>

<div class="output_wrapper">
<div class="output">


<div class="output_area">

<div class="prompt"></div>


<div class="output_subarea output_stream output_stdout output_text">
<pre>http://www.amazon.com/ was crawled 0 times
http://www.baidu.com/ was crawled 0 times
http://www.blogspot.com/ was crawled 0 times
http://www.facebook.com/ was crawled 0 times
http://www.google.com/ was crawled 0 times
http://www.linkedin.com/ was crawled 0 times
http://www.live.com/ was crawled 0 times
http://www.qq.com/ was crawled 0 times
http://www.taobao.com/ was crawled 0 times
http://www.tmall.com/ was crawled 0 times
http://www.twitter.com/ was crawled 0 times
http://www.weibo.com/ was crawled 0 times
http://www.yahoo.com/ was crawled 0 times
http://www.youtube.com/ was crawled 0 times
</pre>
</div>
</div>

</div>
</div>

</div>
<div class="cell border-box-sizing code_cell rendered">
<div class="input">
<div class="prompt input_prompt">In&nbsp;[49]:</div>
<div class="inner_cell">
    <div class="input_area">
<div class=" highlight hl-ipython2"><pre><span></span><span class="k">for</span> <span class="n">url</span><span class="p">,</span> <span class="n">data</span> <span class="ow">in</span> <span class="n">pages_table</span><span class="o">.</span><span class="n">scan</span><span class="p">(</span><span class="n">row_prefix</span><span class="o">=</span><span class="s2">&quot;de.&quot;</span><span class="p">):</span>
    <span class="k">print</span> <span class="n">data</span><span class="p">[</span><span class="s1">&#39;d:url&#39;</span><span class="p">],</span> <span class="s2">&quot;was crawled&quot;</span><span class="p">,</span> \
        <span class="n">to_int</span><span class="p">(</span><span class="n">data</span><span class="p">[</span><span class="s1">&#39;d:times_crawled&#39;</span><span class="p">]),</span> <span class="s2">&quot;times&quot;</span>
</pre></div>

</div>
</div>
</div>

<div class="output_wrapper">
<div class="output">


<div class="output_area">

<div class="prompt"></div>


<div class="output_subarea output_stream output_stdout output_text">
<pre>http://www.google.de/ was crawled 0 times
</pre>
</div>
</div>

</div>
</div>

</div>
 


    </div>
  </div>

  </div>


  
    <footer class="footer hidden-print">
      <div class="container">
        <div class="col-md-4">
          <p>
            This website does not host notebooks, it only renders notebooks
            available on other websites.
          </p>
        </div>

        <div class="col-md-4">
          <p>
            Delivered by <a href="http://www.fastly.com/">Fastly</a>,
            Rendered by <a href="https://developer.rackspace.com/?nbviewer=awesome">Rackspace</a>
          </p>
          <p>
            nbviewer GitHub <a href="https://github.com/jupyter/nbviewer">repository</a>.
          </p>
        </div>

        <div class="col-md-4">
          
  
            
              <p>
                nbviewer version:
                <a href="https://github.com/jupyter/nbviewer/commit/38e181afeec4b7527a8a13ef7c3814e36045244c">
                  38e181a
                </a>
              </p>
            
          
  
  <p>
    nbconvert version: <a href="https://github.com/jupyter/nbconvert/releases/tag/5.3.1">
      5.3.1
    </a>
  </p>
  

          
  
  
  <p>
    Rendered
    <span class='date' data-date='Sun, 17 Jun 2018 13:59:03 UTC' title='Sun, 17 Jun 2018 13:59:03 UTC'>(Sun, 17 Jun 2018 13:59:03 UTC)</span>
  </p>
  

        </div>
      </div>
    </footer>
  

  <script data-cfasync="false" src="/cdn-cgi/scripts/f2bf09f8/cloudflare-static/email-decode.min.js"></script><script src="/static/components/bootstrap/js/bootstrap.min.js?v=5869c96cc8f19086aee625d670d741f9"></script>
  <script src="/static/components/headroom.js/dist/headroom.min.js?v=b0a311ea668f8e768ea375f4a7abb81c"></script>
  <script src="/static/components/headroom.js/dist/jQuery.headroom.min.js?v=f3a1bae118315d0c234afc74dc6aab71"></script>

  
  
  <script>
    $(function(){ $("#menubar").headroom({
      tolerance: 5,
      offset: 205,
      classes: {
        initial: "animated",
        pinned: "slideInDown",
        unpinned: "slideOutUp"
      }
    })});
  </script>


  
  <script>
    (function(i,s,o,g,r,a,m){i['GoogleAnalyticsObject']=r;i[r]=i[r]||function(){
      (i[r].q=i[r].q||[]).push(arguments)},i[r].l=1*new Date();a=s.createElement(o),
      m=s.getElementsByTagName(o)[0];a.async=1;a.src=g;m.parentNode.insertBefore(a,m)
    })(window,document,'script','https://www.google-analytics.com/analytics.js','ga');
    ga('create', 'UA-52617120-5', 'auto',
       {'storage': 'none'});
    ga('set', 'anonymizeIp', true);
    ga('send', 'pageview');
  </script>
  
  <script>
    require({
        paths: {
          moment: "/static/components/moment/min/moment.min.js?v=89f87298ad94aa1e6b92f42eb66da043"
        }
      }, ["moment"], function(moment){
      var date = $("footer .date"),
        m = moment(new Date(date.data('date'))),
        update = function(){ date.text(m.fromNow()); };
      setInterval(update, 61*1000);
      update();
      var w = $(window).scroll(function(event){
        $("body").toggleClass("scrolled", w.scrollTop() > 0);
      });
    });
  </script>

  <!--NEW RELIC Stop Perf Measurement-->
  
  <!--NEW RELIC End-->
</body>
</html>