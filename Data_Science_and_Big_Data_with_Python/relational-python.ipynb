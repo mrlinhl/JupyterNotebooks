








<!DOCTYPE html>
<html lang="en">

<head>
  <meta charset="utf-8">
  <title>Jupyter Notebook Viewer</title>
  <meta name="viewport" content="width=device-width, initial-scale=1.0">
  <meta name="description" content="">
  <meta name="author" content="">
  
  <meta name="robots" content="noindex,nofollow">
  

  <!--NEW RELIC Start Perf Measurement-->
  
  <!--NREND-->

  <!-- Le styles -->
  <script src="/cdn-cgi/apps/head/MuIIl4I_IVFkxldaVu1mdWee9as.js"></script><link href="/static/build/styles.css?v=af7ff69ae1abb8954a21dbb2241d4e24" rel="stylesheet">

  <!-- Le HTML5 shim, for IE6-8 support of HTML5 elements -->
  <!--[if lt IE 9]>
    <script src="http://html5shim.googlecode.com/svn/trunk/html5.js"></script>
  <![endif]-->

  <!-- Le fav and touch icons -->
  <link rel="shortcut icon" href="/static/ico/ipynb_icon_16x16.png">
  <link rel="apple-touch-icon-precomposed" sizes="144x144"
        href="/static/ico/apple-touch-icon-144-precomposed.png?v=5a3c9ede93e2a8b8ea9e3f8f3da1a905">
  <link rel="apple-touch-icon-precomposed" sizes="114x114"
        href="/static/ico/apple-touch-icon-114-precomposed.png?v=45d86fc8f24dc00638035e1dd7a6d898">
  <link rel="apple-touch-icon-precomposed" sizes="72x72"
        href="/static/ico/apple-touch-icon-72-precomposed.png?v=540b5eb0f3cfd25f1439d1c9bd30e15f">
  <link rel="apple-touch-icon-precomposed"
        href="/static/ico/apple-touch-icon-57-precomposed.png?v=225f0590e187e1458625654f10a28f56">
  
  

  

  
  <meta name="twitter:card" content="summary">
  <meta name="twitter:title" content="Notebook on nbviewer">
  <meta name="twitter:description" content="Check out this Jupyter notebook!">

  
  <meta name="twitter:domain" content="nbviewer.ipython.org">
  <meta name="twitter:image:src" content="http://ipython.org/ipython-doc/dev/_images/ipynb_icon_128x128.png">

  
    <link href="/static/build/notebook.css?v=70404d2166a8ab8949e8e1cdff07b91f" rel="stylesheet">
  

  

  
    <script src="https://cdnjs.cloudflare.com/ajax/libs/mathjax/2.7.1/MathJax.js?config=TeX-AMS_HTML" type="text/javascript">
    </script>
    <script type="text/javascript">
      init_mathjax = function() {
        if (window.MathJax) {
          // MathJax loaded
          MathJax.Hub.Config({
            TeX: {
              equationNumbers: {
                autoNumber: "AMS",
                useLabelIds: true
              }
            },
            tex2jax: {
              inlineMath: [ ['$','$'], ["\\(","\\)"] ],
              displayMath: [ ['$$','$$'], ["\\[","\\]"] ],
              processEscapes: true,
              processEnvironments: true
            },
            displayAlign: 'center',
            "HTML-CSS": {
              styles: {'.MathJax_Display': {"margin": 0}},
              linebreaks: { automatic: true }
            }
          });
          MathJax.Hub.Queue(["Typeset", MathJax.Hub]);
        }
      }
      init_mathjax();
    </script>
  

  
    <script>
      (function() {
        function addWidgetsRenderer() {
          var mimeElement = document.querySelector('script[type="application/vnd.jupyter.widget-view+json"]');
          var scriptElement = document.createElement('script');
          var widgetRendererSrc = 'https://unpkg.com/@jupyter-widgets/html-manager@*/dist/embed-amd.js';
          var widgetState;

          try {
            widgetState = mimeElement && JSON.parse(mimeElement.innerHTML);

            if (widgetState && (widgetState.version_major < 2 || !widgetState.version_major)) {
              widgetRendererSrc = 'https://unpkg.com/jupyter-js-widgets@*/dist/embed.js';
            }
          } catch(e) {}

          scriptElement.src = widgetRendererSrc;
          document.body.appendChild(scriptElement);
        }

        document.addEventListener('DOMContentLoaded', addWidgetsRenderer);
      }());
    </script>
  

</head>

<body class="nbviewer">

  <!-- These are loaded at the top of the body so they are available to
       notebook cells when they are loaded below. -->
  <script src="/static/components/jquery/dist/jquery.min.js?v=a09e13ee94d51c524b7e2a728c7d4039"></script>
  <script src="/static/components/requirejs/require.js?v=6da8be361b9ee26c5e721e76c6d4afce"></script>
  <script src="/static/components/moment/min/moment.min.js?v=89f87298ad94aa1e6b92f42eb66da043"></script>
<!-- Navbar
================================================== -->
  <nav id="menubar" class="navbar navbar-default navbar-fixed-top" data-spy="affix">
    <div class="container">
      <div class="navbar-header">
        <button type="button" class="navbar-toggle collapsed" data-toggle="collapse" data-target=".navbar-collapse">
          <span class="sr-only">Toggle navigation</span>
          <i class="fa fa-bars"></i>
        </button>
        <a class="navbar-brand" href="/">
          <img src="/static/img/nav_logo.svg?v=479cefe8d932fb14a67b93911b97d70f" width="159"/>
        </a>
      </div>

      <div class="collapse navbar-collapse">
        <ul class="nav navbar-nav navbar-right">
          <li>
            <a class="active" href="http://jupyter.org">JUPYTER</a>
          </li>
          <li>
    <a href="/faq" title="FAQ" >
      
        <span>FAQ</span>
      
    </a>
  </li>

          
  
    
  
    
      
        <li>
    <a href="/format/script/github/phelps-sg/python-bigdata/blob/master/src/main/ipynb/relational-python.ipynb" title="View as Code" >
      <span class="fa fa-code fa-2x menu-icon"></span>
      <span class="menu-text">View as Code</span>
    </a>
  </li>
      
    
  
    
      
        <li>
    <a href="/format/slides/github/phelps-sg/python-bigdata/blob/master/src/main/ipynb/relational-python.ipynb" title="View as Slides" >
      <span class="fa fa-gift fa-2x menu-icon"></span>
      <span class="menu-text">View as Slides</span>
    </a>
  </li>
      
    
  

  
    <li>
    <a href="#" title="Python 2 Kernel" >
      <span class="fa fa-server fa-2x menu-icon"></span>
      <span class="menu-text">Python 2 Kernel</span>
    </a>
  </li>
  

  
    <li>
    <a href="https://github.com/phelps-sg/python-bigdata/blob/master/src/main/ipynb/relational-python.ipynb" title="View on GitHub" >
      <span class="fa fa-github fa-2x menu-icon"></span>
      <span class="menu-text">View on GitHub</span>
    </a>
  </li>
  

  <li>
    <a href="https://raw.githubusercontent.com/phelps-sg/python-bigdata/master/src/main/ipynb/relational-python.ipynb" title="Download Notebook" download>
      <span class="fa fa-download fa-2x menu-icon"></span>
      <span class="menu-text">Download Notebook</span>
    </a>
  </li>

        </ul>
      </div><!-- /.navbar-collapse -->
      
      
    </div>
  </nav>

  <div class="container container-main">
    
  
  <ol class="breadcrumb">
    
      <li>
        <a href="/github/phelps-sg/python-bigdata/tree/master">python-bigdata</a>
      </li>
    
      <li>
        <a href="/github/phelps-sg/python-bigdata/tree/master/src">src</a>
      </li>
    
      <li>
        <a href="/github/phelps-sg/python-bigdata/tree/master/src/main">main</a>
      </li>
    
      <li>
        <a href="/github/phelps-sg/python-bigdata/tree/master/src/main/ipynb">ipynb</a>
      </li>
    
  </ol>
  
  <div id="notebook">
    <div id="notebook-container">
      
<div class="cell border-box-sizing text_cell rendered"><div class="prompt input_prompt">
</div>
<div class="inner_cell">
<div class="text_cell_render border-box-sizing rendered_html">
<h1 id="The-Relational-Model">The Relational Model<a class="anchor-link" href="#The-Relational-Model">&#182;</a></h1><ul>
<li><p>The relational model is a mathematical <em>abstraction</em> used to describe
how data can be structured, queried and updated.</p>
</li>
<li><p>It is based on <em>set theory</em>.</p>
</li>
<li><p>It can be <em>implemented</em> in many different ways.</p>
</li>
<li><p>When it is implemented by storing relations on disk files, we have a <em>relational database</em>.</p>
</li>
<li><p>Functional programming languages such as Python naturally express many aspects of the relational model.</p>
</li>
<li><p>This is one of the reasons they are very useful for data science.</p>
</li>
</ul>

</div>
</div>
</div>
<div class="cell border-box-sizing text_cell rendered"><div class="prompt input_prompt">
</div>
<div class="inner_cell">
<div class="text_cell_render border-box-sizing rendered_html">
<h1 id="Overview">Overview<a class="anchor-link" href="#Overview">&#182;</a></h1><ol>
<li><p>The formal definition of the relational model</p>
</li>
<li><p>Representing relations in Python using collections of tuples</p>
</li>
<li><p>Querying relational data using Python set comprehensions</p>
</li>
</ol>

</div>
</div>
</div>
<div class="cell border-box-sizing text_cell rendered"><div class="prompt input_prompt">
</div>
<div class="inner_cell">
<div class="text_cell_render border-box-sizing rendered_html">
<h1 id="An-Example-Relational-Dataset">An Example Relational Dataset<a class="anchor-link" href="#An-Example-Relational-Dataset">&#182;</a></h1><p>The following slides use relations to describe:</p>
<ul>
<li>students, </li>
<li>the courses they are taking </li>
<li>the prerequisites of courses</li>
<li>their grades</li>
<li>which department they are in</li>
</ul>

</div>
</div>
</div>
<div class="cell border-box-sizing code_cell rendered">
<div class="input">
<div class="prompt input_prompt">In&nbsp;[&nbsp;]:</div>
<div class="inner_cell">
    <div class="input_area">
<div class=" highlight hl-ipython2"><pre><span></span><span class="kn">import</span> <span class="nn">pandas</span> <span class="kn">as</span> <span class="nn">pd</span>
</pre></div>

</div>
</div>
</div>

</div>
<div class="cell border-box-sizing text_cell rendered"><div class="prompt input_prompt">
</div>
<div class="inner_cell">
<div class="text_cell_render border-box-sizing rendered_html">
<h1 id="Concepts">Concepts<a class="anchor-link" href="#Concepts">&#182;</a></h1><ul>
<li><p>In a relational model, the data is a collection of <em>relations</em>.</p>
</li>
<li><p>Informally, a relation resembles a table of values.</p>
</li>
<li><p>When relations are stored on disk, they are called tables.</p>
</li>
<li><p>Each row represents a <em>fact</em> about a real-world entity or relationship.</p>
</li>
<li><p>The table name and column names are used to help interpret the meaning of the values.</p>
</li>
<li><p>A relational model is defined formally in terms of:</p>
<ul>
<li>tuples</li>
<li>attributes</li>
<li>relations</li>
<li>domains</li>
</ul>
</li>
</ul>

</div>
</div>
</div>
<div class="cell border-box-sizing text_cell rendered"><div class="prompt input_prompt">
</div>
<div class="inner_cell">
<div class="text_cell_render border-box-sizing rendered_html">
<h1 id="Tuples">Tuples<a class="anchor-link" href="#Tuples">&#182;</a></h1><p>A tuple is a mathematical abstraction which:</p>
<ul>
<li><p>contains several other values</p>
</li>
<li><p>has a well-defined ordering over the values</p>
</li>
<li><p>can contain duplicate values</p>
</li>
<li><p>can contain values of different types</p>
</li>
<li><p>can contain the special value <code>None</code> or <code>Null</code></p>
</li>
<li><p>is immutable; the values contained in the tuple cannot change over time</p>
</li>
</ul>

</div>
</div>
</div>
<div class="cell border-box-sizing text_cell rendered"><div class="prompt input_prompt">
</div>
<div class="inner_cell">
<div class="text_cell_render border-box-sizing rendered_html">
<h1 id="The-size-of-a-tuple">The size of a tuple<a class="anchor-link" href="#The-size-of-a-tuple">&#182;</a></h1><ul>
<li><p>We often restrict attention to tuples of a particular size or <em>degree</em>.</p>
</li>
<li><p>An $n-$tuple contains $n$ values.</p>
</li>
</ul>

</div>
</div>
</div>
<div class="cell border-box-sizing text_cell rendered"><div class="prompt input_prompt">
</div>
<div class="inner_cell">
<div class="text_cell_render border-box-sizing rendered_html">
<h1 id="Attributes">Attributes<a class="anchor-link" href="#Attributes">&#182;</a></h1><ul>
<li>An attribute refers to the value in a particular index of a tuple.</li>
</ul>

</div>
</div>
</div>
<div class="cell border-box-sizing text_cell rendered"><div class="prompt input_prompt">
</div>
<div class="inner_cell">
<div class="text_cell_render border-box-sizing rendered_html">
<h1 id="Atomic-values">Atomic values<a class="anchor-link" href="#Atomic-values">&#182;</a></h1><ul>
<li><p>Atomic values are values which are not stored in collections.</p>
</li>
<li><p>Atomic values cannot be further decomposed into other values.</p>
</li>
<li><p>A tuple is therefore <em>not</em> atomic.</p>
</li>
<li><p>A tuple that contains only atomic values is called a <em>flat tuple</em>.</p>
</li>
</ul>

</div>
</div>
</div>
<div class="cell border-box-sizing text_cell rendered"><div class="prompt input_prompt">
</div>
<div class="inner_cell">
<div class="text_cell_render border-box-sizing rendered_html">
<h1 id="Domain">Domain<a class="anchor-link" href="#Domain">&#182;</a></h1><ul>
<li><p>A <em>domain</em> $D_i$ is a set of atomic values.</p>
</li>
<li><p>Each attribute within a relation has the <em>same</em> domain.</p>
</li>
<li><p>Intuitively, a domain specifies the allowable values in a column $i$.</p>
</li>
<li><p>Examples:</p>
</li>
</ul>
<p>$D_1 = \mathbb{Z}$</p>
<p>$D_2 = \{ 15, 16, \ldots, 80 \}$</p>
<p>$D_3 = \{ "CS", \; "ECON", \; "PHYS" \}$</p>

</div>
</div>
</div>
<div class="cell border-box-sizing text_cell rendered"><div class="prompt input_prompt">
</div>
<div class="inner_cell">
<div class="text_cell_render border-box-sizing rendered_html">
<h1 id="Relation-schema">Relation schema<a class="anchor-link" href="#Relation-schema">&#182;</a></h1><ul>
<li><p>A <em>relation schema</em> is denoted by $R(A_1, A_2, \ldots, A_n)$.</p>
</li>
<li><p>Each <em>attribute</em> $A_i$ is the name of a role played by some domain $D_i$ in $R$.</p>
</li>
<li><p>$D_i$ is the <em>domain</em> of $A_i$ and is denoted by $\operatorname{dom}(A_i)$.</p>
</li>
<li><p>The <em>degree</em> or <em>arity</em> of a relation is the number of attributes $n$.</p>
</li>
</ul>

</div>
</div>
</div>
<div class="cell border-box-sizing text_cell rendered"><div class="prompt input_prompt">
</div>
<div class="inner_cell">
<div class="text_cell_render border-box-sizing rendered_html">
<h1 id="Example">Example<a class="anchor-link" href="#Example">&#182;</a></h1><ul>
<li>What is the arity of the following relation schema?</li>
</ul>

<pre><code>STUDENT(Name, Ssn, Home_phone, Address, Office_phone, Age, Gpa)</code></pre>
<ul>
<li><p>Answer: 7</p>
</li>
<li><p>What is the name of the relation?</p>
</li>
<li><p>Answer: <code>STUDENT</code></p>
</li>
</ul>

</div>
</div>
</div>
<div class="cell border-box-sizing text_cell rendered"><div class="prompt input_prompt">
</div>
<div class="inner_cell">
<div class="text_cell_render border-box-sizing rendered_html">
<h1 id="Example-of-a-Domain">Example of a Domain<a class="anchor-link" href="#Example-of-a-Domain">&#182;</a></h1><p>$\operatorname{dom}(Gpa) = [0, 4]$</p>

</div>
</div>
</div>
<div class="cell border-box-sizing text_cell rendered"><div class="prompt input_prompt">
</div>
<div class="inner_cell">
<div class="text_cell_render border-box-sizing rendered_html">
<h1 id="Relations">Relations<a class="anchor-link" href="#Relations">&#182;</a></h1><ul>
<li><p>The schema represents the structure of a <em>relation</em>.</p>
</li>
<li><p>A relation contains the actual data.</p>
</li>
<li><p>It is sometimes called the <em>relation state</em>, <em>relation intension</em> or <em>relation extension</em>.</p>
</li>
<li><p>Let $r(R)$ denote the relation $r$ of a relation schema $R$.</p>
</li>
<li><p>The relation $r$ consists of a set of $n$-tuples $r = \{t_1, t_2, \ldots, t_m\}$.</p>
</li>
<li><p>The $i^{th}$ value in tuple $t$ corresponds to the attribute $A_i$
and is denoted $t.A_i$ or $t[i]$.</p>
</li>
</ul>

</div>
</div>
</div>
<div class="cell border-box-sizing text_cell rendered"><div class="prompt input_prompt">
</div>
<div class="inner_cell">
<div class="text_cell_render border-box-sizing rendered_html">
<h1 id="Constraints">Constraints<a class="anchor-link" href="#Constraints">&#182;</a></h1><ul>
<li><p>Domain constraints</p>
</li>
<li><p>Key constraints</p>
</li>
<li><p>NULL values</p>
</li>
</ul>

</div>
</div>
</div>
<div class="cell border-box-sizing text_cell rendered"><div class="prompt input_prompt">
</div>
<div class="inner_cell">
<div class="text_cell_render border-box-sizing rendered_html">
<h1 id="Relational-Datasets">Relational Datasets<a class="anchor-link" href="#Relational-Datasets">&#182;</a></h1><ul>
<li><p>So far we have discussed single relations.</p>
</li>
<li><p>A typical data-set will comprise many relations.</p>
</li>
<li><p>A relational dataset schema $(S, IC)$ comprises:</p>
<ul>
<li><p>a set of relation schemas $S = \{ R_1, R_2, \ldots, R_k \}$</p>
</li>
<li><p>a set of integrity constraints $IC$</p>
</li>
</ul>
</li>
<li><p>A relational dataset state $DB$ is a set of relation states $DB = \{ r_1, r_2, \ldots r_m \}$</p>
<ul>
<li>such that every $r_i$ satisfies every constraint in $IC$.</li>
</ul>
</li>
</ul>

</div>
</div>
</div>
<div class="cell border-box-sizing text_cell rendered"><div class="prompt input_prompt">
</div>
<div class="inner_cell">
<div class="text_cell_render border-box-sizing rendered_html">
<h1 id="Data-definition-language">Data definition language<a class="anchor-link" href="#Data-definition-language">&#182;</a></h1><ul>
<li><p>The data definition language (DDL) provides a concrete syntax and semantics for describing a relational schema.</p>
</li>
<li><p>Most commonly we use <em>SQL</em> - Structured Query Language.</p>
</li>
</ul>

</div>
</div>
</div>
<div class="cell border-box-sizing text_cell rendered"><div class="prompt input_prompt">
</div>
<div class="inner_cell">
<div class="text_cell_render border-box-sizing rendered_html">
<h1 id="Data-query-language">Data query language<a class="anchor-link" href="#Data-query-language">&#182;</a></h1><ul>
<li><p>The data query language provides a concrete syntax and semantics for querying the relational dataset.</p>
</li>
<li><p>Formally a query is a function mapping from existing relation states to new relations.</p>
</li>
<li><p>That is, we map from one set of tuples to another set of tuples.</p>
</li>
<li><p>Typically the mapping involves some combination of set-theoretic functions, e.g.</p>
<ul>
<li>subset of tuples that satisfy a predicate $p$  <ul>
<li>$\{ x: x \in X \wedge p(x) \}$</li>
</ul>
</li>
<li>set union $X \cup Y$, difference $X - Y$, intersection $X \cap Y$</li>
<li>Cartesian product $X \times Y$ </li>
</ul>
</li>
<li><p>The most common data query language for relational databases is again SQL.</p>
</li>
</ul>
<p>. . .</p>
<ul>
<li>Mathematically, there is nothing stopping us from using e.g. Python as a query language.</li>
</ul>

</div>
</div>
</div>
<div class="cell border-box-sizing text_cell rendered"><div class="prompt input_prompt">
</div>
<div class="inner_cell">
<div class="text_cell_render border-box-sizing rendered_html">
<h1 id="Tuples-in-Python">Tuples in Python<a class="anchor-link" href="#Tuples-in-Python">&#182;</a></h1><ul>
<li>Tuples in Python can be written by writing a sequence of values separated by
commas and surrounded by round brackets. For example:</li>
</ul>

</div>
</div>
</div>
<div class="cell border-box-sizing code_cell rendered">
<div class="input">
<div class="prompt input_prompt">In&nbsp;[1]:</div>
<div class="inner_cell">
    <div class="input_area">
<div class=" highlight hl-ipython2"><pre><span></span><span class="n">tuple1</span> <span class="o">=</span> <span class="p">(</span><span class="mi">50</span><span class="p">,</span> <span class="mf">6.5</span><span class="p">)</span>
<span class="n">tuple2</span> <span class="o">=</span> <span class="p">(</span><span class="mi">1</span><span class="p">,</span> <span class="mi">2</span><span class="p">,</span> <span class="s1">&#39;hello&#39;</span><span class="p">)</span>
<span class="n">professor</span> <span class="o">=</span> <span class="p">(</span><span class="s1">&#39;Steve&#39;</span><span class="p">,</span> <span class="s1">&#39;Phelps&#39;</span><span class="p">,</span> <span class="s1">&#39;S6.18&#39;</span><span class="p">)</span>
<span class="n">student</span> <span class="o">=</span> <span class="p">(</span><span class="s1">&#39;John&#39;</span><span class="p">,</span> <span class="s1">&#39;Doe&#39;</span><span class="p">,</span> <span class="bp">None</span><span class="p">)</span>
</pre></div>

</div>
</div>
</div>

</div>
<div class="cell border-box-sizing text_cell rendered"><div class="prompt input_prompt">
</div>
<div class="inner_cell">
<div class="text_cell_render border-box-sizing rendered_html">
<ul>
<li>The individual values contain within a tuple can be obtained by indexing
their position (counting from zero).  To find the office number of the professor:</li>
</ul>

</div>
</div>
</div>
<div class="cell border-box-sizing code_cell rendered">
<div class="input">
<div class="prompt input_prompt">In&nbsp;[2]:</div>
<div class="inner_cell">
    <div class="input_area">
<div class=" highlight hl-ipython2"><pre><span></span><span class="n">professor</span><span class="p">[</span><span class="mi">2</span><span class="p">]</span>
</pre></div>

</div>
</div>
</div>

<div class="output_wrapper">
<div class="output">


<div class="output_area">

<div class="prompt output_prompt">Out[2]:</div>




<div class="output_text output_subarea output_execute_result">
<pre>&#39;S6.18&#39;</pre>
</div>

</div>

</div>
</div>

</div>
<div class="cell border-box-sizing text_cell rendered"><div class="prompt input_prompt">
</div>
<div class="inner_cell">
<div class="text_cell_render border-box-sizing rendered_html">
<ul>
<li><p>Tuples are a very flexible way to represent single pieces of data.</p>
</li>
<li><p>We only allow <em>flat tuples</em>.  The following is not allowed in a relational model:</p>
</li>
</ul>

</div>
</div>
</div>
<div class="cell border-box-sizing code_cell rendered">
<div class="input">
<div class="prompt input_prompt">In&nbsp;[&nbsp;]:</div>
<div class="inner_cell">
    <div class="input_area">
<div class=" highlight hl-ipython2"><pre><span></span><span class="n">this_is_not_allowed</span> <span class="o">=</span> <span class="p">(</span><span class="mi">1</span><span class="p">,</span> <span class="mi">3</span><span class="p">,</span> <span class="p">(</span><span class="mi">50</span><span class="p">,</span> <span class="mf">6.5</span><span class="p">))</span>
</pre></div>

</div>
</div>
</div>

</div>
<div class="cell border-box-sizing text_cell rendered"><div class="prompt input_prompt">
</div>
<div class="inner_cell">
<div class="text_cell_render border-box-sizing rendered_html">
<h1 id="Sets-of-Tuples">Sets of Tuples<a class="anchor-link" href="#Sets-of-Tuples">&#182;</a></h1><ul>
<li><p>How can we use tuples to represent data-<em>sets</em> and relations?</p>
</li>
<li><p>We can use collections of tuples, e.g. a set of tuples.</p>
</li>
<li><p>So now we can represent one or more students:</p>
</li>
</ul>

</div>
</div>
</div>
<div class="cell border-box-sizing code_cell rendered">
<div class="input">
<div class="prompt input_prompt">In&nbsp;[3]:</div>
<div class="inner_cell">
    <div class="input_area">
<div class=" highlight hl-ipython2"><pre><span></span><span class="c1"># Student tuples</span>
<span class="n">smith</span> <span class="o">=</span> <span class="p">(</span><span class="s1">&#39;Smith&#39;</span><span class="p">,</span> <span class="mi">17</span><span class="p">,</span> <span class="mi">1</span><span class="p">,</span> <span class="s1">&#39;CS&#39;</span><span class="p">)</span>
<span class="n">brown</span> <span class="o">=</span> <span class="p">(</span><span class="s1">&#39;Brown&#39;</span><span class="p">,</span> <span class="mi">8</span><span class="p">,</span> <span class="mi">2</span><span class="p">,</span> <span class="s1">&#39;CS&#39;</span><span class="p">)</span>

<span class="c1"># The student relation</span>
<span class="n">students</span> <span class="o">=</span> <span class="p">{</span><span class="n">smith</span><span class="p">,</span> <span class="n">brown</span><span class="p">}</span>
</pre></div>

</div>
</div>
</div>

</div>
<div class="cell border-box-sizing text_cell rendered"><div class="prompt input_prompt">
</div>
<div class="inner_cell">
<div class="text_cell_render border-box-sizing rendered_html">
<h1 id="Relational-attributes-in-Python">Relational attributes in Python<a class="anchor-link" href="#Relational-attributes-in-Python">&#182;</a></h1><ul>
<li><p>Attributes are names for particular positions within a tuple.</p>
</li>
<li><p>We can use Python functions to represent relational attributes:</p>
</li>
</ul>

</div>
</div>
</div>
<div class="cell border-box-sizing code_cell rendered">
<div class="input">
<div class="prompt input_prompt">In&nbsp;[5]:</div>
<div class="inner_cell">
    <div class="input_area">
<div class=" highlight hl-ipython2"><pre><span></span><span class="c1"># The attributes of a student</span>

<span class="k">def</span> <span class="nf">student_name</span><span class="p">(</span><span class="n">s</span><span class="p">):</span>
    <span class="k">return</span> <span class="n">s</span><span class="p">[</span><span class="mi">0</span><span class="p">]</span>
    
<span class="k">def</span> <span class="nf">student_student_number</span><span class="p">(</span><span class="n">s</span><span class="p">):</span>
    <span class="k">return</span> <span class="n">s</span><span class="p">[</span><span class="mi">1</span><span class="p">]</span>
</pre></div>

</div>
</div>
</div>

</div>
<div class="cell border-box-sizing text_cell rendered"><div class="prompt input_prompt">
</div>
<div class="inner_cell">
<div class="text_cell_render border-box-sizing rendered_html">
<ul>
<li><p>Note that different relations can have the same attribute.</p>
</li>
<li><p>Therefore we need some convention to distinguish attributes from different relations.</p>
</li>
<li><p>In the above code, <code>student_student_number</code> refers to the <code>student_number</code> attribute of the <code>student</code> relation.</p>
</li>
</ul>

</div>
</div>
</div>
<div class="cell border-box-sizing text_cell rendered"><div class="prompt input_prompt">
</div>
<div class="inner_cell">
<div class="text_cell_render border-box-sizing rendered_html">
<h1 id="Queries-in-Python">Queries in Python<a class="anchor-link" href="#Queries-in-Python">&#182;</a></h1><ul>
<li><p>We need some way to extract data from our data-set; i.e. to <em>query</em> the data.</p>
</li>
<li><p>A query will e.g.:</p>
<ul>
<li><p>Take a subset of the tuples of a relation that satisfy a predicate.</p>
</li>
<li><p><em>Join</em> two or more relations using a Cartesian product.</p>
</li>
<li><p>Take the intersection of tuples from two or more relations.</p>
</li>
<li><p>Take the union of tuples from two or more relations.</p>
</li>
</ul>
</li>
</ul>
<ul>
<li>Python list comprehensions or set comprehensions provide all of this functionality.</li>
</ul>

</div>
</div>
</div>
<div class="cell border-box-sizing text_cell rendered"><div class="prompt input_prompt">
</div>
<div class="inner_cell">
<div class="text_cell_render border-box-sizing rendered_html">
<h1 id="Relational-queries-in-Python">Relational queries in Python<a class="anchor-link" href="#Relational-queries-in-Python">&#182;</a></h1>
</div>
</div>
</div>
<div class="cell border-box-sizing text_cell rendered"><div class="prompt input_prompt">
</div>
<div class="inner_cell">
<div class="text_cell_render border-box-sizing rendered_html">
<ul>
<li>The set of students whose name is "Smith":</li>
</ul>

</div>
</div>
</div>
<div class="cell border-box-sizing code_cell rendered">
<div class="input">
<div class="prompt input_prompt">In&nbsp;[7]:</div>
<div class="inner_cell">
    <div class="input_area">
<div class=" highlight hl-ipython2"><pre><span></span><span class="p">{</span><span class="n">s</span> <span class="k">for</span> <span class="n">s</span> <span class="ow">in</span> <span class="n">students</span> <span class="k">if</span> <span class="n">student_name</span><span class="p">(</span><span class="n">s</span><span class="p">)</span> <span class="o">==</span> <span class="s1">&#39;Smith&#39;</span><span class="p">}</span>
</pre></div>

</div>
</div>
</div>

<div class="output_wrapper">
<div class="output">


<div class="output_area">

<div class="prompt output_prompt">Out[7]:</div>




<div class="output_text output_subarea output_execute_result">
<pre>{(&#39;Smith&#39;, 17, 1, &#39;CS&#39;)}</pre>
</div>

</div>

</div>
</div>

</div>
<div class="cell border-box-sizing text_cell rendered"><div class="prompt input_prompt">
</div>
<div class="inner_cell">
<div class="text_cell_render border-box-sizing rendered_html">
<p>This is equivalent to the SQL query:</p>
<div class="highlight"><pre><span></span><span class="k">SELECT</span> <span class="o">*</span> <span class="k">FROM</span> <span class="n">students</span> <span class="k">WHERE</span> <span class="n">students</span><span class="p">.</span><span class="n">name</span> <span class="o">=</span> <span class="ss">&quot;SMITH&quot;</span><span class="p">;</span>
</pre></div>

</div>
</div>
</div>
<div class="cell border-box-sizing text_cell rendered"><div class="prompt input_prompt">
</div>
<div class="inner_cell">
<div class="text_cell_render border-box-sizing rendered_html">
<h1 id="Joining-relations">Joining relations<a class="anchor-link" href="#Joining-relations">&#182;</a></h1><ul>
<li>Now let's create another relation called <code>grades</code> which has tuples of the form <code>(ssn, course-name, mark)</code>:</li>
</ul>

</div>
</div>
</div>
<div class="cell border-box-sizing code_cell rendered">
<div class="input">
<div class="prompt input_prompt">In&nbsp;[8]:</div>
<div class="inner_cell">
    <div class="input_area">
<div class=" highlight hl-ipython2"><pre><span></span><span class="n">grades</span> <span class="o">=</span> <span class="p">{</span> <span class="p">(</span><span class="mi">17</span><span class="p">,</span> <span class="s1">&#39;python&#39;</span><span class="p">,</span> <span class="s1">&#39;A&#39;</span><span class="p">),</span> <span class="p">(</span><span class="mi">17</span><span class="p">,</span> <span class="s1">&#39;algebra&#39;</span><span class="p">,</span> <span class="s1">&#39;B&#39;</span><span class="p">),</span> <span class="p">(</span><span class="mi">17</span><span class="p">,</span> <span class="s1">&#39;algebra&#39;</span><span class="p">,</span> <span class="s1">&#39;A&#39;</span><span class="p">)}</span>
</pre></div>

</div>
</div>
</div>

</div>
<div class="cell border-box-sizing text_cell rendered"><div class="prompt input_prompt">
</div>
<div class="inner_cell">
<div class="text_cell_render border-box-sizing rendered_html">
<p>and a function to return the mark for a given grade tuple:</p>

</div>
</div>
</div>
<div class="cell border-box-sizing code_cell rendered">
<div class="input">
<div class="prompt input_prompt">In&nbsp;[9]:</div>
<div class="inner_cell">
    <div class="input_area">
<div class=" highlight hl-ipython2"><pre><span></span><span class="k">def</span> <span class="nf">grade_mark</span><span class="p">(</span><span class="n">g</span><span class="p">):</span>
    <span class="k">return</span> <span class="n">g</span><span class="p">[</span><span class="mi">2</span><span class="p">]</span>
</pre></div>

</div>
</div>
</div>

</div>
<div class="cell border-box-sizing text_cell rendered"><div class="prompt input_prompt">
</div>
<div class="inner_cell">
<div class="text_cell_render border-box-sizing rendered_html">
<p>Now we can join the two relations using a Cartesian product:</p>

</div>
</div>
</div>
<div class="cell border-box-sizing code_cell rendered">
<div class="input">
<div class="prompt input_prompt">In&nbsp;[13]:</div>
<div class="inner_cell">
    <div class="input_area">
<div class=" highlight hl-ipython2"><pre><span></span><span class="p">{(</span><span class="n">student_name</span><span class="p">(</span><span class="n">s</span><span class="p">),</span> <span class="n">grade_mark</span><span class="p">(</span><span class="n">g</span><span class="p">))</span> <span class="k">for</span> <span class="n">s</span> <span class="ow">in</span> <span class="n">students</span> <span class="k">for</span> <span class="n">g</span> <span class="ow">in</span> <span class="n">grades</span><span class="p">}</span>
</pre></div>

</div>
</div>
</div>

<div class="output_wrapper">
<div class="output">


<div class="output_area">

<div class="prompt output_prompt">Out[13]:</div>




<div class="output_text output_subarea output_execute_result">
<pre>{(&#39;Brown&#39;, &#39;A&#39;), (&#39;Brown&#39;, &#39;B&#39;), (&#39;Smith&#39;, &#39;A&#39;), (&#39;Smith&#39;, &#39;B&#39;)}</pre>
</div>

</div>

</div>
</div>

</div>
<div class="cell border-box-sizing text_cell rendered"><div class="prompt input_prompt">
</div>
<div class="inner_cell">
<div class="text_cell_render border-box-sizing rendered_html">
<p>this is equivalent to the following SQL:</p>
<div class="highlight"><pre><span></span><span class="k">SELECT</span> <span class="n">students</span><span class="p">.</span><span class="n">name</span><span class="p">,</span> <span class="n">grades</span><span class="p">.</span><span class="n">mark</span> <span class="k">FROM</span> <span class="n">students</span><span class="p">,</span> <span class="n">grades</span><span class="p">;</span>
</pre></div>

</div>
</div>
</div>
<div class="cell border-box-sizing text_cell rendered"><div class="prompt input_prompt">
</div>
<div class="inner_cell">
<div class="text_cell_render border-box-sizing rendered_html">
<ul>
<li>We can also combine this with a predicate:</li>
</ul>

</div>
</div>
</div>
<div class="cell border-box-sizing code_cell rendered">
<div class="input">
<div class="prompt input_prompt">In&nbsp;[15]:</div>
<div class="inner_cell">
    <div class="input_area">
<div class=" highlight hl-ipython2"><pre><span></span><span class="p">{(</span><span class="n">student_name</span><span class="p">(</span><span class="n">s</span><span class="p">),</span> <span class="n">grade_mark</span><span class="p">(</span><span class="n">g</span><span class="p">))</span> <span class="k">for</span> <span class="n">s</span> <span class="ow">in</span> <span class="n">students</span> <span class="k">for</span> <span class="n">g</span> <span class="ow">in</span> <span class="n">grades</span> <span class="k">if</span> <span class="n">student_name</span><span class="p">(</span><span class="n">s</span><span class="p">)</span> <span class="o">==</span> <span class="s1">&#39;Smith&#39;</span><span class="p">}</span>
</pre></div>

</div>
</div>
</div>

<div class="output_wrapper">
<div class="output">


<div class="output_area">

<div class="prompt output_prompt">Out[15]:</div>




<div class="output_text output_subarea output_execute_result">
<pre>{(&#39;Smith&#39;, &#39;A&#39;), (&#39;Smith&#39;, &#39;B&#39;)}</pre>
</div>

</div>

</div>
</div>

</div>
<div class="cell border-box-sizing text_cell rendered"><div class="prompt input_prompt">
</div>
<div class="inner_cell">
<div class="text_cell_render border-box-sizing rendered_html">
<div class="highlight"><pre><span></span><span class="k">SELECT</span> <span class="n">students</span><span class="p">.</span><span class="n">name</span><span class="p">,</span> <span class="n">grades</span><span class="p">.</span><span class="n">mark</span> <span class="k">FROM</span> <span class="n">students</span><span class="p">,</span> <span class="n">grades</span> <span class="k">WHERE</span> <span class="n">students</span><span class="p">.</span><span class="n">name</span> <span class="o">=</span> <span class="ss">&quot;Smith&quot;</span><span class="p">;</span>
</pre></div>

</div>
</div>
</div>
 


    </div>
  </div>

  </div>


  
    <footer class="footer hidden-print">
      <div class="container">
        <div class="col-md-4">
          <p>
            This website does not host notebooks, it only renders notebooks
            available on other websites.
          </p>
        </div>

        <div class="col-md-4">
          <p>
            Delivered by <a href="http://www.fastly.com/">Fastly</a>,
            Rendered by <a href="https://developer.rackspace.com/?nbviewer=awesome">Rackspace</a>
          </p>
          <p>
            nbviewer GitHub <a href="https://github.com/jupyter/nbviewer">repository</a>.
          </p>
        </div>

        <div class="col-md-4">
          
  
            
              <p>
                nbviewer version:
                <a href="https://github.com/jupyter/nbviewer/commit/38e181afeec4b7527a8a13ef7c3814e36045244c">
                  38e181a
                </a>
              </p>
            
          
  
  <p>
    nbconvert version: <a href="https://github.com/jupyter/nbconvert/releases/tag/5.3.1">
      5.3.1
    </a>
  </p>
  

          
  
  
  <p>
    Rendered
    <span class='date' data-date='Sun, 17 Jun 2018 13:59:25 UTC' title='Sun, 17 Jun 2018 13:59:25 UTC'>(Sun, 17 Jun 2018 13:59:25 UTC)</span>
  </p>
  

        </div>
      </div>
    </footer>
  

  <script src="/static/components/bootstrap/js/bootstrap.min.js?v=5869c96cc8f19086aee625d670d741f9"></script>
  <script src="/static/components/headroom.js/dist/headroom.min.js?v=b0a311ea668f8e768ea375f4a7abb81c"></script>
  <script src="/static/components/headroom.js/dist/jQuery.headroom.min.js?v=f3a1bae118315d0c234afc74dc6aab71"></script>

  
  
  <script>
    $(function(){ $("#menubar").headroom({
      tolerance: 5,
      offset: 205,
      classes: {
        initial: "animated",
        pinned: "slideInDown",
        unpinned: "slideOutUp"
      }
    })});
  </script>


  
  <script>
    (function(i,s,o,g,r,a,m){i['GoogleAnalyticsObject']=r;i[r]=i[r]||function(){
      (i[r].q=i[r].q||[]).push(arguments)},i[r].l=1*new Date();a=s.createElement(o),
      m=s.getElementsByTagName(o)[0];a.async=1;a.src=g;m.parentNode.insertBefore(a,m)
    })(window,document,'script','https://www.google-analytics.com/analytics.js','ga');
    ga('create', 'UA-52617120-5', 'auto',
       {'storage': 'none'});
    ga('set', 'anonymizeIp', true);
    ga('send', 'pageview');
  </script>
  
  <script>
    require({
        paths: {
          moment: "/static/components/moment/min/moment.min.js?v=89f87298ad94aa1e6b92f42eb66da043"
        }
      }, ["moment"], function(moment){
      var date = $("footer .date"),
        m = moment(new Date(date.data('date'))),
        update = function(){ date.text(m.fromNow()); };
      setInterval(update, 61*1000);
      update();
      var w = $(window).scroll(function(event){
        $("body").toggleClass("scrolled", w.scrollTop() > 0);
      });
    });
  </script>

  <!--NEW RELIC Stop Perf Measurement-->
  
  <!--NEW RELIC End-->
</body>
</html>