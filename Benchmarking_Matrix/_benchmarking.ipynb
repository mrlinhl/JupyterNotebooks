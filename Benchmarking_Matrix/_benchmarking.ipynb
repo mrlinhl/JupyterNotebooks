{
 "cells": [
  {
   "cell_type": "markdown",
   "metadata": {},
   "source": [
    "对比scipy下面各种稀疏矩阵的\n",
    "https://docs.scipy.org/doc/scipy/reference/generated/scipy.sparse.linalg.spsolve.html#scipy.sparse.linalg.spsolve\n"
   ]
  },
  {
   "cell_type": "code",
   "execution_count": 2,
   "metadata": {},
   "outputs": [],
   "source": [
    "import timeit\n",
    "from scipy import io\n",
    "from scipy.sparse.linalg import spsolve\n",
    "mtx1 = io.mmread('viscoplastic1.mtx')\n",
    "rhs1 = io.mmread('viscoplastic1_b.mtx')"
   ]
  },
  {
   "cell_type": "code",
   "execution_count": 2,
   "metadata": {},
   "outputs": [
    {
     "name": "stdout",
     "output_type": "stream",
     "text": [
      "96.1 ms ± 7.33 ms per loop (mean ± std. dev. of 7 runs, 1 loop each)\n"
     ]
    }
   ],
   "source": [
    "mtx1 = mtx1.tocsr()\n",
    "%timeit spsolve(mtx1, rhs1)"
   ]
  },
  {
   "cell_type": "code",
   "execution_count": 3,
   "metadata": {},
   "outputs": [
    {
     "name": "stdout",
     "output_type": "stream",
     "text": [
      "191 ms ± 15.8 ms per loop (mean ± std. dev. of 7 runs, 1 loop each)\n"
     ]
    }
   ],
   "source": [
    "mtx1 = mtx1.tocsc()\n",
    "%timeit spsolve(mtx1, rhs1, use_umfpack=True)"
   ]
  },
  {
   "cell_type": "code",
   "execution_count": 4,
   "metadata": {},
   "outputs": [
    {
     "name": "stdout",
     "output_type": "stream",
     "text": [
      "30 ms ± 1.42 ms per loop (mean ± std. dev. of 7 runs, 10 loops each)\n"
     ]
    }
   ],
   "source": [
    "mtx1 = mtx1.tocsr()\n",
    "%timeit spsolve(mtx1, rhs1, permc_spec='MMD_AT_PLUS_A', use_umfpack=False)"
   ]
  },
  {
   "cell_type": "code",
   "execution_count": 5,
   "metadata": {},
   "outputs": [
    {
     "name": "stdout",
     "output_type": "stream",
     "text": [
      "3.74 s ± 46 ms per loop (mean ± std. dev. of 7 runs, 1 loop each)\n"
     ]
    }
   ],
   "source": [
    "mtx1 = mtx1.tocsc()\n",
    "%timeit spsolve(mtx1, rhs1, permc_spec='MMD_AT_PLUS_A', use_umfpack=True)"
   ]
  },
  {
   "cell_type": "code",
   "execution_count": 6,
   "metadata": {},
   "outputs": [
    {
     "name": "stdout",
     "output_type": "stream",
     "text": [
      "31.3 ms ± 2.01 ms per loop (mean ± std. dev. of 7 runs, 10 loops each)\n"
     ]
    }
   ],
   "source": [
    "# 这个最快\n",
    "mtx1 = mtx1.tocsr()\n",
    "%timeit spsolve(mtx1, rhs1, permc_spec='MMD_AT_PLUS_A', use_umfpack=True)"
   ]
  },
  {
   "cell_type": "code",
   "execution_count": 7,
   "metadata": {},
   "outputs": [],
   "source": [
    "mtx2 = io.mmread('viscoplastic2.mtx')\n",
    "rhs2 = io.mmread('viscoplastic2_b.mtx')\n",
    "mtx2 = mtx2.tocsr()"
   ]
  },
  {
   "cell_type": "code",
   "execution_count": 17,
   "metadata": {},
   "outputs": [
    {
     "name": "stdout",
     "output_type": "stream",
     "text": [
      "337 ms ± 17.7 ms per loop (mean ± std. dev. of 7 runs, 1 loop each)\n"
     ]
    }
   ],
   "source": [
    "%timeit spsolve(mtx2, rhs2, permc_spec='MMD_AT_PLUS_A', use_umfpack=False)"
   ]
  },
  {
   "cell_type": "code",
   "execution_count": 16,
   "metadata": {},
   "outputs": [
    {
     "name": "stdout",
     "output_type": "stream",
     "text": [
      "356 ms ± 14.4 ms per loop (mean ± std. dev. of 7 runs, 1 loop each)\n"
     ]
    }
   ],
   "source": [
    "%timeit spsolve(mtx2, rhs2, permc_spec='MMD_AT_PLUS_A', use_umfpack=True)"
   ]
  },
  {
   "cell_type": "code",
   "execution_count": 9,
   "metadata": {},
   "outputs": [
    {
     "name": "stdout",
     "output_type": "stream",
     "text": [
      "12.5 s ± 456 ms per loop (mean ± std. dev. of 7 runs, 1 loop each)\n"
     ]
    }
   ],
   "source": [
    "%timeit spsolve(mtx2, rhs2, use_umfpack=True)"
   ]
  },
  {
   "cell_type": "code",
   "execution_count": 10,
   "metadata": {},
   "outputs": [
    {
     "data": {
      "text/plain": [
       "array([-0.41344756, -0.42561153, -0.45714458, ..., -0.00171558,\n",
       "       -0.00165889,  0.00066322])"
      ]
     },
     "execution_count": 10,
     "metadata": {},
     "output_type": "execute_result"
    }
   ],
   "source": [
    "x1=spsolve(mtx1, rhs1)\n",
    "x1"
   ]
  },
  {
   "cell_type": "code",
   "execution_count": 11,
   "metadata": {},
   "outputs": [],
   "source": [
    "xx=spsolve(mtx1, rhs1, permc_spec='MMD_AT_PLUS_A', use_umfpack=True)"
   ]
  },
  {
   "cell_type": "code",
   "execution_count": 12,
   "metadata": {},
   "outputs": [
    {
     "data": {
      "text/plain": [
       "array([-0.41344756, -0.42561153, -0.45714458, ..., -0.00171558,\n",
       "       -0.00165889,  0.00066322])"
      ]
     },
     "execution_count": 12,
     "metadata": {},
     "output_type": "execute_result"
    }
   ],
   "source": [
    "x1"
   ]
  },
  {
   "cell_type": "code",
   "execution_count": 18,
   "metadata": {},
   "outputs": [
    {
     "data": {
      "text/plain": [
       "0.16285288751669214"
      ]
     },
     "execution_count": 18,
     "metadata": {},
     "output_type": "execute_result"
    }
   ],
   "source": [
    "timeit.timeit('text.find(char)', setup='text = \"sample string\"; char = \"g\"')"
   ]
  },
  {
   "cell_type": "code",
   "execution_count": 11,
   "metadata": {},
   "outputs": [
    {
     "data": {
      "text/plain": [
       "{'__name__': '__main__',\n",
       " '__doc__': 'Automatically created module for IPython interactive environment',\n",
       " '__package__': None,\n",
       " '__loader__': None,\n",
       " '__spec__': None,\n",
       " '__builtin__': <module 'builtins' (built-in)>,\n",
       " '__builtins__': <module 'builtins' (built-in)>,\n",
       " '_ih': ['',\n",
       "  'globals()',\n",
       "  \"import timeit\\nfrom scipy import io\\nfrom scipy.sparse.linalg import spsolve\\nmtx1 = io.mmread('viscoplastic1.mtx')\\nrhs1 = io.mmread('viscoplastic1_b.mtx')\",\n",
       "  'globals()',\n",
       "  \"timeit.timeit('spsolve(mtx1, rhs1)',number=10)\",\n",
       "  \"timeit.timeit('spsolve(mtx1, rhs1)',number=10)\",\n",
       "  \"timeit.timeit('spsolve(mtx1, rhs1)',number=10,globals=globals())\",\n",
       "  'globals()',\n",
       "  'globals()',\n",
       "  'globals()',\n",
       "  'globals()',\n",
       "  'globals()'],\n",
       " '_oh': {1: {...},\n",
       "  3: {...},\n",
       "  6: 1.997743306894563,\n",
       "  7: {...},\n",
       "  8: {...},\n",
       "  9: {...},\n",
       "  10: {...}},\n",
       " '_dh': ['D:\\\\Workspace\\\\Jupyter\\\\Benchmarking_Matrix'],\n",
       " 'In': ['',\n",
       "  'globals()',\n",
       "  \"import timeit\\nfrom scipy import io\\nfrom scipy.sparse.linalg import spsolve\\nmtx1 = io.mmread('viscoplastic1.mtx')\\nrhs1 = io.mmread('viscoplastic1_b.mtx')\",\n",
       "  'globals()',\n",
       "  \"timeit.timeit('spsolve(mtx1, rhs1)',number=10)\",\n",
       "  \"timeit.timeit('spsolve(mtx1, rhs1)',number=10)\",\n",
       "  \"timeit.timeit('spsolve(mtx1, rhs1)',number=10,globals=globals())\",\n",
       "  'globals()',\n",
       "  'globals()',\n",
       "  'globals()',\n",
       "  'globals()',\n",
       "  'globals()'],\n",
       " 'Out': {1: {...},\n",
       "  3: {...},\n",
       "  6: 1.997743306894563,\n",
       "  7: {...},\n",
       "  8: {...},\n",
       "  9: {...},\n",
       "  10: {...}},\n",
       " 'get_ipython': <bound method InteractiveShell.get_ipython of <ipykernel.zmqshell.ZMQInteractiveShell object at 0x0000000004CDD048>>,\n",
       " 'exit': <IPython.core.autocall.ZMQExitAutocall at 0x4cfa470>,\n",
       " 'quit': <IPython.core.autocall.ZMQExitAutocall at 0x4cfa470>,\n",
       " '_': {...},\n",
       " '__': {...},\n",
       " '___': {...},\n",
       " '_i': 'globals()',\n",
       " '_ii': 'globals()',\n",
       " '_iii': 'globals()',\n",
       " '_i1': 'globals()',\n",
       " '_1': {...},\n",
       " '_i2': \"import timeit\\nfrom scipy import io\\nfrom scipy.sparse.linalg import spsolve\\nmtx1 = io.mmread('viscoplastic1.mtx')\\nrhs1 = io.mmread('viscoplastic1_b.mtx')\",\n",
       " 'timeit': <module 'timeit' from 'G:\\\\Program\\\\Anaconda3\\\\lib\\\\timeit.py'>,\n",
       " 'io': <module 'scipy.io' from 'G:\\\\Program\\\\Anaconda3\\\\lib\\\\site-packages\\\\scipy\\\\io\\\\__init__.py'>,\n",
       " 'spsolve': <function scipy.sparse.linalg.dsolve.linsolve.spsolve(A, b, permc_spec=None, use_umfpack=True)>,\n",
       " 'mtx1': <4326x4326 sparse matrix of type '<class 'numpy.float64'>'\n",
       " \twith 61166 stored elements in COOrdinate format>,\n",
       " 'rhs1': array([[-3.4418e-02],\n",
       "        [-4.7226e-02],\n",
       "        [-5.3315e-02],\n",
       "        ...,\n",
       "        [-4.3000e-05],\n",
       "        [-3.8000e-05],\n",
       "        [ 1.1000e-05]]),\n",
       " '_i3': 'globals()',\n",
       " '_3': {...},\n",
       " '_i4': \"timeit.timeit('spsolve(mtx1, rhs1)',number=10)\",\n",
       " '_i5': \"timeit.timeit('spsolve(mtx1, rhs1)',number=10)\",\n",
       " '_i6': \"timeit.timeit('spsolve(mtx1, rhs1)',number=10,globals=globals())\",\n",
       " '_6': 1.997743306894563,\n",
       " '_i7': 'globals()',\n",
       " '_7': {...},\n",
       " '_i8': 'globals()',\n",
       " '_8': {...},\n",
       " '_i9': 'globals()',\n",
       " '_9': {...},\n",
       " '_i10': 'globals()',\n",
       " '_10': {...},\n",
       " '_i11': 'globals()'}"
      ]
     },
     "execution_count": 11,
     "metadata": {},
     "output_type": "execute_result"
    }
   ],
   "source": [
    "globals()"
   ]
  },
  {
   "cell_type": "code",
   "execution_count": 19,
   "metadata": {},
   "outputs": [
    {
     "ename": "NameError",
     "evalue": "name 'mtx1' is not defined",
     "output_type": "error",
     "traceback": [
      "\u001b[1;31m---------------------------------------------------------------------------\u001b[0m",
      "\u001b[1;31mNameError\u001b[0m                                 Traceback (most recent call last)",
      "\u001b[1;32m<ipython-input-19-6bdf5e803a89>\u001b[0m in \u001b[0;36m<module>\u001b[1;34m()\u001b[0m\n\u001b[1;32m----> 1\u001b[1;33m \u001b[0mtimeit\u001b[0m\u001b[1;33m.\u001b[0m\u001b[0mtimeit\u001b[0m\u001b[1;33m(\u001b[0m\u001b[1;34m'spsolve(mtx_test, rhs_test)'\u001b[0m\u001b[1;33m,\u001b[0m\u001b[0msetup\u001b[0m\u001b[1;33m=\u001b[0m\u001b[1;34m'mtx_test=mtx1.tocsr();rhs=rhs1.tocsr();'\u001b[0m\u001b[1;33m,\u001b[0m\u001b[0mnumber\u001b[0m\u001b[1;33m=\u001b[0m\u001b[1;36m10\u001b[0m\u001b[1;33m)\u001b[0m\u001b[1;33m\u001b[0m\u001b[0m\n\u001b[0m",
      "\u001b[1;32mG:\\Program\\Anaconda3\\lib\\timeit.py\u001b[0m in \u001b[0;36mtimeit\u001b[1;34m(stmt, setup, timer, number, globals)\u001b[0m\n\u001b[0;32m    231\u001b[0m            number=default_number, globals=None):\n\u001b[0;32m    232\u001b[0m     \u001b[1;34m\"\"\"Convenience function to create Timer object and call timeit method.\"\"\"\u001b[0m\u001b[1;33m\u001b[0m\u001b[0m\n\u001b[1;32m--> 233\u001b[1;33m     \u001b[1;32mreturn\u001b[0m \u001b[0mTimer\u001b[0m\u001b[1;33m(\u001b[0m\u001b[0mstmt\u001b[0m\u001b[1;33m,\u001b[0m \u001b[0msetup\u001b[0m\u001b[1;33m,\u001b[0m \u001b[0mtimer\u001b[0m\u001b[1;33m,\u001b[0m \u001b[0mglobals\u001b[0m\u001b[1;33m)\u001b[0m\u001b[1;33m.\u001b[0m\u001b[0mtimeit\u001b[0m\u001b[1;33m(\u001b[0m\u001b[0mnumber\u001b[0m\u001b[1;33m)\u001b[0m\u001b[1;33m\u001b[0m\u001b[0m\n\u001b[0m\u001b[0;32m    234\u001b[0m \u001b[1;33m\u001b[0m\u001b[0m\n\u001b[0;32m    235\u001b[0m def repeat(stmt=\"pass\", setup=\"pass\", timer=default_timer,\n",
      "\u001b[1;32mG:\\Program\\Anaconda3\\lib\\timeit.py\u001b[0m in \u001b[0;36mtimeit\u001b[1;34m(self, number)\u001b[0m\n\u001b[0;32m    176\u001b[0m         \u001b[0mgc\u001b[0m\u001b[1;33m.\u001b[0m\u001b[0mdisable\u001b[0m\u001b[1;33m(\u001b[0m\u001b[1;33m)\u001b[0m\u001b[1;33m\u001b[0m\u001b[0m\n\u001b[0;32m    177\u001b[0m         \u001b[1;32mtry\u001b[0m\u001b[1;33m:\u001b[0m\u001b[1;33m\u001b[0m\u001b[0m\n\u001b[1;32m--> 178\u001b[1;33m             \u001b[0mtiming\u001b[0m \u001b[1;33m=\u001b[0m \u001b[0mself\u001b[0m\u001b[1;33m.\u001b[0m\u001b[0minner\u001b[0m\u001b[1;33m(\u001b[0m\u001b[0mit\u001b[0m\u001b[1;33m,\u001b[0m \u001b[0mself\u001b[0m\u001b[1;33m.\u001b[0m\u001b[0mtimer\u001b[0m\u001b[1;33m)\u001b[0m\u001b[1;33m\u001b[0m\u001b[0m\n\u001b[0m\u001b[0;32m    179\u001b[0m         \u001b[1;32mfinally\u001b[0m\u001b[1;33m:\u001b[0m\u001b[1;33m\u001b[0m\u001b[0m\n\u001b[0;32m    180\u001b[0m             \u001b[1;32mif\u001b[0m \u001b[0mgcold\u001b[0m\u001b[1;33m:\u001b[0m\u001b[1;33m\u001b[0m\u001b[0m\n",
      "\u001b[1;32mG:\\Program\\Anaconda3\\lib\\timeit.py\u001b[0m in \u001b[0;36minner\u001b[1;34m(_it, _timer)\u001b[0m\n",
      "\u001b[1;31mNameError\u001b[0m: name 'mtx1' is not defined"
     ]
    }
   ],
   "source": [
    "timeit.timeit('spsolve(mtx_test, rhs_test)',setup='mtx_test=mtx1.tocsr();rhs=rhs1.tocsr();',number=10)"
   ]
  },
  {
   "cell_type": "code",
   "execution_count": 12,
   "metadata": {},
   "outputs": [],
   "source": [
    "timeit?"
   ]
  },
  {
   "cell_type": "code",
   "execution_count": 10,
   "metadata": {},
   "outputs": [
    {
     "data": {
      "text/plain": [
       "0.15099860782925134"
      ]
     },
     "execution_count": 10,
     "metadata": {},
     "output_type": "execute_result"
    }
   ],
   "source": [
    "timeit.timeit('x=1', number=10000000)"
   ]
  }
 ],
 "metadata": {
  "kernelspec": {
   "display_name": "Python 3",
   "language": "python",
   "name": "python3"
  },
  "language_info": {
   "codemirror_mode": {
    "name": "ipython",
    "version": 3
   },
   "file_extension": ".py",
   "mimetype": "text/x-python",
   "name": "python",
   "nbconvert_exporter": "python",
   "pygments_lexer": "ipython3",
   "version": "3.6.5"
  }
 },
 "nbformat": 4,
 "nbformat_minor": 2
}
